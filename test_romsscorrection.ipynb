{
 "cells": [
  {
   "cell_type": "code",
   "execution_count": 1,
   "id": "8517321f-e89d-4453-b550-7356df19507e",
   "metadata": {
    "tags": []
   },
   "outputs": [],
   "source": [
    "import xarray as xr\n",
    "import numpy as np\n",
    "import cartopy.crs as ccrs\n",
    "import cartopy.feature as cfeature\n",
    "from cartopy.mpl.ticker import LongitudeFormatter, LatitudeFormatter\n",
    "import matplotlib.pyplot as plt\n",
    "import matplotlib.ticker as mticker\n",
    "import matplotlib.colors as colors\n",
    "import scipy.io as sio\n",
    "import cmaps\n",
    "from matplotlib.colors import LinearSegmentedColormap"
   ]
  },
  {
   "cell_type": "code",
   "execution_count": 3,
   "id": "2de26e5f-9e8e-4abc-a1e3-98785412c163",
   "metadata": {
    "tags": []
   },
   "outputs": [],
   "source": [
    "import roms_workspace as rw\n",
    "import scipy as sci\n",
    "import os"
   ]
  },
  {
   "cell_type": "code",
   "execution_count": 11,
   "id": "96574cf8-9422-4860-af0c-72cc26afb5bb",
   "metadata": {
    "tags": []
   },
   "outputs": [
    {
     "name": "stdout",
     "output_type": "stream",
     "text": [
      "Workspace: /Volumes/Elements SE/roms4dvar_ecs/freerun_detide_v3.7/outputs\n"
     ]
    }
   ],
   "source": [
    "my_rootnl = '/Volumes/Elements SE/roms4dvar_ecs'\n",
    "nl_workspace_info = {\n",
    "                     'freerun_detide_v3.7/outputs':'ROMS 3.7',\n",
    "                     # 'freerun_detide_v4.1/outputs':'ROMS 4.1 NO SCORRECTION',\n",
    "                        # 'freerun_detide_v4.1_SC/outputs':'ROMS 4.1 SCORRECTION',\n",
    "                    # 'run17_v4/outputs':'FORWARD drggrd',\n",
    "}\n",
    "var = 'salt'\n",
    "areas = {\n",
    "        #  'bh': ('Bohai Sea', [0,7]),\n",
    "        # 'ys': ('Yellow Sea', [6.5,11]),\n",
    "        # 'cre': ('Changjiang River Estuary',[10.5,14.5]),\n",
    "        # 'ks': ('Kuroshio Current System', [21.5,24]),\n",
    "        'all': ('East China Sea', [10,25])\n",
    "}\n",
    "nl_Workspaces = []\n",
    "for i in range(len(nl_workspace_info)):\n",
    "    nl_Workspaces.append(rw.Nl_workspace( MY_ROOT         =my_rootnl,\n",
    "                                    workspace_name  =list(nl_workspace_info.keys())[i],\n",
    "                                    workspace_detail=list(nl_workspace_info.values())[i]\n",
    "                                   ))\n",
    "    nl_Workspaces[i].load_mtfroms(isAna=False,Surf=True)"
   ]
  },
  {
   "cell_type": "code",
   "execution_count": 12,
   "id": "adfc9379-4fde-46f3-a1e9-90a43572c0fc",
   "metadata": {
    "tags": []
   },
   "outputs": [],
   "source": [
    "var = 'salt'"
   ]
  },
  {
   "cell_type": "code",
   "execution_count": 14,
   "id": "3740fa4a-3386-4b03-9ad4-a97e0bd18748",
   "metadata": {
    "tags": []
   },
   "outputs": [
    {
     "name": "stdout",
     "output_type": "stream",
     "text": [
      "loading salt in all  area...\n"
     ]
    }
   ],
   "source": [
    "nl_Vars = {}\n",
    "for iw in range(len((nl_workspace_info))):\n",
    "    for area in list(areas.keys()):\n",
    "        print('loading %s in %s  area...'%(var,area))\n",
    "        if iw == 0:\n",
    "            nl_Vars[area] = []\n",
    "        # loading data from FORWARD model outputs\n",
    "        nl_Vars[area].append(nl_Workspaces[iw].pull_var2d(varname=         var, area=area,time_range=('2012-07-25','2012-08-01')))"
   ]
  },
  {
   "cell_type": "code",
   "execution_count": 28,
   "id": "24647603-85d2-4ac0-916a-1412e5b5a12d",
   "metadata": {
    "tags": []
   },
   "outputs": [
    {
     "data": {
      "text/plain": [
       "2"
      ]
     },
     "execution_count": 28,
     "metadata": {},
     "output_type": "execute_result"
    }
   ],
   "source": [
    "len(nl_Workspaces)"
   ]
  },
  {
   "cell_type": "code",
   "execution_count": 9,
   "id": "101b12b7-14ac-4834-8919-1d1202deadda",
   "metadata": {
    "tags": []
   },
   "outputs": [],
   "source": [
    "def _forward(x):\n",
    "    return x**3\n",
    "\n",
    "\n",
    "def _inverse(x):\n",
    "    return np.power(x,1/3)\n",
    "norm = colors.FuncNorm((_forward, _inverse), vmin=5, vmax=35)"
   ]
  },
  {
   "cell_type": "code",
   "execution_count": 20,
   "id": "153dc089-c9e9-4d57-8169-36f9607fab92",
   "metadata": {
    "tags": []
   },
   "outputs": [
    {
     "name": "stdout",
     "output_type": "stream",
     "text": [
      "0 0\n",
      "0 1\n",
      "0 2\n",
      "0 3\n",
      "0 4\n",
      "0 5\n",
      "0 6\n",
      "0 7\n",
      "0 8\n",
      "0 9\n",
      "0 10\n",
      "0 11\n",
      "0 12\n",
      "0 13\n",
      "0 14\n",
      "0 15\n",
      "0 16\n",
      "0 17\n",
      "0 18\n",
      "0 19\n",
      "0 20\n",
      "0 21\n",
      "0 22\n",
      "0 23\n",
      "0 24\n",
      "0 25\n",
      "0 26\n",
      "0 27\n",
      "0 28\n",
      "0 29\n",
      "0 30\n",
      "0 31\n",
      "0 32\n",
      "0 33\n",
      "0 34\n",
      "0 35\n",
      "0 36\n",
      "0 37\n",
      "0 38\n",
      "0 39\n",
      "0 40\n",
      "0 41\n",
      "0 42\n",
      "0 43\n",
      "0 44\n",
      "0 45\n",
      "0 46\n",
      "0 47\n"
     ]
    }
   ],
   "source": [
    "lon_bdy = [120,133.5];\n",
    "lat_bdy = [20,31];\n",
    "vmin_sst = 22\n",
    "vmax_sst = 26\n",
    "my_sst_color = sio.loadmat('LYG_rainbow.mat')['rainbow']\n",
    "my_sst = LinearSegmentedColormap.from_list('sst',my_sst_color, N = 256)\n",
    "my_div_color = np.array(  [\n",
    "                 [0,0,123],\n",
    "                [9,32,154],\n",
    "                [22,58,179],\n",
    "                [34,84,204],\n",
    "                [47,109,230],\n",
    "                [63,135,247],\n",
    "                [95,160,248],\n",
    "                [137,186,249],\n",
    "                [182,213,251],\n",
    "                [228,240,254],\n",
    "                [255,255,255],\n",
    "                [250,224,224],\n",
    "                [242,164,162],\n",
    "                [237,117,113],\n",
    "                [235,76,67],\n",
    "                [233,52,37],\n",
    "                [212,45,31],\n",
    "                [188,39,26],\n",
    "                [164,33,21],\n",
    "                [140,26,17],\n",
    "                [117,20,12]\n",
    "                ])/255\n",
    "my_div = LinearSegmentedColormap.from_list('div',my_div_color, N = 256)\n",
    "\n",
    "\n",
    "d_interval = 2\n",
    "\n",
    "# iwda = 0\n",
    "plt.rcParams['font.family'] = 'Lucida Grande'\n",
    "area = 'all'\n",
    "# for area in ['bh','ys','ks',]:\n",
    "figsize = (11,5)\n",
    "lon_bdy = [116,136];\n",
    "lat_bdy = [21,38.5];\n",
    "lon_interval = 5\n",
    "lat_interval = 5\n",
    "vmin_sst = 30\n",
    "vmax_sst = 35\n",
    "norm = colors.FuncNorm((_forward, _inverse), vmin=vmin_sst, vmax=vmax_sst)\n",
    "vmin_diff = -0.5\n",
    "vmax_diff = 0.5\n",
    "d_interval = 5\n",
    "bc = 0.93\n",
    "for iwork in range(len(nl_Workspaces)):\n",
    "    for it in range(len(nl_Vars[area][iwork].ocean_time)):\n",
    "    # for it in range(1):\n",
    "        print(iwork,it)\n",
    "        fig = plt.figure(figsize=figsize, constrained_layout = True)\n",
    "        #===============================observation spatial pattern\n",
    "        ax = fig.add_subplot(projection = ccrs.Mercator())\n",
    "        for bnd in ax.spines.keys():\n",
    "            ax.spines[bnd].set_linewidth('1.5')\n",
    "        ax.add_feature(cfeature.COASTLINE.with_scale('10m'), color = 'gray',zorder = 2,linewidth =1,)\n",
    "        ax.add_feature(cfeature.LAND.with_scale('10m'),facecolor='lightgray',zorder = 1,)\n",
    "        ax.set_extent((lon_bdy[0],lon_bdy[-1],lat_bdy[0],lat_bdy[-1]),crs = ccrs.PlateCarree())\n",
    "        ax.set_xticks(np.arange(lon_bdy[0],lon_bdy[-1]+lon_interval,lon_interval),crs=ccrs.PlateCarree())\n",
    "        ax.set_yticks(np.arange(lat_bdy[0],lat_bdy[-1]+lat_interval,lat_interval),crs=ccrs.PlateCarree())\n",
    "        lon_formatter = LongitudeFormatter(number_format='.0f',\n",
    "                                        degree_symbol='°',\n",
    "                                        dateline_direction_label=True)\n",
    "        lat_formatter = LatitudeFormatter(number_format='.0f',\n",
    "                                            degree_symbol='°')\n",
    "        ax.xaxis.set_major_formatter(lon_formatter)\n",
    "        ax.yaxis.set_major_formatter(lat_formatter)\n",
    "        ax.tick_params(direction = 'out', length = 3, width = 1.5, labelsize = 12)\n",
    "        c = ax.pcolormesh(nl_Vars[area][iwork].lon,nl_Vars[area][iwork].lat,\n",
    "                  nl_Vars[area][iwork].value[it,:,:],\n",
    "                          cmap = cmaps.NCV_bright,\n",
    "                  # cmap = my_sst, \n",
    "                  # norm = norm,\n",
    "                  # cmap = my_sst,\n",
    "                          vmin = vmin_sst,vmax=vmax_sst,\n",
    "\n",
    "               transform = ccrs.PlateCarree(),zorder = -1)\n",
    "        ax.set_title('SSS '+nl_Workspaces[iwork].workspace_detail,fontsize=16)\n",
    "        ax.text(lon_bdy[-1]*bc,lat_bdy[-1]*0.99,str(nl_Vars[area][iwork].ocean_time.data[it])[:10]+'-%sH'%(str(nl_Vars[area][iwork].ocean_time.data[it])[11:13]),fontsize = 12,transform = ccrs.PlateCarree())\n",
    "        position=fig.add_axes([0.335,-0.05, 0.325, 0.045,])\n",
    "        cb = fig.colorbar(c, cax = position, orientation='horizontal',ticks = np.arange(vmin_sst,vmax_sst+d_interval,d_interval))\n",
    "        for bnd in position.spines.keys():\n",
    "                position.spines[bnd].set_linewidth('1.5')\n",
    "        position.tick_params(direction = 'out',  length = 3, width = 1.5, labelsize = 10)\n",
    "\n",
    "        cb.set_label('PSU',fontsize = 12) \n",
    "        plt.savefig(nl_Workspaces[iwork].workspace_subdir+\n",
    "                    '/fig_evolution/2012sss_%s.jpeg'%(str(it)),dpi=300,bbox_inches='tight')\n",
    "        plt.close()"
   ]
  },
  {
   "cell_type": "code",
   "execution_count": null,
   "id": "368ada40-8f06-469a-aa64-80f06fb1cd78",
   "metadata": {},
   "outputs": [],
   "source": []
  }
 ],
 "metadata": {
  "kernelspec": {
   "display_name": "Python 3 (ipykernel)",
   "language": "python",
   "name": "python3"
  },
  "language_info": {
   "codemirror_mode": {
    "name": "ipython",
    "version": 3
   },
   "file_extension": ".py",
   "mimetype": "text/x-python",
   "name": "python",
   "nbconvert_exporter": "python",
   "pygments_lexer": "ipython3",
   "version": "3.9.13"
  }
 },
 "nbformat": 4,
 "nbformat_minor": 5
}
