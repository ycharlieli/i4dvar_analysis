{
 "cells": [
  {
   "cell_type": "code",
   "execution_count": 1,
   "id": "a4e48c4e-f5d7-4763-8365-33c491329609",
   "metadata": {
    "tags": []
   },
   "outputs": [],
   "source": [
    "import xarray as xr\n",
    "from dask.distributed import Client\n",
    "import time\n",
    "import datetime as dt\n",
    "import warnings\n",
    "warnings.filterwarnings('ignore')\n",
    "import sys\n",
    "import numpy as np\n",
    "import scipy \n",
    "sys.setrecursionlimit(100000)"
   ]
  },
  {
   "cell_type": "code",
   "execution_count": 2,
   "id": "908dcb16-63ac-40e0-892c-8955747d1686",
   "metadata": {
    "tags": []
   },
   "outputs": [],
   "source": [
    "\n",
    "#define your observation, forward simulation and da simulation root path\n",
    "myobsroot = '/Volumes/TO_1/roms4dvar_ecs/i4dvar_outputs/INSITU_OBS/'\n",
    "mynlroot = '/Volumes/WD_3/outputs_SCORRECTION/'\n",
    "mypriorroot = '/Volumes/WD_3/roms4dvar_ecs/i4dvar_outputs/'\n",
    "mypostroot = '/Volumes/TO_1/roms4dvar_ecs/i4dvar_outputs/'\n",
    "#define your workspace \n",
    "nl_workspace = 'outputs_201205/'\n",
    "prior_workspace = 'workspace_sstbgqc/'\n",
    "post_workspace = 'workspace_geopolarsst/'\n",
    "obs_workspace = ''\n",
    "#define your filenames\n",
    "obs_file='sst_withcruiseptpkodc_2012_offshore.nc'\n",
    "nl_files = \"ocean_ecs_his_00*.nc\"\n",
    "#since this is a vertical profile validation, full fwd file is needed\n",
    "prior_files = \"STORAGE/prior/ocean_ecs_fwd_15461_outer0.nc\"\n",
    "posterior_files = \"STORAGE/posterior/ocean_ecs_fwd_*.nc\"\n",
    "\n",
    "#\n",
    "grd_file = '/Volumes/TO_1/roms4dvar_ecs/i4dvar_outputs/workspace_geopolarsst/STORAGE/prior/ocean_ecs_fwd_15461_outer0.nc'\n"
   ]
  },
  {
   "cell_type": "code",
   "execution_count": 3,
   "id": "c8e8b7e0-a748-419b-9654-871ba47e76e8",
   "metadata": {
    "tags": []
   },
   "outputs": [
    {
     "name": "stdout",
     "output_type": "stream",
     "text": [
      "duration to be validated: from 2012-05-01-12H to 2013-05-01-12H, total of 366 days.\n",
      "         target obs variable: 6\n",
      "         target model variable: temp\n"
     ]
    }
   ],
   "source": [
    "#define your target data duration\n",
    "\n",
    "start_date = '2012-05-01-12H'\n",
    "end_date = '2013-05-01-12H'\n",
    "\n",
    "start_datetime = dt.datetime.strptime(start_date,\"%Y-%m-%d-%HH\")\n",
    "end_datetime = dt.datetime.strptime(end_date,\"%Y-%m-%d-%HH\")\n",
    "data_len = (end_datetime-start_datetime).days+1 \n",
    "\n",
    "#define your target variable\n",
    "obs_var = 6\n",
    "# 2d situation\n",
    "# model_var = 'temp_sur' \n",
    "#3d situation\n",
    "model_var = 'temp'\n",
    "\n",
    "# setting chunk size\n",
    "x_chunk = int(262/2)\n",
    "y_chunk = int(362/2)\n",
    "z_chunk = 10\n",
    "\n",
    "print('''duration to be validated: from %s to %s, total of %i days.\n",
    "         target obs variable: %s\n",
    "         target model variable: %s'''\n",
    "      %(start_date,end_date,data_len,obs_var,model_var))\n",
    "\n"
   ]
  },
  {
   "cell_type": "code",
   "execution_count": 4,
   "id": "b860b072-9ab9-40fa-9c75-8d592e85635d",
   "metadata": {
    "tags": []
   },
   "outputs": [],
   "source": [
    "# loading observation data\n",
    "Obs_ds = xr.open_dataset(myobsroot+obs_workspace+obs_file,\n",
    "                           engine='netcdf4',\n",
    "                           # chunks={'longitude':260,'latitude':210},\n",
    "                         \n",
    "                           )"
   ]
  },
  {
   "cell_type": "code",
   "execution_count": 5,
   "id": "38068581-322c-4213-b417-cdde6693c50b",
   "metadata": {
    "tags": []
   },
   "outputs": [],
   "source": [
    "# extracting cruise observation data with specific time range \n",
    "start_obstime = (start_datetime - dt.datetime(1970,1,1)).total_seconds()/3600/24\n",
    "end_obstime = (end_datetime - dt.datetime(1970,1,1)).total_seconds()/3600/24\n",
    "\n",
    "this_range = np.where( \n",
    "                                (Obs_ds.obs_time.data >= start_obstime) &\n",
    "                                (Obs_ds.obs_time.data <= end_obstime)  &\n",
    "                                (Obs_ds.obs_provenance == 355)&\n",
    "                                (Obs_ds.obs_type == obs_var)\n",
    "                        )\n",
    "\n",
    "\n",
    "Obs_ds = Obs_ds.isel(datum=this_range[0]).copy()\n",
    "timestamp = [ dt.timedelta(itime)+dt.datetime(1970,1,1) for itime in Obs_ds.obs_time.data]\n"
   ]
  },
  {
   "cell_type": "code",
   "execution_count": 6,
   "id": "712e4e4e-e4d3-414f-bc36-1763cb31dc02",
   "metadata": {
    "tags": []
   },
   "outputs": [],
   "source": [
    "Obs_ds = Obs_ds.assign_coords(datum=timestamp).copy()\n"
   ]
  },
  {
   "cell_type": "code",
   "execution_count": 9,
   "id": "9bee13a9-d040-45c7-b2f9-d9ca5c4e6336",
   "metadata": {
    "tags": []
   },
   "outputs": [
    {
     "name": "stdout",
     "output_type": "stream",
     "text": [
      "<Client: 'tcp://127.0.0.1:53214' processes=4 threads=32, memory=32.00 GiB>\n",
      "http://127.0.0.1:53213/status\n"
     ]
    }
   ],
   "source": [
    "# lauching the dask workstation\n",
    "client = Client(threads_per_worker=8, n_workers=4,memory_limit= '8 GiB')\n",
    "\n",
    "print(client)\n",
    "print(client.dashboard_link)"
   ]
  },
  {
   "cell_type": "code",
   "execution_count": 7,
   "id": "ea07d7a9-c493-47d4-9684-0119b170110a",
   "metadata": {
    "tags": []
   },
   "outputs": [
    {
     "name": "stdout",
     "output_type": "stream",
     "text": [
      "loading costing 3.470928 min\n"
     ]
    }
   ],
   "source": [
    "# loading forward sst\n",
    "start = time.time()\n",
    "fwd_ds = xr.open_mfdataset(mynlroot+nl_workspace+nl_files,\n",
    "                                      engine='netcdf4',coords='minimal',\n",
    "                                      parallel=True,\n",
    "                                      # chunks={'eta_rho':y_chunk,'xi_rho':x_chunk,\n",
    "                                      #      's_rho':z_chunk, # only 3d needed\n",
    "                                      #      'eta_u':y_chunk,'xi_u':x_chunk,\\\n",
    "                                      #      'eta_v':y_chunk,'xi_v':x_chunk,\\\n",
    "                                      #      'eta_psi':y_chunk,'xi_psi':x_chunk,},\n",
    "                                       )#.chunk(dict(ocean_time=-1))\n",
    "end = time.time()\n",
    "print('loading costing %f min'%((end-start)/60))\n"
   ]
  },
  {
   "cell_type": "code",
   "execution_count": null,
   "id": "7ae8edae-323c-4261-a288-218669432448",
   "metadata": {
    "tags": []
   },
   "outputs": [],
   "source": [
    "# loading prior sst\n",
    "start = time.time()\n",
    "prior_ds = xr.open_mfdataset(mypriorroot+prior_workspace+prior_files,\n",
    "                             engine='netcdf4',coords='minimal',\n",
    "                             parallel=True,\n",
    "                             # chunks={'eta_rho':y_chunk,'xi_rho':x_chunk,\n",
    "                             #             # 's_rho':z_chunk, # only 3d needed\n",
    "                             #               'eta_u':y_chunk,'xi_u':x_chunk,\\\n",
    "                             #               'eta_v':y_chunk,'xi_v':x_chunk,\\\n",
    "                             #               'eta_psi':y_chunk,'xi_psi':x_chunk,},\n",
    "                            )#\n",
    "end = time.time()\n",
    "print('loading costing %f min'%((end-start)/60))\n",
    "\n"
   ]
  },
  {
   "cell_type": "code",
   "execution_count": 8,
   "id": "69863ee0-008f-4569-bbe3-97b17216e7b0",
   "metadata": {
    "tags": []
   },
   "outputs": [
    {
     "name": "stdout",
     "output_type": "stream",
     "text": [
      "loading costing 2.911891 min\n"
     ]
    }
   ],
   "source": [
    "# loading poseterior sst\n",
    "start = time.time()\n",
    "post_ds = xr.open_mfdataset(mypostroot+post_workspace+posterior_files,\n",
    "                                 engine='netcdf4',coords='minimal',\n",
    "                                 parallel=True,\n",
    "                                 # chunks={'eta_rho':y_chunk,'xi_rho':x_chunk,\n",
    "                                 #         # 's_rho':z_chunk, # only 3d needed\n",
    "                                 #           'eta_u':y_chunk,'xi_u':x_chunk,\\\n",
    "                                 #           'eta_v':y_chunk,'xi_v':x_chunk,\\\n",
    "                                 #           'eta_psi':y_chunk,'xi_psi':x_chunk,},\n",
    "                                )#.chunk(dict(ocean_time=-1))\n",
    "\n",
    "end = time.time()\n",
    "print('loading costing %f min'%((end-start)/60))\n",
    "\n"
   ]
  },
  {
   "cell_type": "code",
   "execution_count": 9,
   "id": "21854729-ea12-4185-9bdb-e6959264e5e7",
   "metadata": {
    "tags": []
   },
   "outputs": [],
   "source": [
    "Obs_data = Obs_ds.obs_value"
   ]
  },
  {
   "cell_type": "code",
   "execution_count": null,
   "id": "34da8931-19e2-463e-aaff-db50f2e671df",
   "metadata": {},
   "outputs": [],
   "source": []
  },
  {
   "cell_type": "code",
   "execution_count": 10,
   "id": "7cccc32f-1567-4550-ae2b-77efa56b1335",
   "metadata": {
    "tags": []
   },
   "outputs": [],
   "source": [
    "# extracting forward sst with specific time range \n",
    "# for forward there is no qck file ,so the model var has only 'temp'\n",
    "# further we only want the surface data, so the s_rho = -1\n",
    "fwd_data = fwd_ds[model_var].sel(ocean_time=slice(start_date,end_date)).isel(s_rho=-1)\n",
    "# always drop the initial time of posterior since there is a jump\n",
    "fwd_data = fwd_data.drop_duplicates(dim='ocean_time',keep='first')\n",
    "# fwd_data\n"
   ]
  },
  {
   "cell_type": "code",
   "execution_count": null,
   "id": "a38a927d-788c-4d84-90e0-0537bf513899",
   "metadata": {
    "tags": []
   },
   "outputs": [],
   "source": [
    "# extracting prior sst with specific time range \n",
    "prior_data = prior_ds[model_var].sel(ocean_time=slice(start_date,end_date)).isel(s_rho=-1)\n",
    "# always drop the initial time of posterior since there is a jump\n",
    "prior_data = prior_data.drop_duplicates(dim='ocean_time',keep='first')\n",
    "# prior_data"
   ]
  },
  {
   "cell_type": "code",
   "execution_count": 11,
   "id": "c2358ab8-795b-43c8-8970-17c6737e3d0f",
   "metadata": {
    "tags": []
   },
   "outputs": [],
   "source": [
    "# extracting poseterior sst  with specific time range \n",
    "post_data = post_ds[model_var].sel(ocean_time=slice(start_date,end_date)).isel(s_rho=-1)\n",
    "# always drop the initial time of posterior since there is a jump\n",
    "post_data = post_data.drop_duplicates(dim='ocean_time',keep='first')\n",
    "# post_data"
   ]
  },
  {
   "cell_type": "code",
   "execution_count": 12,
   "id": "bab94715-be42-4bd7-94f7-bd952ddad008",
   "metadata": {
    "collapsed": true,
    "jupyter": {
     "outputs_hidden": true
    },
    "tags": []
   },
   "outputs": [
    {
     "name": "stdout",
     "output_type": "stream",
     "text": [
      "2012-05-01T12:00:00.000000000\n",
      "2012-05-02T12:00:00.000000000\n",
      "2012-05-03T12:00:00.000000000\n",
      "2012-05-04T12:00:00.000000000\n",
      "2012-05-05T12:00:00.000000000\n",
      "2012-05-06T12:00:00.000000000\n",
      "2012-05-07T12:00:00.000000000\n",
      "2012-05-08T12:00:00.000000000\n",
      "2012-05-09T12:00:00.000000000\n",
      "2012-05-10T12:00:00.000000000\n",
      "2012-05-11T12:00:00.000000000\n",
      "2012-05-12T12:00:00.000000000\n",
      "2012-05-13T12:00:00.000000000\n",
      "2012-05-14T12:00:00.000000000\n",
      "2012-05-15T12:00:00.000000000\n",
      "2012-05-16T12:00:00.000000000\n",
      "2012-05-17T12:00:00.000000000\n",
      "2012-05-18T12:00:00.000000000\n",
      "2012-05-19T12:00:00.000000000\n",
      "2012-05-20T12:00:00.000000000\n",
      "2012-05-21T12:00:00.000000000\n",
      "2012-05-22T12:00:00.000000000\n",
      "2012-05-23T12:00:00.000000000\n",
      "2012-05-24T12:00:00.000000000\n",
      "2012-05-25T12:00:00.000000000\n",
      "2012-05-26T12:00:00.000000000\n",
      "2012-05-27T12:00:00.000000000\n",
      "2012-05-28T12:00:00.000000000\n",
      "2012-05-29T12:00:00.000000000\n",
      "2012-05-30T12:00:00.000000000\n",
      "2012-05-31T12:00:00.000000000\n",
      "2012-06-01T12:00:00.000000000\n",
      "2012-06-02T12:00:00.000000000\n",
      "2012-06-03T12:00:00.000000000\n",
      "2012-06-04T12:00:00.000000000\n",
      "2012-06-05T12:00:00.000000000\n",
      "2012-06-06T12:00:00.000000000\n",
      "2012-06-07T12:00:00.000000000\n",
      "2012-06-08T12:00:00.000000000\n",
      "2012-06-09T12:00:00.000000000\n",
      "2012-06-10T12:00:00.000000000\n",
      "2012-06-11T12:00:00.000000000\n",
      "2012-06-12T12:00:00.000000000\n",
      "2012-06-13T12:00:00.000000000\n",
      "2012-06-14T12:00:00.000000000\n",
      "2012-06-15T12:00:00.000000000\n",
      "2012-06-16T12:00:00.000000000\n",
      "2012-06-17T12:00:00.000000000\n",
      "2012-06-18T12:00:00.000000000\n",
      "2012-06-19T12:00:00.000000000\n",
      "2012-06-20T12:00:00.000000000\n",
      "2012-06-21T12:00:00.000000000\n",
      "2012-06-22T12:00:00.000000000\n",
      "2012-06-23T12:00:00.000000000\n",
      "2012-06-24T12:00:00.000000000\n",
      "2012-06-25T12:00:00.000000000\n",
      "2012-06-26T12:00:00.000000000\n",
      "2012-06-27T12:00:00.000000000\n",
      "2012-06-28T12:00:00.000000000\n",
      "2012-06-29T12:00:00.000000000\n",
      "2012-06-30T12:00:00.000000000\n",
      "2012-07-01T12:00:00.000000000\n",
      "2012-07-02T12:00:00.000000000\n",
      "2012-07-03T12:00:00.000000000\n",
      "2012-07-04T12:00:00.000000000\n",
      "2012-07-05T12:00:00.000000000\n",
      "2012-07-06T12:00:00.000000000\n",
      "2012-07-07T12:00:00.000000000\n",
      "2012-07-08T12:00:00.000000000\n",
      "2012-07-09T12:00:00.000000000\n",
      "2012-07-10T12:00:00.000000000\n",
      "2012-07-11T12:00:00.000000000\n",
      "2012-07-12T12:00:00.000000000\n",
      "2012-07-13T12:00:00.000000000\n",
      "2012-07-14T12:00:00.000000000\n",
      "2012-07-15T12:00:00.000000000\n",
      "2012-07-16T12:00:00.000000000\n",
      "2012-07-17T12:00:00.000000000\n",
      "2012-07-18T12:00:00.000000000\n",
      "2012-07-19T12:00:00.000000000\n",
      "2012-07-20T12:00:00.000000000\n",
      "2012-07-21T12:00:00.000000000\n",
      "2012-07-22T12:00:00.000000000\n",
      "2012-07-23T12:00:00.000000000\n",
      "2012-07-24T12:00:00.000000000\n",
      "2012-07-25T12:00:00.000000000\n",
      "2012-07-26T12:00:00.000000000\n",
      "2012-07-27T12:00:00.000000000\n",
      "2012-07-28T12:00:00.000000000\n",
      "2012-07-29T12:00:00.000000000\n",
      "2012-07-30T12:00:00.000000000\n",
      "2012-07-31T12:00:00.000000000\n",
      "2012-08-01T12:00:00.000000000\n",
      "2012-08-02T12:00:00.000000000\n",
      "2012-08-03T12:00:00.000000000\n",
      "2012-08-04T12:00:00.000000000\n",
      "2012-08-05T12:00:00.000000000\n",
      "2012-08-06T12:00:00.000000000\n",
      "2012-08-07T12:00:00.000000000\n",
      "2012-08-08T12:00:00.000000000\n",
      "2012-08-09T12:00:00.000000000\n",
      "2012-08-10T12:00:00.000000000\n",
      "2012-08-11T12:00:00.000000000\n",
      "2012-08-12T12:00:00.000000000\n",
      "2012-08-13T12:00:00.000000000\n",
      "2012-08-14T12:00:00.000000000\n",
      "2012-08-15T12:00:00.000000000\n",
      "2012-08-16T12:00:00.000000000\n",
      "2012-08-17T12:00:00.000000000\n",
      "2012-08-18T12:00:00.000000000\n",
      "2012-08-19T12:00:00.000000000\n",
      "2012-08-20T12:00:00.000000000\n",
      "2012-08-21T12:00:00.000000000\n",
      "2012-08-22T12:00:00.000000000\n",
      "2012-08-23T12:00:00.000000000\n",
      "2012-08-24T12:00:00.000000000\n",
      "2012-08-25T12:00:00.000000000\n",
      "2012-08-26T12:00:00.000000000\n",
      "2012-08-27T12:00:00.000000000\n",
      "2012-08-28T12:00:00.000000000\n",
      "2012-08-29T12:00:00.000000000\n",
      "2012-08-30T12:00:00.000000000\n",
      "2012-08-31T12:00:00.000000000\n",
      "2012-09-01T12:00:00.000000000\n",
      "2012-09-02T12:00:00.000000000\n",
      "2012-09-03T12:00:00.000000000\n",
      "2012-09-04T12:00:00.000000000\n",
      "2012-09-05T12:00:00.000000000\n",
      "2012-09-06T12:00:00.000000000\n",
      "2012-09-07T12:00:00.000000000\n",
      "2012-09-08T12:00:00.000000000\n",
      "2012-09-09T12:00:00.000000000\n",
      "2012-09-10T12:00:00.000000000\n",
      "2012-09-11T12:00:00.000000000\n",
      "2012-09-12T12:00:00.000000000\n",
      "2012-09-13T12:00:00.000000000\n",
      "2012-09-14T12:00:00.000000000\n",
      "2012-09-15T12:00:00.000000000\n",
      "2012-09-16T12:00:00.000000000\n",
      "2012-09-17T12:00:00.000000000\n",
      "2012-09-18T12:00:00.000000000\n",
      "2012-09-19T12:00:00.000000000\n",
      "2012-09-20T12:00:00.000000000\n",
      "2012-09-21T12:00:00.000000000\n",
      "2012-09-22T12:00:00.000000000\n",
      "2012-09-23T12:00:00.000000000\n",
      "2012-09-24T12:00:00.000000000\n",
      "2012-09-25T12:00:00.000000000\n",
      "2012-09-26T12:00:00.000000000\n",
      "2012-09-27T12:00:00.000000000\n",
      "2012-09-28T12:00:00.000000000\n",
      "2012-09-29T12:00:00.000000000\n",
      "2012-09-30T12:00:00.000000000\n",
      "2012-10-01T12:00:00.000000000\n",
      "2012-10-02T12:00:00.000000000\n",
      "2012-10-03T12:00:00.000000000\n",
      "2012-10-04T12:00:00.000000000\n",
      "2012-10-05T12:00:00.000000000\n",
      "2012-10-06T12:00:00.000000000\n",
      "2012-10-07T12:00:00.000000000\n",
      "2012-10-08T12:00:00.000000000\n",
      "2012-10-09T12:00:00.000000000\n",
      "2012-10-10T12:00:00.000000000\n",
      "2012-10-11T12:00:00.000000000\n",
      "2012-10-12T12:00:00.000000000\n",
      "2012-10-13T12:00:00.000000000\n",
      "2012-10-14T12:00:00.000000000\n",
      "2012-10-15T12:00:00.000000000\n",
      "2012-10-16T12:00:00.000000000\n",
      "2012-10-17T12:00:00.000000000\n",
      "2012-10-18T12:00:00.000000000\n",
      "2012-10-19T12:00:00.000000000\n",
      "2012-10-20T12:00:00.000000000\n",
      "2012-10-21T12:00:00.000000000\n",
      "2012-10-22T12:00:00.000000000\n",
      "2012-10-23T12:00:00.000000000\n",
      "2012-10-24T12:00:00.000000000\n",
      "2012-10-25T12:00:00.000000000\n",
      "2012-10-26T12:00:00.000000000\n",
      "2012-10-27T12:00:00.000000000\n",
      "2012-10-28T12:00:00.000000000\n",
      "2012-10-29T12:00:00.000000000\n",
      "2012-10-30T12:00:00.000000000\n",
      "2012-10-31T12:00:00.000000000\n",
      "2012-11-01T12:00:00.000000000\n",
      "2012-11-02T12:00:00.000000000\n",
      "2012-11-03T12:00:00.000000000\n",
      "2012-11-04T12:00:00.000000000\n",
      "2012-11-05T12:00:00.000000000\n",
      "2012-11-06T12:00:00.000000000\n",
      "2012-11-07T12:00:00.000000000\n",
      "2012-11-08T12:00:00.000000000\n",
      "2012-11-09T12:00:00.000000000\n",
      "2012-11-10T12:00:00.000000000\n",
      "2012-11-11T12:00:00.000000000\n",
      "2012-11-12T12:00:00.000000000\n",
      "2012-11-13T12:00:00.000000000\n",
      "2012-11-14T12:00:00.000000000\n",
      "2012-11-15T12:00:00.000000000\n",
      "2012-11-16T12:00:00.000000000\n",
      "2012-11-17T12:00:00.000000000\n",
      "2012-11-18T12:00:00.000000000\n",
      "2012-11-19T12:00:00.000000000\n",
      "2012-11-20T12:00:00.000000000\n",
      "2012-11-21T12:00:00.000000000\n",
      "2012-11-22T12:00:00.000000000\n",
      "2012-11-23T12:00:00.000000000\n",
      "2012-11-24T12:00:00.000000000\n",
      "2012-11-25T12:00:00.000000000\n",
      "2012-11-26T12:00:00.000000000\n",
      "2012-11-27T12:00:00.000000000\n",
      "2012-11-28T12:00:00.000000000\n",
      "2012-11-29T12:00:00.000000000\n",
      "2012-11-30T12:00:00.000000000\n",
      "2012-12-01T12:00:00.000000000\n",
      "2012-12-02T12:00:00.000000000\n",
      "2012-12-03T12:00:00.000000000\n",
      "2012-12-04T12:00:00.000000000\n",
      "2012-12-05T12:00:00.000000000\n",
      "2012-12-06T12:00:00.000000000\n",
      "2012-12-07T12:00:00.000000000\n",
      "2012-12-08T12:00:00.000000000\n",
      "2012-12-09T12:00:00.000000000\n",
      "2012-12-10T12:00:00.000000000\n",
      "2012-12-11T12:00:00.000000000\n",
      "2012-12-12T12:00:00.000000000\n",
      "2012-12-13T12:00:00.000000000\n",
      "2012-12-14T12:00:00.000000000\n",
      "2012-12-15T12:00:00.000000000\n",
      "2012-12-16T12:00:00.000000000\n",
      "2012-12-17T12:00:00.000000000\n",
      "2012-12-18T12:00:00.000000000\n",
      "2012-12-19T12:00:00.000000000\n",
      "2012-12-20T12:00:00.000000000\n",
      "2012-12-21T12:00:00.000000000\n",
      "2012-12-22T12:00:00.000000000\n",
      "2012-12-23T12:00:00.000000000\n",
      "2012-12-24T12:00:00.000000000\n",
      "2012-12-25T12:00:00.000000000\n",
      "2012-12-26T12:00:00.000000000\n",
      "2012-12-27T12:00:00.000000000\n",
      "2012-12-28T12:00:00.000000000\n",
      "2012-12-29T12:00:00.000000000\n",
      "2012-12-30T12:00:00.000000000\n",
      "2012-12-31T12:00:00.000000000\n",
      "2013-01-01T12:00:00.000000000\n",
      "2013-01-02T12:00:00.000000000\n",
      "2013-01-03T12:00:00.000000000\n",
      "2013-01-04T12:00:00.000000000\n",
      "2013-01-05T12:00:00.000000000\n",
      "2013-01-06T12:00:00.000000000\n",
      "2013-01-07T12:00:00.000000000\n",
      "2013-01-08T12:00:00.000000000\n",
      "2013-01-09T12:00:00.000000000\n",
      "2013-01-10T12:00:00.000000000\n",
      "2013-01-11T12:00:00.000000000\n",
      "2013-01-12T12:00:00.000000000\n",
      "2013-01-13T12:00:00.000000000\n",
      "2013-01-14T12:00:00.000000000\n",
      "2013-01-15T12:00:00.000000000\n",
      "2013-01-16T12:00:00.000000000\n",
      "2013-01-17T12:00:00.000000000\n",
      "2013-01-18T12:00:00.000000000\n",
      "2013-01-19T12:00:00.000000000\n",
      "2013-01-20T12:00:00.000000000\n",
      "2013-01-21T12:00:00.000000000\n",
      "2013-01-22T12:00:00.000000000\n",
      "2013-01-23T12:00:00.000000000\n",
      "2013-01-24T12:00:00.000000000\n",
      "2013-01-25T12:00:00.000000000\n",
      "2013-01-26T12:00:00.000000000\n",
      "2013-01-27T12:00:00.000000000\n",
      "2013-01-28T12:00:00.000000000\n",
      "2013-01-29T12:00:00.000000000\n",
      "2013-01-30T12:00:00.000000000\n",
      "2013-01-31T12:00:00.000000000\n",
      "2013-02-01T12:00:00.000000000\n",
      "2013-02-02T12:00:00.000000000\n",
      "2013-02-03T12:00:00.000000000\n",
      "2013-02-04T12:00:00.000000000\n",
      "2013-02-05T12:00:00.000000000\n",
      "2013-02-06T12:00:00.000000000\n",
      "2013-02-07T12:00:00.000000000\n",
      "2013-02-08T12:00:00.000000000\n",
      "2013-02-09T12:00:00.000000000\n",
      "2013-02-10T12:00:00.000000000\n",
      "2013-02-11T12:00:00.000000000\n",
      "2013-02-12T12:00:00.000000000\n",
      "2013-02-13T12:00:00.000000000\n",
      "2013-02-14T12:00:00.000000000\n",
      "2013-02-15T12:00:00.000000000\n",
      "2013-02-16T12:00:00.000000000\n",
      "2013-02-17T12:00:00.000000000\n",
      "2013-02-18T12:00:00.000000000\n",
      "2013-02-19T12:00:00.000000000\n",
      "2013-02-20T12:00:00.000000000\n",
      "2013-02-21T12:00:00.000000000\n",
      "2013-02-22T12:00:00.000000000\n",
      "2013-02-23T12:00:00.000000000\n",
      "2013-02-24T12:00:00.000000000\n",
      "2013-02-25T12:00:00.000000000\n",
      "2013-02-26T12:00:00.000000000\n",
      "2013-02-27T12:00:00.000000000\n",
      "2013-02-28T12:00:00.000000000\n",
      "2013-03-01T12:00:00.000000000\n",
      "2013-03-02T12:00:00.000000000\n",
      "2013-03-03T12:00:00.000000000\n",
      "2013-03-04T12:00:00.000000000\n",
      "2013-03-05T12:00:00.000000000\n",
      "2013-03-06T12:00:00.000000000\n",
      "2013-03-07T12:00:00.000000000\n",
      "2013-03-08T12:00:00.000000000\n",
      "2013-03-09T12:00:00.000000000\n",
      "2013-03-10T12:00:00.000000000\n",
      "2013-03-11T12:00:00.000000000\n",
      "2013-03-12T12:00:00.000000000\n",
      "2013-03-13T12:00:00.000000000\n",
      "2013-03-14T12:00:00.000000000\n",
      "2013-03-15T12:00:00.000000000\n",
      "2013-03-16T12:00:00.000000000\n",
      "2013-03-17T12:00:00.000000000\n",
      "2013-03-18T12:00:00.000000000\n",
      "2013-03-19T12:00:00.000000000\n",
      "2013-03-20T12:00:00.000000000\n",
      "2013-03-21T12:00:00.000000000\n",
      "2013-03-22T12:00:00.000000000\n",
      "2013-03-23T12:00:00.000000000\n",
      "2013-03-24T12:00:00.000000000\n",
      "2013-03-25T12:00:00.000000000\n",
      "2013-03-26T12:00:00.000000000\n",
      "2013-03-27T12:00:00.000000000\n",
      "2013-03-28T12:00:00.000000000\n",
      "2013-03-29T12:00:00.000000000\n",
      "2013-03-30T12:00:00.000000000\n",
      "2013-03-31T12:00:00.000000000\n",
      "2013-04-01T12:00:00.000000000\n",
      "2013-04-02T12:00:00.000000000\n",
      "2013-04-03T12:00:00.000000000\n",
      "2013-04-04T12:00:00.000000000\n",
      "2013-04-05T12:00:00.000000000\n",
      "2013-04-06T12:00:00.000000000\n",
      "2013-04-07T12:00:00.000000000\n",
      "2013-04-08T12:00:00.000000000\n",
      "2013-04-09T12:00:00.000000000\n",
      "2013-04-10T12:00:00.000000000\n",
      "2013-04-11T12:00:00.000000000\n",
      "2013-04-12T12:00:00.000000000\n",
      "2013-04-13T12:00:00.000000000\n",
      "2013-04-14T12:00:00.000000000\n",
      "2013-04-15T12:00:00.000000000\n",
      "2013-04-16T12:00:00.000000000\n",
      "2013-04-17T12:00:00.000000000\n",
      "2013-04-18T12:00:00.000000000\n",
      "2013-04-19T12:00:00.000000000\n",
      "2013-04-20T12:00:00.000000000\n",
      "2013-04-21T12:00:00.000000000\n",
      "2013-04-22T12:00:00.000000000\n",
      "2013-04-23T12:00:00.000000000\n",
      "2013-04-24T12:00:00.000000000\n",
      "2013-04-25T12:00:00.000000000\n",
      "2013-04-26T12:00:00.000000000\n",
      "2013-04-27T12:00:00.000000000\n",
      "2013-04-28T12:00:00.000000000\n",
      "2013-04-29T12:00:00.000000000\n",
      "2013-04-30T12:00:00.000000000\n",
      "2013-05-01T12:00:00.000000000\n"
     ]
    }
   ],
   "source": [
    "data_modgrd = np.full([data_len,len(fwd_data.eta_rho),len(fwd_data.xi_rho)],np.nan)\n",
    "for i,idate in enumerate(np.unique(Obs_data.datum)):\n",
    "    print(idate)\n",
    "    data_thisday = Obs_ds.obs_value.sel(datum=idate).data\n",
    "    x = Obs_ds.obs_Xgrid.sel(datum=idate).data\n",
    "    y = Obs_ds.obs_Ygrid.sel(datum=idate).data\n",
    "    for ipos in range(len(data_thisday)):\n",
    "        data_modgrd[i,int(np.round(y[ipos])),int(np.round(x[ipos]))]= data_thisday[ipos]\n"
   ]
  },
  {
   "cell_type": "code",
   "execution_count": null,
   "id": "cb0fd669-74d1-4a8f-af1e-ed51d6b734ce",
   "metadata": {},
   "outputs": [],
   "source": []
  },
  {
   "cell_type": "code",
   "execution_count": 13,
   "id": "fffe8137-1e14-4659-b1b4-c8a75297745a",
   "metadata": {
    "tags": []
   },
   "outputs": [],
   "source": [
    "\n",
    "Obs_modgrd = xr.DataArray(data_modgrd,coords=[np.unique(Obs_data.datum),\n",
    "                                              fwd_data.eta_rho,\n",
    "                                              fwd_data.xi_rho],\n",
    "                          dims=['ocean_time','eta_rho','xi_rho'])\n",
    "Obs_modgrd = Obs_modgrd.assign_coords(lon_rho=fwd_data.lon_rho)\n",
    "Obs_modgrd = Obs_modgrd.assign_coords(lat_rho=fwd_data.lat_rho)\n",
    "Obs_modgrd = Obs_modgrd.drop('eta_rho')\n",
    "Obs_modgrd = Obs_modgrd.drop('xi_rho')\n"
   ]
  },
  {
   "cell_type": "code",
   "execution_count": null,
   "id": "13339d93-23c1-4949-bf17-48131a17fecd",
   "metadata": {},
   "outputs": [],
   "source": []
  },
  {
   "cell_type": "code",
   "execution_count": null,
   "id": "a223d247-23e5-4fe8-ba8c-e0cdb69d56d7",
   "metadata": {
    "tags": []
   },
   "outputs": [],
   "source": [
    "Obs_modgrd.isel(ocean_time=1).plot()"
   ]
  },
  {
   "cell_type": "code",
   "execution_count": 14,
   "id": "3e8e9efb-f189-4c9a-af2f-bc5b7075fcb9",
   "metadata": {
    "tags": []
   },
   "outputs": [],
   "source": [
    "Obs_modgrd = Obs_modgrd.ffill(dim='eta_rho',limit=2)\n",
    "Obs_modgrd = Obs_modgrd.ffill(dim='xi_rho',limit=2)"
   ]
  },
  {
   "cell_type": "code",
   "execution_count": null,
   "id": "6d87b18d-4967-4b2c-aa67-ec343538d854",
   "metadata": {
    "tags": []
   },
   "outputs": [],
   "source": [
    "Obs_modgrd.isel(ocean_time=1).plot()"
   ]
  },
  {
   "cell_type": "code",
   "execution_count": 15,
   "id": "1ffd4ff3-18c2-44c8-96b7-ee0ba6014810",
   "metadata": {
    "tags": []
   },
   "outputs": [],
   "source": [
    "#calculate the month mean of obs\n",
    "Obs_modgrd_lowcut = Obs_modgrd.copy()\n",
    "# Obs_modgrd_lowcut.data[Obs_modgrd_lowcut.data<=2] = np.nan\n",
    "Obs_seasonmean = Obs_modgrd.groupby('ocean_time.season').mean('ocean_time')\n",
    "Obs_monthmean = Obs_modgrd.resample(ocean_time='1m').mean()\n",
    "\n",
    "# Obs_monthmean"
   ]
  },
  {
   "cell_type": "code",
   "execution_count": 16,
   "id": "56ad32b8-02e4-416c-b16c-0ca5a25f4d2a",
   "metadata": {
    "tags": []
   },
   "outputs": [
    {
     "name": "stdout",
     "output_type": "stream",
     "text": [
      "calculating costing 2.414745 min\n"
     ]
    }
   ],
   "source": [
    "#calculate the daily mean of forward\n",
    "start = time.time()\n",
    "fwd_dailymean = fwd_data.resample(ocean_time='1d').mean().compute()\n",
    "fwd_dailymean = fwd_dailymean.assign_coords({'ocean_time':Obs_modgrd.ocean_time.data})\n",
    "end = time.time()\n",
    "print('calculating costing %f min'%((end-start)/60))\n",
    "# fwd_dailymean\n"
   ]
  },
  {
   "cell_type": "code",
   "execution_count": 17,
   "id": "af623c6e-ef3c-457d-85bb-8ca744952d4b",
   "metadata": {
    "tags": []
   },
   "outputs": [],
   "source": [
    "fwd_dailymean = fwd_dailymean.where(~np.isnan(Obs_modgrd),np.nan) "
   ]
  },
  {
   "cell_type": "code",
   "execution_count": null,
   "id": "0c322215-9b96-4b03-b505-66023d89ce18",
   "metadata": {
    "tags": []
   },
   "outputs": [],
   "source": [
    "fwd_dailymean_obspos.isel(ocean_time=1).plot()"
   ]
  },
  {
   "cell_type": "code",
   "execution_count": 18,
   "id": "e0dcfabc-b5d6-45fd-aedb-2e0497bd878b",
   "metadata": {
    "tags": []
   },
   "outputs": [],
   "source": [
    "#------- calculate the daily bias of forward\n",
    "fwd_dailybias = (fwd_dailymean - Obs_modgrd_lowcut)"
   ]
  },
  {
   "cell_type": "code",
   "execution_count": 19,
   "id": "0fda448c-6d58-48c4-aac5-458eee89cde7",
   "metadata": {
    "tags": []
   },
   "outputs": [
    {
     "name": "stdout",
     "output_type": "stream",
     "text": [
      "calculating costing 0.001704 min\n"
     ]
    }
   ],
   "source": [
    "#------- calculate the season mean of forward\n",
    "start = time.time()\n",
    "fwd_seasonmean = fwd_dailymean.groupby(\"ocean_time.season\").mean(\"ocean_time\").compute()\n",
    "end = time.time()\n",
    "print('calculating costing %f min'%((end-start)/60))\n",
    "# fwd_dailymean\n",
    "\n",
    "#------- calculate the season bias of forward\n",
    "fwd_seasonbias = fwd_seasonmean - Obs_seasonmean"
   ]
  },
  {
   "cell_type": "code",
   "execution_count": null,
   "id": "72a5220d-b175-40d0-bb8c-d0548bdb1ba0",
   "metadata": {
    "tags": []
   },
   "outputs": [],
   "source": [
    "#------- calculate month mean\n",
    "start = time.time()\n",
    "fwd_monthmean = fwd_dailymean.resample(ocean_time='1m').mean(\"ocean_time\").compute()\n",
    "end = time.time()\n",
    "print('calculating costing %f min'%((end-start)/60))\n",
    "# fwd_monthmean\n",
    "\n",
    "#------- calculate the monthly bias of forward\n",
    "fwd_monthbias = (fwd_monthmean - Obs_monthmean)"
   ]
  },
  {
   "cell_type": "code",
   "execution_count": null,
   "id": "7e931e36-6295-44a1-aec9-243608a553b1",
   "metadata": {
    "tags": []
   },
   "outputs": [],
   "source": [
    "#calculate the daily mean of prior\n",
    "start = time.time()\n",
    "prior_dailymean =prior_data.resample(ocean_time='1d').mean().compute()\n",
    "#align ocean_time with Obs\n",
    "prior_dailymean = prior_dailymean.assign_coords({'ocean_time':Obs_modgrd.ocean_time.data})\n",
    "end = time.time()\n",
    "print('calculating costing %f min'%((end-start)/60))\n",
    "# prior_dailymean"
   ]
  },
  {
   "cell_type": "code",
   "execution_count": null,
   "id": "ccaa68fe-09cb-495e-97a0-07ef776c3570",
   "metadata": {},
   "outputs": [],
   "source": [
    "# calculate the daily bias of prior\n",
    "prior_dailybias = prior_dailymean - Obs_modgrd_lowcut"
   ]
  },
  {
   "cell_type": "code",
   "execution_count": null,
   "id": "ff57e9d2-5e45-4687-9623-f53099574902",
   "metadata": {},
   "outputs": [],
   "source": [
    "#------- calculate the season mean of prior\n",
    "start = time.time()\n",
    "prior_seasonmean = prior_dailymean.groupby(\"ocean_time.season\").mean(\"ocean_time\").compute()\n",
    "end = time.time()\n",
    "print('calculating costing %f min'%((end-start)/60))"
   ]
  },
  {
   "cell_type": "code",
   "execution_count": null,
   "id": "e3119e36-930a-4add-89e7-b64cbe755783",
   "metadata": {},
   "outputs": [],
   "source": [
    "# calculate the seaon bias of prior\n",
    "prior_seasonbiass = prior_seasonmean - Obs_seasonmean"
   ]
  },
  {
   "cell_type": "code",
   "execution_count": null,
   "id": "dda534e0-4a63-4c64-84e9-0a2e9c547731",
   "metadata": {
    "tags": []
   },
   "outputs": [],
   "source": [
    "#calculate the month mean of prior\n",
    "start = time.time()\n",
    "prior_monthmean =prior_data.resample(ocean_time='1m').mean().compute()\n",
    "end = time.time()\n",
    "print('calculating costing %f min'%((end-start)/60))\n",
    "# prior_monthmean\n",
    "#------- calculate the monthly bias of prior\n",
    "prior_monthbias = (prior_monthmean - Obs_monthmean)"
   ]
  },
  {
   "cell_type": "code",
   "execution_count": 20,
   "id": "4caf958f-aa80-4c1f-a2c9-bb6926e5b459",
   "metadata": {
    "tags": []
   },
   "outputs": [
    {
     "name": "stdout",
     "output_type": "stream",
     "text": [
      "calculating costing 25.986872 min\n"
     ]
    }
   ],
   "source": [
    "#calculate the daily mean of posterior\n",
    "start = time.time()\n",
    "post_dailymean =post_data.resample(ocean_time='1d').mean().compute()\n",
    "post_dailymean = post_dailymean.assign_coords({'ocean_time':Obs_modgrd.ocean_time.data})\n",
    "end = time.time()\n",
    "print('calculating costing %f min'%((end-start)/60))\n",
    "# post_dailymean"
   ]
  },
  {
   "cell_type": "code",
   "execution_count": null,
   "id": "eb5c6031-bdbf-42c8-98bc-e60f992cf936",
   "metadata": {
    "tags": []
   },
   "outputs": [],
   "source": [
    "# calculate the daily bias of posterior\n",
    "post_dailybias = post_dailymean - Obs_modgrd_lowcut"
   ]
  },
  {
   "cell_type": "code",
   "execution_count": null,
   "id": "676b7cfb-5c31-44ad-afa4-93317668237f",
   "metadata": {
    "tags": []
   },
   "outputs": [],
   "source": [
    "#------- calculate the season mean of forward\n",
    "start = time.time()\n",
    "post_seasonmean = post_dailymean.groupby(\"ocean_time.season\").mean(\"ocean_time\").compute()\n",
    "end = time.time()\n",
    "print('calculating costing %f min'%((end-start)/60))\n",
    "# fwd_dailymean\n",
    "\n",
    "#------- calculate the season bias of forward\n",
    "post_seasonbias = post_seasonmean - Obs_seasonmean"
   ]
  },
  {
   "cell_type": "code",
   "execution_count": null,
   "id": "477cdacc-34c9-4e84-a7dc-4006c7649b50",
   "metadata": {
    "tags": []
   },
   "outputs": [],
   "source": [
    "#calculate the month mean of posterior\n",
    "start = time.time()\n",
    "post_monthmean =post_dailymean.resample(ocean_time='1m').mean().compute()\n",
    "end = time.time()\n",
    "print('calculating costing %f min'%((end-start)/60))\n",
    "# post_monthmean"
   ]
  },
  {
   "cell_type": "code",
   "execution_count": null,
   "id": "bda98f11-c4be-4248-885c-6fdf9a9e92a6",
   "metadata": {
    "tags": []
   },
   "outputs": [],
   "source": []
  },
  {
   "cell_type": "code",
   "execution_count": null,
   "id": "2838eab8-f66a-44d5-a71a-0ecd070c1bd8",
   "metadata": {
    "tags": []
   },
   "outputs": [],
   "source": [
    "# calculate the daily bias mean\n",
    "#### true bias ######\n",
    "# bias = mean(model_dailymean - observation_dailymean)\n",
    "fwd_dailybiasmean = fwd_dailybias.mean(dim='ocean_time',)\n",
    "prior_dailybiasmean = prior_dailybias.mean(dim='ocean_time')\n",
    "post_dailybiasmean = post_dailybias.mean(dim='ocean_time')"
   ]
  },
  {
   "cell_type": "code",
   "execution_count": null,
   "id": "66db113c-0235-416c-a9cd-0fe185c93296",
   "metadata": {
    "tags": []
   },
   "outputs": [],
   "source": [
    "# calculate the std of daily bias\n",
    "fwd_dailystd = fwd_dailybias.std(dim='ocean_time')\n",
    "prior_dailystd = prior_dailybias.std(dim='ocean_time')\n",
    "post_dailystd = post_dailybias.std(dim='ocean_time')"
   ]
  },
  {
   "cell_type": "code",
   "execution_count": null,
   "id": "af15e6bb-9663-4b85-a23f-880070de12b1",
   "metadata": {
    "tags": []
   },
   "outputs": [],
   "source": [
    "# calculate the rmse of daily data\n",
    "# rmse = sqrt(daily bias mean**2 + daily std **2)\n",
    "fwd_dailyrmse = np.sqrt(fwd_dailybiasmean**2 + fwd_dailystd**2)\n",
    "prior_dailyrmse = np.sqrt(prior_dailybiasmean**2 + prior_dailystd**2)\n",
    "post_dailyrmse = np.sqrt(post_dailybiasmean**2 + post_dailystd**2)"
   ]
  },
  {
   "cell_type": "code",
   "execution_count": null,
   "id": "36691ba4-e20d-4012-8b64-914beb755def",
   "metadata": {
    "tags": []
   },
   "outputs": [],
   "source": [
    "# calculate the daily correlation of foward and obs\n",
    "fwd_dailycorr = xr.corr(Obs_modgrd, fwd_dailymean,dim='ocean_time')\n",
    "prior_dailycorr = xr.corr(Obs_modgrd, prior_dailymean,dim='ocean_time')\n",
    "post_dailycorr = xr.corr(Obs_modgrd, post_dailymean,dim='ocean_time')"
   ]
  },
  {
   "cell_type": "code",
   "execution_count": null,
   "id": "dfde4c97-a98c-4d0e-b1f3-89f3e84af32a",
   "metadata": {
    "tags": []
   },
   "outputs": [],
   "source": [
    "# plot configuration\n",
    "import matplotlib.pyplot as plt\n",
    "from matplotlib.colors import LinearSegmentedColormap\n",
    "from cartopy.mpl.ticker import LongitudeFormatter, LatitudeFormatter\n",
    "import matplotlib.pyplot as plt\n",
    "import matplotlib.ticker as mticker\n",
    "import matplotlib.colors as colors\n",
    "import scipy.io as sio\n",
    "import cartopy.crs as ccrs\n",
    "import cartopy.feature as cfeature\n",
    "import seaborn as sns\n",
    "import cmaps"
   ]
  },
  {
   "cell_type": "code",
   "execution_count": null,
   "id": "798d32ef-7a22-44a3-a10d-90a0d1481465",
   "metadata": {
    "tags": []
   },
   "outputs": [],
   "source": [
    "\n",
    "# %matplotlib\n",
    "\n",
    "# imonth = 2 # 0st month = 5\n",
    "lon_bdy = [116,136];\n",
    "lat_bdy = [21,41];\n",
    "\n",
    "\n",
    "bias_min=-2; bias_max=2\n",
    "\n",
    "my_sst_color = sio.loadmat('/Volumes/TO_1/roms4dvar_ecs/i4dvar_outputs/'+\n",
    "                           'LYG_rainbow.mat')['rainbow']\n",
    "my_sst = LinearSegmentedColormap.from_list('sst',my_sst_color, N = 256)\n",
    "my_sst = cmaps.NCV_bright\n",
    "\n",
    "\n",
    "my_div_color = np.array(  [\n",
    "                 [0,0,123],\n",
    "                [9,32,154],\n",
    "                [22,58,179],\n",
    "                [34,84,204],\n",
    "                [47,109,230],\n",
    "                [63,135,247],\n",
    "                [95,160,248],\n",
    "                [137,186,249],\n",
    "                [182,213,251],\n",
    "                [228,240,254],\n",
    "                [255,255,255],\n",
    "                [250,224,224],\n",
    "                [242,164,162],\n",
    "                [237,117,113],\n",
    "                [235,76,67],\n",
    "                [233,52,37],\n",
    "                [212,45,31],\n",
    "                [188,39,26],\n",
    "                [164,33,21],\n",
    "                [140,26,17],\n",
    "                [117,20,12]\n",
    "                ])/255\n",
    "my_div = LinearSegmentedColormap.from_list('div',my_div_color, N = 256)\n",
    "my_reds = LinearSegmentedColormap.from_list('div',my_div_color[10:], N = 256)\n",
    "\n",
    "def plot_func(n,\n",
    "                  var,\n",
    "                  my_title=None,\n",
    "                  add_cb=False,\n",
    "                  my_cbar='jet', my_clabel=None,\n",
    "                  my_vmin=5, my_vmax=30):\n",
    "    if add_cb:\n",
    "        p=var.plot(x='lon_rho',\n",
    "                 y='lat_rho',\n",
    "                 vmin=my_vmin,vmax=my_vmax,\n",
    "                 cmap=my_cbar,\n",
    "                 add_colorbar=add_cb,\n",
    "                 extend='neither',\n",
    "                 cbar_kwargs={'label':my_clabel},\n",
    "                 transform=ccrs.PlateCarree(),\n",
    "                 ax=axs[n],zorder=-2)\n",
    "    else:\n",
    "        p=var.plot(x='lon_rho',\n",
    "                 y='lat_rho',\n",
    "                 vmin=my_vmin,vmax=my_vmax,\n",
    "                 cmap=my_cbar,\n",
    "                 add_colorbar=add_cb,\n",
    "                 # extend='neither',\n",
    "                 # cbar_kwargs={'label':my_clabel},\n",
    "                 transform=ccrs.PlateCarree(),\n",
    "                 ax=axs[n],zorder=-2)\n",
    "    axs[n].set_title(my_title)\n",
    "    axs[n].add_feature(cfeature.COASTLINE.with_scale('10m'), color = 'gray',zorder = 2,linewidth =0.5)\n",
    "    axs[n].add_feature(cfeature.LAND.with_scale('10m'),facecolor='lightgray',zorder = -1)\n",
    "    axs[n].set_extent((lon_bdy[0],lon_bdy[-1],lat_bdy[0],lat_bdy[-1]),crs = ccrs.PlateCarree())\n",
    "    # axs[nrow,ncol].\n",
    "    return p"
   ]
  },
  {
   "cell_type": "code",
   "execution_count": null,
   "id": "4b1f1361-822d-4706-a17b-9b8d4136f2a6",
   "metadata": {
    "tags": []
   },
   "outputs": [],
   "source": []
  },
  {
   "cell_type": "code",
   "execution_count": null,
   "id": "05eaa1b5-015e-4973-a424-d16aec68b971",
   "metadata": {
    "tags": []
   },
   "outputs": [],
   "source": [
    "# seasonly data contrast\n",
    "plt.close('all')\n",
    "season_name = ['winter', 'summer', 'spring','autumn']\n",
    "for iseason in range(len(season_name)):\n",
    "    fig, axs = plt.subplots(ncols=3, nrows=1, \n",
    "                            subplot_kw={'projection':ccrs.Mercator()},\n",
    "                            figsize=(14,4)\n",
    "                           )\n",
    "    # fig.\n",
    "    #change the right to reduce the space between columns\n",
    "    fig.subplots_adjust(bottom=0.1, top=0.9, left=0.05, right=0.6,\n",
    "                        wspace=0.1, hspace=0.1)\n",
    "    \n",
    "    this_var_min = np.round(Obs_seasonmean.isel(season=iseason).min())\n",
    "    this_var_max = np.round(Obs_seasonmean.isel(season=iseason).max())\n",
    "    \n",
    "    plot_func(0,\n",
    "              Obs_seasonmean.isel(season=iseason),\n",
    "              my_title='geopolar_sst %s'%(season_name[iseason]),\n",
    "              my_cbar=my_sst,my_clabel='Celsius', \n",
    "              my_vmin=this_var_min, my_vmax=this_var_max)\n",
    "    p1=plot_func(1,\n",
    "              fwd_seasonmean.isel(season=iseason),\n",
    "              my_title='forward %s'%(season_name[iseason]),\n",
    "              my_cbar=my_sst,my_clabel='Celsius', \n",
    "              my_vmin=this_var_min, my_vmax=this_var_max)\n",
    "    p2 = plot_func(2,\n",
    "              fwd_seasonbias.isel(season=iseason),\n",
    "               my_title='forward bias',\n",
    "                  # add_cb=True,\n",
    "                  my_cbar=my_div,#my_clabel='std', \n",
    "                  my_vmin=bias_min, my_vmax=bias_max)\n",
    "    # plot_func(2,\n",
    "    #           prior_monthmean.isel(ocean_time=imonth),\n",
    "    #           my_title='prior',\n",
    "    #           my_cbar=my_sst,my_clabel='Celsius', \n",
    "    #           my_vmin=this_var_min, my_vmax=this_var_max)\n",
    "    # plot_func(3,\n",
    "    #           post_seasonmean.isel(season=iseason),\n",
    "    #           my_title='posterior',\n",
    "    #           my_cbar=my_sst,my_clabel='Celsius', \n",
    "    #           my_vmin=this_var_min, my_vmax=this_var_max)\n",
    "    \n",
    "    # plot_func(4,\n",
    "    #           post_seasonbias.isel(season=iseason),\n",
    "    #            my_title='post bias',\n",
    "    #               # add_cb=True,\n",
    "    #               my_cbar=my_div,#my_clabel='std', \n",
    "    #               my_vmin=bias_min, my_vmax=bias_max)\n",
    "    position=fig.add_axes([ 0.1, 0.1,0.26, 0.025, ])\n",
    "    cb = fig.colorbar(p1, cax = position,orientation='horizontal',ticks = np.linspace(this_var_min,this_var_max,5))\n",
    "    cb.set_label('$\\degree$C') \n",
    "    position=fig.add_axes([ 0.44, 0.1, 0.15, 0.025,])\n",
    "    cb = fig.colorbar(p2, cax = position,orientation='horizontal',ticks = np.linspace(bias_min,bias_max,5))\n",
    "    cb.set_label('$\\degree$C') \n",
    "    plt.savefig('./fig_seasonmean/%s.jpeg'%(season_name[iseason]),bbox_inches='tight',dpi=400)\n",
    "    # plt.show()\n",
    "    # plt.close()\n",
    "    # "
   ]
  },
  {
   "cell_type": "code",
   "execution_count": null,
   "id": "fbdc7ebf-c7d2-4d3a-9f0b-89830d28a737",
   "metadata": {
    "tags": []
   },
   "outputs": [],
   "source": [
    "# seasonly data contrast\n",
    "plt.close('all')\n",
    "season_name = ['winter', 'summer', 'spring','autumn']\n",
    "for iseason in range(len(Obs_seasonmean)):#1):\n",
    "    fig, axs = plt.subplots(ncols=2, nrows=1, \n",
    "                            subplot_kw={'projection':ccrs.Mercator()},\n",
    "                            figsize=(8,4)\n",
    "                           )\n",
    "    # fig.\n",
    "    #change the right to reduce the space between columns\n",
    "    fig.subplots_adjust(bottom=0.1, top=0.9, left=0.05, right=0.6,\n",
    "                        wspace=0.1, hspace=0.1)\n",
    "    \n",
    "    this_var_min = np.round(Obs_seasonmean.isel(season=iseason).min())\n",
    "    this_var_max = np.round(Obs_seasonmean.isel(season=iseason).max())\n",
    "    \n",
    "    plot_func(0,\n",
    "              Obs_seasonmean.isel(season=iseason),\n",
    "              my_title='geopolar_sst %s'%(season_name[iseason]),\n",
    "              my_cbar=my_sst,my_clabel='Celsius', \n",
    "              my_vmin=this_var_min, my_vmax=this_var_max)\n",
    "    p1=plot_func(1,\n",
    "              fwd_seasonmean.isel(season=iseason),\n",
    "              my_title='forward %s'%(season_name[iseason]),\n",
    "              my_cbar=my_sst,my_clabel='Celsius', \n",
    "              my_vmin=this_var_min, my_vmax=this_var_max)\n",
    "    # plot_func(2,\n",
    "    #           prior_monthmean.isel(ocean_time=imonth),\n",
    "    #           my_title='prior',\n",
    "    #           my_cbar=my_sst,my_clabel='Celsius', \n",
    "    #           my_vmin=this_var_min, my_vmax=this_var_max)\n",
    "    # p1=plot_func(3,\n",
    "    #           post_monthmean.isel(ocean_time=imonth),\n",
    "    #           my_title='posterior',\n",
    "    #           my_cbar=my_sst,my_clabel='Celsius', \n",
    "    #           my_vmin=this_var_min, my_vmax=this_var_max)\n",
    "\n",
    "    position=fig.add_axes([ 0.62, 0.174, 0.025, 0.66,])\n",
    "    cb = fig.colorbar(p1, cax = position,ticks = np.linspace(this_var_min,this_var_max,5))\n",
    "    cb.set_label('$\\degree$C') \n",
    "    \n",
    "    # plt.savefig('./fig_monthmean/%s.jpeg'%(imonth+5),bbox_inches='tight',dpi=400)\n",
    "    # plt.show()\n",
    "    # plt.close()\n",
    "    # "
   ]
  },
  {
   "cell_type": "code",
   "execution_count": null,
   "id": "26b3f24a-c737-4475-90f6-4e5d642867d9",
   "metadata": {
    "tags": []
   },
   "outputs": [],
   "source": [
    "# monthly data contrast\n",
    "\n",
    "for imonth in range(len(Obs_monthmean)):#1):\n",
    "    fig, axs = plt.subplots(ncols=4, nrows=1, \n",
    "                            subplot_kw={'projection':ccrs.Mercator()},\n",
    "                            figsize=(18,4)\n",
    "                           )\n",
    "    # fig.\n",
    "    #change the right to reduce the space between columns\n",
    "    fig.subplots_adjust(bottom=0.1, top=0.9, left=0.05, right=0.6,\n",
    "                        wspace=0.1, hspace=0.1)\n",
    "    \n",
    "    this_var_min = np.round(Obs_monthmean.isel(ocean_time=imonth).min())\n",
    "    this_var_max = np.round(Obs_monthmean.isel(ocean_time=imonth).max())\n",
    "    \n",
    "    plot_func(0,\n",
    "              Obs_monthmean.isel(ocean_time=imonth),\n",
    "              my_title='geopolar_sst',\n",
    "              my_cbar=my_sst,my_clabel='Celsius', \n",
    "              my_vmin=this_var_min, my_vmax=this_var_max)\n",
    "    p1=plot_func(1,\n",
    "              fwd_monthmean.isel(ocean_time=imonth),\n",
    "              my_title='forward',\n",
    "              my_cbar=my_sst,my_clabel='Celsius', \n",
    "              my_vmin=this_var_min, my_vmax=this_var_max)\n",
    "    # plot_func(2,\n",
    "    #           prior_monthmean.isel(ocean_time=imonth),\n",
    "    #           my_title='prior',\n",
    "    #           my_cbar=my_sst,my_clabel='Celsius', \n",
    "    #           my_vmin=this_var_min, my_vmax=this_var_max)\n",
    "    # p1=plot_func(3,\n",
    "    #           post_monthmean.isel(ocean_time=imonth),\n",
    "    #           my_title='posterior',\n",
    "    #           my_cbar=my_sst,my_clabel='Celsius', \n",
    "    #           my_vmin=this_var_min, my_vmax=this_var_max)\n",
    "\n",
    "    position=fig.add_axes([ 0.62, 0.174, 0.015, 0.66,])\n",
    "    cb = fig.colorbar(p1, cax = position,ticks = np.linspace(this_var_min,this_var_max,5))\n",
    "    cb.set_label('$\\degree$C') \n",
    "    # plt.savefig('./fig_monthmean/%s.jpeg'%(imonth+5),bbox_inches='tight',dpi=400)\n",
    "    # plt.close()\n",
    "    plt.show()"
   ]
  },
  {
   "cell_type": "code",
   "execution_count": null,
   "id": "c64a909c-44e1-47fa-a968-5ffa1f57e751",
   "metadata": {
    "tags": []
   },
   "outputs": [],
   "source": [
    "# monthly data bias contrast\n",
    "\n",
    "# %matplotlib\n",
    "# plot configuration\n",
    "\n",
    "for imonth in range(len(Obs_monthmean)):#1):\n",
    "    fig, axs = plt.subplots(ncols=3, nrows=1, \n",
    "                            subplot_kw={'projection':ccrs.Mercator()},\n",
    "                            figsize=(12,3)\n",
    "                           )\n",
    "    # fig.\n",
    "    #change the right to reduce the space between columns\n",
    "    fig.subplots_adjust(bottom=0.1, top=0.9, left=0.05, right=0.6,\n",
    "                        wspace=0.1, hspace=0.1)\n",
    "    \n",
    "    plot_func(0,\n",
    "              fwd_monthmean.isel(ocean_time=imonth) - Obs_monthmean.isel(ocean_time=imonth),\n",
    "              my_title='forward bias',\n",
    "              my_cbar=my_div,my_clabel='Celsius', \n",
    "              my_vmin=bias_min, my_vmax=bias_max)\n",
    "    plot_func(1,\n",
    "              prior_monthmean.isel(ocean_time=imonth) - Obs_monthmean.isel(ocean_time=imonth),\n",
    "              my_title='prior bias',\n",
    "              my_cbar=my_div,my_clabel='Celsius', \n",
    "              my_vmin=bias_min, my_vmax=bias_max)\n",
    "    p1=plot_func(2,\n",
    "              post_monthmean.isel(ocean_time=imonth) - Obs_monthmean.isel(ocean_time=imonth),\n",
    "              my_title='posterior bias',\n",
    "              my_cbar=my_div,my_clabel='Celsius', \n",
    "              my_vmin=bias_min, my_vmax=bias_max)\n",
    "\n",
    "    position=fig.add_axes([ 0.62, 0.10, 0.02, 0.8,])\n",
    "    cb = fig.colorbar(p1, cax = position,ticks = np.linspace(bias_min,bias_max,5))\n",
    "    cb.set_label('$\\degree$C') \n",
    "    plt.savefig('./fig_monthbias/%s.jpeg'%(imonth+5),bbox_inches='tight',dpi=400)\n",
    "    plt.close()"
   ]
  },
  {
   "cell_type": "code",
   "execution_count": null,
   "id": "dad91cb0-afd3-4a40-921b-58b7875ce723",
   "metadata": {
    "tags": []
   },
   "outputs": [],
   "source": [
    "prior_dailymean.mean(dim='ocean_time')"
   ]
  },
  {
   "cell_type": "code",
   "execution_count": null,
   "id": "d4f5ae85-a902-42c3-8bee-18ecb57487c3",
   "metadata": {
    "tags": []
   },
   "outputs": [],
   "source": [
    "# daily data mean contrast\n",
    "var_min = 5\n",
    "var_max = 30\n",
    "fig, axs = plt.subplots(ncols=2, nrows=1, \n",
    "                        subplot_kw={'projection':ccrs.Mercator()},\n",
    "                        figsize=(8,4)\n",
    "                       )\n",
    "# fig.\n",
    "#change the right to reduce the space between columns\n",
    "fig.subplots_adjust(bottom=0.1, top=0.9, left=0.05, right=0.6,\n",
    "                    wspace=0.1, hspace=0.1)\n",
    "\n",
    "plot_func(0,\n",
    "          Obs_modgrd.mean(dim='ocean_time'),\n",
    "          my_title='geopolar_sst',\n",
    "          # add_cb=True,\n",
    "          my_cbar=my_sst,#my_clabel='std', \n",
    "          my_vmin=var_min, my_vmax=var_max)\n",
    "p1 = plot_func(1,\n",
    "          fwd_dailymean.mean(dim='ocean_time'),\n",
    "          my_title='forward mean',\n",
    "          # add_cb=True,\n",
    "          my_cbar=my_sst,#my_clabel='std', \n",
    "          my_vmin=var_min, my_vmax=var_max)\n",
    "# plot_func(2,\n",
    "#           prior_dailymean.mean(dim='ocean_time'),\n",
    "#           my_title='prior mean',\n",
    "#           # add_cb=True,#\n",
    "#           my_cbar=my_sst,#my_clabel='std', \n",
    "#           my_vmin=var_min, my_vmax=var_max)\n",
    "# p1=plot_func(3,\n",
    "#           post_dailymean.mean(dim='ocean_time'),\n",
    "#           my_title='posterior mean',\n",
    "#           # add_cb=True,\n",
    "#           my_cbar=my_sst,#my_clabel='std', \n",
    "#           my_vmin=var_min, my_vmax=var_max)\n",
    "\n",
    "position=fig.add_axes([ 0.62, 0.174, 0.025, 0.66,])\n",
    "cb = fig.colorbar(p1, cax = position,ticks = np.linspace(var_min,var_max,5))\n",
    "cb.set_label('$\\degree$C')\n",
    "# plt.savefig('./fig_dailyrmse/dailymean.jpeg',\n",
    "#             bbox_inches='tight',dpi=400)\n",
    "# plt.close()"
   ]
  },
  {
   "cell_type": "code",
   "execution_count": null,
   "id": "ab502a5c-7fcf-4b42-9b8e-4a8f232dc80d",
   "metadata": {
    "tags": []
   },
   "outputs": [],
   "source": [
    "# daily data bias contrast\n",
    "\n",
    "fig, axs = plt.subplots(ncols=3, nrows=1, \n",
    "                        subplot_kw={'projection':ccrs.Mercator()},\n",
    "                        figsize=(12,3)\n",
    "                       )\n",
    "# fig.\n",
    "#change the right to reduce the space between columns\n",
    "fig.subplots_adjust(bottom=0.1, top=0.9, left=0.05, right=0.6,\n",
    "                    wspace=0.1, hspace=0.1)\n",
    "\n",
    "\n",
    "plot_func(0,\n",
    "          fwd_dailybiasmean,\n",
    "          my_title='forward bias',\n",
    "          # add_cb=True,\n",
    "          my_cbar=my_div,#my_clabel='std', \n",
    "          my_vmin=bias_min, my_vmax=bias_max)\n",
    "plot_func(1,\n",
    "          prior_dailybiasmean,\n",
    "          my_title='prior bias',\n",
    "          # add_cb=True,#\n",
    "          my_cbar=my_div,#my_clabel='std', \n",
    "          my_vmin=bias_min, my_vmax=bias_max)\n",
    "p1=plot_func(2,\n",
    "          post_dailybiasmean,\n",
    "          my_title='posterior bias',\n",
    "          # add_cb=True,\n",
    "          my_cbar=my_div,#my_clabel='std', \n",
    "          my_vmin=bias_min, my_vmax=bias_max)\n",
    "\n",
    "position=fig.add_axes([ 0.62, 0.10, 0.02, 0.8,])\n",
    "cb = fig.colorbar(p1, cax = position,ticks = np.linspace(bias_min,bias_max,5))\n",
    "cb.set_label('$\\degree$C')\n",
    "# plt.savefig('./fig_dailyrmse/dailybiasmean.jpeg',\n",
    "            # bbox_inches='tight',dpi=400)\n",
    "# plt.close()"
   ]
  },
  {
   "cell_type": "code",
   "execution_count": null,
   "id": "2ec64412-459b-4e1a-b677-708b09ba2ce1",
   "metadata": {
    "tags": []
   },
   "outputs": [],
   "source": [
    "# daily data std contrast\n",
    "# std = sqrt(mean((dailybias - mean of dailybias)^2))\n",
    "this_cb = cmaps.MPL_RdBu_r\n",
    "fig, axs = plt.subplots(ncols=3, nrows=1, \n",
    "                        subplot_kw={'projection':ccrs.Mercator()},\n",
    "                        figsize=(12,3)\n",
    "                       )\n",
    "# fig.\n",
    "#change the right to reduce the space between columns\n",
    "fig.subplots_adjust(bottom=0.1, top=0.9, left=0.05, right=0.6,\n",
    "                    wspace=0.1, hspace=0.1)\n",
    "\n",
    "# plot_func(0,\n",
    "#           Obs_modgrd.mean(dim='ocean_time'),\n",
    "#           my_title='geopolar_sst',\n",
    "#           # add_cb=True,\n",
    "#           my_cbar=my_sst,#my_clabel='std', \n",
    "#           my_vmin=var_min, my_vmax=var_max)\n",
    "plot_func(0,\n",
    "          fwd_dailystd,\n",
    "          my_title='forward error std',\n",
    "          # add_cb=True,\n",
    "          my_cbar=this_cb,#my_clabel='std', \n",
    "          my_vmin=bias_min+1, my_vmax=bias_max)\n",
    "plot_func(1,\n",
    "          prior_dailystd,\n",
    "          my_title='prior error std',\n",
    "          # add_cb=True,#\n",
    "          my_cbar=this_cb,#my_clabel='std', \n",
    "          my_vmin=bias_min+2, my_vmax=bias_max)\n",
    "p1=plot_func(2,\n",
    "          post_dailystd,\n",
    "          my_title='posterior error std',\n",
    "          # add_cb=True,\n",
    "          my_cbar=this_cb,#my_clabel='std', \n",
    "          my_vmin=bias_min+2, my_vmax=bias_max)\n",
    "\n",
    "position=fig.add_axes([ 0.62, 0.10, 0.02, 0.8,])\n",
    "cb = fig.colorbar(p1, cax = position,ticks = np.linspace(bias_min+2,bias_max,5))\n",
    "cb.set_label('$\\degree$C')\n",
    "plt.savefig('./fig_dailyrmse/dailystd.jpeg',\n",
    "            bbox_inches='tight',dpi=400)\n",
    "# plt.close()"
   ]
  },
  {
   "cell_type": "code",
   "execution_count": null,
   "id": "9333945b-b06d-419b-8794-7e004a845f30",
   "metadata": {
    "tags": []
   },
   "outputs": [],
   "source": [
    "# daily data rmse contrast\n",
    "\n",
    "fig, axs = plt.subplots(ncols=3, nrows=1, \n",
    "                        subplot_kw={'projection':ccrs.Mercator()},\n",
    "                        figsize=(12,3)\n",
    "                       )\n",
    "# fig.\n",
    "#change the right to reduce the space between columns\n",
    "fig.subplots_adjust(bottom=0.1, top=0.9, left=0.05, right=0.6,\n",
    "                    wspace=0.1, hspace=0.1)\n",
    "\n",
    "plot_func(0,\n",
    "          fwd_dailyrmse,\n",
    "          my_title='forward rmse',\n",
    "          # add_cb=True,\n",
    "          my_cbar=this_cb,#my_clabel='std', \n",
    "          my_vmin=bias_min+1, my_vmax=bias_max)\n",
    "plot_func(1,\n",
    "          prior_dailyrmse,\n",
    "          my_title='prior rmse',\n",
    "          # add_cb=True,#\n",
    "          my_cbar=this_cb,#my_clabel='std', \n",
    "          my_vmin=bias_min+2, my_vmax=bias_max)\n",
    "p1=plot_func(2,\n",
    "          post_dailyrmse,\n",
    "          my_title='posterior rmse',\n",
    "          # add_cb=True,\n",
    "          my_cbar=this_cb,#my_clabel='std', \n",
    "          my_vmin=bias_min+2, my_vmax=bias_max)\n",
    "\n",
    "position=fig.add_axes([ 0.62, 0.10, 0.02, 0.8,])\n",
    "cb = fig.colorbar(p1, cax = position,ticks = np.linspace(bias_min+2,bias_max,5))\n",
    "cb.set_label('$\\degree$C')\n",
    "plt.savefig('./fig_dailyrmse/dailyrmse.jpeg',\n",
    "            bbox_inches='tight',dpi=400)\n",
    "# plt.close()"
   ]
  },
  {
   "cell_type": "code",
   "execution_count": null,
   "id": "4929c176-3430-43fe-b9d4-0706625440c5",
   "metadata": {
    "tags": []
   },
   "outputs": [],
   "source": [
    "# daily data corr contrast\n",
    "this_cb=sns.color_palette(\"Blues_r\", as_cmap=True)\n",
    "fig, axs = plt.subplots(ncols=3, nrows=1, \n",
    "                        subplot_kw={'projection':ccrs.Mercator()},\n",
    "                        figsize=(12,3)\n",
    "                       )\n",
    "# fig.\n",
    "#change the right to reduce the space between columns\n",
    "fig.subplots_adjust(bottom=0.1, top=0.9, left=0.05, right=0.6,\n",
    "                    wspace=0.1, hspace=0.1)\n",
    "\n",
    "plot_func(0,0,\n",
    "          Obs_modgrd.mean(dim='ocean_time'),\n",
    "          my_title='geopolar_sst',\n",
    "          # add_cb=True,\n",
    "          my_cbar=my_sst,#my_clabel='std', \n",
    "          my_vmin=var_min, my_vmax=var_max)\n",
    "plot_func(0,1,\n",
    "          fwd_dailycorr,\n",
    "          my_title='forward correlation',\n",
    "          # add_cb=True,\n",
    "          my_cbar=this_cb,#my_clabel='std', \n",
    "          my_vmin=bias_min+2.5, my_vmax=bias_max-1)\n",
    "plot_func(1,0,\n",
    "          prior_dailycorr,\n",
    "          my_title='prior correlation',\n",
    "          # add_cb=True,#\n",
    "          my_cbar=this_cb,#my_clabel='std', \n",
    "          my_vmin=bias_min+2.5, my_vmax=bias_max-1)\n",
    "p1=plot_func(1,1,\n",
    "          post_dailycorr,\n",
    "          my_title='posterior correlation',\n",
    "          # add_cb=True,\n",
    "          my_cbar=this_cb,#my_clabel='std', \n",
    "          my_vmin=bias_min+2.5, my_vmax=bias_max-1)\n",
    "\n",
    "position=fig.add_axes([ 0.62, 0.1075, 0.02, 0.36825,])\n",
    "cb = fig.colorbar(p1, cax = position,ticks = np.linspace(bias_min+2.5,bias_max-1,5))\n",
    "cb.set_label('non-dimensional')\n",
    "plt.savefig('./fig_dailyrmse/dailycorr.jpeg',\n",
    "            bbox_inches='tight',dpi=400)\n",
    "# plt.close()"
   ]
  },
  {
   "cell_type": "code",
   "execution_count": null,
   "id": "eb914a23-c242-47c2-bd1c-4b0852b3fe4f",
   "metadata": {
    "tags": []
   },
   "outputs": [],
   "source": [
    "# plot daily mean contrast \n",
    "\n",
    "\n",
    "for iday in range(data_len):\n",
    "    fig, axs = plt.subplots(ncols=2, nrows=2, \n",
    "                            subplot_kw={'projection':ccrs.Mercator()},\n",
    "                            figsize=(7.2,6)\n",
    "                           )\n",
    "    # fig.\n",
    "    #change the right to reduce the space between columns\n",
    "    fig.subplots_adjust(bottom=0.1, top=0.9, left=0.05, right=0.6,\n",
    "                        wspace=0.1, hspace=0.1)\n",
    "    fig.text(0.48,0.87,str(prior_dailymean.ocean_time[iday].data)[0:10])\n",
    "    plot_func(0,0,\n",
    "              Obs_modgrd.isel(ocean_time=iday),\n",
    "              my_title='geopolar_sst',\n",
    "              my_cbar=my_sst,my_clabel='Celsius', \n",
    "              my_vmin=var_min, my_vmax=var_max)\n",
    "    plot_func(0,1,\n",
    "              fwd_dailymean.isel(ocean_time=iday),\n",
    "              my_title='forward',\n",
    "              my_cbar=my_sst,my_clabel='Celsius', \n",
    "              my_vmin=var_min, my_vmax=var_max)\n",
    "    plot_func(1,0,\n",
    "              prior_dailymean.isel(ocean_time=iday),\n",
    "              my_title='prior',\n",
    "              my_cbar=my_sst,my_clabel='Celsius', \n",
    "              my_vmin=var_min, my_vmax=var_max)\n",
    "    p1=plot_func(1,1,\n",
    "              post_dailymean.isel(ocean_time=iday),\n",
    "              my_title='posterior',\n",
    "              my_cbar=my_sst,my_clabel='Celsius', \n",
    "              my_vmin=var_min, my_vmax=var_max)\n",
    "\n",
    "    position=fig.add_axes([ 0.62, 0.1075, 0.02, 0.36825,])\n",
    "    cb = fig.colorbar(p1, cax = position,ticks = np.linspace(var_min,var_max,5))\n",
    "    cb.set_label('$\\degree$C') \n",
    "    plt.savefig('./fig_dailymean/%s.jpeg'%(str(prior_dailymean.ocean_time[iday].data)[0:10]),\n",
    "                bbox_inches='tight',dpi=400)\n",
    "    plt.close()"
   ]
  },
  {
   "cell_type": "code",
   "execution_count": null,
   "id": "8e5f28ec-8572-4393-bf6a-fb05a894db4e",
   "metadata": {
    "tags": []
   },
   "outputs": [],
   "source": [
    "# plot daily bias contrast \n",
    "\n",
    "\n",
    "for iday in range(data_len):\n",
    "    fig, axs = plt.subplots(ncols=2, nrows=2, \n",
    "                            subplot_kw={'projection':ccrs.Mercator()},\n",
    "                            figsize=(7.2,6)\n",
    "                           )\n",
    "    # fig.\n",
    "    #change the right to reduce the space between columns\n",
    "    fig.subplots_adjust(bottom=0.1, top=0.9, left=0.05, right=0.6,\n",
    "                        wspace=0.1, hspace=0.1)\n",
    "    fig.text(0.48,0.87,str(prior_dailymean.ocean_time[iday].data)[0:10])\n",
    "    plot_func(0,0,\n",
    "              Obs_modgrd.isel(ocean_time=iday),\n",
    "              my_title='geopolar_sst',\n",
    "              my_cbar=my_sst,my_clabel='Celsius', \n",
    "              my_vmin=var_min, my_vmax=var_max)\n",
    "    plot_func(0,1,\n",
    "              fwd_dailymean.isel(ocean_time=iday) - Obs_modgrd.isel(ocean_time=iday),\n",
    "              my_title='forward bias',\n",
    "              my_cbar=my_div,my_clabel='Celsius', \n",
    "              my_vmin=bias_min, my_vmax=bias_max)\n",
    "    plot_func(1,0,\n",
    "              prior_dailymean.isel(ocean_time=iday) - Obs_modgrd.isel(ocean_time=iday),\n",
    "              my_title='prior bias',\n",
    "              my_cbar=my_div,my_clabel='Celsius', \n",
    "              my_vmin=bias_min, my_vmax=bias_max)\n",
    "    p1=plot_func(1,1,\n",
    "              post_dailymean.isel(ocean_time=iday) - Obs_modgrd.isel(ocean_time=iday),\n",
    "              my_title='posterior bias',\n",
    "              my_cbar=my_div,my_clabel='Celsius', \n",
    "              my_vmin=bias_min, my_vmax=bias_max)\n",
    "\n",
    "    position=fig.add_axes([ 0.62, 0.1075, 0.02, 0.36825,])\n",
    "    cb = fig.colorbar(p1, cax = position,ticks = np.linspace(bias_min,bias_max,5))\n",
    "    cb.set_label('$\\degree$C') \n",
    "    plt.savefig('./fig_dailybias/%s.jpeg'%(str(prior_dailymean.ocean_time[iday].data)[0:10]),\n",
    "                bbox_inches='tight',dpi=400)\n",
    "    plt.close()"
   ]
  },
  {
   "cell_type": "code",
   "execution_count": null,
   "id": "2dc862f0-8913-4d7c-8cac-728a5290452e",
   "metadata": {
    "tags": []
   },
   "outputs": [],
   "source": [
    "bath_ecs = fwd_ds.h.isel(ocean_time=1).data.compute()\n",
    "mask_ecs = fwd_ds.mask_rho.isel(ocean_time=1).data.compute()\n",
    "bath_ecs[mask_ecs == 0] = np.NaN\n",
    "lon_ecs =fwd_ds.lon_rho.data.compute()\n",
    "lat_ecs = fwd_ds.lat_rho.data.compute()"
   ]
  },
  {
   "cell_type": "code",
   "execution_count": null,
   "id": "5508196b-439b-4c60-a375-ac3abd43236c",
   "metadata": {
    "tags": []
   },
   "outputs": [],
   "source": []
  },
  {
   "cell_type": "code",
   "execution_count": null,
   "id": "cd37a711-0891-4188-937b-6ba2532a662f",
   "metadata": {
    "tags": []
   },
   "outputs": [],
   "source": [
    "area_range = {'bh':{'eta_range':slice(285,360),\n",
    "                      'xi_range':slice(0,80)},\n",
    "              \n",
    "              'ys':{'eta_range': slice(220,278),\n",
    "                    'xi_range':slice(70,165)},\n",
    "              \n",
    "              'cre':{'eta_range':slice(100,200),\n",
    "                     'xi_range':slice(70,165)},\n",
    "             }\n",
    "                \n",
    "                    "
   ]
  },
  {
   "cell_type": "code",
   "execution_count": null,
   "id": "98cad590-8574-49d7-9a5d-401fe7b9c074",
   "metadata": {},
   "outputs": [],
   "source": [
    "import matplotlib.colors as colors\n",
    "my_bath_color = cmaps.MPL_YlGnBu.colors\n",
    "my_bath = LinearSegmentedColormap.from_list('lavergne',my_bath_color[-1:0:-1][:] , N = 256)\n",
    "bounds = np.array([-5000,-2000,-500,-100,-25,-5])\n",
    "\n",
    "\n",
    "def _forward(x):\n",
    "    return -np.log(-x)\n",
    "\n",
    "\n",
    "def _inverse(x):\n",
    "    return -1./np.exp(x)\n",
    "norm = colors.FuncNorm((_forward, _inverse), vmin=-5000, vmax=-5)\n",
    "\n",
    "lon_bdy = [116,136];\n",
    "lat_bdy = [20,42];\n",
    "\n",
    "plt.close('all')\n",
    "fig = plt.figure(figsize=(5,5))\n",
    "ax = fig.add_subplot(projection = ccrs.Mercator())\n",
    "for bnd in ax.spines.keys():\n",
    "    ax.spines[bnd].set_linewidth('2')\n",
    "ax.add_feature(cfeature.COASTLINE.with_scale('10m'), color = 'k',zorder = 2,linewidth =1)\n",
    "ax.add_feature(cfeature.LAND.with_scale('10m'),facecolor='lightgrey',zorder = -1)\n",
    "ax.set_extent((lon_bdy[0],lon_bdy[-1],lat_bdy[0],lat_bdy[-1]),crs = ccrs.PlateCarree())\n",
    "ax.set_xticks(np.arange(lon_bdy[0],lon_bdy[-1]+4,4),crs=ccrs.PlateCarree())\n",
    "ax.set_yticks(np.arange(lat_bdy[0],lat_bdy[-1],4),crs=ccrs.PlateCarree())\n",
    "lon_formatter = LongitudeFormatter(number_format='.0f',\n",
    "                                degree_symbol='°',\n",
    "                                dateline_direction_label=True)\n",
    "lat_formatter = LatitudeFormatter(number_format='.0f',\n",
    "                                    degree_symbol='°')\n",
    "ax.xaxis.set_major_formatter(lon_formatter)\n",
    "ax.yaxis.set_major_formatter(lat_formatter)\n",
    "ax.tick_params(direction = 'out',width =2,length=5, labelsize = 12,top = 0, right = 0)\n",
    "ax.set_title('Selected Region',fontsize=12)\n",
    "\n",
    "\n",
    "cp = ax.pcolormesh(lon_ecs,lat_ecs,-bath_ecs,norm = norm,cmap=my_bath,transform = ccrs.PlateCarree(),zorder=-2)\n",
    "for iarea in ['bh','cre','ys']:\n",
    "    if iarea == 'bh':\n",
    "        abbrname = 'BH'\n",
    "    elif iarea == 'ys':\n",
    "        abbrname = 'YS'\n",
    "    elif iarea =='cre':\n",
    "        abbrname = 'CRE'\n",
    "    lon_area = fwd_data.isel(eta_rho=area_range[iarea]['eta_range'],\n",
    "                                 xi_rho=area_range[iarea]['xi_range']).lon_rho.data.compute()\n",
    "    lat_area = fwd_data.isel(eta_rho=area_range[iarea]['eta_range'],\n",
    "                                 xi_rho=area_range[iarea]['xi_range']).lat_rho.data.compute()\n",
    "\n",
    "    ax.plot(lon_area[:,0], lat_area[:,0], color = 'r',linewidth = 2,transform=ccrs.PlateCarree(),zorder = 3)\n",
    "    ax.plot(lon_area[:,-1], lat_area[:,-1], color = 'r',linewidth = 2,transform=ccrs.PlateCarree(),zorder = 3)\n",
    "    ax.plot(lon_area[-1,:], lat_area[-1,:], color = 'r',linewidth = 2,transform=ccrs.PlateCarree(),zorder = 3)\n",
    "    ax.plot(lon_area[0,:], lat_area[0,:], color = 'r',linewidth = 2,transform=ccrs.PlateCarree(),zorder = 3)\n",
    "    ax.text(0.5*(lon_area[0,0]+lon_area[0,-1]),\n",
    "            0.5*(lat_area[0,0]+lat_area[-1,0]),abbrname, \n",
    "            verticalalignment='center', horizontalalignment='center',\n",
    "            color = 'r',fontweight='bold',\n",
    "            transform=ccrs.PlateCarree(),zorder = 3)\n",
    "# for i in range(0,rlon2d.shape[0],5):\n",
    "#     plt.plot(rlon2d[i,:],rlat2d[i,:],color = 'grey',transform = ccrs.PlateCarree(),linewidth = 1,alpha = 0.7,zorder=0)\n",
    "# for i in range(0,rlon2d.shape[1],5):\n",
    "#     plt.plot(rlon2d[:,i],rlat2d[:,i],color = 'grey',transform = ccrs.PlateCarree(),linewidth = 1,alpha = 0.7,zorder=0)\n",
    "position=fig.add_axes([0.85, 0.125,  0.045,0.755,])\n",
    "\n",
    "cb = fig.colorbar(cp, cax = position, orientation='vertical',ticks = np.array([-5,-25,-100,-500,-2000,-5000]))\n",
    "for bnd in position.spines.keys():\n",
    "        position.spines[bnd].set_linewidth('2')\n",
    "position.tick_params(direction = 'out', length =4, width = 2, labelsize = 12)\n",
    "cb.set_label(\"Depth(m)\",fontsize = 12) \n",
    "# plt.savefig('subregion_roms_ecs_new.pdf',bbox_inches='tight')\n",
    "plt.savefig('subregion_roms_ecs_new.jpeg',dpi=400,bbox_inches='tight')\n",
    "# plt.show()\n"
   ]
  },
  {
   "cell_type": "code",
   "execution_count": null,
   "id": "47aa26be-0994-4e98-8e9b-164135b42fc2",
   "metadata": {
    "tags": []
   },
   "outputs": [],
   "source": [
    "fwd_data"
   ]
  },
  {
   "cell_type": "code",
   "execution_count": null,
   "id": "aa869da6-46e7-4620-ba30-ca7020ada025",
   "metadata": {
    "tags": []
   },
   "outputs": [],
   "source": [
    "# specific area-mean time series\n",
    "Obs_areamean = {}\n",
    "fwd_areamean = {}\n",
    "post_areamean = {}\n",
    "for iarea in ['bh','ys','cre']:\n",
    "    # calculating observation\n",
    "    Obs_areamean[iarea] = Obs_modgrd.isel(eta_rho=area_range[iarea]['eta_range'],\n",
    "                                 xi_rho=area_range[iarea]['xi_range']).mean(axis=(1,2),)\n",
    "    # calculating forward \n",
    "    fwd_areamean[iarea] = fwd_data.isel(eta_rho=area_range[iarea]['eta_range'],\n",
    "                                 xi_rho=area_range[iarea]['xi_range']).mean(axis=(1,2)).compute()\n",
    "    # # calculating prior\n",
    "    # prior_areamean = prior_data.isel(eta_rho=area_range[area]['eta_range'],\n",
    "    #                                  xi_rho=area_range[area]['xi_range']).mean(axis=(1,2)).compute()\n",
    "\n",
    "    # calculating posterior\n",
    "    post_areamean[iarea] = post_data.isel(eta_rho=area_range[iarea]['eta_range'],\n",
    "                                 xi_rho=area_range[iarea]['xi_range']).mean(axis=(1,2)).compute()"
   ]
  },
  {
   "cell_type": "code",
   "execution_count": null,
   "id": "900312e7-d1e7-460f-b5d3-02785512100d",
   "metadata": {
    "tags": []
   },
   "outputs": [],
   "source": [
    "fwd_data.lon_rho.isel(eta_rho=area_range[iarea]['eta_range'],\n",
    "                                 xi_rho=area_range[iarea]['xi_range']).data.compute()"
   ]
  },
  {
   "cell_type": "code",
   "execution_count": null,
   "id": "b19a87c6-2cf9-445c-b89b-b7b299e2991c",
   "metadata": {
    "tags": []
   },
   "outputs": [],
   "source": [
    "# area configuration\n",
    "area = 'ys'\n",
    "\n",
    "if area == 'bh':\n",
    "\n",
    "    lon_bdy = [116.5,123.5];\n",
    "    lat_bdy = [36,42];\n",
    "    fullname = 'Bohai Sea'\n",
    "elif area == 'ys':\n",
    "\n",
    "    lon_bdy = [122,128];\n",
    "    lat_bdy = [34,38];\n",
    "    fullname = 'Yellow Sea'\n",
    "elif area =='cre':\n",
    "\n",
    "    lon_bdy = [119.5,130.5];\n",
    "    lat_bdy = [27,35];\n",
    "    fullname = 'Changjiang River Esturay'"
   ]
  },
  {
   "cell_type": "code",
   "execution_count": null,
   "id": "5cd28bcd-255f-4fcf-abd1-5b551e3f439c",
   "metadata": {
    "tags": []
   },
   "outputs": [],
   "source": [
    "# specific area-mean time series\n",
    "from matplotlib.dates import DateFormatter, DayLocator\n",
    "my_palette = sns.color_palette(my_div_color[5:-5])\n",
    "# plt.rcParams['font.size'] = 20\n",
    "# my_palette = sns.diverging_palette(250, 20, l=65, center=\"light\")\n",
    "# plt.style.use('seaborn')\n",
    "# plt.style.use('seaborn-whitegrid')\n",
    "plt.style.use('default')\n",
    "plt.close('all')\n",
    "fig,ax = plt.subplots( figsize = (8,4),)\n",
    "for bnd in ax.spines.keys():\n",
    "    ax.spines[bnd].set_linewidth('2')\n",
    "lo1, =ax.plot(Obs_areamean[area].ocean_time,Obs_areamean[area].data,\n",
    "            color='k',marker='.',\n",
    "            label='geopolar_sst',zorder=2)\n",
    "\n",
    "ax.plot(fwd_areamean[area].ocean_time,fwd_areamean[area].data, \n",
    "        color=my_palette[-1],\n",
    "            label='forward',\n",
    "        zorder=1\n",
    "           )\n",
    "\n",
    "# ax.plot(prior_areamean.ocean_time,prior_areamean.data,\n",
    "#         color=my_palette[7],\n",
    "#        label='prior',\n",
    "#        zorder=1)\n",
    "\n",
    "\n",
    "# ax.plot(post_areamean.ocean_time,post_areamean.data,\n",
    "#         color=my_palette[0],\n",
    "#        label='posterior',\n",
    "#        zorder=1)\n",
    "ax.grid()\n",
    "ax.legend(loc='upper right',fontsize=15)\n",
    "ax.set_title('%s area-mean of SST'%(fullname),fontsize=15)\n",
    "ax.set_ylabel('temp/$\\degree$C')\n",
    "ax.tick_params(direction = 'out',width =2,length=5, labelsize = 12,top = 0, right = 0,left=0)\n",
    "ax.xaxis.set_major_formatter(DateFormatter('%m-%d'))\n",
    "# plt.savefig('./fig_timeseries/%s_areamean.jpeg'%(area),bbox_inches='tight',dpi=400)\n"
   ]
  },
  {
   "cell_type": "code",
   "execution_count": null,
   "id": "bf5cb956-cd30-4da1-b283-f9db2a183cff",
   "metadata": {
    "tags": []
   },
   "outputs": [],
   "source": [
    "# specific area-daily-mean (admean) time series\n",
    "\n",
    "# calculating observation\n",
    "Obs_admean = Obs_areamean.copy()\n",
    "# calculating forward \n",
    "fwd_admean = fwd_dailymean.isel(eta_rho=area_range[area]['eta_range'],\n",
    "                             xi_rho=area_range[area]['xi_range']).mean(axis=(1,2)).compute()\n",
    "# # calculating prior\n",
    "# prior_admean = prior_dailymean.isel(eta_rho=eta_range,\n",
    "#                                  xi_rho=xi_range).mean(axis=(1,2)).compute()\n",
    "\n",
    "# # calculating posterior\n",
    "# post_admean = post_dailymean.isel(eta_rho=eta_range,\n",
    "#                                  xi_rho=xi_range).mean(axis=(1,2)).compute()"
   ]
  },
  {
   "cell_type": "code",
   "execution_count": null,
   "id": "a2cfc8b4-8182-4ee5-86b0-78d419a4377a",
   "metadata": {
    "tags": []
   },
   "outputs": [],
   "source": [
    "# specific area-daily-mean (admean) time series\n",
    "\n",
    "# plt.rcParams['font.size'] = 20\n",
    "# my_palette = sns.diverging_palette(250, 20, l=65, center=\"light\")\n",
    "# plt.style.use('seaborn-whitegrid')\n",
    "plt.close('all')\n",
    "fig,ax = plt.subplots( figsize = (8,4),)\n",
    "for bnd in ax.spines.keys():\n",
    "    ax.spines[bnd].set_linewidth('2')\n",
    "lo1, =ax.plot(Obs_admean.ocean_time,Obs_admean.data,\n",
    "            color='k',marker='.',\n",
    "            label='geopolar_sst',zorder=2)\n",
    "\n",
    "ax.plot(Obs_admean.ocean_time,fwd_admean.data, \n",
    "        marker='.',\n",
    "        color=my_palette[-1],\n",
    "            label='forward',\n",
    "        zorder=1\n",
    "           )\n",
    "\n",
    "# ax.plot(Obs_admean.ocean_time,prior_admean.data,\n",
    "#        marker='.',\n",
    "#         color=my_palette[7],\n",
    "#        label='prior',\n",
    "#        zorder=1)\n",
    "\n",
    "\n",
    "# ax.plot(Obs_admean.ocean_time,post_admean.data,\n",
    "#         marker='.',\n",
    "#         color=my_palette[0],\n",
    "#        label='posterior',\n",
    "#        zorder=1)\n",
    "ax.grid()\n",
    "ax.legend(loc='upper right',fontsize=15)\n",
    "ax.set_title('%s area-mean of daily sst' %(fullname),fontsize=15)\n",
    "ax.set_ylabel('temp/$\\degree$C')\n",
    "ax.tick_params(direction = 'out',width =2,length=5, labelsize = 12,top = 0, right = 0,left=0)\n",
    "\n",
    "ax.xaxis.set_major_formatter(DateFormatter('%m-%d'))\n",
    "# plt.savefig('./fig_timeseries/%s_admean.jpeg'%(area),bbox_inches='tight',dpi=400)\n"
   ]
  },
  {
   "cell_type": "code",
   "execution_count": null,
   "id": "ad2ee03d-c2f0-408c-a725-89a9832dbb4e",
   "metadata": {
    "tags": []
   },
   "outputs": [],
   "source": [
    "# specific area daily area mean bias\n",
    "\n",
    "\n",
    "# calculating forward \n",
    "fwd_areabias = (Obs_modgrd_lowcut.isel(eta_rho=area_range[area]['eta_range'],\n",
    "                             xi_rho=area_range[area]['xi_range'],)\n",
    "                -fwd_dailymean.isel(eta_rho=area_range[area]['eta_range'],\n",
    "                             xi_rho=area_range[area]['xi_range']).data).mean(skipna=True,axis=(1,2))\n",
    "# # calculating prior\n",
    "# prior_areabias = (Obs_modgrd_lowcut.isel(eta_rho=eta_range,\n",
    "#                              xi_rho=xi_range)\n",
    "#                   -prior_dailymean.isel(eta_rho=eta_range,\n",
    "#                                  xi_rho=xi_range).data).mean(skipna=True,axis=(1,2))\n",
    "\n",
    "# # calculating posterior\n",
    "# post_areabias = (Obs_modgrd_lowcut.isel(eta_rho=eta_range,\n",
    "#                              xi_rho=xi_range)\n",
    "#                  -post_dailymean.isel(eta_rho=eta_range,\n",
    "#                                  xi_rho=xi_range).data).mean(skipna=True,axis=(1,2))"
   ]
  },
  {
   "cell_type": "code",
   "execution_count": null,
   "id": "d2cf013c-e19a-43a5-956e-6b4a4c433bf8",
   "metadata": {
    "tags": []
   },
   "outputs": [],
   "source": [
    "np.abs(fwd_areabias.data).mean()"
   ]
  },
  {
   "cell_type": "code",
   "execution_count": null,
   "id": "2fc551b5-88c2-41d0-8d10-26b22a67b900",
   "metadata": {
    "tags": []
   },
   "outputs": [],
   "source": [
    "plt.close('all')\n",
    "fig,ax = plt.subplots(figsize = (10,5),\n",
    "                       )\n",
    "for bnd in ax.spines.keys():\n",
    "    ax.spines[bnd].set_linewidth('2')\n",
    "\n",
    "ax.plot(fwd_areabias.ocean_time,np.abs(fwd_areabias.data), label='forward',\n",
    "             marker='.',color=my_palette[-1],\n",
    "           )\n",
    "\n",
    "# ax.set_title('forward')\n",
    "# ax.tick_params('x',labelbottom=False)\n",
    "\n",
    "\n",
    "\n",
    "# ax.plot(prior_areabias.ocean_time,np.abs(prior_areabias.data), label='prior',\n",
    "#         marker='.',color=my_palette[7],)\n",
    "\n",
    "# ax.set_title('prior')\n",
    "# ax.tick_params('x',labelbottom=False)\n",
    "\n",
    "\n",
    "# ax.plot(post_areabias.ocean_time,np.abs(post_areabias.data),label='posterior',\n",
    "#         marker='.',color=my_palette[0])\n",
    "# ax.set_title('posterior')\n",
    "ax.grid()\n",
    "ax.set_ylabel('temp/$\\degree$C')\n",
    "ax.tick_params(direction = 'out',width =2,length=5, labelsize = 12,top = 0, right = 0,left=0)\n",
    "\n",
    "ax.legend(loc='upper left',fontsize=15)\n",
    "ax.set_ylim([0,2.5])\n",
    "ax.xaxis.set_major_formatter(DateFormatter('%m-%d'))\n",
    "ax.set_title('%s area-mean of daily bias' %(fullname),fontsize=15)\n",
    "# plt.savefig('./fig_timeseries/%s_areabias.jpeg'%(area),bbox_inches='tight',dpi=400)\n"
   ]
  },
  {
   "cell_type": "code",
   "execution_count": null,
   "id": "e99f2e88-7626-49a2-a4b4-ace9b0cb45b8",
   "metadata": {
    "tags": []
   },
   "outputs": [],
   "source": [
    "# specific area daily bias mean distribution\n",
    "\n",
    "Obs_dmean = Obs_modgrd.isel(eta_rho=eta_range,\n",
    "                                  xi_rho=xi_range).mean(skipna=True,axis=0)\n",
    "fwd_dbiasmean = (fwd_dailymean.isel(eta_rho=eta_range,\n",
    "                                  xi_rho=xi_range)\n",
    "                 -Obs_modgrd.isel(eta_rho=eta_range,\n",
    "                                  xi_rho=xi_range).data\n",
    "                ).mean(skipna=True,axis=0)\n",
    "\n",
    "prior_dbiasmean = (prior_dailymean.isel(eta_rho=eta_range,\n",
    "                                  xi_rho=xi_range)\n",
    "                 -Obs_modgrd.isel(eta_rho=eta_range,\n",
    "                                  xi_rho=xi_range).data\n",
    "                ).mean(skipna=True,axis=0)\n",
    "\n",
    "post_dbiasmean = (post_dailymean.isel(eta_rho=eta_range,\n",
    "                                  xi_rho=xi_range)\n",
    "                 -Obs_modgrd.isel(eta_rho=eta_range,\n",
    "                                  xi_rho=xi_range).data\n",
    "                ).mean(skipna=True,axis=0)\n"
   ]
  },
  {
   "cell_type": "code",
   "execution_count": null,
   "id": "50486bae-41f2-43d1-9851-f8977a4b5bd1",
   "metadata": {
    "tags": []
   },
   "outputs": [],
   "source": [
    "\n",
    "plt.style.use('default')\n",
    "fig, axs = plt.subplots(2,2,\n",
    "                            subplot_kw={'projection':ccrs.Mercator()},\n",
    "                            figsize=(7.2,6)\n",
    "                           )\n",
    "if area == 'bh':\n",
    "    fig.subplots_adjust(bottom=0.1, top=0.9, left=0.05, right=0.6,\n",
    "                            wspace=0.1, hspace=0.1)\n",
    "\n",
    "\n",
    "plot_func(0,0,\n",
    "          Obs_dmean,\n",
    "          my_title='geopolar_sst',\n",
    "          # add_cb=True,\n",
    "          my_cbar=my_sst,\n",
    "          # my_clabel='Celsius', \n",
    "          my_vmin=var_min, my_vmax=var_max)\n",
    "plot_func(0,1,\n",
    "          fwd_dbiasmean,\n",
    "          my_title='forward bias',\n",
    "          # add_cb=True,\n",
    "          my_cbar=my_div,\n",
    "          # my_clabel='Celsius', \n",
    "          my_vmin=bias_min, my_vmax=bias_max)\n",
    "plot_func(1,0,\n",
    "          prior_dbiasmean,\n",
    "          my_title='prior bias',\n",
    "          # add_cb=True,\n",
    "          my_cbar=my_div,\n",
    "          # my_clabel='Celsius', \n",
    "          my_vmin=bias_min, my_vmax=bias_max)\n",
    "p1=plot_func(1,1,\n",
    "          post_dbiasmean,\n",
    "          my_title='posterior bias',\n",
    "             # add_cb=True,\n",
    "          my_cbar=my_div,\n",
    "             # my_clabel='Celsius', \n",
    "          my_vmin=bias_min, my_vmax=bias_max)\n",
    "\n",
    "# position=fig.add_axes([ 0.62, 0.159, 0.02, 0.265,])\n",
    "# cb = fig.colorbar(p1, cax = position,ticks = np.linspace(bias_min,bias_max,5))\n",
    "cb.set_label('$\\degree$C') \n",
    "plt.savefig('./fig_dailymean/%s_dailybiasmean.jpeg'%(area),\n",
    "                bbox_inches='tight',dpi=400)"
   ]
  },
  {
   "cell_type": "code",
   "execution_count": null,
   "id": "9f90567b-00ae-455c-a5df-615e99e5e290",
   "metadata": {
    "tags": []
   },
   "outputs": [],
   "source": []
  },
  {
   "cell_type": "code",
   "execution_count": null,
   "id": "d3405ec6-2d1d-4950-bd87-57c54af40483",
   "metadata": {
    "tags": []
   },
   "outputs": [],
   "source": [
    "corr"
   ]
  },
  {
   "cell_type": "code",
   "execution_count": null,
   "id": "abdfe990-f759-4fd4-9e59-5b59bf6c971d",
   "metadata": {},
   "outputs": [],
   "source": []
  }
 ],
 "metadata": {
  "kernelspec": {
   "display_name": "Python 3 (ipykernel)",
   "language": "python",
   "name": "python3"
  },
  "language_info": {
   "codemirror_mode": {
    "name": "ipython",
    "version": 3
   },
   "file_extension": ".py",
   "mimetype": "text/x-python",
   "name": "python",
   "nbconvert_exporter": "python",
   "pygments_lexer": "ipython3",
   "version": "3.9.13"
  },
  "vscode": {
   "interpreter": {
    "hash": "bbe135cb3b6ef77d7218fdc6b344ad3506566519fb981f8cf511ca10cb05370d"
   }
  }
 },
 "nbformat": 4,
 "nbformat_minor": 5
}
