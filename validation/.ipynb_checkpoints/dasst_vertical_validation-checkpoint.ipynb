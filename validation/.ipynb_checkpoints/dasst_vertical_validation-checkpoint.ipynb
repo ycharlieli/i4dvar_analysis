{
 "cells": [
  {
   "cell_type": "code",
   "execution_count": 1,
   "id": "8f4bda80-20b9-40e3-ae67-e8c2da97c4b7",
   "metadata": {
    "tags": []
   },
   "outputs": [],
   "source": [
    "import xarray as xr\n",
    "from dask.distributed import Client\n",
    "import time\n",
    "import datetime as dt\n",
    "import warnings\n",
    "warnings.filterwarnings('ignore')\n",
    "import sys\n",
    "import numpy as np\n",
    "sys.setrecursionlimit(100000)"
   ]
  },
  {
   "cell_type": "code",
   "execution_count": 7,
   "id": "60af0136-3b6f-416b-961b-eb95e5e1acb6",
   "metadata": {
    "tags": []
   },
   "outputs": [],
   "source": [
    "\n",
    "#define your observation, forward simulation and da simulation root path\n",
    "myobsroot = '/Volumes/TO_1/roms4dvar_ecs/i4dvar_outputs/INSITU_OBS/'\n",
    "mynlroot = '/Volumes/WD_3/'\n",
    "mydaroot = '/Volumes/TO_1/roms4dvar_ecs/i4dvar_outputs/'\n",
    "#define your workspace \n",
    "nl_workspace = 'outputs_SCORRECTION/outputs_201205/'\n",
    "da_workspace = 'workspace_geopolarsst/'\n",
    "obs_workspace = ''\n",
    "#define your filenames\n",
    "obs_file='sst_withcruisepkodc_2012_1.nc'\n",
    "nl_files = \"*avg*.nc\"\n",
    " #since this is a sst validation, only qck file is needed\n",
    "prior_files = \"/STORAGE/prior/*qck*.nc\"\n",
    "posterior_files = \"/STORAGE/posterior/*qck*.nc\""
   ]
  },
  {
   "cell_type": "code",
   "execution_count": 8,
   "id": "1df64014-0e4e-4546-a322-1ffaf7615fc7",
   "metadata": {
    "tags": []
   },
   "outputs": [
    {
     "name": "stdout",
     "output_type": "stream",
     "text": [
      "duration to be validated: from 2012-05-01-12H to 2012-12-27-12H, total of 241 days.\n",
      "         target obs variable: 6\n",
      "         target model variable: temp\n"
     ]
    }
   ],
   "source": [
    "#define your target data duration\n",
    "\n",
    "start_date = '2012-05-01-12H'\n",
    "end_date = '2012-12-27-12H'\n",
    "\n",
    "start_datetime = dt.datetime.strptime(start_date,\"%Y-%m-%d-%HH\")\n",
    "end_datetime = dt.datetime.strptime(end_date,\"%Y-%m-%d-%HH\")\n",
    "data_len = (end_datetime-start_datetime).days+1 \n",
    "\n",
    "#define your target variable\n",
    "obs_var = 6\n",
    "# 2d situation\n",
    "model_var = 'temp' \n",
    "#3d situation\n",
    "# model_var = 'temp'\n",
    "\n",
    "# setting chunk size\n",
    "x_chunk = int(262/2)\n",
    "y_chunk = int(362/2)\n",
    "z_chunk = 10\n",
    "\n",
    "print('''duration to be validated: from %s to %s, total of %i days.\n",
    "         target obs variable: %s\n",
    "         target model variable: %s'''\n",
    "      %(start_date,end_date,data_len,obs_var,model_var))\n",
    "\n",
    "\n"
   ]
  },
  {
   "cell_type": "code",
   "execution_count": 24,
   "id": "bd8f227a-125b-4ba8-ae6b-8c65b427a39f",
   "metadata": {
    "tags": []
   },
   "outputs": [
    {
     "data": {
      "text/plain": [
       "array([15461.5, 15461.5, 15461.5, ..., 15886.5, 15886.5, 15886.5])"
      ]
     },
     "execution_count": 24,
     "metadata": {},
     "output_type": "execute_result"
    }
   ],
   "source": [
    "# loading observation data\n",
    "# differ from sst data\n",
    "# cruise data are extracted from observation file in 4dvar format\n",
    "# so the extract process is difference\n",
    "Obs_ds = xr.open_dataset(myobsroot+obs_workspace+obs_file,\n",
    "                           engine='netcdf4',\n",
    "                          )\n",
    "Obs_ds.obs_time.data"
   ]
  },
  {
   "cell_type": "code",
   "execution_count": 30,
   "id": "bcd0f5ea-4db9-4ab8-9a51-f9bba7005036",
   "metadata": {
    "collapsed": true,
    "jupyter": {
     "outputs_hidden": true
    },
    "tags": []
   },
   "outputs": [
    {
     "ename": "KeyError",
     "evalue": "\"'obs_time' is not a valid dimension or coordinate\"",
     "output_type": "error",
     "traceback": [
      "\u001b[0;31m---------------------------------------------------------------------------\u001b[0m",
      "\u001b[0;31mKeyError\u001b[0m                                  Traceback (most recent call last)",
      "Cell \u001b[0;32mIn[30], line 4\u001b[0m\n\u001b[1;32m      2\u001b[0m start_obstime \u001b[38;5;241m=\u001b[39m (start_datetime \u001b[38;5;241m-\u001b[39m dt\u001b[38;5;241m.\u001b[39mdatetime(\u001b[38;5;241m1970\u001b[39m,\u001b[38;5;241m1\u001b[39m,\u001b[38;5;241m1\u001b[39m))\u001b[38;5;241m.\u001b[39mtotal_seconds()\u001b[38;5;241m/\u001b[39m\u001b[38;5;241m3600\u001b[39m\u001b[38;5;241m/\u001b[39m\u001b[38;5;241m24\u001b[39m\n\u001b[1;32m      3\u001b[0m end_obstime \u001b[38;5;241m=\u001b[39m (end_datetime \u001b[38;5;241m-\u001b[39m dt\u001b[38;5;241m.\u001b[39mdatetime(\u001b[38;5;241m1970\u001b[39m,\u001b[38;5;241m1\u001b[39m,\u001b[38;5;241m1\u001b[39m))\u001b[38;5;241m.\u001b[39mtotal_seconds()\u001b[38;5;241m/\u001b[39m\u001b[38;5;241m3600\u001b[39m\u001b[38;5;241m/\u001b[39m\u001b[38;5;241m24\u001b[39m\n\u001b[0;32m----> 4\u001b[0m Obs_data \u001b[38;5;241m=\u001b[39m \u001b[43mObs_ds\u001b[49m\u001b[38;5;241;43m.\u001b[39;49m\u001b[43msel\u001b[49m\u001b[43m(\u001b[49m\u001b[43mobs_time\u001b[49m\u001b[38;5;241;43m=\u001b[39;49m\u001b[38;5;28;43mslice\u001b[39;49m\u001b[43m(\u001b[49m\u001b[43mstart_obstime\u001b[49m\u001b[43m,\u001b[49m\u001b[43mend_obstime\u001b[49m\u001b[43m)\u001b[49m\u001b[43m)\u001b[49m\n\u001b[1;32m      5\u001b[0m \u001b[38;5;66;03m# Obs_data = Obs_data\u001b[39;00m\n\u001b[1;32m      6\u001b[0m \u001b[38;5;66;03m# Obs_data\u001b[39;00m\n\u001b[1;32m      7\u001b[0m start_obstime,end_obstime\n",
      "File \u001b[0;32m~/opt/anaconda3/lib/python3.9/site-packages/xarray/core/dataset.py:2554\u001b[0m, in \u001b[0;36mDataset.sel\u001b[0;34m(self, indexers, method, tolerance, drop, **indexers_kwargs)\u001b[0m\n\u001b[1;32m   2493\u001b[0m \u001b[38;5;250m\u001b[39m\u001b[38;5;124;03m\"\"\"Returns a new dataset with each array indexed by tick labels\u001b[39;00m\n\u001b[1;32m   2494\u001b[0m \u001b[38;5;124;03malong the specified dimension(s).\u001b[39;00m\n\u001b[1;32m   2495\u001b[0m \n\u001b[0;32m   (...)\u001b[0m\n\u001b[1;32m   2551\u001b[0m \u001b[38;5;124;03mDataArray.sel\u001b[39;00m\n\u001b[1;32m   2552\u001b[0m \u001b[38;5;124;03m\"\"\"\u001b[39;00m\n\u001b[1;32m   2553\u001b[0m indexers \u001b[38;5;241m=\u001b[39m either_dict_or_kwargs(indexers, indexers_kwargs, \u001b[38;5;124m\"\u001b[39m\u001b[38;5;124msel\u001b[39m\u001b[38;5;124m\"\u001b[39m)\n\u001b[0;32m-> 2554\u001b[0m query_results \u001b[38;5;241m=\u001b[39m \u001b[43mmap_index_queries\u001b[49m\u001b[43m(\u001b[49m\n\u001b[1;32m   2555\u001b[0m \u001b[43m    \u001b[49m\u001b[38;5;28;43mself\u001b[39;49m\u001b[43m,\u001b[49m\u001b[43m \u001b[49m\u001b[43mindexers\u001b[49m\u001b[38;5;241;43m=\u001b[39;49m\u001b[43mindexers\u001b[49m\u001b[43m,\u001b[49m\u001b[43m \u001b[49m\u001b[43mmethod\u001b[49m\u001b[38;5;241;43m=\u001b[39;49m\u001b[43mmethod\u001b[49m\u001b[43m,\u001b[49m\u001b[43m \u001b[49m\u001b[43mtolerance\u001b[49m\u001b[38;5;241;43m=\u001b[39;49m\u001b[43mtolerance\u001b[49m\n\u001b[1;32m   2556\u001b[0m \u001b[43m\u001b[49m\u001b[43m)\u001b[49m\n\u001b[1;32m   2558\u001b[0m \u001b[38;5;28;01mif\u001b[39;00m drop:\n\u001b[1;32m   2559\u001b[0m     no_scalar_variables \u001b[38;5;241m=\u001b[39m {}\n",
      "File \u001b[0;32m~/opt/anaconda3/lib/python3.9/site-packages/xarray/core/indexing.py:175\u001b[0m, in \u001b[0;36mmap_index_queries\u001b[0;34m(obj, indexers, method, tolerance, **indexers_kwargs)\u001b[0m\n\u001b[1;32m    172\u001b[0m     options \u001b[38;5;241m=\u001b[39m {\u001b[38;5;124m\"\u001b[39m\u001b[38;5;124mmethod\u001b[39m\u001b[38;5;124m\"\u001b[39m: method, \u001b[38;5;124m\"\u001b[39m\u001b[38;5;124mtolerance\u001b[39m\u001b[38;5;124m\"\u001b[39m: tolerance}\n\u001b[1;32m    174\u001b[0m indexers \u001b[38;5;241m=\u001b[39m either_dict_or_kwargs(indexers, indexers_kwargs, \u001b[38;5;124m\"\u001b[39m\u001b[38;5;124mmap_index_queries\u001b[39m\u001b[38;5;124m\"\u001b[39m)\n\u001b[0;32m--> 175\u001b[0m grouped_indexers \u001b[38;5;241m=\u001b[39m \u001b[43mgroup_indexers_by_index\u001b[49m\u001b[43m(\u001b[49m\u001b[43mobj\u001b[49m\u001b[43m,\u001b[49m\u001b[43m \u001b[49m\u001b[43mindexers\u001b[49m\u001b[43m,\u001b[49m\u001b[43m \u001b[49m\u001b[43moptions\u001b[49m\u001b[43m)\u001b[49m\n\u001b[1;32m    177\u001b[0m results \u001b[38;5;241m=\u001b[39m []\n\u001b[1;32m    178\u001b[0m \u001b[38;5;28;01mfor\u001b[39;00m index, labels \u001b[38;5;129;01min\u001b[39;00m grouped_indexers:\n",
      "File \u001b[0;32m~/opt/anaconda3/lib/python3.9/site-packages/xarray/core/indexing.py:139\u001b[0m, in \u001b[0;36mgroup_indexers_by_index\u001b[0;34m(obj, indexers, options)\u001b[0m\n\u001b[1;32m    137\u001b[0m     \u001b[38;5;28;01mraise\u001b[39;00m \u001b[38;5;167;01mKeyError\u001b[39;00m(\u001b[38;5;124mf\u001b[39m\u001b[38;5;124m\"\u001b[39m\u001b[38;5;124mno index found for coordinate \u001b[39m\u001b[38;5;132;01m{\u001b[39;00mkey\u001b[38;5;132;01m!r}\u001b[39;00m\u001b[38;5;124m\"\u001b[39m)\n\u001b[1;32m    138\u001b[0m \u001b[38;5;28;01melif\u001b[39;00m key \u001b[38;5;129;01mnot\u001b[39;00m \u001b[38;5;129;01min\u001b[39;00m obj\u001b[38;5;241m.\u001b[39mdims:\n\u001b[0;32m--> 139\u001b[0m     \u001b[38;5;28;01mraise\u001b[39;00m \u001b[38;5;167;01mKeyError\u001b[39;00m(\u001b[38;5;124mf\u001b[39m\u001b[38;5;124m\"\u001b[39m\u001b[38;5;132;01m{\u001b[39;00mkey\u001b[38;5;132;01m!r}\u001b[39;00m\u001b[38;5;124m is not a valid dimension or coordinate\u001b[39m\u001b[38;5;124m\"\u001b[39m)\n\u001b[1;32m    140\u001b[0m \u001b[38;5;28;01melif\u001b[39;00m \u001b[38;5;28mlen\u001b[39m(options):\n\u001b[1;32m    141\u001b[0m     \u001b[38;5;28;01mraise\u001b[39;00m \u001b[38;5;167;01mValueError\u001b[39;00m(\n\u001b[1;32m    142\u001b[0m         \u001b[38;5;124mf\u001b[39m\u001b[38;5;124m\"\u001b[39m\u001b[38;5;124mcannot supply selection options \u001b[39m\u001b[38;5;132;01m{\u001b[39;00moptions\u001b[38;5;132;01m!r}\u001b[39;00m\u001b[38;5;124m for dimension \u001b[39m\u001b[38;5;132;01m{\u001b[39;00mkey\u001b[38;5;132;01m!r}\u001b[39;00m\u001b[38;5;124m\"\u001b[39m\n\u001b[1;32m    143\u001b[0m         \u001b[38;5;124m\"\u001b[39m\u001b[38;5;124mthat has no associated coordinate or index\u001b[39m\u001b[38;5;124m\"\u001b[39m\n\u001b[1;32m    144\u001b[0m     )\n",
      "\u001b[0;31mKeyError\u001b[0m: \"'obs_time' is not a valid dimension or coordinate\""
     ]
    }
   ],
   "source": [
    "# extracting observation data with specific time range \n",
    "start_obstime = (start_datetime - dt.datetime(1970,1,1)).total_seconds()/3600/24\n",
    "end_obstime = (end_datetime - dt.datetime(1970,1,1)).total_seconds()/3600/24\n",
    "\n",
    "this_timerange = np.where( (Obs_ds.obs_time.data >= start_obstime) & (Obs_ds.obs_time.data <= end_obstime))\n",
    "Obs_data = Obs_ds.obs_value\n",
    "# Obs_data = Obs_data\n",
    "# Obs_data\n",
    "start_obstime,end_obstime"
   ]
  },
  {
   "cell_type": "code",
   "execution_count": null,
   "id": "793c1c71-7602-44f7-b7bc-c21f1f70bfdb",
   "metadata": {},
   "outputs": [],
   "source": []
  },
  {
   "cell_type": "code",
   "execution_count": null,
   "id": "e542d215-f5e3-4e77-8ef5-06f28a1338b1",
   "metadata": {},
   "outputs": [],
   "source": []
  }
 ],
 "metadata": {
  "kernelspec": {
   "display_name": "Python 3 (ipykernel)",
   "language": "python",
   "name": "python3"
  },
  "language_info": {
   "codemirror_mode": {
    "name": "ipython",
    "version": 3
   },
   "file_extension": ".py",
   "mimetype": "text/x-python",
   "name": "python",
   "nbconvert_exporter": "python",
   "pygments_lexer": "ipython3",
   "version": "3.9.13"
  }
 },
 "nbformat": 4,
 "nbformat_minor": 5
}
