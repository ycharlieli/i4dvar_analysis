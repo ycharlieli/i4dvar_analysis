{
 "cells": [
  {
   "cell_type": "code",
   "execution_count": 1,
   "id": "31dac55f-2bde-45a7-ab61-62c5183a1792",
   "metadata": {
    "tags": []
   },
   "outputs": [],
   "source": [
    "import xarray as xr\n",
    "import numpy as np\n",
    "import scipy as sp\n",
    "import cartopy.crs as ccrs\n",
    "import cartopy.feature as cfeature\n",
    "import matplotlib.pyplot as plt\n",
    "from lanczos_filt import *\n",
    "import seapy\n",
    "import dask\n",
    "import sys\n",
    "import os\n",
    "# from dask.diagnostics import ProgressBar\n",
    "# import dask.multiprocessing\n",
    "# dask.config.set(schedular='multiprocessing')\n",
    "# dask.config.set(schedular='processes', num_workers=6)\n",
    "# from dask.distributed import Client,LocalCluster\n",
    "# from dask_mpi import initialize\n"
   ]
  },
  {
   "cell_type": "code",
   "execution_count": 2,
   "id": "6625a259-8467-4547-b7f1-9d53bd5d4bb0",
   "metadata": {
    "tags": []
   },
   "outputs": [
    {
     "name": "stdout",
     "output_type": "stream",
     "text": [
      "generate \n",
      "    ./bg_std/roms_ecs_v4sc_std_i_1.nc \n",
      "from \n",
      "    ./bg_std/roms_ecs_v4sc_std_i_1.mat\n",
      "variables to construct std file:\n",
      "    zeta\n",
      "    salt\n",
      "    vbar\n",
      "    ubar\n",
      "    v\n",
      "    u\n",
      "    temp\n",
      "creating ./bg_std/roms_ecs_v4sc_std_i_1.nc\n",
      "Done\n",
      "generate \n",
      "    ./bg_std/roms_ecs_v4sc_std_i_2.nc \n",
      "from \n",
      "    ./bg_std/roms_ecs_v4sc_std_i_2.mat\n",
      "variables to construct std file:\n",
      "    zeta\n",
      "    salt\n",
      "    vbar\n",
      "    ubar\n",
      "    v\n",
      "    u\n",
      "    temp\n",
      "creating ./bg_std/roms_ecs_v4sc_std_i_2.nc\n",
      "Done\n",
      "generate \n",
      "    ./bg_std/roms_ecs_v4sc_std_i_3.nc \n",
      "from \n",
      "    ./bg_std/roms_ecs_v4sc_std_i_3.mat\n",
      "variables to construct std file:\n",
      "    zeta\n",
      "    salt\n",
      "    vbar\n",
      "    ubar\n",
      "    v\n",
      "    u\n",
      "    temp\n",
      "creating ./bg_std/roms_ecs_v4sc_std_i_3.nc\n",
      "Done\n",
      "generate \n",
      "    ./bg_std/roms_ecs_v4sc_std_i_4.nc \n",
      "from \n",
      "    ./bg_std/roms_ecs_v4sc_std_i_4.mat\n",
      "variables to construct std file:\n",
      "    zeta\n",
      "    salt\n",
      "    vbar\n",
      "    ubar\n",
      "    v\n",
      "    u\n",
      "    temp\n",
      "creating ./bg_std/roms_ecs_v4sc_std_i_4.nc\n",
      "Done\n",
      "generate \n",
      "    ./bg_std/roms_ecs_v4sc_std_i_5.nc \n",
      "from \n",
      "    ./bg_std/roms_ecs_v4sc_std_i_5.mat\n",
      "variables to construct std file:\n",
      "    zeta\n",
      "    salt\n",
      "    vbar\n",
      "    ubar\n",
      "    v\n",
      "    u\n",
      "    temp\n",
      "creating ./bg_std/roms_ecs_v4sc_std_i_5.nc\n",
      "Done\n",
      "generate \n",
      "    ./bg_std/roms_ecs_v4sc_std_i_6.nc \n",
      "from \n",
      "    ./bg_std/roms_ecs_v4sc_std_i_6.mat\n",
      "variables to construct std file:\n",
      "    zeta\n",
      "    salt\n",
      "    vbar\n",
      "    ubar\n",
      "    v\n",
      "    u\n",
      "    temp\n",
      "creating ./bg_std/roms_ecs_v4sc_std_i_6.nc\n",
      "Done\n",
      "generate \n",
      "    ./bg_std/roms_ecs_v4sc_std_i_7.nc \n",
      "from \n",
      "    ./bg_std/roms_ecs_v4sc_std_i_7.mat\n",
      "variables to construct std file:\n",
      "    zeta\n",
      "    salt\n",
      "    vbar\n",
      "    ubar\n",
      "    v\n",
      "    u\n",
      "    temp\n",
      "creating ./bg_std/roms_ecs_v4sc_std_i_7.nc\n",
      "Done\n",
      "generate \n",
      "    ./bg_std/roms_ecs_v4sc_std_i_8.nc \n",
      "from \n",
      "    ./bg_std/roms_ecs_v4sc_std_i_8.mat\n",
      "variables to construct std file:\n",
      "    zeta\n",
      "    salt\n",
      "    vbar\n",
      "    ubar\n",
      "    v\n",
      "    u\n",
      "    temp\n",
      "creating ./bg_std/roms_ecs_v4sc_std_i_8.nc\n",
      "Done\n",
      "generate \n",
      "    ./bg_std/roms_ecs_v4sc_std_i_9.nc \n",
      "from \n",
      "    ./bg_std/roms_ecs_v4sc_std_i_9.mat\n",
      "variables to construct std file:\n",
      "    zeta\n",
      "    salt\n",
      "    vbar\n",
      "    ubar\n",
      "    v\n",
      "    u\n",
      "    temp\n",
      "creating ./bg_std/roms_ecs_v4sc_std_i_9.nc\n",
      "Done\n",
      "generate \n",
      "    ./bg_std/roms_ecs_v4sc_std_i_10.nc \n",
      "from \n",
      "    ./bg_std/roms_ecs_v4sc_std_i_10.mat\n",
      "variables to construct std file:\n",
      "    zeta\n",
      "    salt\n",
      "    vbar\n",
      "    ubar\n",
      "    v\n",
      "    u\n",
      "    temp\n",
      "creating ./bg_std/roms_ecs_v4sc_std_i_10.nc\n",
      "Done\n",
      "generate \n",
      "    ./bg_std/roms_ecs_v4sc_std_i_11.nc \n",
      "from \n",
      "    ./bg_std/roms_ecs_v4sc_std_i_11.mat\n",
      "variables to construct std file:\n",
      "    zeta\n",
      "    salt\n",
      "    vbar\n",
      "    ubar\n",
      "    v\n",
      "    u\n",
      "    temp\n",
      "creating ./bg_std/roms_ecs_v4sc_std_i_11.nc\n",
      "Done\n",
      "generate \n",
      "    ./bg_std/roms_ecs_v4sc_std_i_12.nc \n",
      "from \n",
      "    ./bg_std/roms_ecs_v4sc_std_i_12.mat\n",
      "variables to construct std file:\n",
      "    zeta\n",
      "    salt\n",
      "    vbar\n",
      "    ubar\n",
      "    v\n",
      "    u\n",
      "    temp\n",
      "creating ./bg_std/roms_ecs_v4sc_std_i_12.nc\n",
      "Done\n"
     ]
    }
   ],
   "source": [
    "template_file = '/Volumes/TO_1/outputs_SCORRECTION/ocean_ecs_avg_0001.nc'\n",
    "cdl_file = './bg_std/s4dvar_ecs_std_i.cdl'\n",
    "for month in range(1,13):\n",
    "    \n",
    "    std_file = './bg_std/roms_ecs_v4sc_std_i_%s.nc' %(str(month))\n",
    "    std_mat = './bg_std/roms_ecs_v4sc_std_i_%s.mat'%(str(month))\n",
    "    stdvelbar_mat = './bg_std/roms_ecs_v4sc_velbarstd_i_%s.mat'%(str(month))\n",
    "    print('generate \\n    %s \\nfrom \\n    %s'%(std_file, std_mat))\n",
    "    std_data = sp.io.loadmat(std_mat)\n",
    "    stdvelbar_data = sp.io.loadmat(stdvelbar_mat)\n",
    "\n",
    "    fields = set(seapy.roms.fields)\n",
    "    grid = seapy.model.asgrid(template_file)\n",
    "    nc = seapy.netcdf(template_file)\n",
    "    # grid_var = set(nc.variables).difference(fields)\n",
    "    # print(grid_var)\n",
    "    # fields = set(nc.variables).intersection(fields)\n",
    "\n",
    "    print('variables to construct std file:')\n",
    "    for v in list(fields):\n",
    "        print('    %s'%(v))\n",
    "    epoch, time_var = seapy.roms.get_reftime(nc)\n",
    "    print('creating %s'%(std_file))\n",
    "    if os.path.exists(std_file) :\n",
    "          os.system('rm %s'%(std_file))\n",
    "    ncout = seapy.roms.ncgen.create_da_ini_std(std_file,\n",
    "                                               eta_rho=grid.ln, xi_rho=grid.lm,\n",
    "                                               s_rho=grid.n,\n",
    "                                               # reftime=epoch,\n",
    "                                               cdl = cdl_file,\n",
    "                                               title='std from roms_ecs v4.1 SCORRECTION')\n",
    "\n",
    "    ncout.variables[time_var][0] = 0\n",
    "    for v in fields:\n",
    "        try:\n",
    "            dat = std_data[v]\n",
    "        except:\n",
    "            dat = stdvelbar_data[v]\n",
    "        dat[np.where(np.isnan(dat))] = 0\n",
    "        if v  in ['zeta', 'ubar','vbar']:\n",
    "            ncout.variables[v][0,:,:] = dat\n",
    "        else:\n",
    "            ncout.variables[v][0,:,:,:] = dat.transpose((2,0,1))\n",
    "    ncout.sync()\n",
    "    ncout.close()\n",
    "    print('Done')\n",
    "    nc.close()"
   ]
  },
  {
   "cell_type": "code",
   "execution_count": 3,
   "id": "2e321488-6eea-433f-bbed-af9957558090",
   "metadata": {
    "tags": []
   },
   "outputs": [
    {
     "data": {
      "text/plain": [
       "array([-0.975, -0.925, -0.875, -0.825, -0.775, -0.725, -0.675, -0.625,\n",
       "       -0.575, -0.525, -0.475, -0.425, -0.375, -0.325, -0.275, -0.225,\n",
       "       -0.175, -0.125, -0.075, -0.025])"
      ]
     },
     "execution_count": 3,
     "metadata": {},
     "output_type": "execute_result"
    }
   ],
   "source": []
  },
  {
   "cell_type": "code",
   "execution_count": 50,
   "id": "806e00db-ef1b-43ad-becb-c207aa13f769",
   "metadata": {
    "tags": []
   },
   "outputs": [
    {
     "data": {
      "text/plain": [
       "(1, 20, 362, 241)"
      ]
     },
     "execution_count": 50,
     "metadata": {},
     "output_type": "execute_result"
    }
   ],
   "source": [
    "ncout.variables[v].shape"
   ]
  },
  {
   "cell_type": "code",
   "execution_count": 22,
   "id": "f2d4d4b0-f172-420a-8268-57553dbbf1f4",
   "metadata": {
    "tags": []
   },
   "outputs": [
    {
     "data": {
      "text/plain": [
       "masked_array(data=[-0.9287272319393208, -0.8093643430624518,\n",
       "                   -0.7145183625804477, -0.6376433562446836,\n",
       "                   -0.5730691317629566, -0.5156591258313683,\n",
       "                   -0.46070516889931123, -0.40426435249770304,\n",
       "                   -0.3440788155664445, -0.28072638440434017,\n",
       "                   -0.21788174697966461, -0.160724489977768,\n",
       "                   -0.11331852061625645, -0.07704455685890739,\n",
       "                   -0.05091174435836313, -0.03278789762288219,\n",
       "                   -0.020433047187281894, -0.011991374572783113,\n",
       "                   -0.006092093781739787, -0.0017774536882274956],\n",
       "             mask=[False, False, False, False, False, False, False, False,\n",
       "                   False, False, False, False, False, False, False, False,\n",
       "                   False, False, False, False],\n",
       "       fill_value=1e+20)"
      ]
     },
     "execution_count": 22,
     "metadata": {},
     "output_type": "execute_result"
    }
   ],
   "source": []
  },
  {
   "cell_type": "code",
   "execution_count": 20,
   "id": "61836971-08d6-42fb-a99c-1f8b18aabfa6",
   "metadata": {
    "tags": []
   },
   "outputs": [
    {
     "data": {
      "text/plain": [
       "{'Cs_r',\n",
       " 'Cs_w',\n",
       " 'Tcline',\n",
       " 'Vstretching',\n",
       " 'Vtransform',\n",
       " 'angle',\n",
       " 'h',\n",
       " 'hc',\n",
       " 'lat_rho',\n",
       " 'lat_u',\n",
       " 'lat_v',\n",
       " 'lon_rho',\n",
       " 'lon_u',\n",
       " 'lon_v',\n",
       " 'mask_rho',\n",
       " 'mask_u',\n",
       " 'mask_v',\n",
       " 'ocean_time',\n",
       " 's_rho',\n",
       " 's_w',\n",
       " 'spherical',\n",
       " 'theta_b',\n",
       " 'theta_s',\n",
       " 'ubar',\n",
       " 'vbar'}"
      ]
     },
     "execution_count": 20,
     "metadata": {},
     "output_type": "execute_result"
    }
   ],
   "source": [
    "set(ncout.variables).difference(fields)"
   ]
  }
 ],
 "metadata": {
  "kernelspec": {
   "display_name": "Python 3 (ipykernel)",
   "language": "python",
   "name": "python3"
  },
  "language_info": {
   "codemirror_mode": {
    "name": "ipython",
    "version": 3
   },
   "file_extension": ".py",
   "mimetype": "text/x-python",
   "name": "python",
   "nbconvert_exporter": "python",
   "pygments_lexer": "ipython3",
   "version": "3.9.13"
  }
 },
 "nbformat": 4,
 "nbformat_minor": 5
}
