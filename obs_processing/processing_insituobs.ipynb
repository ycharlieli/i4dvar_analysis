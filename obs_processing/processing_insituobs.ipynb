{
 "cells": [
  {
   "cell_type": "code",
   "execution_count": 1,
   "id": "91224e4c-d8c0-4efc-a3fd-43ad8e87caa3",
   "metadata": {
    "tags": []
   },
   "outputs": [],
   "source": [
    "import seabird\n",
    "import datetime\n",
    "import numpy as np\n",
    "import seapy\n",
    "import gsw\n",
    "import scipy as sp"
   ]
  },
  {
   "cell_type": "code",
   "execution_count": 67,
   "id": "3f7edd89-06c0-4e84-8681-cbbaaa263c26",
   "metadata": {
    "tags": []
   },
   "outputs": [],
   "source": [
    "from seabird.cnv import fCNV\n",
    "ctd_file = '/Volumes/TO_1/roms4dvar_ecs/i4dvar_outputs/INSITU_OBS/IOCAS2012AUTUMN/CTD/3600-01acfld.cnv'\n",
    "profile = fCNV(ctd_file)\n"
   ]
  },
  {
   "cell_type": "code",
   "execution_count": 5,
   "id": "c9021c86-1a86-4a1e-8722-4aff3b6bd05b",
   "metadata": {
    "tags": []
   },
   "outputs": [
    {
     "name": "stdout",
     "output_type": "stream",
     "text": [
      "Header: dict_keys(['sbe_model', 'seasave', 'instrument_type', 'nquan', 'nvalues', 'start_time', 'bad_flag', 'file_type', 'md5', 'datetime', 'filename'])\n",
      "{'sbe_model': '9', 'seasave': 'Win32 V 5.39c', 'instrument_type': 'CTD', 'nquan': '19', 'nvalues': '8272', 'start_time': 'Dec 13 2012 09:13:57 [System UpLoad Time]', 'bad_flag': '-9.990e-29', 'file_type': 'ascii', 'md5': '7a21b5b1b1bf45d261940c23b8a6c88f', 'datetime': datetime.datetime(2012, 12, 13, 9, 13, 57), 'filename': '3600-01acfld.cnv'}\n"
     ]
    }
   ],
   "source": [
    "print(\"Header: %s\" % profile.attributes.keys())\n",
    "print(profile.attributes)\n"
   ]
  },
  {
   "cell_type": "code",
   "execution_count": 6,
   "id": "ff3ef3a2-fa90-4b2c-a97d-5af59efc0782",
   "metadata": {
    "tags": []
   },
   "outputs": [
    {
     "name": "stdout",
     "output_type": "stream",
     "text": [
      "['PRES', 'TEMP', 'CNDC', 'pumps', 'PSAL', 'altM', 'descentrate', 'accM', 'scan', 'timeS', 'flSP', 'seaTurbMtr', 'potemperature', 'PSAL', 'density', 'sigma_t', 'soundspeed', 'DEPTH', 'flag']\n"
     ]
    }
   ],
   "source": [
    "print(profile.keys())"
   ]
  },
  {
   "cell_type": "code",
   "execution_count": 95,
   "id": "d380f155-0c78-452d-8c2d-9a79ae9f5bd1",
   "metadata": {
    "tags": []
   },
   "outputs": [],
   "source": [
    "invalid =np.ma.getmaskarray(profile['flag'])"
   ]
  },
  {
   "cell_type": "code",
   "execution_count": 98,
   "id": "19465271-5d5c-4169-b7ea-39651494078a",
   "metadata": {
    "tags": []
   },
   "outputs": [
    {
     "data": {
      "text/plain": [
       "array([False, False, False, ...,  True,  True,  True])"
      ]
     },
     "execution_count": 98,
     "metadata": {},
     "output_type": "execute_result"
    }
   ],
   "source": [
    "invalid"
   ]
  },
  {
   "cell_type": "code",
   "execution_count": 100,
   "id": "240ba4ff-dd3a-4253-b0bb-2028e1ebd7aa",
   "metadata": {
    "tags": []
   },
   "outputs": [
    {
     "data": {
      "text/plain": [
       "(2146,)"
      ]
     },
     "execution_count": 100,
     "metadata": {},
     "output_type": "execute_result"
    }
   ],
   "source": [
    "profile['timeS'][~invalid].shape"
   ]
  },
  {
   "cell_type": "code",
   "execution_count": 102,
   "id": "6f156d4c-74ab-4a96-b281-949be3e22d86",
   "metadata": {
    "tags": []
   },
   "outputs": [
    {
     "data": {
      "text/plain": [
       "masked_array(data=[2.979, 2.9559, 2.9285, ..., 6.2836, 6.2783, --],\n",
       "             mask=[False, False, False, ..., False, False,  True],\n",
       "       fill_value=-9.99e-29)"
      ]
     },
     "execution_count": 102,
     "metadata": {},
     "output_type": "execute_result"
    }
   ],
   "source": [
    "#PSAL\n",
    "profile.data[-6]"
   ]
  },
  {
   "cell_type": "code",
   "execution_count": 37,
   "id": "ac1c196b-31d9-4d2d-9d96-27566c9b800b",
   "metadata": {
    "tags": []
   },
   "outputs": [],
   "source": [
    "profile.attrs['LATITUDE']=36.0045 \n",
    "profile.attrs['LONGITUDE']=123.9935"
   ]
  },
  {
   "cell_type": "code",
   "execution_count": 42,
   "id": "d350f68c-aaa1-47b2-a9f0-5d57ff4c1647",
   "metadata": {
    "tags": []
   },
   "outputs": [
    {
     "ename": "AttributeError",
     "evalue": "'dict' object has no attribute 'datetime'",
     "output_type": "error",
     "traceback": [
      "\u001b[0;31m---------------------------------------------------------------------------\u001b[0m",
      "\u001b[0;31mAttributeError\u001b[0m                            Traceback (most recent call last)",
      "Cell \u001b[0;32mIn[42], line 1\u001b[0m\n\u001b[0;32m----> 1\u001b[0m \u001b[43mprofile\u001b[49m\u001b[38;5;241;43m.\u001b[39;49m\u001b[43mattrs\u001b[49m\u001b[38;5;241;43m.\u001b[39;49m\u001b[43mdatetime\u001b[49m\n",
      "\u001b[0;31mAttributeError\u001b[0m: 'dict' object has no attribute 'datetime'"
     ]
    }
   ],
   "source": [
    "profile.attrs.datetime"
   ]
  },
  {
   "cell_type": "code",
   "execution_count": 41,
   "id": "f14272b7-31a9-4bee-b801-f9d9d62139bc",
   "metadata": {
    "tags": []
   },
   "outputs": [
    {
     "data": {
      "text/plain": [
       "{}"
      ]
     },
     "execution_count": 41,
     "metadata": {},
     "output_type": "execute_result"
    }
   ],
   "source": [
    "df_profile"
   ]
  },
  {
   "cell_type": "code",
   "execution_count": 39,
   "id": "6eee249d-2493-4d04-809b-33d118d428a1",
   "metadata": {
    "tags": []
   },
   "outputs": [],
   "source": [
    "def lanczos_filter(data,Cf,Nf,M):\n",
    "    coef = sp.signal.firwin(M+1, Cf/Nf,width = 2/len(data),window='lanczos', pass_zero='lowpass')\n",
    "    return sp.signal.filtfilt(coef,1.0,data)\n",
    "\n",
    "dt = 0.04\n",
    "fs = 1/(dt)\n",
    "Nf = fs/2\n",
    "Cf = fs/3000\n",
    "M = 100\n",
    "\n",
    "# fdiff_pres = lanczos_filter(diff_pres,Cf,Nf,M)"
   ]
  },
  {
   "cell_type": "code",
   "execution_count": 86,
   "id": "b525375a-f40b-4484-bb79-b97d0f714f8d",
   "metadata": {
    "tags": []
   },
   "outputs": [
    {
     "data": {
      "text/plain": [
       "masked_array(data=[0.03735033027343726, 0.03741818638857275,\n",
       "                   0.03748076236520781, ..., --, --, --],\n",
       "             mask=[False, False, False, ...,  True,  True,  True],\n",
       "       fill_value=1e+20)"
      ]
     },
     "execution_count": 86,
     "metadata": {},
     "output_type": "execute_result"
    }
   ],
   "source": [
    "diff_pres"
   ]
  },
  {
   "cell_type": "code",
   "execution_count": 83,
   "id": "09e64331-82bb-4818-90e3-42e235d4d5a4",
   "metadata": {
    "tags": []
   },
   "outputs": [
    {
     "name": "stdout",
     "output_type": "stream",
     "text": [
      "Using matplotlib backend: MacOSX\n"
     ]
    },
    {
     "data": {
      "text/plain": [
       "Text(0.5, 1.0, 'H01')"
      ]
     },
     "execution_count": 83,
     "metadata": {},
     "output_type": "execute_result"
    }
   ],
   "source": [
    "%matplotlib\n",
    "import matplotlib.pyplot as plt\n",
    "\n",
    "time = profile['timeS'][:]\n",
    "time[invalid] = np.ma.masked\n",
    "# depth = profile['DEPTH'][:]\n",
    "temp = profile['TEMP'][:]\n",
    "pres = profile['PRES'][:]\n",
    "\n",
    "temp[invalid] = np.ma.masked\n",
    "pres[invalid] = np.ma.masked\n",
    "plt.plot(time, pres,'b')\n",
    "\n",
    "pres_conv = np.convolve(pres,np.ones(24*3)/24/3,mode='full')[36:-35]\n",
    "# pres_conv = lanczos_filter(pres,Cf,Nf,M)\n",
    "# pres_conv = seapy.filt.bandpass(pres,dt,low_cutoff=dt*300,order=7)\n",
    "pres_conv = seapy.filt.bandpass(pres_conv,dt,low_cutoff=dt*300,order=7)\n",
    "pres_conv[invalid] = np.ma.masked\n",
    "# plt.plot(time,pres_conv,'k--')\n",
    "diff_pres = np.diff(pres_conv)\n",
    "diff_pres_conv = diff_pres.copy()\n",
    "# plt.plot(time[:-1],diff_pres)\n",
    "plt.xlabel('TIME(sec)')\n",
    "plt.ylabel('PRES(db)')\n",
    "plt.title('H01')\n",
    "# diff_pres_conv = np.convolve(diff_pres,np.ones(24*3)/24/3,mode='full')[36:-35]\n",
    "# diff_pres_conv = lanczos_filter(diff_pres,Cf,Nf,M)\n",
    "# diff_pres_conv = seapy.filt.bandpass(diff_pres,dt,low_cutoff=dt*600)\n",
    "# plt.plot(time[:-1],diff_pres_conv)\n",
    "\n",
    "\n",
    "\n",
    "# pres_conv = lanczos_filter(pres,Cf,Nf,M)\n",
    "# diff_pres_conv = np.diff(pres_conv)\n"
   ]
  },
  {
   "cell_type": "code",
   "execution_count": 7,
   "id": "52b2feda-bb03-4a28-8caa-761b5cf65365",
   "metadata": {
    "tags": []
   },
   "outputs": [
    {
     "data": {
      "text/plain": [
       "masked_array(data=[0.065, 0.062, 0.058, ..., -0.298, -0.298, -0.298],\n",
       "             mask=[False, False, False, ..., False, False, False],\n",
       "       fill_value=-9.99e-29)"
      ]
     },
     "execution_count": 7,
     "metadata": {},
     "output_type": "execute_result"
    }
   ],
   "source": [
    "profile['PRES'][:]"
   ]
  },
  {
   "cell_type": "code",
   "execution_count": 8,
   "id": "82c3881d-f2df-4a30-8ad4-a3c37933cb14",
   "metadata": {
    "tags": []
   },
   "outputs": [
    {
     "name": "stdout",
     "output_type": "stream",
     "text": [
      "16\n",
      "[ 1  1  1  1 -1 -1 -1 -1  2  1  1  1 -2 -1 -1]\n"
     ]
    }
   ],
   "source": [
    "\n",
    "pres = np.asarray([1,2,3,4,5,4,3,2,1,3,4,5,6,4,3,2])\n",
    "print(len(pres))\n",
    "diff_pres = np.diff(pres)\n",
    "print(diff_pres)"
   ]
  },
  {
   "cell_type": "code",
   "execution_count": 29,
   "id": "f3291799-08e1-437a-bb7e-8c11de1e7c8b",
   "metadata": {
    "tags": []
   },
   "outputs": [
    {
     "data": {
      "text/plain": [
       "masked_array(data=[0.042, 0.041, 0.042, ..., 0.042, 0.041, 0.042],\n",
       "             mask=False,\n",
       "       fill_value=-9.99e-29)"
      ]
     },
     "execution_count": 29,
     "metadata": {},
     "output_type": "execute_result"
    }
   ],
   "source": [
    "np.diff(time)"
   ]
  },
  {
   "cell_type": "code",
   "execution_count": 93,
   "id": "d6c35f73-83d3-458b-8f83-862e92f48199",
   "metadata": {
    "tags": []
   },
   "outputs": [
    {
     "data": {
      "text/plain": [
       "8271"
      ]
     },
     "execution_count": 93,
     "metadata": {},
     "output_type": "execute_result"
    }
   ],
   "source": [
    "len(diff_pres_conv)"
   ]
  },
  {
   "cell_type": "code",
   "execution_count": 94,
   "id": "13119cc2-82db-4350-a82c-3cf7a80798ab",
   "metadata": {
    "tags": []
   },
   "outputs": [
    {
     "name": "stdout",
     "output_type": "stream",
     "text": [
      "14\n",
      "15\n",
      "2\n",
      "--\n",
      "--\n"
     ]
    }
   ],
   "source": [
    "count_down = 0\n",
    "count_up = 0\n",
    "for i in range(1,len(diff_pres_conv)):\n",
    "    # print(diff_pres[i])\n",
    "    # print(diff_pres[i]*diff_pres[i-1])\n",
    "    if (diff_pres_conv.data[i]*diff_pres_conv.data[i-1]) < 0 :\n",
    "        if diff_pres_conv.data[i-1]>0:\n",
    "            if  not count_down: \n",
    "                start_down = i\n",
    "            else:\n",
    "                start_down = np.r_[start_down, i]\n",
    "            count_down+=1\n",
    "        else:\n",
    "            if not count_up : \n",
    "                start_up = i\n",
    "            else:\n",
    "                start_up = np.r_[start_up, i]\n",
    "            count_up+=1\n",
    "            \n",
    "\n",
    "# print(start_up)          \n",
    "# print(start_down)\n",
    "\n",
    "\n",
    "# print(pres[start_down[1]])\n",
    "larger = 1\n",
    "smaller = -1\n",
    "equal = 0\n",
    "print(len(start_up))\n",
    "print(len(start_down))\n",
    "\n",
    "if len(start_up) > len(start_down):\n",
    "    end_indx = len(start_down)\n",
    "    status = larger\n",
    "elif len(start_up) < len(start_down):\n",
    "    end_indx = len(start_up)\n",
    "    status = smaller\n",
    "else:\n",
    "    \n",
    "    status = equal\n",
    "    \n",
    "\n",
    "\n",
    "if start_down[0] < start_up[0]:\n",
    "    if status == equal:\n",
    "        mono_duration = start_up[:-1] - start_down[1:]\n",
    "    elif status == larger:\n",
    "        mono_duration = start_up[:end_indx-1] - start_down[1:]\n",
    "    elif status == smaller:\n",
    "        mono_duration = start_up[:] - start_down[1:1+len(start_up)]\n",
    "    # print(mono_duration)\n",
    "    downcast_index = np.argmax(np.abs(mono_duration))\n",
    "    print(downcast_index)\n",
    "    if ((pres[start_down[downcast_index+1]] - \n",
    "              pres[start_up[downcast_index]]) < 5):\n",
    "        mono_duration[downcast_index] = 0\n",
    "        downcast_index = np.argmax(np.abs(mono_duration))\n",
    "    mono_duration[downcast_index] = 0\n",
    "    downcast2_index = np.argmax(np.abs(mono_duration))\n",
    "    if (downcast2_index > downcast_index)  \\\n",
    "        and ((pres[start_down[downcast2_index+1]] - \n",
    "              pres[start_up[downcast2_index]]) > 5):\n",
    "        time_downcast = np.r_[\n",
    "                              time[start_up[downcast_index]:start_down[downcast_index+1]],\n",
    "                              time[start_up[downcast2_index]:start_down[downcast2_index+1]]\n",
    "\n",
    "                              ]\n",
    "        pres_downcast = np.r_[\n",
    "                              pres[start_up[downcast_index]:start_down[downcast_index+1]],\n",
    "                              pres[start_up[downcast2_index]:start_down[downcast2_index+1]]\n",
    "                              ]\n",
    "        temp_downcast = np.r_[\n",
    "                               temp[start_up[downcast_index]:start_down[downcast_index+1]],\n",
    "                               temp[start_up[downcast2_index]:start_down[downcast2_index+1]]\n",
    "                            ]\n",
    "    else:\n",
    "            \n",
    "        time_downcast = time[start_up[downcast_index]:start_down[downcast_index+1]]\n",
    "        pres_downcast = pres[start_up[downcast_index]:start_down[downcast_index+1]]\n",
    "        temp_downcast = temp[start_up[downcast_index]:start_down[downcast_index+1]]\n",
    "\n",
    "else:\n",
    "    if status == equal:\n",
    "        mono_duration = start_up - start_down\n",
    "    elif status == larger:\n",
    "        mono_duration = start_up[:end_indx] - start_down\n",
    "    elif status == smaller:\n",
    "        mono_duration = start_up - start_down[:end_indx]\n",
    "    \n",
    "    # print(mono_duration)\n",
    "    downcast_index = np.argmax(np.abs(mono_duration))\n",
    "    print(downcast_index)\n",
    "    if ((pres[start_down[downcast_index]] - \n",
    "              pres[start_up[downcast_index]]) < 5):\n",
    "        mono_duration[downcast_index] = 0\n",
    "        downcast_index = np.argmax(np.abs(mono_duration))\n",
    "    mono_duration[downcast_index] = 0\n",
    "    downcast2_index = np.argmax(np.abs(mono_duration))\n",
    "    print(downcast2_index)\n",
    "    if (downcast2_index > downcast_index)\\\n",
    "        and ((pres[start_down[downcast2_index]] - \n",
    "              pres[start_up[downcast2_index]]) > 5):\n",
    "        time_downcast = np.r_[\n",
    "                              time[start_up[downcast_index]:start_down[downcast_index]],\n",
    "                              time[start_up[downcast2_index]:start_down[downcast2_index]]\n",
    "\n",
    "                              ]\n",
    "        pres_downcast = np.r_[\n",
    "                              pres[start_up[downcast_index]:start_down[downcast_index]],\n",
    "                              pres[start_up[downcast2_index]:start_down[downcast2_index]]\n",
    "                              ]\n",
    "        temp_downcast = np.r_[\n",
    "                               temp[start_up[downcast_index]:start_down[downcast_index]],\n",
    "                               temp[start_up[downcast2_index]:start_down[downcast2_index]]\n",
    "                            ]\n",
    "    else:\n",
    "            \n",
    "        time_downcast = time[start_up[downcast_index]:start_down[downcast_index]]\n",
    "        pres_downcast = pres[start_up[downcast_index]:start_down[downcast_index]]\n",
    "        temp_downcast = temp[start_up[downcast_index]:start_down[downcast_index]]\n",
    "\n",
    "# print(status)\n",
    "print(time[start_up[downcast_index]])\n",
    "print(time[start_down[downcast_index+1]])\n",
    "# print(np.argmax(np.abs(start_down-start_up)))\n",
    "# print(start_up[downcast_index])"
   ]
  },
  {
   "cell_type": "code",
   "execution_count": 70,
   "id": "8f2bd11e-5263-4d45-87fc-ef540b64d8cc",
   "metadata": {
    "tags": []
   },
   "outputs": [],
   "source": [
    "\n",
    "time_downcast = time[start_up[downcast_index]:start_down[downcast_index+1]]\n",
    "pres_downcast = pres[start_up[downcast_index]:start_down[downcast_index+1]]\n",
    "temp_downcast = temp[start_up[downcast_index]:start_down[downcast_index+1]]"
   ]
  },
  {
   "cell_type": "code",
   "execution_count": 71,
   "id": "e1434182-43c4-4165-b670-0210db5b3a5e",
   "metadata": {
    "tags": []
   },
   "outputs": [
    {
     "data": {
      "text/plain": [
       "masked_array(data=[235.833, 235.875, 235.917, 235.958, 236.0, 236.042,\n",
       "                   236.083, 236.125, 236.167, 236.208, 236.25, 236.292,\n",
       "                   236.333, 236.375, 236.417, 236.458, 236.5, 236.542,\n",
       "                   236.583, 236.625, 236.667, 236.708, 236.75, 236.792,\n",
       "                   236.833, 236.875, 236.917, 236.958, 237.0, 237.042,\n",
       "                   237.083, 237.125, 237.167, 237.208, 237.25, 237.292,\n",
       "                   237.333, 237.375, 237.417, 237.458, 237.5, 237.542,\n",
       "                   237.583, 237.625, 237.667, 237.708, 237.75, 237.792,\n",
       "                   237.833, 237.875, 237.917, 237.958, 238.0, 238.042,\n",
       "                   238.083, 238.125, 238.167, 238.208, 238.25, 238.292,\n",
       "                   238.333, 238.375, 238.417, 238.458, 238.5, 238.542,\n",
       "                   238.583, 238.625, 238.667, 238.708, 238.75, 238.792,\n",
       "                   238.833, 238.875, 238.917, 238.958, 239.0, 239.042,\n",
       "                   239.083, 239.125, 239.167, 239.208, 239.25, 239.292,\n",
       "                   239.333, 239.375, 239.417, 239.458, 239.5, 239.542,\n",
       "                   239.583, 239.625, 239.667, 239.708, 239.75, 239.792,\n",
       "                   239.833, 239.875, 239.917, 239.958, 240.0, 240.042,\n",
       "                   240.083, 240.125, 240.167, 240.208, 240.25, 240.292,\n",
       "                   240.333, 240.375, 240.417, 240.458, 240.5, 240.542,\n",
       "                   240.583, 240.625, 240.667, 240.708, 240.75, 240.792,\n",
       "                   240.833, 240.875, 240.917, 240.958, 241.0, 241.042,\n",
       "                   241.083, 241.125, 241.167, 241.208, 241.25, 241.292,\n",
       "                   241.333, 241.375, 241.417, 241.458, 241.5, 241.542,\n",
       "                   241.583, 241.625, 241.667, 241.708, 241.75, 241.792,\n",
       "                   241.833, 241.875, 241.917, 241.958, 242.0, 242.042,\n",
       "                   242.083, 242.125, 242.167, 242.208, 242.25, 242.292,\n",
       "                   242.333, 242.375, 242.417, 242.458, 242.5, 242.542,\n",
       "                   242.583, 242.625, 242.667, 242.708, 242.75, 242.792,\n",
       "                   242.833, 242.875, 242.917, 242.958, 243.0, 243.042,\n",
       "                   243.083, 243.125, 243.167, 243.208, 243.25, 243.292,\n",
       "                   243.333, 243.375, 243.417, 243.458, 243.5, 243.542,\n",
       "                   243.583, 243.625, 243.667, 243.708, 243.75, 243.792,\n",
       "                   243.833, 243.875, 243.917, 243.958, 244.0, 244.042,\n",
       "                   244.083, 244.125, 244.167, 244.208, 244.25, 244.292,\n",
       "                   244.333, 244.375, 244.417, 244.458, 244.5, 244.542,\n",
       "                   244.583, 244.625, 244.667, 244.708, 244.75, 244.792,\n",
       "                   244.833, 244.875, 244.917, 244.958, 245.0, 245.042,\n",
       "                   245.083, 245.125, 245.167, 245.208, 245.25, 245.292,\n",
       "                   245.333, 245.375, 245.417, 245.458, 245.5, 245.542,\n",
       "                   245.583, 245.625, 245.667, 245.708, 245.75, 245.792,\n",
       "                   245.833, 245.875, 245.917, 245.958, 246.0, 246.042,\n",
       "                   246.083, 246.125, 246.167, 246.208, 246.25, 246.292,\n",
       "                   246.333, 246.375, 246.417, 246.458, 246.5, 246.542,\n",
       "                   246.583, 246.625, 246.667, 246.708, 246.75, 246.792,\n",
       "                   246.833, 246.875, 246.917, 246.958, 247.0, 247.042,\n",
       "                   247.083, 247.125, 247.167, 247.208, 247.25, 247.292,\n",
       "                   247.333, 247.375, 247.417, 247.458, 247.5, 247.542,\n",
       "                   247.583, 247.625, 247.667, 247.708, 247.75, 247.792,\n",
       "                   247.833, 247.875, 247.917, 247.958, 248.0, 248.042,\n",
       "                   248.083, 248.125, 248.167, 248.208, 248.25, 248.292,\n",
       "                   248.333, 248.375, 248.417, 248.458, 248.5, 248.542,\n",
       "                   248.583, 248.625, 248.667, 248.708, 248.75, 248.792,\n",
       "                   248.833, 248.875, 248.917, 248.958, 249.0, 249.042,\n",
       "                   249.083, 249.125, 249.167, 249.208, 249.25, 249.292,\n",
       "                   249.333, 249.375, 249.417, 249.458, 249.5, 249.542,\n",
       "                   249.583, 249.625, 249.667, 249.708, 249.75, 249.792,\n",
       "                   249.833, 249.875, 249.917, 249.958, 250.0, 250.042,\n",
       "                   250.083, 250.125, 250.167, 250.208, 250.25, 250.292,\n",
       "                   250.333, 250.375, 250.417, 250.458, 250.5, 250.542,\n",
       "                   250.583, 250.625, 250.667, 250.708, 250.75, 250.792,\n",
       "                   250.833, 250.875, 250.917, 250.958, 251.0, 251.042,\n",
       "                   251.083, 251.125, 251.167, 251.208, 251.25, 251.292,\n",
       "                   251.333, 251.375, 251.417, 251.458, 251.5, 251.542,\n",
       "                   251.583, 251.625, 251.667, 251.708, 251.75, 251.792,\n",
       "                   251.833, 251.875, 251.917, 251.958, 252.0, 252.042,\n",
       "                   252.083, 252.125, 252.167, 252.208, 252.25, 252.292,\n",
       "                   252.333, 252.375, 252.417, 252.458, 252.5, 252.542,\n",
       "                   252.583, 252.625, 252.667, 252.708, 252.75, 252.792,\n",
       "                   252.833, 252.875, 252.917, 252.958, 253.0, 253.042,\n",
       "                   253.083, 253.125, 253.167, 253.208, 253.25, 253.292,\n",
       "                   253.333, 253.375, 253.417, 253.458, 253.5, 253.542,\n",
       "                   253.583, 253.625, 253.667, 253.708, 253.75, 253.792,\n",
       "                   253.833, 253.875, 253.917, 253.958, 254.0, 254.042,\n",
       "                   254.083, 254.125, 254.167, 254.208, 254.25, 254.292,\n",
       "                   254.333, 254.375, 254.417, 254.458, 254.5, 254.542,\n",
       "                   254.583, 254.625, 254.667, 254.708, 254.75, 254.792,\n",
       "                   254.833, 254.875, 254.917, 254.958, 255.0, 255.042,\n",
       "                   255.083, 255.125, 255.167, 255.208, 255.25, 255.292,\n",
       "                   255.333, 255.375, 255.417, 255.458, 255.5, 255.542,\n",
       "                   255.583, 255.625, 255.667, 255.708, 255.75, 255.792,\n",
       "                   255.833, 255.875, 255.917, 255.958, 256.0, 256.042,\n",
       "                   256.083, 256.125, 256.167, 256.208, 256.25, 256.292,\n",
       "                   256.333, 256.375, 256.417, 256.458, 256.5, 256.542,\n",
       "                   256.583, 256.625, 256.667, 256.708, 256.75, 256.792,\n",
       "                   256.833, 256.875, 256.917, 256.958, 257.0, 257.042,\n",
       "                   257.083, 257.125, 257.167, 257.208, 257.25, 257.292,\n",
       "                   257.333, 257.375, 257.417, 257.458, 257.5, 257.542,\n",
       "                   257.583, 257.625, 257.667, 257.708, 257.75, 257.792,\n",
       "                   257.833, 257.875, 257.917, 257.958, 258.0, 258.042,\n",
       "                   258.083, 258.125, 258.167, 258.208, 258.25, 258.292,\n",
       "                   258.333, 258.375, 258.417, 258.458, 258.5, 258.542,\n",
       "                   258.583, 258.625, 258.667, 258.708, 258.75, 258.792,\n",
       "                   258.833, 258.875, 258.917, 258.958, 259.0, 259.042,\n",
       "                   259.083, 259.125, 259.167, 259.208, 259.25, 259.292,\n",
       "                   259.333, 259.375, 259.417, 259.458, 259.5, 259.542,\n",
       "                   259.583, 259.625, 259.667, 259.708, 259.75, 259.792,\n",
       "                   259.833, 259.875, 259.917, 259.958, 260.0, 260.042,\n",
       "                   260.083, 260.125, 260.167, 260.208, 260.25, 260.292,\n",
       "                   260.333, 260.375, 260.417, 260.458, 260.5, 260.542,\n",
       "                   260.583, 260.625, 260.667, 260.708, 260.75, 260.792,\n",
       "                   260.833, 260.875, 260.917, 260.958, 261.0, 261.042,\n",
       "                   261.083, 261.125, 261.167, 261.208, 261.25, 261.292,\n",
       "                   261.333, 261.375, 261.417, 261.458, 261.5, 261.542,\n",
       "                   261.583, 261.625, 261.667, 261.708, 261.75, 261.792,\n",
       "                   261.833, 261.875, 261.917, 261.958, 262.0, 262.042,\n",
       "                   262.083, 262.125, 262.167, 262.208, 262.25, 262.292,\n",
       "                   262.333, 262.375, 262.417, 262.458, 262.5, 262.542,\n",
       "                   262.583, 262.625, 262.667, 262.708, 262.75, 262.792,\n",
       "                   262.833, 262.875, 262.917, 262.958, 263.0, 263.042,\n",
       "                   263.083, 263.125, 263.167, 263.208, 263.25, 263.292,\n",
       "                   263.333, 263.375, 263.417, 263.458, 263.5, 263.542,\n",
       "                   263.583, 263.625, 263.667, 263.708, 263.75, 263.792,\n",
       "                   263.833, 263.875, 263.917, 263.958, 264.0, 264.042,\n",
       "                   264.083, 264.125, 264.167, 264.208, 264.25, 264.292,\n",
       "                   264.333, 264.375, 264.417, 264.458, 264.5, 264.542,\n",
       "                   264.583, 264.625, 264.667, 264.708, 264.75, 264.792,\n",
       "                   264.833, 264.875, 264.917, 264.958, 265.0, 265.042,\n",
       "                   265.083, 265.125, 265.167, 265.208, 265.25, 265.292,\n",
       "                   265.333, 265.375, 265.417, 265.458, 265.5, 265.542,\n",
       "                   265.583, 265.625, 265.667, 265.708, 265.75, 265.792,\n",
       "                   265.833, 265.875, 265.917, 265.958, 266.0, 266.042,\n",
       "                   266.083, 266.125, 266.167, 266.208, 266.25, 266.292,\n",
       "                   266.333, 266.375, 266.417, 266.458, 266.5, 266.542,\n",
       "                   266.583, 266.625, 266.667, 266.708, 266.75, 266.792,\n",
       "                   266.833, 266.875, 266.917, 266.958, 267.0, 267.042,\n",
       "                   267.083, 267.125, 267.167, 267.208, 267.25, 267.292,\n",
       "                   267.333, 267.375, 267.417, 267.458],\n",
       "             mask=[False, False, False, False, False, False, False, False,\n",
       "                   False, False, False, False, False, False, False, False,\n",
       "                   False, False, False, False, False, False, False, False,\n",
       "                   False, False, False, False, False, False, False, False,\n",
       "                   False, False, False, False, False, False, False, False,\n",
       "                   False, False, False, False, False, False, False, False,\n",
       "                   False, False, False, False, False, False, False, False,\n",
       "                   False, False, False, False, False, False, False, False,\n",
       "                   False, False, False, False, False, False, False, False,\n",
       "                   False, False, False, False, False, False, False, False,\n",
       "                   False, False, False, False, False, False, False, False,\n",
       "                   False, False, False, False, False, False, False, False,\n",
       "                   False, False, False, False, False, False, False, False,\n",
       "                   False, False, False, False, False, False, False, False,\n",
       "                   False, False, False, False, False, False, False, False,\n",
       "                   False, False, False, False, False, False, False, False,\n",
       "                   False, False, False, False, False, False, False, False,\n",
       "                   False, False, False, False, False, False, False, False,\n",
       "                   False, False, False, False, False, False, False, False,\n",
       "                   False, False, False, False, False, False, False, False,\n",
       "                   False, False, False, False, False, False, False, False,\n",
       "                   False, False, False, False, False, False, False, False,\n",
       "                   False, False, False, False, False, False, False, False,\n",
       "                   False, False, False, False, False, False, False, False,\n",
       "                   False, False, False, False, False, False, False, False,\n",
       "                   False, False, False, False, False, False, False, False,\n",
       "                   False, False, False, False, False, False, False, False,\n",
       "                   False, False, False, False, False, False, False, False,\n",
       "                   False, False, False, False, False, False, False, False,\n",
       "                   False, False, False, False, False, False, False, False,\n",
       "                   False, False, False, False, False, False, False, False,\n",
       "                   False, False, False, False, False, False, False, False,\n",
       "                   False, False, False, False, False, False, False, False,\n",
       "                   False, False, False, False, False, False, False, False,\n",
       "                   False, False, False, False, False, False, False, False,\n",
       "                   False, False, False, False, False, False, False, False,\n",
       "                   False, False, False, False, False, False, False, False,\n",
       "                   False, False, False, False, False, False, False, False,\n",
       "                   False, False, False, False, False, False, False, False,\n",
       "                   False, False, False, False, False, False, False, False,\n",
       "                   False, False, False, False, False, False, False, False,\n",
       "                   False, False, False, False, False, False, False, False,\n",
       "                   False, False, False, False, False, False, False, False,\n",
       "                   False, False, False, False, False, False, False, False,\n",
       "                   False, False, False, False, False, False, False, False,\n",
       "                   False, False, False, False, False, False, False, False,\n",
       "                   False, False, False, False, False, False, False, False,\n",
       "                   False, False, False, False, False, False, False, False,\n",
       "                   False, False, False, False, False, False, False, False,\n",
       "                   False, False, False, False, False, False, False, False,\n",
       "                   False, False, False, False, False, False, False, False,\n",
       "                   False, False, False, False, False, False, False, False,\n",
       "                   False, False, False, False, False, False, False, False,\n",
       "                   False, False, False, False, False, False, False, False,\n",
       "                   False, False, False, False, False, False, False, False,\n",
       "                   False, False, False, False, False, False, False, False,\n",
       "                   False, False, False, False, False, False, False, False,\n",
       "                   False, False, False, False, False, False, False, False,\n",
       "                   False, False, False, False, False, False, False, False,\n",
       "                   False, False, False, False, False, False, False, False,\n",
       "                   False, False, False, False, False, False, False, False,\n",
       "                   False, False, False, False, False, False, False, False,\n",
       "                   False, False, False, False, False, False, False, False,\n",
       "                   False, False, False, False, False, False, False, False,\n",
       "                   False, False, False, False, False, False, False, False,\n",
       "                   False, False, False, False, False, False, False, False,\n",
       "                   False, False, False, False, False, False, False, False,\n",
       "                   False, False, False, False, False, False, False, False,\n",
       "                   False, False, False, False, False, False, False, False,\n",
       "                   False, False, False, False, False, False, False, False,\n",
       "                   False, False, False, False, False, False, False, False,\n",
       "                   False, False, False, False, False, False, False, False,\n",
       "                   False, False, False, False, False, False, False, False,\n",
       "                   False, False, False, False, False, False, False, False,\n",
       "                   False, False, False, False, False, False, False, False,\n",
       "                   False, False, False, False, False, False, False, False,\n",
       "                   False, False, False, False, False, False, False, False,\n",
       "                   False, False, False, False, False, False, False, False,\n",
       "                   False, False, False, False, False, False, False, False,\n",
       "                   False, False, False, False, False, False, False, False,\n",
       "                   False, False, False, False, False, False, False, False,\n",
       "                   False, False, False, False, False, False, False, False,\n",
       "                   False, False, False, False, False, False, False, False,\n",
       "                   False, False, False, False, False, False, False, False,\n",
       "                   False, False, False, False, False, False, False, False,\n",
       "                   False, False, False, False, False, False, False, False,\n",
       "                   False, False, False, False, False, False, False, False,\n",
       "                   False, False, False, False, False, False, False, False,\n",
       "                   False, False, False, False, False, False, False, False,\n",
       "                   False, False, False, False, False, False, False, False,\n",
       "                   False, False, False, False, False, False, False, False,\n",
       "                   False, False, False, False, False, False, False, False,\n",
       "                   False, False, False, False, False, False, False, False,\n",
       "                   False, False, False, False, False, False, False, False,\n",
       "                   False, False, False, False, False, False, False, False],\n",
       "       fill_value=-9.99e-29)"
      ]
     },
     "execution_count": 71,
     "metadata": {},
     "output_type": "execute_result"
    }
   ],
   "source": [
    "time_downcast"
   ]
  },
  {
   "cell_type": "code",
   "execution_count": 51,
   "id": "ec79eb06-5f87-4714-b307-588e0290b0cd",
   "metadata": {
    "tags": []
   },
   "outputs": [
    {
     "data": {
      "text/plain": [
       "0.0025"
      ]
     },
     "execution_count": 51,
     "metadata": {},
     "output_type": "execute_result"
    }
   ],
   "source": [
    "Cf"
   ]
  },
  {
   "cell_type": "code",
   "execution_count": 162,
   "id": "3b2c0f26-168d-430b-923d-a09d57a233a6",
   "metadata": {},
   "outputs": [
    {
     "name": "stdout",
     "output_type": "stream",
     "text": [
      "Using matplotlib backend: MacOSX\n"
     ]
    },
    {
     "data": {
      "text/plain": [
       "[<matplotlib.lines.Line2D at 0x7fed88592ee0>]"
      ]
     },
     "execution_count": 162,
     "metadata": {},
     "output_type": "execute_result"
    }
   ],
   "source": [
    "%matplotlib\n",
    "freq, ps, psd,conf = seapy.filt.powerspectra(diff_pres)\n",
    "# ffreq, fps, fpsd,fconf = seapy.filt.powerspectra(fdiff_pres)\n",
    "# plt.loglog(np.full_like(freq,1/12,), np.linspace(0,10,len(freq)),'k')\n",
    "plt.loglog(freq,psd*freq,label = 'raw')\n",
    "# plt.loglog(ffreq,fpsd*ffreq,label = 'filted')"
   ]
  },
  {
   "cell_type": "code",
   "execution_count": 24,
   "id": "4132ebdf-4ff2-4870-9e31-ed669f0230ab",
   "metadata": {
    "tags": []
   },
   "outputs": [
    {
     "name": "stdout",
     "output_type": "stream",
     "text": [
      "Using matplotlib backend: MacOSX\n"
     ]
    },
    {
     "data": {
      "text/plain": [
       "Text(0.5, 1.0, 'E01')"
      ]
     },
     "execution_count": 24,
     "metadata": {},
     "output_type": "execute_result"
    }
   ],
   "source": [
    "%matplotlib\n",
    "plt.plot(time, pres,'b')\n",
    "# plt.plot(time,fpres,'r--')\n",
    "plt.plot(time,pres_conv,'k--')\n",
    "# plt.plot(time,pres_conv,'k--')\n",
    "# plt.plot(time[start_up[downcast2_index]:start_down[downcast2_index+1]],pres[start_up[downcast2_index]:start_down[downcast2_index+1]],'r')\n",
    "plt.plot(time_downcast,pres_downcast,'r')\n",
    "# plt.plot(time[:-1],diff_pres)\n",
    "plt.plot(time[start_up],pres[start_up],'r.',label='start_up')\n",
    "plt.plot(time[start_down],pres[start_down],'g.',label='start_down')\n",
    "plt.xlabel('TIME(sec)')\n",
    "plt.ylabel('PRES(db)')\n",
    "plt.legend()\n",
    "plt.title('E01')"
   ]
  },
  {
   "cell_type": "code",
   "execution_count": 26,
   "id": "4290a0a5-fcdb-4f7b-ac74-a21055d1fc2a",
   "metadata": {
    "tags": []
   },
   "outputs": [
    {
     "name": "stdout",
     "output_type": "stream",
     "text": [
      "Using matplotlib backend: MacOSX\n"
     ]
    },
    {
     "data": {
      "text/plain": [
       "Text(0.5, 1.0, 'Downcast_Software')"
      ]
     },
     "execution_count": 26,
     "metadata": {},
     "output_type": "execute_result"
    }
   ],
   "source": [
    "%matplotlib\n",
    "plt.plot(temp[start_up[downcast2_index]:start_down[downcast2_index+1]], pres[start_up[downcast2_index]:start_down[downcast2_index+1]],'b')\n",
    "plt.plot(temp_downcast, pres_downcast,'b')\n",
    "plt.gca().invert_yaxis()\n",
    "plt.xlabel('TEMP')\n",
    "plt.ylabel('PRES')\n",
    "# plt.xlim([5.5,17])\n",
    "plt.title('Downcast_Software')"
   ]
  },
  {
   "cell_type": "code",
   "execution_count": 27,
   "id": "0cecbf08-01ff-43f7-ab96-a1473fc05764",
   "metadata": {
    "tags": []
   },
   "outputs": [
    {
     "name": "stdout",
     "output_type": "stream",
     "text": [
      "Using matplotlib backend: MacOSX\n"
     ]
    },
    {
     "data": {
      "text/plain": [
       "Text(0.5, 1.0, 'Downcast')"
      ]
     },
     "execution_count": 27,
     "metadata": {},
     "output_type": "execute_result"
    }
   ],
   "source": [
    "%matplotlib\n",
    "plt.plot(temp[start_up[downcast_index]:start_down[downcast_index+1]], pres[start_up[downcast_index]:start_down[downcast_index+1]],'b')\n",
    "plt.gca().invert_yaxis()\n",
    "plt.xlabel('TEMP')\n",
    "plt.ylabel('PRES')\n",
    "# plt.xlim([5.5,17])\n",
    "plt.title('Downcast')"
   ]
  },
  {
   "cell_type": "code",
   "execution_count": 152,
   "id": "b9ddeb7f-7e4e-4852-a9eb-650fad5f634f",
   "metadata": {
    "tags": []
   },
   "outputs": [
    {
     "name": "stdout",
     "output_type": "stream",
     "text": [
      "Using matplotlib backend: MacOSX\n"
     ]
    },
    {
     "data": {
      "text/plain": [
       "(5.5, 17.0)"
      ]
     },
     "execution_count": 152,
     "metadata": {},
     "output_type": "execute_result"
    }
   ],
   "source": [
    "%matplotlib\n",
    "plt.plot(temp,pres,'b')\n",
    "plt.gca().invert_yaxis()\n",
    "plt.xlabel('TEMP')\n",
    "plt.ylabel('PRES')\n",
    "plt.xlim([5.5,17])\n",
    "plt.title('H04 Bin_Averaged')"
   ]
  },
  {
   "cell_type": "code",
   "execution_count": null,
   "id": "b3678878-bd2d-4a85-9469-2f888f208ccd",
   "metadata": {
    "tags": []
   },
   "outputs": [],
   "source": [
    "%matplotlib\n",
    "plt.plot(np.convolve(temp_downcast,np.ones(48)/48,mode='full')[24:-23],np.convolve(pres_downcast,np.ones(48)/48,mode='full')[24:-23],'b')\n",
    "plt.gca().invert_yaxis()\n",
    "plt.xlabel('TEMP')\n",
    "plt.ylabel('PRES')\n",
    "plt.title('Bin_Averaged')"
   ]
  },
  {
   "cell_type": "code",
   "execution_count": 40,
   "id": "66cd5f73-59fa-4038-8bdf-0d0b1e7d9951",
   "metadata": {
    "tags": []
   },
   "outputs": [
    {
     "data": {
      "text/plain": [
       "32.0"
      ]
     },
     "execution_count": 40,
     "metadata": {},
     "output_type": "execute_result"
    }
   ],
   "source": [
    "np.ceil(np.max(pres))"
   ]
  },
  {
   "cell_type": "code",
   "execution_count": 43,
   "id": "e1f3b562-5436-49fb-b043-1d63bfe2e1cb",
   "metadata": {
    "tags": []
   },
   "outputs": [],
   "source": [
    "# time_valid = np.ma.masked_outside(time,124.0,190)\n",
    "# depth[time_valid.mask] = np.ma.masked\n",
    "# temp[time_valid.mask] = np.ma.masked\n",
    "# pres[time_valid.mask] = np.ma.masked\n",
    "\n",
    "\n",
    "# z = -gsw.z_from_p(pres, 35.9648)\n",
    "# z_intp = np.arange(3,39,3)\n",
    "pres_intp = np.arange(1, np.ceil(np.max(pres_downcast)))\n",
    "temp_intp = np.interp(pres_intp,pres_downcast,temp_downcast)"
   ]
  },
  {
   "cell_type": "code",
   "execution_count": 44,
   "id": "546d8131-a871-4af8-a478-203005b64bbf",
   "metadata": {
    "tags": []
   },
   "outputs": [
    {
     "name": "stdout",
     "output_type": "stream",
     "text": [
      "Using matplotlib backend: MacOSX\n"
     ]
    },
    {
     "data": {
      "text/plain": [
       "Text(0.5, 1.0, 'H04 Bin_Averaged')"
      ]
     },
     "execution_count": 44,
     "metadata": {},
     "output_type": "execute_result"
    }
   ],
   "source": [
    "%matplotlib\n",
    "import matplotlib.pyplot as plt\n",
    "# plt.plot(temp_downcast,pres_downcast,'b')\n",
    "plt.plot(temp_intp, pres_intp,'b')\n",
    "# plt.plot(temp_raw, pres_intp,'k')\n",
    "# plt.plot(temp_raw-temp_intp, z_intp,'k')\n",
    "plt.xlim([5.5,17])\n",
    "plt.gca().invert_yaxis()\n",
    "plt.xlabel('TEMP')\n",
    "plt.ylabel('PRES')\n",
    "plt.title('H04 Bin_Averaged')"
   ]
  },
  {
   "cell_type": "code",
   "execution_count": null,
   "id": "c177eca6-520e-47f7-8cde-4f35813e8802",
   "metadata": {
    "tags": []
   },
   "outputs": [],
   "source": [
    "temp_raw = np.asarray([14.7705,13.9148,9.3748,9.3309,9.3286,9.3283,9.3413,9.3312,9.3314,9.3485])\n",
    "\n",
    "temp_raw = np.asarray([14.8674,13.1768,9.8430,9.1345,8.0230,7.9294,7.9236,7.9091,7.9076,7.9169,7.9143,7.9101])"
   ]
  },
  {
   "cell_type": "code",
   "execution_count": null,
   "id": "e247baad-b3e1-4fa6-8da5-2b7211ce1cdd",
   "metadata": {
    "tags": []
   },
   "outputs": [],
   "source": [
    "temp_raw.shape"
   ]
  },
  {
   "cell_type": "code",
   "execution_count": null,
   "id": "175b4bad-7f67-4436-8bd5-2de7daaae002",
   "metadata": {},
   "outputs": [],
   "source": [
    "temp_intp.shape"
   ]
  },
  {
   "cell_type": "code",
   "execution_count": null,
   "id": "f861c5ea-b471-4ec0-92be-419d1259cef7",
   "metadata": {},
   "outputs": [],
   "source": []
  }
 ],
 "metadata": {
  "kernelspec": {
   "display_name": "Python 3 (ipykernel)",
   "language": "python",
   "name": "python3"
  },
  "language_info": {
   "codemirror_mode": {
    "name": "ipython",
    "version": 3
   },
   "file_extension": ".py",
   "mimetype": "text/x-python",
   "name": "python",
   "nbconvert_exporter": "python",
   "pygments_lexer": "ipython3",
   "version": "3.9.13"
  }
 },
 "nbformat": 4,
 "nbformat_minor": 5
}
