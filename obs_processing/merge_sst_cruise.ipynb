{
 "cells": [
  {
   "cell_type": "code",
   "execution_count": 1,
   "id": "affd5dd0-7bdd-4e1c-ab7a-ecfbf93ef432",
   "metadata": {
    "tags": []
   },
   "outputs": [
    {
     "name": "stderr",
     "output_type": "stream",
     "text": [
      "NumExpr defaulting to 8 threads.\n"
     ]
    }
   ],
   "source": [
    "import seapy\n",
    "import Obs_workspace as ow\n",
    "import numpy as np\n",
    "import matplotlib.pyplot as plt"
   ]
  },
  {
   "cell_type": "code",
   "execution_count": 2,
   "id": "975a88dd-15d9-4b54-82b5-1dcd943b1b37",
   "metadata": {
    "tags": []
   },
   "outputs": [],
   "source": [
    "grdfile = '/Volumes/TO_1/outputs_SCORRECTION/ocean_ecs_fwd_15461_outer1.nc'\n",
    "dt = 1/24/60\n",
    "grid = seapy.model.asgrid(grdfile)"
   ]
  },
  {
   "cell_type": "code",
   "execution_count": 3,
   "id": "dff81b04-0da1-4c05-80ef-60d072046b3e",
   "metadata": {
    "tags": []
   },
   "outputs": [],
   "source": [
    "Datasets = [\n",
    "            'NSFC2012SPRING-YS',\n",
    "            'NSFC2012SPRING-ES',\n",
    "            'IOCAS2012SPRING',\n",
    "            'NSFC2012AUTUMN-ES',\n",
    "            'IOCAS2012AUTUMN',\n",
    "            'NSFC2013SPRING-CJ',\n",
    "            'IOCAS2013SPRING'\n",
    "           ]\n"
   ]
  },
  {
   "cell_type": "code",
   "execution_count": 4,
   "id": "11e488b0-0e9a-4e16-8ac6-6059abc4f799",
   "metadata": {
    "tags": []
   },
   "outputs": [
    {
     "data": {
      "text/plain": [
       "slice(None, None, None)"
      ]
     },
     "execution_count": 4,
     "metadata": {},
     "output_type": "execute_result"
    }
   ],
   "source": [
    "np.s_[:]"
   ]
  },
  {
   "cell_type": "code",
   "execution_count": null,
   "id": "aed9cb4b-21a6-4cc0-bd5d-1b17c4e31537",
   "metadata": {
    "tags": []
   },
   "outputs": [],
   "source": [
    "obss = []"
   ]
  },
  {
   "cell_type": "code",
   "execution_count": null,
   "id": "0befc35b-a258-4cd1-a627-b74d1172710d",
   "metadata": {
    "tags": []
   },
   "outputs": [],
   "source": [
    "# loading sst obs\n",
    "sst_obs = seapy.roms.obs.obs(filename='/Volumes/TO_1/roms4dvar_ecs/i4dvar_outputs/NOAA_GHRSST/geopolar_sst_2012.nc')"
   ]
  },
  {
   "cell_type": "code",
   "execution_count": null,
   "id": "430b3e19-8331-4c5d-af81-f7cf1d466720",
   "metadata": {
    "tags": []
   },
   "outputs": [],
   "source": [
    "sst_obs_org = sst_obs.copy()"
   ]
  },
  {
   "cell_type": "code",
   "execution_count": null,
   "id": "950ece9c-d6fa-40a1-9e9b-24bdedfa4a92",
   "metadata": {
    "tags": []
   },
   "outputs": [],
   "source": [
    "for dataset in Datasets:\n",
    "    print(dataset)\n",
    "    thisdataset = ow.insitu_workspace('/Volumes/TO_1/roms4dvar_ecs/i4dvar_outputs/INSITU_OBS',dataset,dataset)\n",
    "    thisdataset.pull_ctdinfos()\n",
    "    # must pull_ctdinfos before pull_alldata\n",
    "    if dataset =='NSFC2012SPRING-YS':\n",
    "        thisdataset.pull_alldata(VARS=['PSAL2','TEMP'],refine_withqc_id={'PSAL2':['H03','H16','H25','H34'],'TEMP':[]})\n",
    "    elif dataset == 'NSFC2012SPRING-ES':\n",
    "        thisdataset.pull_alldata(VARS=['PSAL2','TEMP'],refine_withqc_id={'PSAL2':[],'TEMP':[]})\n",
    "    elif dataset == 'IOCAS2012SPRING':\n",
    "        thisdataset.pull_alldata(VARS=['PSAL2','TEMP'],refine_withqc_id={'PSAL2':['3800-01','3800-02','B-03','DH6-2'],'TEMP':['DH6-2',]})\n",
    "    elif dataset == 'NSFC2012AUTUMN-ES':\n",
    "        thisdataset.pull_alldata(VARS=['PSAL2','TEMP'],refine_withqc_id={'PSAL2':[],'TEMP':[]})\n",
    "    elif dataset == 'IOCAS2012AUTUMN':\n",
    "        thisdataset.pull_alldata(VARS=['PSAL2','TEMP'],refine_withqc_id={'PSAL2':['3500-09',],'TEMP':['3500-09','DH4-1']})\n",
    "    elif dataset == 'NSFC2013SPRING-CJ':\n",
    "        thisdataset.pull_alldata(VARS=['PSAL2','TEMP'],refine_withqc_id={'PSAL2':['A01-03','A01-09','A02-04','A02-08','A03-06','A03-09','A04-07','A06-05','A13-01'],'TEMP':['A04-07',]})\n",
    "    elif dataset == 'IOCAS2013SPRING':\n",
    "        thisdataset.pull_alldata(VARS=['PSAL2','TEMP'],refine_withqc_id={'PSAL2':['3600-05','3800-04',],'TEMP':[]})\n",
    "    thisdata = [seapy.roms.obs.raw_data(\"TEMP\", \"CTD\", thisdataset.data['TEMP'].value_r,None,0.1),\n",
    "                seapy.roms.obs.raw_data(\"SALT\", \"CTD\", thisdataset.data['PSAL2'].value_r,None,0.01),]\n",
    "    thisinsitu_obs = seapy.roms.obs.gridder_ctd(grid,thisdataset.data['TEMP'].time_r,\n",
    "                                                thisdataset.data['TEMP'].lon_r,thisdataset.data['TEMP'].lat_r,-thisdataset.data['TEMP'].depth_r, \n",
    "                                                thisdata,dt,title=\"cruise CTD observation %s\"%(dataset))\n",
    "    obss.append(thisinsitu_obs)\n",
    "    sst_obs.add(thisinsitu_obs)"
   ]
  },
  {
   "cell_type": "code",
   "execution_count": null,
   "id": "a3df829e-5189-49db-a20e-12f87e8b7fc2",
   "metadata": {
    "tags": []
   },
   "outputs": [],
   "source": [
    "\n",
    "sst_obs.to_netcdf('/Volumes/TO_1/roms4dvar_ecs/i4dvar_outputs/INSITU_OBS/sst_withcruise_2012.nc')\n"
   ]
  }
 ],
 "metadata": {
  "kernelspec": {
   "display_name": "Python 3 (ipykernel)",
   "language": "python",
   "name": "python3"
  },
  "language_info": {
   "codemirror_mode": {
    "name": "ipython",
    "version": 3
   },
   "file_extension": ".py",
   "mimetype": "text/x-python",
   "name": "python",
   "nbconvert_exporter": "python",
   "pygments_lexer": "ipython3",
   "version": "3.9.13"
  }
 },
 "nbformat": 4,
 "nbformat_minor": 5
}
