{
 "cells": [
  {
   "cell_type": "markdown",
   "metadata": {},
   "source": [
    "# [WIP] Quality Controlling a CTD profile\n",
    "Quality control of a shipboard CTD profile (Temperature & Salinity)"
   ]
  },
  {
   "cell_type": "markdown",
   "metadata": {},
   "source": [
    "## Objective:\n",
    "Walk throught the QC process using CoTeDe."
   ]
  },
  {
   "cell_type": "code",
   "execution_count": 1,
   "metadata": {
    "tags": []
   },
   "outputs": [],
   "source": [
    "from bokeh.io import output_notebook, show\n",
    "from bokeh.layouts import row\n",
    "from bokeh.plotting import figure\n",
    "import numpy as np\n",
    "\n",
    "import cotede\n",
    "from cotede import datasets, qctests"
   ]
  },
  {
   "cell_type": "code",
   "execution_count": 2,
   "metadata": {
    "tags": []
   },
   "outputs": [
    {
     "data": {
      "text/html": [
       "<div class=\"bk-root\">\n",
       "        <a href=\"https://bokeh.org\" target=\"_blank\" class=\"bk-logo bk-logo-small bk-logo-notebook\"></a>\n",
       "        <span id=\"1002\">Loading BokehJS ...</span>\n",
       "    </div>\n"
      ]
     },
     "metadata": {},
     "output_type": "display_data"
    },
    {
     "data": {
      "application/javascript": [
       "(function(root) {\n",
       "  function now() {\n",
       "    return new Date();\n",
       "  }\n",
       "\n",
       "  const force = true;\n",
       "\n",
       "  if (typeof root._bokeh_onload_callbacks === \"undefined\" || force === true) {\n",
       "    root._bokeh_onload_callbacks = [];\n",
       "    root._bokeh_is_loading = undefined;\n",
       "  }\n",
       "\n",
       "const JS_MIME_TYPE = 'application/javascript';\n",
       "  const HTML_MIME_TYPE = 'text/html';\n",
       "  const EXEC_MIME_TYPE = 'application/vnd.bokehjs_exec.v0+json';\n",
       "  const CLASS_NAME = 'output_bokeh rendered_html';\n",
       "\n",
       "  /**\n",
       "   * Render data to the DOM node\n",
       "   */\n",
       "  function render(props, node) {\n",
       "    const script = document.createElement(\"script\");\n",
       "    node.appendChild(script);\n",
       "  }\n",
       "\n",
       "  /**\n",
       "   * Handle when an output is cleared or removed\n",
       "   */\n",
       "  function handleClearOutput(event, handle) {\n",
       "    const cell = handle.cell;\n",
       "\n",
       "    const id = cell.output_area._bokeh_element_id;\n",
       "    const server_id = cell.output_area._bokeh_server_id;\n",
       "    // Clean up Bokeh references\n",
       "    if (id != null && id in Bokeh.index) {\n",
       "      Bokeh.index[id].model.document.clear();\n",
       "      delete Bokeh.index[id];\n",
       "    }\n",
       "\n",
       "    if (server_id !== undefined) {\n",
       "      // Clean up Bokeh references\n",
       "      const cmd_clean = \"from bokeh.io.state import curstate; print(curstate().uuid_to_server['\" + server_id + \"'].get_sessions()[0].document.roots[0]._id)\";\n",
       "      cell.notebook.kernel.execute(cmd_clean, {\n",
       "        iopub: {\n",
       "          output: function(msg) {\n",
       "            const id = msg.content.text.trim();\n",
       "            if (id in Bokeh.index) {\n",
       "              Bokeh.index[id].model.document.clear();\n",
       "              delete Bokeh.index[id];\n",
       "            }\n",
       "          }\n",
       "        }\n",
       "      });\n",
       "      // Destroy server and session\n",
       "      const cmd_destroy = \"import bokeh.io.notebook as ion; ion.destroy_server('\" + server_id + \"')\";\n",
       "      cell.notebook.kernel.execute(cmd_destroy);\n",
       "    }\n",
       "  }\n",
       "\n",
       "  /**\n",
       "   * Handle when a new output is added\n",
       "   */\n",
       "  function handleAddOutput(event, handle) {\n",
       "    const output_area = handle.output_area;\n",
       "    const output = handle.output;\n",
       "\n",
       "    // limit handleAddOutput to display_data with EXEC_MIME_TYPE content only\n",
       "    if ((output.output_type != \"display_data\") || (!Object.prototype.hasOwnProperty.call(output.data, EXEC_MIME_TYPE))) {\n",
       "      return\n",
       "    }\n",
       "\n",
       "    const toinsert = output_area.element.find(\".\" + CLASS_NAME.split(' ')[0]);\n",
       "\n",
       "    if (output.metadata[EXEC_MIME_TYPE][\"id\"] !== undefined) {\n",
       "      toinsert[toinsert.length - 1].firstChild.textContent = output.data[JS_MIME_TYPE];\n",
       "      // store reference to embed id on output_area\n",
       "      output_area._bokeh_element_id = output.metadata[EXEC_MIME_TYPE][\"id\"];\n",
       "    }\n",
       "    if (output.metadata[EXEC_MIME_TYPE][\"server_id\"] !== undefined) {\n",
       "      const bk_div = document.createElement(\"div\");\n",
       "      bk_div.innerHTML = output.data[HTML_MIME_TYPE];\n",
       "      const script_attrs = bk_div.children[0].attributes;\n",
       "      for (let i = 0; i < script_attrs.length; i++) {\n",
       "        toinsert[toinsert.length - 1].firstChild.setAttribute(script_attrs[i].name, script_attrs[i].value);\n",
       "        toinsert[toinsert.length - 1].firstChild.textContent = bk_div.children[0].textContent\n",
       "      }\n",
       "      // store reference to server id on output_area\n",
       "      output_area._bokeh_server_id = output.metadata[EXEC_MIME_TYPE][\"server_id\"];\n",
       "    }\n",
       "  }\n",
       "\n",
       "  function register_renderer(events, OutputArea) {\n",
       "\n",
       "    function append_mime(data, metadata, element) {\n",
       "      // create a DOM node to render to\n",
       "      const toinsert = this.create_output_subarea(\n",
       "        metadata,\n",
       "        CLASS_NAME,\n",
       "        EXEC_MIME_TYPE\n",
       "      );\n",
       "      this.keyboard_manager.register_events(toinsert);\n",
       "      // Render to node\n",
       "      const props = {data: data, metadata: metadata[EXEC_MIME_TYPE]};\n",
       "      render(props, toinsert[toinsert.length - 1]);\n",
       "      element.append(toinsert);\n",
       "      return toinsert\n",
       "    }\n",
       "\n",
       "    /* Handle when an output is cleared or removed */\n",
       "    events.on('clear_output.CodeCell', handleClearOutput);\n",
       "    events.on('delete.Cell', handleClearOutput);\n",
       "\n",
       "    /* Handle when a new output is added */\n",
       "    events.on('output_added.OutputArea', handleAddOutput);\n",
       "\n",
       "    /**\n",
       "     * Register the mime type and append_mime function with output_area\n",
       "     */\n",
       "    OutputArea.prototype.register_mime_type(EXEC_MIME_TYPE, append_mime, {\n",
       "      /* Is output safe? */\n",
       "      safe: true,\n",
       "      /* Index of renderer in `output_area.display_order` */\n",
       "      index: 0\n",
       "    });\n",
       "  }\n",
       "\n",
       "  // register the mime type if in Jupyter Notebook environment and previously unregistered\n",
       "  if (root.Jupyter !== undefined) {\n",
       "    const events = require('base/js/events');\n",
       "    const OutputArea = require('notebook/js/outputarea').OutputArea;\n",
       "\n",
       "    if (OutputArea.prototype.mime_types().indexOf(EXEC_MIME_TYPE) == -1) {\n",
       "      register_renderer(events, OutputArea);\n",
       "    }\n",
       "  }\n",
       "  if (typeof (root._bokeh_timeout) === \"undefined\" || force === true) {\n",
       "    root._bokeh_timeout = Date.now() + 5000;\n",
       "    root._bokeh_failed_load = false;\n",
       "  }\n",
       "\n",
       "  const NB_LOAD_WARNING = {'data': {'text/html':\n",
       "     \"<div style='background-color: #fdd'>\\n\"+\n",
       "     \"<p>\\n\"+\n",
       "     \"BokehJS does not appear to have successfully loaded. If loading BokehJS from CDN, this \\n\"+\n",
       "     \"may be due to a slow or bad network connection. Possible fixes:\\n\"+\n",
       "     \"</p>\\n\"+\n",
       "     \"<ul>\\n\"+\n",
       "     \"<li>re-rerun `output_notebook()` to attempt to load from CDN again, or</li>\\n\"+\n",
       "     \"<li>use INLINE resources instead, as so:</li>\\n\"+\n",
       "     \"</ul>\\n\"+\n",
       "     \"<code>\\n\"+\n",
       "     \"from bokeh.resources import INLINE\\n\"+\n",
       "     \"output_notebook(resources=INLINE)\\n\"+\n",
       "     \"</code>\\n\"+\n",
       "     \"</div>\"}};\n",
       "\n",
       "  function display_loaded() {\n",
       "    const el = document.getElementById(\"1002\");\n",
       "    if (el != null) {\n",
       "      el.textContent = \"BokehJS is loading...\";\n",
       "    }\n",
       "    if (root.Bokeh !== undefined) {\n",
       "      if (el != null) {\n",
       "        el.textContent = \"BokehJS \" + root.Bokeh.version + \" successfully loaded.\";\n",
       "      }\n",
       "    } else if (Date.now() < root._bokeh_timeout) {\n",
       "      setTimeout(display_loaded, 100)\n",
       "    }\n",
       "  }\n",
       "\n",
       "  function run_callbacks() {\n",
       "    try {\n",
       "      root._bokeh_onload_callbacks.forEach(function(callback) {\n",
       "        if (callback != null)\n",
       "          callback();\n",
       "      });\n",
       "    } finally {\n",
       "      delete root._bokeh_onload_callbacks\n",
       "    }\n",
       "    console.debug(\"Bokeh: all callbacks have finished\");\n",
       "  }\n",
       "\n",
       "  function load_libs(css_urls, js_urls, callback) {\n",
       "    if (css_urls == null) css_urls = [];\n",
       "    if (js_urls == null) js_urls = [];\n",
       "\n",
       "    root._bokeh_onload_callbacks.push(callback);\n",
       "    if (root._bokeh_is_loading > 0) {\n",
       "      console.debug(\"Bokeh: BokehJS is being loaded, scheduling callback at\", now());\n",
       "      return null;\n",
       "    }\n",
       "    if (js_urls == null || js_urls.length === 0) {\n",
       "      run_callbacks();\n",
       "      return null;\n",
       "    }\n",
       "    console.debug(\"Bokeh: BokehJS not loaded, scheduling load and callback at\", now());\n",
       "    root._bokeh_is_loading = css_urls.length + js_urls.length;\n",
       "\n",
       "    function on_load() {\n",
       "      root._bokeh_is_loading--;\n",
       "      if (root._bokeh_is_loading === 0) {\n",
       "        console.debug(\"Bokeh: all BokehJS libraries/stylesheets loaded\");\n",
       "        run_callbacks()\n",
       "      }\n",
       "    }\n",
       "\n",
       "    function on_error(url) {\n",
       "      console.error(\"failed to load \" + url);\n",
       "    }\n",
       "\n",
       "    for (let i = 0; i < css_urls.length; i++) {\n",
       "      const url = css_urls[i];\n",
       "      const element = document.createElement(\"link\");\n",
       "      element.onload = on_load;\n",
       "      element.onerror = on_error.bind(null, url);\n",
       "      element.rel = \"stylesheet\";\n",
       "      element.type = \"text/css\";\n",
       "      element.href = url;\n",
       "      console.debug(\"Bokeh: injecting link tag for BokehJS stylesheet: \", url);\n",
       "      document.body.appendChild(element);\n",
       "    }\n",
       "\n",
       "    for (let i = 0; i < js_urls.length; i++) {\n",
       "      const url = js_urls[i];\n",
       "      const element = document.createElement('script');\n",
       "      element.onload = on_load;\n",
       "      element.onerror = on_error.bind(null, url);\n",
       "      element.async = false;\n",
       "      element.src = url;\n",
       "      console.debug(\"Bokeh: injecting script tag for BokehJS library: \", url);\n",
       "      document.head.appendChild(element);\n",
       "    }\n",
       "  };\n",
       "\n",
       "  function inject_raw_css(css) {\n",
       "    const element = document.createElement(\"style\");\n",
       "    element.appendChild(document.createTextNode(css));\n",
       "    document.body.appendChild(element);\n",
       "  }\n",
       "\n",
       "  const js_urls = [\"https://cdn.bokeh.org/bokeh/release/bokeh-2.4.3.min.js\", \"https://cdn.bokeh.org/bokeh/release/bokeh-gl-2.4.3.min.js\", \"https://cdn.bokeh.org/bokeh/release/bokeh-widgets-2.4.3.min.js\", \"https://cdn.bokeh.org/bokeh/release/bokeh-tables-2.4.3.min.js\", \"https://cdn.bokeh.org/bokeh/release/bokeh-mathjax-2.4.3.min.js\"];\n",
       "  const css_urls = [];\n",
       "\n",
       "  const inline_js = [    function(Bokeh) {\n",
       "      Bokeh.set_log_level(\"info\");\n",
       "    },\n",
       "function(Bokeh) {\n",
       "    }\n",
       "  ];\n",
       "\n",
       "  function run_inline_js() {\n",
       "    if (root.Bokeh !== undefined || force === true) {\n",
       "          for (let i = 0; i < inline_js.length; i++) {\n",
       "      inline_js[i].call(root, root.Bokeh);\n",
       "    }\n",
       "if (force === true) {\n",
       "        display_loaded();\n",
       "      }} else if (Date.now() < root._bokeh_timeout) {\n",
       "      setTimeout(run_inline_js, 100);\n",
       "    } else if (!root._bokeh_failed_load) {\n",
       "      console.log(\"Bokeh: BokehJS failed to load within specified timeout.\");\n",
       "      root._bokeh_failed_load = true;\n",
       "    } else if (force !== true) {\n",
       "      const cell = $(document.getElementById(\"1002\")).parents('.cell').data().cell;\n",
       "      cell.output_area.append_execute_result(NB_LOAD_WARNING)\n",
       "    }\n",
       "  }\n",
       "\n",
       "  if (root._bokeh_is_loading === 0) {\n",
       "    console.debug(\"Bokeh: BokehJS loaded, going straight to plotting\");\n",
       "    run_inline_js();\n",
       "  } else {\n",
       "    load_libs(css_urls, js_urls, function() {\n",
       "      console.debug(\"Bokeh: BokehJS plotting callback run at\", now());\n",
       "      run_inline_js();\n",
       "    });\n",
       "  }\n",
       "}(window));"
      ],
      "application/vnd.bokehjs_load.v0+json": "(function(root) {\n  function now() {\n    return new Date();\n  }\n\n  const force = true;\n\n  if (typeof root._bokeh_onload_callbacks === \"undefined\" || force === true) {\n    root._bokeh_onload_callbacks = [];\n    root._bokeh_is_loading = undefined;\n  }\n\n\n  if (typeof (root._bokeh_timeout) === \"undefined\" || force === true) {\n    root._bokeh_timeout = Date.now() + 5000;\n    root._bokeh_failed_load = false;\n  }\n\n  const NB_LOAD_WARNING = {'data': {'text/html':\n     \"<div style='background-color: #fdd'>\\n\"+\n     \"<p>\\n\"+\n     \"BokehJS does not appear to have successfully loaded. If loading BokehJS from CDN, this \\n\"+\n     \"may be due to a slow or bad network connection. Possible fixes:\\n\"+\n     \"</p>\\n\"+\n     \"<ul>\\n\"+\n     \"<li>re-rerun `output_notebook()` to attempt to load from CDN again, or</li>\\n\"+\n     \"<li>use INLINE resources instead, as so:</li>\\n\"+\n     \"</ul>\\n\"+\n     \"<code>\\n\"+\n     \"from bokeh.resources import INLINE\\n\"+\n     \"output_notebook(resources=INLINE)\\n\"+\n     \"</code>\\n\"+\n     \"</div>\"}};\n\n  function display_loaded() {\n    const el = document.getElementById(\"1002\");\n    if (el != null) {\n      el.textContent = \"BokehJS is loading...\";\n    }\n    if (root.Bokeh !== undefined) {\n      if (el != null) {\n        el.textContent = \"BokehJS \" + root.Bokeh.version + \" successfully loaded.\";\n      }\n    } else if (Date.now() < root._bokeh_timeout) {\n      setTimeout(display_loaded, 100)\n    }\n  }\n\n  function run_callbacks() {\n    try {\n      root._bokeh_onload_callbacks.forEach(function(callback) {\n        if (callback != null)\n          callback();\n      });\n    } finally {\n      delete root._bokeh_onload_callbacks\n    }\n    console.debug(\"Bokeh: all callbacks have finished\");\n  }\n\n  function load_libs(css_urls, js_urls, callback) {\n    if (css_urls == null) css_urls = [];\n    if (js_urls == null) js_urls = [];\n\n    root._bokeh_onload_callbacks.push(callback);\n    if (root._bokeh_is_loading > 0) {\n      console.debug(\"Bokeh: BokehJS is being loaded, scheduling callback at\", now());\n      return null;\n    }\n    if (js_urls == null || js_urls.length === 0) {\n      run_callbacks();\n      return null;\n    }\n    console.debug(\"Bokeh: BokehJS not loaded, scheduling load and callback at\", now());\n    root._bokeh_is_loading = css_urls.length + js_urls.length;\n\n    function on_load() {\n      root._bokeh_is_loading--;\n      if (root._bokeh_is_loading === 0) {\n        console.debug(\"Bokeh: all BokehJS libraries/stylesheets loaded\");\n        run_callbacks()\n      }\n    }\n\n    function on_error(url) {\n      console.error(\"failed to load \" + url);\n    }\n\n    for (let i = 0; i < css_urls.length; i++) {\n      const url = css_urls[i];\n      const element = document.createElement(\"link\");\n      element.onload = on_load;\n      element.onerror = on_error.bind(null, url);\n      element.rel = \"stylesheet\";\n      element.type = \"text/css\";\n      element.href = url;\n      console.debug(\"Bokeh: injecting link tag for BokehJS stylesheet: \", url);\n      document.body.appendChild(element);\n    }\n\n    for (let i = 0; i < js_urls.length; i++) {\n      const url = js_urls[i];\n      const element = document.createElement('script');\n      element.onload = on_load;\n      element.onerror = on_error.bind(null, url);\n      element.async = false;\n      element.src = url;\n      console.debug(\"Bokeh: injecting script tag for BokehJS library: \", url);\n      document.head.appendChild(element);\n    }\n  };\n\n  function inject_raw_css(css) {\n    const element = document.createElement(\"style\");\n    element.appendChild(document.createTextNode(css));\n    document.body.appendChild(element);\n  }\n\n  const js_urls = [\"https://cdn.bokeh.org/bokeh/release/bokeh-2.4.3.min.js\", \"https://cdn.bokeh.org/bokeh/release/bokeh-gl-2.4.3.min.js\", \"https://cdn.bokeh.org/bokeh/release/bokeh-widgets-2.4.3.min.js\", \"https://cdn.bokeh.org/bokeh/release/bokeh-tables-2.4.3.min.js\", \"https://cdn.bokeh.org/bokeh/release/bokeh-mathjax-2.4.3.min.js\"];\n  const css_urls = [];\n\n  const inline_js = [    function(Bokeh) {\n      Bokeh.set_log_level(\"info\");\n    },\nfunction(Bokeh) {\n    }\n  ];\n\n  function run_inline_js() {\n    if (root.Bokeh !== undefined || force === true) {\n          for (let i = 0; i < inline_js.length; i++) {\n      inline_js[i].call(root, root.Bokeh);\n    }\nif (force === true) {\n        display_loaded();\n      }} else if (Date.now() < root._bokeh_timeout) {\n      setTimeout(run_inline_js, 100);\n    } else if (!root._bokeh_failed_load) {\n      console.log(\"Bokeh: BokehJS failed to load within specified timeout.\");\n      root._bokeh_failed_load = true;\n    } else if (force !== true) {\n      const cell = $(document.getElementById(\"1002\")).parents('.cell').data().cell;\n      cell.output_area.append_execute_result(NB_LOAD_WARNING)\n    }\n  }\n\n  if (root._bokeh_is_loading === 0) {\n    console.debug(\"Bokeh: BokehJS loaded, going straight to plotting\");\n    run_inline_js();\n  } else {\n    load_libs(css_urls, js_urls, function() {\n      console.debug(\"Bokeh: BokehJS plotting callback run at\", now());\n      run_inline_js();\n    });\n  }\n}(window));"
     },
     "metadata": {},
     "output_type": "display_data"
    }
   ],
   "source": [
    "output_notebook()"
   ]
  },
  {
   "cell_type": "markdown",
   "metadata": {},
   "source": [
    "## Data\n",
    "We'll use a CTD profile in the Tropical Atlantic for this tutorial.\n",
    "If curious about this dataset, check [CoTeDe's documentation](https://cotede.readthedocs.io) for more details.\n",
    "\n",
    "Let's load the data and check which variables are available."
   ]
  },
  {
   "cell_type": "code",
   "execution_count": 3,
   "metadata": {
    "tags": []
   },
   "outputs": [
    {
     "name": "stdout",
     "output_type": "stream",
     "text": [
      "Downloading: dPIRX010.npz (33263 bytes)\n",
      "     33263 [100.00%]\n",
      "Downloaded: /Users/onecountrylee/.config/cotederc/sampledata/dPIRX010.npz\n",
      "The variables are:  CNDC, CNDC2, PRES, PSAL, PSAL2, TEMP, TEMP2, flag, potemperature, potemperature2, timeS\n",
      "There is a total of 1014 observed depths.\n"
     ]
    }
   ],
   "source": [
    "data = cotede.datasets.load_ctd()\n",
    "\n",
    "print(\"The variables are: \", \", \".join(sorted(data.keys())))\n",
    "print(\"There is a total of {} observed depths.\".format(len(data[\"TEMP\"])))"
   ]
  },
  {
   "cell_type": "markdown",
   "metadata": {},
   "source": [
    "This CTD was equipped with backup sensors to provide more robustness.\n",
    "Measurements from the secondary sensor are identified by a 2 in the end of the name. For instance, TEMP2 is the secondary temperature sensor.\n",
    "Here, we will focus on the primary sensors.\n",
    "\n",
    "To visualize this profile we will use Bokeh which allows to make interactive plots."
   ]
  },
  {
   "cell_type": "code",
   "execution_count": 4,
   "metadata": {
    "tags": []
   },
   "outputs": [
    {
     "data": {
      "text/html": [
       "\n",
       "  <div class=\"bk-root\" id=\"110458db-1ebc-46ca-847a-70f105566c9c\" data-root-id=\"1077\"></div>\n"
      ]
     },
     "metadata": {},
     "output_type": "display_data"
    },
    {
     "data": {
      "application/javascript": [
       "(function(root) {\n",
       "  function embed_document(root) {\n",
       "  const docs_json = {\"d41af2fa-f999-4e8c-97f1-edc2204efe1e\":{\"defs\":[],\"roots\":{\"references\":[{\"attributes\":{\"children\":[{\"id\":\"1003\"},{\"id\":\"1040\"}]},\"id\":\"1077\",\"type\":\"Row\"},{\"attributes\":{},\"id\":\"1010\",\"type\":\"LinearScale\"},{\"attributes\":{},\"id\":\"1084\",\"type\":\"AllLabels\"},{\"attributes\":{},\"id\":\"1092\",\"type\":\"BasicTickFormatter\"},{\"attributes\":{\"tools\":[{\"id\":\"1020\"},{\"id\":\"1021\"},{\"id\":\"1022\"},{\"id\":\"1023\"},{\"id\":\"1024\"},{\"id\":\"1025\"}]},\"id\":\"1027\",\"type\":\"Toolbar\"},{\"attributes\":{},\"id\":\"1054\",\"type\":\"BasicTicker\"},{\"attributes\":{\"tools\":[{\"id\":\"1057\"},{\"id\":\"1058\"},{\"id\":\"1059\"},{\"id\":\"1060\"},{\"id\":\"1061\"},{\"id\":\"1062\"}]},\"id\":\"1064\",\"type\":\"Toolbar\"},{\"attributes\":{\"axis_label\":\"Depth [m]\",\"coordinates\":null,\"formatter\":{\"id\":\"1083\"},\"group\":null,\"major_label_policy\":{\"id\":\"1084\"},\"ticker\":{\"id\":\"1017\"}},\"id\":\"1016\",\"type\":\"LinearAxis\"},{\"attributes\":{},\"id\":\"1093\",\"type\":\"AllLabels\"},{\"attributes\":{},\"id\":\"1008\",\"type\":\"LinearScale\"},{\"attributes\":{},\"id\":\"1086\",\"type\":\"BasicTickFormatter\"},{\"attributes\":{\"axis_label\":\"Temperature [C]\",\"coordinates\":null,\"formatter\":{\"id\":\"1086\"},\"group\":null,\"major_label_policy\":{\"id\":\"1087\"},\"ticker\":{\"id\":\"1013\"}},\"id\":\"1012\",\"type\":\"LinearAxis\"},{\"attributes\":{},\"id\":\"1013\",\"type\":\"BasicTicker\"},{\"attributes\":{\"axis\":{\"id\":\"1012\"},\"coordinates\":null,\"group\":null,\"ticker\":null},\"id\":\"1015\",\"type\":\"Grid\"},{\"attributes\":{},\"id\":\"1045\",\"type\":\"LinearScale\"},{\"attributes\":{},\"id\":\"1087\",\"type\":\"AllLabels\"},{\"attributes\":{\"source\":{\"id\":\"1034\"}},\"id\":\"1039\",\"type\":\"CDSView\"},{\"attributes\":{\"axis\":{\"id\":\"1016\"},\"coordinates\":null,\"dimension\":1,\"group\":null,\"ticker\":null},\"id\":\"1019\",\"type\":\"Grid\"},{\"attributes\":{},\"id\":\"1017\",\"type\":\"BasicTicker\"},{\"attributes\":{},\"id\":\"1041\",\"type\":\"DataRange1d\"},{\"attributes\":{},\"id\":\"1020\",\"type\":\"PanTool\"},{\"attributes\":{\"fill_alpha\":{\"value\":0.2},\"fill_color\":{\"value\":\"mediumseagreen\"},\"hatch_alpha\":{\"value\":0.2},\"line_alpha\":{\"value\":0.2},\"line_color\":{\"value\":\"seagreen\"},\"size\":{\"value\":8},\"x\":{\"field\":\"x\"},\"y\":{\"field\":\"y\"}},\"id\":\"1074\",\"type\":\"Circle\"},{\"attributes\":{\"coordinates\":null,\"group\":null},\"id\":\"1078\",\"type\":\"Title\"},{\"attributes\":{},\"id\":\"1097\",\"type\":\"UnionRenderers\"},{\"attributes\":{\"coordinates\":null,\"group\":null},\"id\":\"1080\",\"type\":\"Title\"},{\"attributes\":{},\"id\":\"1025\",\"type\":\"HelpTool\"},{\"attributes\":{\"data\":{\"x\":{\"__ndarray__\":\"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\",\"dtype\":\"float64\",\"order\":\"little\",\"shape\":[1014]},\"y\":{\"__ndarray__\":\"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\",\"dtype\":\"float64\",\"order\":\"little\",\"shape\":[1014]}},\"selected\":{\"id\":\"1098\"},\"selection_policy\":{\"id\":\"1097\"}},\"id\":\"1071\",\"type\":\"ColumnDataSource\"},{\"attributes\":{\"axis_label\":\"Depth [m]\",\"coordinates\":null,\"formatter\":{\"id\":\"1089\"},\"group\":null,\"major_label_policy\":{\"id\":\"1090\"},\"ticker\":{\"id\":\"1054\"}},\"id\":\"1053\",\"type\":\"LinearAxis\"},{\"attributes\":{},\"id\":\"1021\",\"type\":\"WheelZoomTool\"},{\"attributes\":{\"source\":{\"id\":\"1071\"}},\"id\":\"1076\",\"type\":\"CDSView\"},{\"attributes\":{\"fill_alpha\":{\"value\":0.3},\"fill_color\":{\"value\":\"mediumseagreen\"},\"line_color\":{\"value\":\"seagreen\"},\"size\":{\"value\":8},\"x\":{\"field\":\"x\"},\"y\":{\"field\":\"y\"}},\"id\":\"1072\",\"type\":\"Circle\"},{\"attributes\":{\"overlay\":{\"id\":\"1026\"}},\"id\":\"1022\",\"type\":\"BoxZoomTool\"},{\"attributes\":{},\"id\":\"1094\",\"type\":\"UnionRenderers\"},{\"attributes\":{},\"id\":\"1095\",\"type\":\"Selection\"},{\"attributes\":{\"coordinates\":null,\"data_source\":{\"id\":\"1071\"},\"glyph\":{\"id\":\"1072\"},\"group\":null,\"hover_glyph\":null,\"muted_glyph\":{\"id\":\"1074\"},\"nonselection_glyph\":{\"id\":\"1073\"},\"view\":{\"id\":\"1076\"}},\"id\":\"1075\",\"type\":\"GlyphRenderer\"},{\"attributes\":{\"axis_label\":\"Salinity\",\"coordinates\":null,\"formatter\":{\"id\":\"1092\"},\"group\":null,\"major_label_policy\":{\"id\":\"1093\"},\"ticker\":{\"id\":\"1050\"}},\"id\":\"1049\",\"type\":\"LinearAxis\"},{\"attributes\":{},\"id\":\"1023\",\"type\":\"SaveTool\"},{\"attributes\":{},\"id\":\"1024\",\"type\":\"ResetTool\"},{\"attributes\":{},\"id\":\"1050\",\"type\":\"BasicTicker\"},{\"attributes\":{},\"id\":\"1098\",\"type\":\"Selection\"},{\"attributes\":{},\"id\":\"1047\",\"type\":\"LinearScale\"},{\"attributes\":{\"bottom_units\":\"screen\",\"coordinates\":null,\"fill_alpha\":0.5,\"fill_color\":\"lightgrey\",\"group\":null,\"left_units\":\"screen\",\"level\":\"overlay\",\"line_alpha\":1.0,\"line_color\":\"black\",\"line_dash\":[4,4],\"line_width\":2,\"right_units\":\"screen\",\"syncable\":false,\"top_units\":\"screen\"},\"id\":\"1026\",\"type\":\"BoxAnnotation\"},{\"attributes\":{\"fill_alpha\":{\"value\":0.2},\"fill_color\":{\"value\":\"mediumseagreen\"},\"hatch_alpha\":{\"value\":0.2},\"line_alpha\":{\"value\":0.2},\"line_color\":{\"value\":\"seagreen\"},\"size\":{\"value\":8},\"x\":{\"field\":\"x\"},\"y\":{\"field\":\"y\"}},\"id\":\"1037\",\"type\":\"Circle\"},{\"attributes\":{},\"id\":\"1061\",\"type\":\"ResetTool\"},{\"attributes\":{\"overlay\":{\"id\":\"1063\"}},\"id\":\"1059\",\"type\":\"BoxZoomTool\"},{\"attributes\":{},\"id\":\"1057\",\"type\":\"PanTool\"},{\"attributes\":{\"fill_alpha\":{\"value\":0.1},\"fill_color\":{\"value\":\"mediumseagreen\"},\"hatch_alpha\":{\"value\":0.1},\"line_alpha\":{\"value\":0.1},\"line_color\":{\"value\":\"seagreen\"},\"size\":{\"value\":8},\"x\":{\"field\":\"x\"},\"y\":{\"field\":\"y\"}},\"id\":\"1073\",\"type\":\"Circle\"},{\"attributes\":{\"axis\":{\"id\":\"1053\"},\"coordinates\":null,\"dimension\":1,\"group\":null,\"ticker\":null},\"id\":\"1056\",\"type\":\"Grid\"},{\"attributes\":{\"fill_alpha\":{\"value\":0.3},\"fill_color\":{\"value\":\"mediumseagreen\"},\"line_color\":{\"value\":\"seagreen\"},\"size\":{\"value\":8},\"x\":{\"field\":\"x\"},\"y\":{\"field\":\"y\"}},\"id\":\"1035\",\"type\":\"Circle\"},{\"attributes\":{\"axis\":{\"id\":\"1049\"},\"coordinates\":null,\"group\":null,\"ticker\":null},\"id\":\"1052\",\"type\":\"Grid\"},{\"attributes\":{\"coordinates\":null,\"data_source\":{\"id\":\"1034\"},\"glyph\":{\"id\":\"1035\"},\"group\":null,\"hover_glyph\":null,\"muted_glyph\":{\"id\":\"1037\"},\"nonselection_glyph\":{\"id\":\"1036\"},\"view\":{\"id\":\"1039\"}},\"id\":\"1038\",\"type\":\"GlyphRenderer\"},{\"attributes\":{},\"id\":\"1062\",\"type\":\"HelpTool\"},{\"attributes\":{},\"id\":\"1083\",\"type\":\"BasicTickFormatter\"},{\"attributes\":{},\"id\":\"1058\",\"type\":\"WheelZoomTool\"},{\"attributes\":{},\"id\":\"1089\",\"type\":\"BasicTickFormatter\"},{\"attributes\":{\"bottom_units\":\"screen\",\"coordinates\":null,\"fill_alpha\":0.5,\"fill_color\":\"lightgrey\",\"group\":null,\"left_units\":\"screen\",\"level\":\"overlay\",\"line_alpha\":1.0,\"line_color\":\"black\",\"line_dash\":[4,4],\"line_width\":2,\"right_units\":\"screen\",\"syncable\":false,\"top_units\":\"screen\"},\"id\":\"1063\",\"type\":\"BoxAnnotation\"},{\"attributes\":{\"fill_alpha\":{\"value\":0.1},\"fill_color\":{\"value\":\"mediumseagreen\"},\"hatch_alpha\":{\"value\":0.1},\"line_alpha\":{\"value\":0.1},\"line_color\":{\"value\":\"seagreen\"},\"size\":{\"value\":8},\"x\":{\"field\":\"x\"},\"y\":{\"field\":\"y\"}},\"id\":\"1036\",\"type\":\"Circle\"},{\"attributes\":{},\"id\":\"1060\",\"type\":\"SaveTool\"},{\"attributes\":{\"data\":{\"x\":{\"__ndarray__\":\"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\",\"dtype\":\"float64\",\"order\":\"little\",\"shape\":[1014]},\"y\":{\"__ndarray__\":\"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\",\"dtype\":\"float64\",\"order\":\"little\",\"shape\":[1014]}},\"selected\":{\"id\":\"1095\"},\"selection_policy\":{\"id\":\"1094\"}},\"id\":\"1034\",\"type\":\"ColumnDataSource\"},{\"attributes\":{\"below\":[{\"id\":\"1012\"}],\"center\":[{\"id\":\"1015\"},{\"id\":\"1019\"}],\"left\":[{\"id\":\"1016\"}],\"renderers\":[{\"id\":\"1038\"}],\"title\":{\"id\":\"1078\"},\"toolbar\":{\"id\":\"1027\"},\"width\":420,\"x_range\":{\"id\":\"1004\"},\"x_scale\":{\"id\":\"1008\"},\"y_range\":{\"id\":\"1006\"},\"y_scale\":{\"id\":\"1010\"}},\"id\":\"1003\",\"subtype\":\"Figure\",\"type\":\"Plot\"},{\"attributes\":{},\"id\":\"1090\",\"type\":\"AllLabels\"},{\"attributes\":{\"below\":[{\"id\":\"1049\"}],\"center\":[{\"id\":\"1052\"},{\"id\":\"1056\"}],\"left\":[{\"id\":\"1053\"}],\"renderers\":[{\"id\":\"1075\"}],\"title\":{\"id\":\"1080\"},\"toolbar\":{\"id\":\"1064\"},\"width\":420,\"x_range\":{\"id\":\"1041\"},\"x_scale\":{\"id\":\"1045\"},\"y_range\":{\"id\":\"1006\"},\"y_scale\":{\"id\":\"1047\"}},\"id\":\"1040\",\"subtype\":\"Figure\",\"type\":\"Plot\"},{\"attributes\":{},\"id\":\"1006\",\"type\":\"DataRange1d\"},{\"attributes\":{},\"id\":\"1004\",\"type\":\"DataRange1d\"}],\"root_ids\":[\"1077\"]},\"title\":\"Bokeh Application\",\"version\":\"2.4.3\"}};\n",
       "  const render_items = [{\"docid\":\"d41af2fa-f999-4e8c-97f1-edc2204efe1e\",\"root_ids\":[\"1077\"],\"roots\":{\"1077\":\"110458db-1ebc-46ca-847a-70f105566c9c\"}}];\n",
       "  root.Bokeh.embed.embed_items_notebook(docs_json, render_items);\n",
       "  }\n",
       "  if (root.Bokeh !== undefined) {\n",
       "    embed_document(root);\n",
       "  } else {\n",
       "    let attempts = 0;\n",
       "    const timer = setInterval(function(root) {\n",
       "      if (root.Bokeh !== undefined) {\n",
       "        clearInterval(timer);\n",
       "        embed_document(root);\n",
       "      } else {\n",
       "        attempts++;\n",
       "        if (attempts > 100) {\n",
       "          clearInterval(timer);\n",
       "          console.log(\"Bokeh: ERROR: Unable to run BokehJS code because BokehJS library is missing\");\n",
       "        }\n",
       "      }\n",
       "    }, 10, root)\n",
       "  }\n",
       "})(window);"
      ],
      "application/vnd.bokehjs_exec.v0+json": ""
     },
     "metadata": {
      "application/vnd.bokehjs_exec.v0+json": {
       "id": "1077"
      }
     },
     "output_type": "display_data"
    }
   ],
   "source": [
    "p1 = figure(plot_width=420, plot_height=600)\n",
    "p1.circle(data['TEMP'], -data['PRES'],\n",
    "          size=8, line_color=\"seagreen\", fill_color=\"mediumseagreen\", fill_alpha=0.3)\n",
    "p1.xaxis.axis_label = \"Temperature [C]\"\n",
    "p1.yaxis.axis_label = \"Depth [m]\"\n",
    "\n",
    "p2 = figure(plot_width=420, plot_height=600)\n",
    "p2.y_range = p1.y_range\n",
    "p2.circle(data['PSAL'], -data['PRES'],\n",
    "          size=8, line_color=\"seagreen\", fill_color=\"mediumseagreen\", fill_alpha=0.3)\n",
    "p2.xaxis.axis_label = \"Salinity\"\n",
    "p2.yaxis.axis_label = \"Depth [m]\"\n",
    "\n",
    "p = row(p1, p2)\n",
    "show(p)"
   ]
  },
  {
   "cell_type": "markdown",
   "metadata": {},
   "source": [
    "Considering the unusual magnitudes and variability near the bottom, there are clearly bad measurements in this profile.\n",
    "Let's start with one of the most fundamental QC test and restrict the profile to feasible values."
   ]
  },
  {
   "cell_type": "markdown",
   "metadata": {},
   "source": [
    "## Global Range: Check for Feasible Values\n",
    "Let's use the thresholds recommended by the [GTSPP](https://cotede.readthedocs.io/en/latest/qctests.html):\n",
    " - Temperature between -2 and 40 $^\\circ$C\n",
    " - Salinity between 0 and 41"
   ]
  },
  {
   "cell_type": "code",
   "execution_count": 5,
   "metadata": {
    "tags": []
   },
   "outputs": [
    {
     "data": {
      "text/html": [
       "\n",
       "  <div class=\"bk-root\" id=\"c54397ba-efe9-43be-bdcd-312cd1a12f48\" data-root-id=\"1350\"></div>\n"
      ]
     },
     "metadata": {},
     "output_type": "display_data"
    },
    {
     "data": {
      "application/javascript": [
       "(function(root) {\n",
       "  function embed_document(root) {\n",
       "  const docs_json = {\"99bbf2a8-2b70-4155-87b6-57b22b0e3bf5\":{\"defs\":[],\"roots\":{\"references\":[{\"attributes\":{\"children\":[{\"id\":\"1210\"},{\"id\":\"1280\"}]},\"id\":\"1350\",\"type\":\"Row\"},{\"attributes\":{\"fill_alpha\":{\"value\":0.3},\"fill_color\":{\"value\":\"red\"},\"line_color\":{\"value\":\"red\"},\"marker\":{\"value\":\"triangle\"},\"size\":{\"value\":8},\"x\":{\"field\":\"x\"},\"y\":{\"field\":\"y\"}},\"id\":\"1332\",\"type\":\"Scatter\"},{\"attributes\":{\"fill_alpha\":{\"value\":0.1},\"fill_color\":{\"value\":\"red\"},\"hatch_alpha\":{\"value\":0.1},\"line_alpha\":{\"value\":0.1},\"line_color\":{\"value\":\"red\"},\"marker\":{\"value\":\"triangle\"},\"size\":{\"value\":8},\"x\":{\"field\":\"x\"},\"y\":{\"field\":\"y\"}},\"id\":\"1263\",\"type\":\"Scatter\"},{\"attributes\":{},\"id\":\"1256\",\"type\":\"UnionRenderers\"},{\"attributes\":{\"fill_alpha\":{\"value\":0.2},\"fill_color\":{\"value\":\"red\"},\"hatch_alpha\":{\"value\":0.2},\"line_alpha\":{\"value\":0.2},\"line_color\":{\"value\":\"red\"},\"marker\":{\"value\":\"triangle\"},\"size\":{\"value\":8},\"x\":{\"field\":\"x\"},\"y\":{\"field\":\"y\"}},\"id\":\"1264\",\"type\":\"Scatter\"},{\"attributes\":{\"data\":{\"x\":{\"__ndarray__\":\"AAAAoG4mUUAAAABAAWVIQAAAAMAyPFZAAAAAYEkBUEAAAADgWlJKQAAAAOBqu0ZAAAAAgHGfWUAAAACArDNKQAAAAGCopVNAAAAAIPTEVkA=\",\"dtype\":\"float64\",\"order\":\"little\",\"shape\":[10]},\"y\":{\"__ndarray__\":\"AAAAAABAjsAAAAAAAIiOwAAAAAAAkI7AAAAAAACYjsAAAAAAALCOwAAAAAAA4I7AAAAAAAAoj8AAAAAAAEiPwAAAAAAAUI/AAAAAAACwj8A=\",\"dtype\":\"float64\",\"order\":\"little\",\"shape\":[10]}},\"selected\":{\"id\":\"1347\"},\"selection_policy\":{\"id\":\"1346\"}},\"id\":\"1331\",\"type\":\"ColumnDataSource\"},{\"attributes\":{},\"id\":\"1257\",\"type\":\"Selection\"},{\"attributes\":{\"tools\":[{\"id\":\"1229\"},{\"id\":\"1230\"},{\"id\":\"1231\"},{\"id\":\"1232\"},{\"id\":\"1233\"},{\"id\":\"1234\"}]},\"id\":\"1236\",\"type\":\"Toolbar\"},{\"attributes\":{\"coordinates\":null,\"group\":null,\"items\":[{\"id\":\"1260\"},{\"id\":\"1279\"}]},\"id\":\"1259\",\"type\":\"Legend\"},{\"attributes\":{\"label\":{\"value\":\"Good values\"},\"renderers\":[{\"id\":\"1247\"}]},\"id\":\"1260\",\"type\":\"LegendItem\"},{\"attributes\":{\"axis\":{\"id\":\"1225\"},\"coordinates\":null,\"dimension\":1,\"group\":null,\"ticker\":null},\"id\":\"1228\",\"type\":\"Grid\"},{\"attributes\":{\"fill_alpha\":{\"value\":0.1},\"fill_color\":{\"value\":\"mediumseagreen\"},\"hatch_alpha\":{\"value\":0.1},\"line_alpha\":{\"value\":0.1},\"line_color\":{\"value\":\"seagreen\"},\"size\":{\"value\":8},\"x\":{\"field\":\"x\"},\"y\":{\"field\":\"y\"}},\"id\":\"1245\",\"type\":\"Circle\"},{\"attributes\":{\"bottom_units\":\"screen\",\"coordinates\":null,\"fill_alpha\":0.5,\"fill_color\":\"lightgrey\",\"group\":null,\"left_units\":\"screen\",\"level\":\"overlay\",\"line_alpha\":1.0,\"line_color\":\"black\",\"line_dash\":[4,4],\"line_width\":2,\"right_units\":\"screen\",\"syncable\":false,\"top_units\":\"screen\"},\"id\":\"1235\",\"type\":\"BoxAnnotation\"},{\"attributes\":{},\"id\":\"1229\",\"type\":\"PanTool\"},{\"attributes\":{},\"id\":\"1233\",\"type\":\"ResetTool\"},{\"attributes\":{},\"id\":\"1226\",\"type\":\"BasicTicker\"},{\"attributes\":{},\"id\":\"1230\",\"type\":\"WheelZoomTool\"},{\"attributes\":{},\"id\":\"1234\",\"type\":\"HelpTool\"},{\"attributes\":{\"overlay\":{\"id\":\"1235\"}},\"id\":\"1231\",\"type\":\"BoxZoomTool\"},{\"attributes\":{},\"id\":\"1232\",\"type\":\"SaveTool\"},{\"attributes\":{\"fill_alpha\":{\"value\":0.3},\"fill_color\":{\"value\":\"red\"},\"line_color\":{\"value\":\"red\"},\"marker\":{\"value\":\"triangle\"},\"size\":{\"value\":8},\"x\":{\"field\":\"x\"},\"y\":{\"field\":\"y\"}},\"id\":\"1262\",\"type\":\"Scatter\"},{\"attributes\":{\"below\":[{\"id\":\"1221\"}],\"center\":[{\"id\":\"1224\"},{\"id\":\"1228\"},{\"id\":\"1259\"}],\"left\":[{\"id\":\"1225\"}],\"renderers\":[{\"id\":\"1247\"},{\"id\":\"1265\"}],\"title\":{\"id\":\"1211\"},\"toolbar\":{\"id\":\"1236\"},\"width\":420,\"x_range\":{\"id\":\"1213\"},\"x_scale\":{\"id\":\"1217\"},\"y_range\":{\"id\":\"1215\"},\"y_scale\":{\"id\":\"1219\"}},\"id\":\"1210\",\"subtype\":\"Figure\",\"type\":\"Plot\"},{\"attributes\":{\"fill_alpha\":{\"value\":0.2},\"fill_color\":{\"value\":\"mediumseagreen\"},\"hatch_alpha\":{\"value\":0.2},\"line_alpha\":{\"value\":0.2},\"line_color\":{\"value\":\"seagreen\"},\"size\":{\"value\":8},\"x\":{\"field\":\"x\"},\"y\":{\"field\":\"y\"}},\"id\":\"1246\",\"type\":\"Circle\"},{\"attributes\":{\"source\":{\"id\":\"1243\"}},\"id\":\"1248\",\"type\":\"CDSView\"},{\"attributes\":{\"data\":{\"x\":{\"__ndarray__\":\"AAAAAJNpLcAAAADAwZcXwAAAAGAXhzTAAAAAYOWwKcAAAAAAOzAfwAAAAEAI/DbAAAAAINQaSEAAAABAzYNYQAAAAGDjlUpAAAAAQDw9HcAAAACgEWUxwAAAAGAOVUhAAAAA4OucWEAAAADAhlczwA==\",\"dtype\":\"float64\",\"order\":\"little\",\"shape\":[14]},\"y\":{\"__ndarray__\":\"AAAAAABAjsAAAAAAAIiOwAAAAAAAkI7AAAAAAACYjsAAAAAAALCOwAAAAAAAKI/AAAAAAAAwj8AAAAAAADiPwAAAAAAAQI/AAAAAAABIj8AAAAAAAFCPwAAAAAAAmI/AAAAAAACgj8AAAAAAALCPwA==\",\"dtype\":\"float64\",\"order\":\"little\",\"shape\":[14]}},\"selected\":{\"id\":\"1277\"},\"selection_policy\":{\"id\":\"1276\"}},\"id\":\"1261\",\"type\":\"ColumnDataSource\"},{\"attributes\":{},\"id\":\"1215\",\"type\":\"DataRange1d\"},{\"attributes\":{},\"id\":\"1213\",\"type\":\"DataRange1d\"},{\"attributes\":{},\"id\":\"1252\",\"type\":\"AllLabels\"},{\"attributes\":{\"coordinates\":null,\"data_source\":{\"id\":\"1243\"},\"glyph\":{\"id\":\"1244\"},\"group\":null,\"hover_glyph\":null,\"muted_glyph\":{\"id\":\"1246\"},\"nonselection_glyph\":{\"id\":\"1245\"},\"view\":{\"id\":\"1248\"}},\"id\":\"1247\",\"type\":\"GlyphRenderer\"},{\"attributes\":{\"label\":{\"value\":\"Bad values\"},\"renderers\":[{\"id\":\"1335\"}]},\"id\":\"1349\",\"type\":\"LegendItem\"},{\"attributes\":{},\"id\":\"1222\",\"type\":\"BasicTicker\"},{\"attributes\":{\"axis\":{\"id\":\"1221\"},\"coordinates\":null,\"group\":null,\"ticker\":null},\"id\":\"1224\",\"type\":\"Grid\"},{\"attributes\":{\"coordinates\":null,\"data_source\":{\"id\":\"1331\"},\"glyph\":{\"id\":\"1332\"},\"group\":null,\"hover_glyph\":null,\"muted_glyph\":{\"id\":\"1334\"},\"nonselection_glyph\":{\"id\":\"1333\"},\"view\":{\"id\":\"1336\"}},\"id\":\"1335\",\"type\":\"GlyphRenderer\"},{\"attributes\":{},\"id\":\"1219\",\"type\":\"LinearScale\"},{\"attributes\":{\"axis\":{\"id\":\"1291\"},\"coordinates\":null,\"group\":null,\"ticker\":null},\"id\":\"1294\",\"type\":\"Grid\"},{\"attributes\":{},\"id\":\"1255\",\"type\":\"AllLabels\"},{\"attributes\":{\"coordinates\":null,\"group\":null,\"text\":\"Global Range Check (-2 <= T <= 40)\"},\"id\":\"1211\",\"type\":\"Title\"},{\"attributes\":{},\"id\":\"1217\",\"type\":\"LinearScale\"},{\"attributes\":{\"fill_alpha\":{\"value\":0.3},\"fill_color\":{\"value\":\"mediumseagreen\"},\"line_color\":{\"value\":\"seagreen\"},\"size\":{\"value\":8},\"x\":{\"field\":\"x\"},\"y\":{\"field\":\"y\"}},\"id\":\"1244\",\"type\":\"Circle\"},{\"attributes\":{},\"id\":\"1254\",\"type\":\"BasicTickFormatter\"},{\"attributes\":{\"axis_label\":\"Temperature [C]\",\"coordinates\":null,\"formatter\":{\"id\":\"1254\"},\"group\":null,\"major_label_policy\":{\"id\":\"1255\"},\"ticker\":{\"id\":\"1222\"}},\"id\":\"1221\",\"type\":\"LinearAxis\"},{\"attributes\":{\"source\":{\"id\":\"1331\"}},\"id\":\"1336\",\"type\":\"CDSView\"},{\"attributes\":{\"fill_alpha\":{\"value\":0.2},\"fill_color\":{\"value\":\"red\"},\"hatch_alpha\":{\"value\":0.2},\"line_alpha\":{\"value\":0.2},\"line_color\":{\"value\":\"red\"},\"marker\":{\"value\":\"triangle\"},\"size\":{\"value\":8},\"x\":{\"field\":\"x\"},\"y\":{\"field\":\"y\"}},\"id\":\"1334\",\"type\":\"Scatter\"},{\"attributes\":{\"below\":[{\"id\":\"1291\"}],\"center\":[{\"id\":\"1294\"},{\"id\":\"1298\"},{\"id\":\"1329\"}],\"left\":[{\"id\":\"1295\"}],\"renderers\":[{\"id\":\"1317\"},{\"id\":\"1335\"}],\"title\":{\"id\":\"1281\"},\"toolbar\":{\"id\":\"1306\"},\"width\":420,\"x_range\":{\"id\":\"1283\"},\"x_scale\":{\"id\":\"1287\"},\"y_range\":{\"id\":\"1215\"},\"y_scale\":{\"id\":\"1289\"}},\"id\":\"1280\",\"subtype\":\"Figure\",\"type\":\"Plot\"},{\"attributes\":{\"source\":{\"id\":\"1313\"}},\"id\":\"1318\",\"type\":\"CDSView\"},{\"attributes\":{\"fill_alpha\":{\"value\":0.1},\"fill_color\":{\"value\":\"red\"},\"hatch_alpha\":{\"value\":0.1},\"line_alpha\":{\"value\":0.1},\"line_color\":{\"value\":\"red\"},\"marker\":{\"value\":\"triangle\"},\"size\":{\"value\":8},\"x\":{\"field\":\"x\"},\"y\":{\"field\":\"y\"}},\"id\":\"1333\",\"type\":\"Scatter\"},{\"attributes\":{},\"id\":\"1292\",\"type\":\"BasicTicker\"},{\"attributes\":{},\"id\":\"1321\",\"type\":\"BasicTickFormatter\"},{\"attributes\":{},\"id\":\"1283\",\"type\":\"DataRange1d\"},{\"attributes\":{\"axis_label\":\"Depth [m]\",\"coordinates\":null,\"formatter\":{\"id\":\"1321\"},\"group\":null,\"major_label_policy\":{\"id\":\"1322\"},\"ticker\":{\"id\":\"1296\"}},\"id\":\"1295\",\"type\":\"LinearAxis\"},{\"attributes\":{},\"id\":\"1289\",\"type\":\"LinearScale\"},{\"attributes\":{},\"id\":\"1322\",\"type\":\"AllLabels\"},{\"attributes\":{},\"id\":\"1347\",\"type\":\"Selection\"},{\"attributes\":{\"axis_label\":\"Depth [m]\",\"coordinates\":null,\"formatter\":{\"id\":\"1251\"},\"group\":null,\"major_label_policy\":{\"id\":\"1252\"},\"ticker\":{\"id\":\"1226\"}},\"id\":\"1225\",\"type\":\"LinearAxis\"},{\"attributes\":{\"coordinates\":null,\"group\":null,\"text\":\"Global Range Check (0 <= S <= 41)\"},\"id\":\"1281\",\"type\":\"Title\"},{\"attributes\":{},\"id\":\"1287\",\"type\":\"LinearScale\"},{\"attributes\":{\"axis_label\":\"Pratical Salinity\",\"coordinates\":null,\"formatter\":{\"id\":\"1324\"},\"group\":null,\"major_label_policy\":{\"id\":\"1325\"},\"ticker\":{\"id\":\"1292\"}},\"id\":\"1291\",\"type\":\"LinearAxis\"},{\"attributes\":{},\"id\":\"1324\",\"type\":\"BasicTickFormatter\"},{\"attributes\":{},\"id\":\"1346\",\"type\":\"UnionRenderers\"},{\"attributes\":{},\"id\":\"1304\",\"type\":\"HelpTool\"},{\"attributes\":{},\"id\":\"1325\",\"type\":\"AllLabels\"},{\"attributes\":{\"axis\":{\"id\":\"1295\"},\"coordinates\":null,\"dimension\":1,\"group\":null,\"ticker\":null},\"id\":\"1298\",\"type\":\"Grid\"},{\"attributes\":{\"data\":{\"x\":{\"__ndarray__\":\"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\",\"dtype\":\"float64\",\"order\":\"little\",\"shape\":[1000]},\"y\":{\"__ndarray__\":\"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\",\"dtype\":\"float64\",\"order\":\"little\",\"shape\":[1000]}},\"selected\":{\"id\":\"1257\"},\"selection_policy\":{\"id\":\"1256\"}},\"id\":\"1243\",\"type\":\"ColumnDataSource\"},{\"attributes\":{},\"id\":\"1296\",\"type\":\"BasicTicker\"},{\"attributes\":{\"coordinates\":null,\"data_source\":{\"id\":\"1313\"},\"glyph\":{\"id\":\"1314\"},\"group\":null,\"hover_glyph\":null,\"muted_glyph\":{\"id\":\"1316\"},\"nonselection_glyph\":{\"id\":\"1315\"},\"view\":{\"id\":\"1318\"}},\"id\":\"1317\",\"type\":\"GlyphRenderer\"},{\"attributes\":{},\"id\":\"1300\",\"type\":\"WheelZoomTool\"},{\"attributes\":{},\"id\":\"1299\",\"type\":\"PanTool\"},{\"attributes\":{\"overlay\":{\"id\":\"1305\"}},\"id\":\"1301\",\"type\":\"BoxZoomTool\"},{\"attributes\":{},\"id\":\"1302\",\"type\":\"SaveTool\"},{\"attributes\":{},\"id\":\"1303\",\"type\":\"ResetTool\"},{\"attributes\":{},\"id\":\"1326\",\"type\":\"UnionRenderers\"},{\"attributes\":{},\"id\":\"1277\",\"type\":\"Selection\"},{\"attributes\":{\"bottom_units\":\"screen\",\"coordinates\":null,\"fill_alpha\":0.5,\"fill_color\":\"lightgrey\",\"group\":null,\"left_units\":\"screen\",\"level\":\"overlay\",\"line_alpha\":1.0,\"line_color\":\"black\",\"line_dash\":[4,4],\"line_width\":2,\"right_units\":\"screen\",\"syncable\":false,\"top_units\":\"screen\"},\"id\":\"1305\",\"type\":\"BoxAnnotation\"},{\"attributes\":{},\"id\":\"1327\",\"type\":\"Selection\"},{\"attributes\":{\"fill_alpha\":{\"value\":0.2},\"fill_color\":{\"value\":\"mediumseagreen\"},\"hatch_alpha\":{\"value\":0.2},\"line_alpha\":{\"value\":0.2},\"line_color\":{\"value\":\"seagreen\"},\"size\":{\"value\":8},\"x\":{\"field\":\"x\"},\"y\":{\"field\":\"y\"}},\"id\":\"1316\",\"type\":\"Circle\"},{\"attributes\":{\"data\":{\"x\":{\"__ndarray__\":\"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\",\"dtype\":\"float64\",\"order\":\"little\",\"shape\":[1004]},\"y\":{\"__ndarray__\":\"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\",\"dtype\":\"float64\",\"order\":\"little\",\"shape\":[1004]}},\"selected\":{\"id\":\"1327\"},\"selection_policy\":{\"id\":\"1326\"}},\"id\":\"1313\",\"type\":\"ColumnDataSource\"},{\"attributes\":{\"fill_alpha\":{\"value\":0.1},\"fill_color\":{\"value\":\"mediumseagreen\"},\"hatch_alpha\":{\"value\":0.1},\"line_alpha\":{\"value\":0.1},\"line_color\":{\"value\":\"seagreen\"},\"size\":{\"value\":8},\"x\":{\"field\":\"x\"},\"y\":{\"field\":\"y\"}},\"id\":\"1315\",\"type\":\"Circle\"},{\"attributes\":{\"tools\":[{\"id\":\"1299\"},{\"id\":\"1300\"},{\"id\":\"1301\"},{\"id\":\"1302\"},{\"id\":\"1303\"},{\"id\":\"1304\"}]},\"id\":\"1306\",\"type\":\"Toolbar\"},{\"attributes\":{\"coordinates\":null,\"group\":null,\"items\":[{\"id\":\"1330\"},{\"id\":\"1349\"}]},\"id\":\"1329\",\"type\":\"Legend\"},{\"attributes\":{},\"id\":\"1251\",\"type\":\"BasicTickFormatter\"},{\"attributes\":{},\"id\":\"1276\",\"type\":\"UnionRenderers\"},{\"attributes\":{\"label\":{\"value\":\"Good values\"},\"renderers\":[{\"id\":\"1317\"}]},\"id\":\"1330\",\"type\":\"LegendItem\"},{\"attributes\":{\"source\":{\"id\":\"1261\"}},\"id\":\"1266\",\"type\":\"CDSView\"},{\"attributes\":{\"label\":{\"value\":\"Bad values\"},\"renderers\":[{\"id\":\"1265\"}]},\"id\":\"1279\",\"type\":\"LegendItem\"},{\"attributes\":{\"coordinates\":null,\"data_source\":{\"id\":\"1261\"},\"glyph\":{\"id\":\"1262\"},\"group\":null,\"hover_glyph\":null,\"muted_glyph\":{\"id\":\"1264\"},\"nonselection_glyph\":{\"id\":\"1263\"},\"view\":{\"id\":\"1266\"}},\"id\":\"1265\",\"type\":\"GlyphRenderer\"},{\"attributes\":{\"fill_alpha\":{\"value\":0.3},\"fill_color\":{\"value\":\"mediumseagreen\"},\"line_color\":{\"value\":\"seagreen\"},\"size\":{\"value\":8},\"x\":{\"field\":\"x\"},\"y\":{\"field\":\"y\"}},\"id\":\"1314\",\"type\":\"Circle\"}],\"root_ids\":[\"1350\"]},\"title\":\"Bokeh Application\",\"version\":\"2.4.3\"}};\n",
       "  const render_items = [{\"docid\":\"99bbf2a8-2b70-4155-87b6-57b22b0e3bf5\",\"root_ids\":[\"1350\"],\"roots\":{\"1350\":\"c54397ba-efe9-43be-bdcd-312cd1a12f48\"}}];\n",
       "  root.Bokeh.embed.embed_items_notebook(docs_json, render_items);\n",
       "  }\n",
       "  if (root.Bokeh !== undefined) {\n",
       "    embed_document(root);\n",
       "  } else {\n",
       "    let attempts = 0;\n",
       "    const timer = setInterval(function(root) {\n",
       "      if (root.Bokeh !== undefined) {\n",
       "        clearInterval(timer);\n",
       "        embed_document(root);\n",
       "      } else {\n",
       "        attempts++;\n",
       "        if (attempts > 100) {\n",
       "          clearInterval(timer);\n",
       "          console.log(\"Bokeh: ERROR: Unable to run BokehJS code because BokehJS library is missing\");\n",
       "        }\n",
       "      }\n",
       "    }, 10, root)\n",
       "  }\n",
       "})(window);"
      ],
      "application/vnd.bokehjs_exec.v0+json": ""
     },
     "metadata": {
      "application/vnd.bokehjs_exec.v0+json": {
       "id": "1350"
      }
     },
     "output_type": "display_data"
    }
   ],
   "source": [
    "# ToDo: Include a shaded area for unfeasible values\n",
    "\n",
    "idx_valid = (data['TEMP'] > -2) & (data['TEMP'] < 40)\n",
    "\n",
    "p1 = figure(plot_width=420, plot_height=600, title=\"Global Range Check (-2 <= T <= 40)\")\n",
    "p1.circle(data['TEMP'][idx_valid], -data['PRES'][idx_valid], size=8, line_color=\"seagreen\", fill_color=\"mediumseagreen\", fill_alpha=0.3, legend_label=\"Good values\")\n",
    "p1.triangle(data['TEMP'][~idx_valid], -data['PRES'][~idx_valid], size=8, line_color=\"red\", fill_color=\"red\", fill_alpha=0.3, legend_label=\"Bad values\")\n",
    "p1.xaxis.axis_label = \"Temperature [C]\"\n",
    "p1.yaxis.axis_label = \"Depth [m]\"\n",
    "\n",
    "\n",
    "idx_valid = (data['PSAL'] > 0) & (data['PSAL'] < 41)\n",
    "\n",
    "p2 = figure(plot_width=420, plot_height=600, title=\"Global Range Check (0 <= S <= 41)\")\n",
    "p2.y_range = p1.y_range\n",
    "p2.circle(data['PSAL'][idx_valid], -data['PRES'][idx_valid], size=8, line_color=\"seagreen\", fill_color=\"mediumseagreen\", fill_alpha=0.3, legend_label=\"Good values\")\n",
    "p2.triangle(data['PSAL'][~idx_valid], -data['PRES'][~idx_valid], size=8, line_color=\"red\", fill_color=\"red\", fill_alpha=0.3, legend_label=\"Bad values\")\n",
    "p2.xaxis.axis_label = \"Pratical Salinity\"\n",
    "p2.yaxis.axis_label = \"Depth [m]\"\n",
    "\n",
    "p = row(p1, p2)\n",
    "show(p)"
   ]
  },
  {
   "cell_type": "markdown",
   "metadata": {},
   "source": [
    "Great, we already identified a fair number of bad measurements.\n",
    "The global range test is a simple and light test, and there is no reason to always apply it in normal conditions, but it is usually not enough.\n",
    "We will need to apply more tests to capture the rest of the bad measurements.\n",
    "\n",
    "Several QC tests were already implemented in CoTeDe, so you don't need to code it again.\n",
    "For instance, the global range test is available as `qctests.GlobalRange` and we can use it like"
   ]
  },
  {
   "cell_type": "code",
   "execution_count": 6,
   "metadata": {
    "tags": []
   },
   "outputs": [
    {
     "data": {
      "text/plain": [
       "{'global_range': array([1, 1, 1, ..., 4, 1, 4], dtype=int8)}"
      ]
     },
     "execution_count": 6,
     "metadata": {},
     "output_type": "execute_result"
    }
   ],
   "source": [
    "y = qctests.GlobalRange(data, varname='TEMP', cfg={\"minval\": -2, \"maxval\": 40})\n",
    "y.flags"
   ]
  },
  {
   "cell_type": "markdown",
   "metadata": {},
   "source": [
    "Let's use that to check what are the unfeasible values of temperature."
   ]
  },
  {
   "cell_type": "code",
   "execution_count": 7,
   "metadata": {
    "tags": []
   },
   "outputs": [
    {
     "data": {
      "text/plain": [
       "array([-14.70619965,  -5.89820004, -20.52770042, -12.84549999,\n",
       "        -7.79710007, -22.98450089,  48.20959854,  98.05940247,\n",
       "        53.17100143,  -7.30980015, -17.39480019,  48.66450119,\n",
       "        98.45189667, -19.34189987])"
      ]
     },
     "execution_count": 7,
     "metadata": {},
     "output_type": "execute_result"
    }
   ],
   "source": [
    "flag = y.flags[\"global_range\"]\n",
    "data[\"TEMP\"][flag==4]"
   ]
  },
  {
   "cell_type": "markdown",
   "metadata": {},
   "source": [
    "The Global Range is a trivial one to implement, but there are other checks that are more complex and CoTeDe provides a solution for that.\n",
    "For instance, let's consider another traditional procedure, the Spike check."
   ]
  },
  {
   "cell_type": "markdown",
   "metadata": {},
   "source": [
    "## Spike\n",
    "The spike check is a quite traditional one and is based on the principle of comparing one measurement with the tendency observed from the neighbor values.\n",
    "We could implement it as follows:"
   ]
  },
  {
   "cell_type": "code",
   "execution_count": 8,
   "metadata": {
    "tags": []
   },
   "outputs": [],
   "source": [
    "def spike(x):\n",
    "    \"\"\"Spike check as defined by GTSPP\n",
    "    \n",
    "    Notes\n",
    "    -----\n",
    "    - Check CoTeDe's manual for more details.\n",
    "    \"\"\"\n",
    "    y = np.nan * x\n",
    "    y[1:-1] = np.abs(x[1:-1] - (x[:-2] + x[2:]) / 2.0) - np.abs((x[2:] - x[:-2]) / 2.0)\n",
    "    return y"
   ]
  },
  {
   "cell_type": "markdown",
   "metadata": {},
   "source": [
    "This is already implemented in CoTeDe as `qctests.spike`, and we could use it as shown below:"
   ]
  },
  {
   "cell_type": "code",
   "execution_count": 9,
   "metadata": {
    "tags": []
   },
   "outputs": [
    {
     "name": "stdout",
     "output_type": "stream",
     "text": [
      "The largest spike observed was: 58.529\n"
     ]
    }
   ],
   "source": [
    "temp_spike = qctests.spike(data[\"TEMP\"])\n",
    "\n",
    "print(\"The largest spike observed was: {:.3f}\".format(np.nanmax(np.abs(temp_spike))))"
   ]
  },
  {
   "cell_type": "markdown",
   "metadata": {},
   "source": [
    "The same could be done for salinity, such as: ``sal_spike = qctests.spike(data[\"PSAL\"])``\n",
    "\n",
    "The traditional approach to use the spike check is by comparing the \"spikeness magnitude\" with a threshold.\n",
    "The measurement is considered bad (flag 4) if the spike is larger than that threshold.\n",
    "Similar to the global range check, we could hence use the `spike()` and compare the output with acceptable limits.\n",
    "This procedure is already available in CoTeDe as `qctests.Spike` and we can use it as follows,"
   ]
  },
  {
   "cell_type": "code",
   "execution_count": 10,
   "metadata": {
    "tags": []
   },
   "outputs": [
    {
     "data": {
      "text/plain": [
       "{'spike': array([0, 1, 1, ..., 4, 4, 0], dtype=int8)}"
      ]
     },
     "execution_count": 10,
     "metadata": {},
     "output_type": "execute_result"
    }
   ],
   "source": [
    "y_spike = qctests.Spike(data, \"TEMP\", cfg={\"threshold\": 2.0})\n",
    "y_spike.flags"
   ]
  },
  {
   "cell_type": "markdown",
   "metadata": {},
   "source": [
    "Like the Global Range, it provides the quality flags obtained from this procedure.\n",
    "Note that the standard flagging follows the IOC recommendation, thus 1 means good data while 0 is no QC applied.\n",
    "To customize the flags, check the manual for custom configuration.\n",
    "The spike check is based on the previous and following measurements, thus it can't evaluate the first nor the last values, returning flag 0 for those two measurements.\n",
    "\n",
    "Some procedures provide more than just the flags, but also include features derived from the original measurements.\n",
    "For instance, if one was interested in the \"spike intensity\" of one measurement, that could be inspected as:"
   ]
  },
  {
   "cell_type": "code",
   "execution_count": 11,
   "metadata": {
    "tags": []
   },
   "outputs": [
    {
     "data": {
      "text/plain": [
       "{'spike': array([            nan, -4.49943542e-03,  6.99996948e-04, ...,\n",
       "         4.97873955e+01, -5.85286980e+01,             nan])}"
      ]
     },
     "execution_count": 11,
     "metadata": {},
     "output_type": "execute_result"
    }
   ],
   "source": [
    "y_spike.features"
   ]
  },
  {
   "cell_type": "markdown",
   "metadata": {},
   "source": [
    "The magnitudes of the tests are stored in `features`."
   ]
  },
  {
   "cell_type": "markdown",
   "metadata": {},
   "source": [
    "## More tests\n",
    "QC checks are usually focused on specific characteristics of bad measurements, thus to cover a wider range of issues we typically combine a set of checks.\n",
    "Let's apply the Gradient and the Tukey53H checks"
   ]
  },
  {
   "cell_type": "code",
   "execution_count": 12,
   "metadata": {
    "tags": []
   },
   "outputs": [
    {
     "data": {
      "text/plain": [
       "{'gradient': array([0, 1, 1, ..., 4, 1, 0], dtype=int8)}"
      ]
     },
     "execution_count": 12,
     "metadata": {},
     "output_type": "execute_result"
    }
   ],
   "source": [
    "y_gradient = qctests.Gradient(data, \"TEMP\", cfg={\"threshold\": 10})\n",
    "y_gradient.flags"
   ]
  },
  {
   "cell_type": "code",
   "execution_count": 13,
   "metadata": {
    "tags": []
   },
   "outputs": [
    {
     "data": {
      "text/plain": [
       "{'tukey53H': array([0, 0, 0, ..., 0, 0, 0], dtype=int8)}"
      ]
     },
     "execution_count": 13,
     "metadata": {},
     "output_type": "execute_result"
    }
   ],
   "source": [
    "y_tukey53H = qctests.Tukey53H(data, \"TEMP\", cfg={\"threshold\": 2.0})\n",
    "y_tukey53H.flags"
   ]
  },
  {
   "cell_type": "markdown",
   "metadata": {},
   "source": [
    "These already implemented tests are useful, but it could be easier.\n",
    "We usually don't apply one test at a time but a set of tests.\n",
    "We could do that by defining a QC configuration like"
   ]
  },
  {
   "cell_type": "code",
   "execution_count": 14,
   "metadata": {
    "tags": []
   },
   "outputs": [],
   "source": [
    "cfg = {\n",
    "    \"TEMP\": {\n",
    "        \"global_range\": {\"minval\": -2, \"maxval\": 40},\n",
    "        \"gradient\": {\"threshold\": 10.0},\n",
    "        \"spike\": {\"threshold\": 2.0},\n",
    "        \"tukey53H\": {\"threshold\": 1.5},\n",
    "    },\n",
    "    \"PSAL\": {\n",
    "        \"global_range\": {\"minval\": 0, \"maxval\": 41},\n",
    "        \"gradient\": {\"threshold\": 5.0},\n",
    "        \"spike\": {\"threshold\": 0.3},\n",
    "        \"tukey53H\": {\"threshold\": 1.0},\n",
    "    }\n",
    "}"
   ]
  },
  {
   "cell_type": "code",
   "execution_count": 15,
   "metadata": {
    "tags": []
   },
   "outputs": [],
   "source": [
    "pqc = cotede.ProfileQC(data, cfg=cfg)"
   ]
  },
  {
   "cell_type": "markdown",
   "metadata": {},
   "source": [
    "That's it, the temperature and salinity from the primary sensor were evaluated.\n",
    "Let's explore this pqc object.\n",
    "\n",
    "The same variables in the input are available in the output object."
   ]
  },
  {
   "cell_type": "code",
   "execution_count": 16,
   "metadata": {
    "tags": []
   },
   "outputs": [
    {
     "name": "stdout",
     "output_type": "stream",
     "text": [
      "Variables available in data: timeS, PRES, TEMP, TEMP2, CNDC, CNDC2, potemperature, potemperature2, PSAL, PSAL2, flag\n",
      "\n",
      "Variables available in pqc: timeS, PRES, TEMP, TEMP2, CNDC, CNDC2, potemperature, potemperature2, PSAL, PSAL2, flag\n",
      "\n"
     ]
    }
   ],
   "source": [
    "print(\"Variables available in data: {}\\n\".format(\", \".join(data.keys())))\n",
    "print(\"Variables available in pqc: {}\\n\".format(\", \".join(pqc.keys())))"
   ]
  },
  {
   "cell_type": "markdown",
   "metadata": {},
   "source": [
    "But only the variables in the `cfg` dictionary were QC'd"
   ]
  },
  {
   "cell_type": "code",
   "execution_count": 17,
   "metadata": {
    "tags": []
   },
   "outputs": [
    {
     "name": "stdout",
     "output_type": "stream",
     "text": [
      "Variables flagged in pqc: TEMP, PSAL\n",
      "\n"
     ]
    }
   ],
   "source": [
    "print(\"Variables flagged in pqc: {}\\n\".format(\", \".join(pqc.flags.keys())))"
   ]
  },
  {
   "cell_type": "code",
   "execution_count": 18,
   "metadata": {
    "tags": []
   },
   "outputs": [
    {
     "name": "stdout",
     "output_type": "stream",
     "text": [
      "Flags available for temperature dict_keys(['global_range', 'gradient', 'spike', 'tukey53H', 'overall'])\n",
      "\n",
      "Flags available for salinity dict_keys(['global_range', 'gradient', 'spike', 'tukey53H', 'overall'])\n",
      "\n"
     ]
    }
   ],
   "source": [
    "print(\"Flags available for temperature {}\\n\".format(pqc.flags[\"TEMP\"].keys()))\n",
    "print(\"Flags available for salinity {}\\n\".format(pqc.flags[\"PSAL\"].keys()))"
   ]
  },
  {
   "cell_type": "code",
   "execution_count": 19,
   "metadata": {
    "tags": []
   },
   "outputs": [
    {
     "name": "stdout",
     "output_type": "stream",
     "text": [
      "Overall flags for TEMP: [1 1 1 ... 4 4 4]\n"
     ]
    }
   ],
   "source": [
    "flag = pqc.flags[\"TEMP\"][\"overall\"]\n",
    "print('Overall flags for TEMP:', flag)"
   ]
  },
  {
   "cell_type": "markdown",
   "metadata": {},
   "source": [
    "The flags are on IOC standard, thus 1 means good while 4 means bad.\n",
    "0 is used when the QC there was no QC. For instance, the spike test is defined so that it depends on the previous and following measurements, thus the first and last data point of the array will always have a spike flag equal to 0."
   ]
  },
  {
   "cell_type": "markdown",
   "metadata": {},
   "source": [
    "## Using CoTeDe QC framework\n",
    "CoTeDe automates many procedures for QC. Let's start using the standard procedure."
   ]
  },
  {
   "cell_type": "markdown",
   "metadata": {},
   "source": [
    "That's it, the primary and secondary sensors were evaluated. First the same variables in the input are available in the output object."
   ]
  },
  {
   "cell_type": "code",
   "execution_count": 20,
   "metadata": {
    "tags": []
   },
   "outputs": [
    {
     "name": "stdout",
     "output_type": "stream",
     "text": [
      "Variables available in data: dict_keys(['timeS', 'PRES', 'TEMP', 'TEMP2', 'CNDC', 'CNDC2', 'potemperature', 'potemperature2', 'PSAL', 'PSAL2', 'flag'])\n",
      "\n",
      "Variables available in pqc: dict_keys(['timeS', 'PRES', 'TEMP', 'TEMP2', 'CNDC', 'CNDC2', 'potemperature', 'potemperature2', 'PSAL', 'PSAL2', 'flag'])\n",
      "\n"
     ]
    }
   ],
   "source": [
    "print(\"Variables available in data: {}\\n\".format(data.keys()))\n",
    "print(\"Variables available in pqc: {}\\n\".format(pqc.keys()))"
   ]
  },
  {
   "cell_type": "code",
   "execution_count": 21,
   "metadata": {
    "tags": []
   },
   "outputs": [
    {
     "name": "stdout",
     "output_type": "stream",
     "text": [
      "Flags available for temperature dict_keys(['global_range', 'gradient', 'spike', 'tukey53H', 'overall'])\n",
      "\n",
      "Flags available for salinity dict_keys(['global_range', 'gradient', 'spike', 'tukey53H', 'overall'])\n",
      "\n"
     ]
    }
   ],
   "source": [
    "print(\"Flags available for temperature {}\\n\".format(pqc.flags[\"TEMP\"].keys()))\n",
    "print(\"Flags available for salinity {}\\n\".format(pqc.flags[\"PSAL\"].keys()))"
   ]
  },
  {
   "cell_type": "markdown",
   "metadata": {},
   "source": [
    "The flags are on IOC standard, thus 1 means good while 4 means bad.\n",
    "0 is used when the QC there was no QC. For instance, the spike test is defined so that it depends on the previous and following measurements, thus the first and last data point of the array will always have a spike flag equal to 0.\n",
    "\n",
    "Let's check the salinity with feasible values:"
   ]
  },
  {
   "cell_type": "code",
   "execution_count": null,
   "metadata": {},
   "outputs": [],
   "source": []
  },
  {
   "cell_type": "code",
   "execution_count": null,
   "metadata": {},
   "outputs": [],
   "source": []
  },
  {
   "cell_type": "code",
   "execution_count": null,
   "metadata": {},
   "outputs": [],
   "source": []
  },
  {
   "cell_type": "code",
   "execution_count": 22,
   "metadata": {
    "tags": []
   },
   "outputs": [
    {
     "data": {
      "text/html": [
       "\n",
       "  <div class=\"bk-root\" id=\"12ba030f-d5df-45f1-b4d0-c968f5f792c1\" data-root-id=\"1657\"></div>\n"
      ]
     },
     "metadata": {},
     "output_type": "display_data"
    },
    {
     "data": {
      "application/javascript": [
       "(function(root) {\n",
       "  function embed_document(root) {\n",
       "  const docs_json = {\"4546ea34-1a45-4c71-a7e3-c3089be76520\":{\"defs\":[],\"roots\":{\"references\":[{\"attributes\":{\"children\":[{\"id\":\"1517\"},{\"id\":\"1587\"}]},\"id\":\"1657\",\"type\":\"Row\"},{\"attributes\":{\"tools\":[{\"id\":\"1536\"},{\"id\":\"1537\"},{\"id\":\"1538\"},{\"id\":\"1539\"},{\"id\":\"1540\"},{\"id\":\"1541\"}]},\"id\":\"1543\",\"type\":\"Toolbar\"},{\"attributes\":{},\"id\":\"1564\",\"type\":\"Selection\"},{\"attributes\":{\"bottom_units\":\"screen\",\"coordinates\":null,\"fill_alpha\":0.5,\"fill_color\":\"lightgrey\",\"group\":null,\"left_units\":\"screen\",\"level\":\"overlay\",\"line_alpha\":1.0,\"line_color\":\"black\",\"line_dash\":[4,4],\"line_width\":2,\"right_units\":\"screen\",\"syncable\":false,\"top_units\":\"screen\"},\"id\":\"1542\",\"type\":\"BoxAnnotation\"},{\"attributes\":{\"source\":{\"id\":\"1620\"}},\"id\":\"1625\",\"type\":\"CDSView\"},{\"attributes\":{\"coordinates\":null,\"data_source\":{\"id\":\"1620\"},\"glyph\":{\"id\":\"1621\"},\"group\":null,\"hover_glyph\":null,\"muted_glyph\":{\"id\":\"1623\"},\"nonselection_glyph\":{\"id\":\"1622\"},\"view\":{\"id\":\"1625\"}},\"id\":\"1624\",\"type\":\"GlyphRenderer\"},{\"attributes\":{},\"id\":\"1540\",\"type\":\"ResetTool\"},{\"attributes\":{},\"id\":\"1539\",\"type\":\"SaveTool\"},{\"attributes\":{\"overlay\":{\"id\":\"1542\"}},\"id\":\"1538\",\"type\":\"BoxZoomTool\"},{\"attributes\":{},\"id\":\"1536\",\"type\":\"PanTool\"},{\"attributes\":{\"coordinates\":null,\"group\":null,\"items\":[{\"id\":\"1567\"},{\"id\":\"1586\"}]},\"id\":\"1566\",\"type\":\"Legend\"},{\"attributes\":{},\"id\":\"1537\",\"type\":\"WheelZoomTool\"},{\"attributes\":{},\"id\":\"1590\",\"type\":\"DataRange1d\"},{\"attributes\":{},\"id\":\"1533\",\"type\":\"BasicTicker\"},{\"attributes\":{\"axis\":{\"id\":\"1532\"},\"coordinates\":null,\"dimension\":1,\"group\":null,\"ticker\":null},\"id\":\"1535\",\"type\":\"Grid\"},{\"attributes\":{\"label\":{\"value\":\"Good values\"},\"renderers\":[{\"id\":\"1554\"}]},\"id\":\"1567\",\"type\":\"LegendItem\"},{\"attributes\":{\"coordinates\":null,\"group\":null,\"items\":[{\"id\":\"1637\"},{\"id\":\"1656\"}]},\"id\":\"1636\",\"type\":\"Legend\"},{\"attributes\":{},\"id\":\"1541\",\"type\":\"HelpTool\"},{\"attributes\":{\"axis_label\":\"Temperature [C]\",\"coordinates\":null,\"formatter\":{\"id\":\"1561\"},\"group\":null,\"major_label_policy\":{\"id\":\"1562\"},\"ticker\":{\"id\":\"1529\"}},\"id\":\"1528\",\"type\":\"LinearAxis\"},{\"attributes\":{\"label\":{\"value\":\"Good values\"},\"renderers\":[{\"id\":\"1624\"}]},\"id\":\"1637\",\"type\":\"LegendItem\"},{\"attributes\":{},\"id\":\"1524\",\"type\":\"LinearScale\"},{\"attributes\":{\"coordinates\":null,\"group\":null,\"text\":\"Global Range Check (-2 <= T <= 40)\"},\"id\":\"1518\",\"type\":\"Title\"},{\"attributes\":{},\"id\":\"1526\",\"type\":\"LinearScale\"},{\"attributes\":{\"axis_label\":\"Depth [m]\",\"coordinates\":null,\"formatter\":{\"id\":\"1558\"},\"group\":null,\"major_label_policy\":{\"id\":\"1559\"},\"ticker\":{\"id\":\"1533\"}},\"id\":\"1532\",\"type\":\"LinearAxis\"},{\"attributes\":{\"axis\":{\"id\":\"1528\"},\"coordinates\":null,\"group\":null,\"ticker\":null},\"id\":\"1531\",\"type\":\"Grid\"},{\"attributes\":{},\"id\":\"1529\",\"type\":\"BasicTicker\"},{\"attributes\":{\"below\":[{\"id\":\"1598\"}],\"center\":[{\"id\":\"1601\"},{\"id\":\"1605\"},{\"id\":\"1636\"}],\"left\":[{\"id\":\"1602\"}],\"renderers\":[{\"id\":\"1624\"},{\"id\":\"1642\"}],\"title\":{\"id\":\"1588\"},\"toolbar\":{\"id\":\"1613\"},\"width\":420,\"x_range\":{\"id\":\"1590\"},\"x_scale\":{\"id\":\"1594\"},\"y_range\":{\"id\":\"1522\"},\"y_scale\":{\"id\":\"1596\"}},\"id\":\"1587\",\"subtype\":\"Figure\",\"type\":\"Plot\"},{\"attributes\":{},\"id\":\"1522\",\"type\":\"DataRange1d\"},{\"attributes\":{\"fill_alpha\":{\"value\":0.1},\"fill_color\":{\"value\":\"mediumseagreen\"},\"hatch_alpha\":{\"value\":0.1},\"line_alpha\":{\"value\":0.1},\"line_color\":{\"value\":\"seagreen\"},\"size\":{\"value\":8},\"x\":{\"field\":\"x\"},\"y\":{\"field\":\"y\"}},\"id\":\"1552\",\"type\":\"Circle\"},{\"attributes\":{},\"id\":\"1520\",\"type\":\"DataRange1d\"},{\"attributes\":{\"label\":{\"value\":\"Bad values\"},\"renderers\":[{\"id\":\"1642\"}]},\"id\":\"1656\",\"type\":\"LegendItem\"},{\"attributes\":{\"coordinates\":null,\"data_source\":{\"id\":\"1638\"},\"glyph\":{\"id\":\"1639\"},\"group\":null,\"hover_glyph\":null,\"muted_glyph\":{\"id\":\"1641\"},\"nonselection_glyph\":{\"id\":\"1640\"},\"view\":{\"id\":\"1643\"}},\"id\":\"1642\",\"type\":\"GlyphRenderer\"},{\"attributes\":{\"source\":{\"id\":\"1638\"}},\"id\":\"1643\",\"type\":\"CDSView\"},{\"attributes\":{\"fill_alpha\":{\"value\":0.2},\"fill_color\":{\"value\":\"red\"},\"hatch_alpha\":{\"value\":0.2},\"line_alpha\":{\"value\":0.2},\"line_color\":{\"value\":\"red\"},\"marker\":{\"value\":\"triangle\"},\"size\":{\"value\":8},\"x\":{\"field\":\"x\"},\"y\":{\"field\":\"y\"}},\"id\":\"1641\",\"type\":\"Scatter\"},{\"attributes\":{},\"id\":\"1633\",\"type\":\"UnionRenderers\"},{\"attributes\":{\"fill_alpha\":{\"value\":0.1},\"fill_color\":{\"value\":\"red\"},\"hatch_alpha\":{\"value\":0.1},\"line_alpha\":{\"value\":0.1},\"line_color\":{\"value\":\"red\"},\"marker\":{\"value\":\"triangle\"},\"size\":{\"value\":8},\"x\":{\"field\":\"x\"},\"y\":{\"field\":\"y\"}},\"id\":\"1640\",\"type\":\"Scatter\"},{\"attributes\":{\"source\":{\"id\":\"1550\"}},\"id\":\"1555\",\"type\":\"CDSView\"},{\"attributes\":{},\"id\":\"1654\",\"type\":\"Selection\"},{\"attributes\":{},\"id\":\"1562\",\"type\":\"AllLabels\"},{\"attributes\":{},\"id\":\"1653\",\"type\":\"UnionRenderers\"},{\"attributes\":{},\"id\":\"1632\",\"type\":\"AllLabels\"},{\"attributes\":{},\"id\":\"1559\",\"type\":\"AllLabels\"},{\"attributes\":{},\"id\":\"1631\",\"type\":\"BasicTickFormatter\"},{\"attributes\":{},\"id\":\"1558\",\"type\":\"BasicTickFormatter\"},{\"attributes\":{},\"id\":\"1634\",\"type\":\"Selection\"},{\"attributes\":{},\"id\":\"1628\",\"type\":\"BasicTickFormatter\"},{\"attributes\":{},\"id\":\"1563\",\"type\":\"UnionRenderers\"},{\"attributes\":{},\"id\":\"1629\",\"type\":\"AllLabels\"},{\"attributes\":{},\"id\":\"1561\",\"type\":\"BasicTickFormatter\"},{\"attributes\":{\"data\":{\"x\":{\"__ndarray__\":\"AAAAAKOSwr8AAAAAk2ktwAAAAEAK1xJAAAAAwMGXF8AAAABgF4c0wAAAAGDlsCnAAAAAoO8nGEAAAABAR3L+PwAAAAA7MB/AAAAAwF2rO0AAAABAA1glQAAAAKCZmfM/AAAAAPCmPUAAAAAgUdr6vwAAAEBpLxBAAAAAQJLL7z8AAAAA+SANQAAAAGD8GPE/AAAAoEehEUAAAABACPw2wAAAACDUGkhAAAAAQM2DWEAAAABg45VKQAAAAEA8PR3AAAAAoBFlMcAAAADA3NUoQAAAAKAYBPs/AAAA4JUyAkAAAABgDlVIQAAAAODrnFhAAAAAAOmXQ0AAAADAhlczwA==\",\"dtype\":\"float64\",\"order\":\"little\",\"shape\":[32]},\"y\":{\"__ndarray__\":\"AAAAAAA4jsAAAAAAAECOwAAAAAAAgI7AAAAAAACIjsAAAAAAAJCOwAAAAAAAmI7AAAAAAACgjsAAAAAAAKiOwAAAAAAAsI7AAAAAAAC4jsAAAAAAAMCOwAAAAAAA0I7AAAAAAADYjsAAAAAAAOCOwAAAAAAA6I7AAAAAAADwjsAAAAAAAPiOwAAAAAAAAI/AAAAAAAAgj8AAAAAAACiPwAAAAAAAMI/AAAAAAAA4j8AAAAAAAECPwAAAAAAASI/AAAAAAABQj8AAAAAAAFiPwAAAAAAAYI/AAAAAAACQj8AAAAAAAJiPwAAAAAAAoI/AAAAAAACoj8AAAAAAALCPwA==\",\"dtype\":\"float64\",\"order\":\"little\",\"shape\":[32]}},\"selected\":{\"id\":\"1584\"},\"selection_policy\":{\"id\":\"1583\"}},\"id\":\"1568\",\"type\":\"ColumnDataSource\"},{\"attributes\":{\"fill_alpha\":{\"value\":0.2},\"fill_color\":{\"value\":\"mediumseagreen\"},\"hatch_alpha\":{\"value\":0.2},\"line_alpha\":{\"value\":0.2},\"line_color\":{\"value\":\"seagreen\"},\"size\":{\"value\":8},\"x\":{\"field\":\"x\"},\"y\":{\"field\":\"y\"}},\"id\":\"1553\",\"type\":\"Circle\"},{\"attributes\":{\"below\":[{\"id\":\"1528\"}],\"center\":[{\"id\":\"1531\"},{\"id\":\"1535\"},{\"id\":\"1566\"}],\"left\":[{\"id\":\"1532\"}],\"renderers\":[{\"id\":\"1554\"},{\"id\":\"1572\"}],\"title\":{\"id\":\"1518\"},\"toolbar\":{\"id\":\"1543\"},\"width\":420,\"x_range\":{\"id\":\"1520\"},\"x_scale\":{\"id\":\"1524\"},\"y_range\":{\"id\":\"1522\"},\"y_scale\":{\"id\":\"1526\"}},\"id\":\"1517\",\"subtype\":\"Figure\",\"type\":\"Plot\"},{\"attributes\":{\"fill_alpha\":{\"value\":0.3},\"fill_color\":{\"value\":\"red\"},\"line_color\":{\"value\":\"red\"},\"marker\":{\"value\":\"triangle\"},\"size\":{\"value\":8},\"x\":{\"field\":\"x\"},\"y\":{\"field\":\"y\"}},\"id\":\"1569\",\"type\":\"Scatter\"},{\"attributes\":{\"coordinates\":null,\"data_source\":{\"id\":\"1550\"},\"glyph\":{\"id\":\"1551\"},\"group\":null,\"hover_glyph\":null,\"muted_glyph\":{\"id\":\"1553\"},\"nonselection_glyph\":{\"id\":\"1552\"},\"view\":{\"id\":\"1555\"}},\"id\":\"1554\",\"type\":\"GlyphRenderer\"},{\"attributes\":{},\"id\":\"1599\",\"type\":\"BasicTicker\"},{\"attributes\":{\"tools\":[{\"id\":\"1606\"},{\"id\":\"1607\"},{\"id\":\"1608\"},{\"id\":\"1609\"},{\"id\":\"1610\"},{\"id\":\"1611\"}]},\"id\":\"1613\",\"type\":\"Toolbar\"},{\"attributes\":{\"axis\":{\"id\":\"1598\"},\"coordinates\":null,\"group\":null,\"ticker\":null},\"id\":\"1601\",\"type\":\"Grid\"},{\"attributes\":{},\"id\":\"1594\",\"type\":\"LinearScale\"},{\"attributes\":{\"fill_alpha\":{\"value\":0.3},\"fill_color\":{\"value\":\"red\"},\"line_color\":{\"value\":\"red\"},\"marker\":{\"value\":\"triangle\"},\"size\":{\"value\":8},\"x\":{\"field\":\"x\"},\"y\":{\"field\":\"y\"}},\"id\":\"1639\",\"type\":\"Scatter\"},{\"attributes\":{\"data\":{\"x\":{\"__ndarray__\":\"AAAA4LyDQUAAAADAXRtEQAAAAKBuJlFAAAAAwCBgQUAAAACAalxBQAAAAEABZUhAAAAAwDI8VkAAAABgSQFQQAAAAKBw3UBAAAAAgOIHQ0AAAADgWlJKQAAAAKCpMjRAAAAAIMsQPkAAAACAcRNEQAAAAIAvBERAAAAAwHZeNEAAAADgartGQAAAAIBR6UJAAAAAwMp5REAAAAAA071CQAAAAACYPURAAAAAQK8cQkAAAAAAw+xBQAAAAIBxn1lAAAAAwCBQLUAAAADAlvAgQAAAAOBoACtAAAAAgKwzSkAAAABgqKVTQAAAAIC3sDxAAAAAACC6Q0AAAABAxqxCQAAAACDQ5EJAAAAAoLSXLEAAAABg3pEgQAAAACClzTBAAAAAIPTEVkA=\",\"dtype\":\"float64\",\"order\":\"little\",\"shape\":[37]},\"y\":{\"__ndarray__\":\"AAAAAAAwjsAAAAAAADiOwAAAAAAAQI7AAAAAAABIjsAAAAAAAICOwAAAAAAAiI7AAAAAAACQjsAAAAAAAJiOwAAAAAAAoI7AAAAAAACojsAAAAAAALCOwAAAAAAAuI7AAAAAAADAjsAAAAAAAMiOwAAAAAAA0I7AAAAAAADYjsAAAAAAAOCOwAAAAAAA6I7AAAAAAADwjsAAAAAAAPiOwAAAAAAAAI/AAAAAAAAIj8AAAAAAACCPwAAAAAAAKI/AAAAAAAAwj8AAAAAAADiPwAAAAAAAQI/AAAAAAABIj8AAAAAAAFCPwAAAAAAAWI/AAAAAAABgj8AAAAAAAGiPwAAAAAAAkI/AAAAAAACYj8AAAAAAAKCPwAAAAAAAqI/AAAAAAACwj8A=\",\"dtype\":\"float64\",\"order\":\"little\",\"shape\":[37]}},\"selected\":{\"id\":\"1654\"},\"selection_policy\":{\"id\":\"1653\"}},\"id\":\"1638\",\"type\":\"ColumnDataSource\"},{\"attributes\":{\"axis\":{\"id\":\"1602\"},\"coordinates\":null,\"dimension\":1,\"group\":null,\"ticker\":null},\"id\":\"1605\",\"type\":\"Grid\"},{\"attributes\":{},\"id\":\"1609\",\"type\":\"SaveTool\"},{\"attributes\":{},\"id\":\"1584\",\"type\":\"Selection\"},{\"attributes\":{},\"id\":\"1607\",\"type\":\"WheelZoomTool\"},{\"attributes\":{\"axis_label\":\"Pratical Salinity\",\"coordinates\":null,\"formatter\":{\"id\":\"1631\"},\"group\":null,\"major_label_policy\":{\"id\":\"1632\"},\"ticker\":{\"id\":\"1599\"}},\"id\":\"1598\",\"type\":\"LinearAxis\"},{\"attributes\":{\"fill_alpha\":{\"value\":0.2},\"fill_color\":{\"value\":\"mediumseagreen\"},\"hatch_alpha\":{\"value\":0.2},\"line_alpha\":{\"value\":0.2},\"line_color\":{\"value\":\"seagreen\"},\"size\":{\"value\":8},\"x\":{\"field\":\"x\"},\"y\":{\"field\":\"y\"}},\"id\":\"1623\",\"type\":\"Circle\"},{\"attributes\":{\"data\":{\"x\":{\"__ndarray__\":\"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\",\"dtype\":\"float64\",\"order\":\"little\",\"shape\":[982]},\"y\":{\"__ndarray__\":\"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\",\"dtype\":\"float64\",\"order\":\"little\",\"shape\":[982]}},\"selected\":{\"id\":\"1564\"},\"selection_policy\":{\"id\":\"1563\"}},\"id\":\"1550\",\"type\":\"ColumnDataSource\"},{\"attributes\":{\"fill_alpha\":{\"value\":0.2},\"fill_color\":{\"value\":\"red\"},\"hatch_alpha\":{\"value\":0.2},\"line_alpha\":{\"value\":0.2},\"line_color\":{\"value\":\"red\"},\"marker\":{\"value\":\"triangle\"},\"size\":{\"value\":8},\"x\":{\"field\":\"x\"},\"y\":{\"field\":\"y\"}},\"id\":\"1571\",\"type\":\"Scatter\"},{\"attributes\":{},\"id\":\"1606\",\"type\":\"PanTool\"},{\"attributes\":{\"coordinates\":null,\"data_source\":{\"id\":\"1568\"},\"glyph\":{\"id\":\"1569\"},\"group\":null,\"hover_glyph\":null,\"muted_glyph\":{\"id\":\"1571\"},\"nonselection_glyph\":{\"id\":\"1570\"},\"view\":{\"id\":\"1573\"}},\"id\":\"1572\",\"type\":\"GlyphRenderer\"},{\"attributes\":{},\"id\":\"1583\",\"type\":\"UnionRenderers\"},{\"attributes\":{},\"id\":\"1596\",\"type\":\"LinearScale\"},{\"attributes\":{\"axis_label\":\"Depth [m]\",\"coordinates\":null,\"formatter\":{\"id\":\"1628\"},\"group\":null,\"major_label_policy\":{\"id\":\"1629\"},\"ticker\":{\"id\":\"1603\"}},\"id\":\"1602\",\"type\":\"LinearAxis\"},{\"attributes\":{\"coordinates\":null,\"group\":null,\"text\":\"Global Range Check (0 <= S <= 41)\"},\"id\":\"1588\",\"type\":\"Title\"},{\"attributes\":{},\"id\":\"1610\",\"type\":\"ResetTool\"},{\"attributes\":{\"fill_alpha\":{\"value\":0.3},\"fill_color\":{\"value\":\"mediumseagreen\"},\"line_color\":{\"value\":\"seagreen\"},\"size\":{\"value\":8},\"x\":{\"field\":\"x\"},\"y\":{\"field\":\"y\"}},\"id\":\"1621\",\"type\":\"Circle\"},{\"attributes\":{\"label\":{\"value\":\"Bad values\"},\"renderers\":[{\"id\":\"1572\"}]},\"id\":\"1586\",\"type\":\"LegendItem\"},{\"attributes\":{},\"id\":\"1611\",\"type\":\"HelpTool\"},{\"attributes\":{\"overlay\":{\"id\":\"1612\"}},\"id\":\"1608\",\"type\":\"BoxZoomTool\"},{\"attributes\":{\"bottom_units\":\"screen\",\"coordinates\":null,\"fill_alpha\":0.5,\"fill_color\":\"lightgrey\",\"group\":null,\"left_units\":\"screen\",\"level\":\"overlay\",\"line_alpha\":1.0,\"line_color\":\"black\",\"line_dash\":[4,4],\"line_width\":2,\"right_units\":\"screen\",\"syncable\":false,\"top_units\":\"screen\"},\"id\":\"1612\",\"type\":\"BoxAnnotation\"},{\"attributes\":{\"fill_alpha\":{\"value\":0.1},\"fill_color\":{\"value\":\"mediumseagreen\"},\"hatch_alpha\":{\"value\":0.1},\"line_alpha\":{\"value\":0.1},\"line_color\":{\"value\":\"seagreen\"},\"size\":{\"value\":8},\"x\":{\"field\":\"x\"},\"y\":{\"field\":\"y\"}},\"id\":\"1622\",\"type\":\"Circle\"},{\"attributes\":{},\"id\":\"1603\",\"type\":\"BasicTicker\"},{\"attributes\":{\"source\":{\"id\":\"1568\"}},\"id\":\"1573\",\"type\":\"CDSView\"},{\"attributes\":{\"fill_alpha\":{\"value\":0.1},\"fill_color\":{\"value\":\"red\"},\"hatch_alpha\":{\"value\":0.1},\"line_alpha\":{\"value\":0.1},\"line_color\":{\"value\":\"red\"},\"marker\":{\"value\":\"triangle\"},\"size\":{\"value\":8},\"x\":{\"field\":\"x\"},\"y\":{\"field\":\"y\"}},\"id\":\"1570\",\"type\":\"Scatter\"},{\"attributes\":{\"data\":{\"x\":{\"__ndarray__\":\"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\",\"dtype\":\"float64\",\"order\":\"little\",\"shape\":[977]},\"y\":{\"__ndarray__\":\"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\",\"dtype\":\"float64\",\"order\":\"little\",\"shape\":[977]}},\"selected\":{\"id\":\"1634\"},\"selection_policy\":{\"id\":\"1633\"}},\"id\":\"1620\",\"type\":\"ColumnDataSource\"},{\"attributes\":{\"fill_alpha\":{\"value\":0.3},\"fill_color\":{\"value\":\"mediumseagreen\"},\"line_color\":{\"value\":\"seagreen\"},\"size\":{\"value\":8},\"x\":{\"field\":\"x\"},\"y\":{\"field\":\"y\"}},\"id\":\"1551\",\"type\":\"Circle\"}],\"root_ids\":[\"1657\"]},\"title\":\"Bokeh Application\",\"version\":\"2.4.3\"}};\n",
       "  const render_items = [{\"docid\":\"4546ea34-1a45-4c71-a7e3-c3089be76520\",\"root_ids\":[\"1657\"],\"roots\":{\"1657\":\"12ba030f-d5df-45f1-b4d0-c968f5f792c1\"}}];\n",
       "  root.Bokeh.embed.embed_items_notebook(docs_json, render_items);\n",
       "  }\n",
       "  if (root.Bokeh !== undefined) {\n",
       "    embed_document(root);\n",
       "  } else {\n",
       "    let attempts = 0;\n",
       "    const timer = setInterval(function(root) {\n",
       "      if (root.Bokeh !== undefined) {\n",
       "        clearInterval(timer);\n",
       "        embed_document(root);\n",
       "      } else {\n",
       "        attempts++;\n",
       "        if (attempts > 100) {\n",
       "          clearInterval(timer);\n",
       "          console.log(\"Bokeh: ERROR: Unable to run BokehJS code because BokehJS library is missing\");\n",
       "        }\n",
       "      }\n",
       "    }, 10, root)\n",
       "  }\n",
       "})(window);"
      ],
      "application/vnd.bokehjs_exec.v0+json": ""
     },
     "metadata": {
      "application/vnd.bokehjs_exec.v0+json": {
       "id": "1657"
      }
     },
     "output_type": "display_data"
    }
   ],
   "source": [
    "# ToDo: Include a shaded area for unfeasible values\n",
    "\n",
    "idx_valid = (pqc.flags[\"TEMP\"][\"overall\"] <= 2)\n",
    "\n",
    "p1 = figure(plot_width=420, plot_height=600, title=\"Global Range Check (-2 <= T <= 40)\")\n",
    "p1.circle(data['TEMP'][idx_valid], -data['PRES'][idx_valid], size=8, line_color=\"seagreen\", fill_color=\"mediumseagreen\", fill_alpha=0.3, legend_label=\"Good values\")\n",
    "p1.triangle(data['TEMP'][~idx_valid], -data['PRES'][~idx_valid], size=8, line_color=\"red\", fill_color=\"red\", fill_alpha=0.3, legend_label=\"Bad values\")\n",
    "p1.xaxis.axis_label = \"Temperature [C]\"\n",
    "p1.yaxis.axis_label = \"Depth [m]\"\n",
    "\n",
    "\n",
    "idx_valid = (pqc.flags[\"PSAL\"][\"overall\"] <= 2)\n",
    "\n",
    "p2 = figure(plot_width=420, plot_height=600, title=\"Global Range Check (0 <= S <= 41)\")\n",
    "p2.y_range = p1.y_range\n",
    "p2.circle(data['PSAL'][idx_valid], -data['PRES'][idx_valid], size=8, line_color=\"seagreen\", fill_color=\"mediumseagreen\", fill_alpha=0.3, legend_label=\"Good values\")\n",
    "p2.triangle(data['PSAL'][~idx_valid], -data['PRES'][~idx_valid], size=8, line_color=\"red\", fill_color=\"red\", fill_alpha=0.3, legend_label=\"Bad values\")\n",
    "p2.xaxis.axis_label = \"Pratical Salinity\"\n",
    "p2.yaxis.axis_label = \"Depth [m]\"\n",
    "\n",
    "p = row(p1, p2)\n",
    "show(p)"
   ]
  },
  {
   "cell_type": "code",
   "execution_count": null,
   "metadata": {},
   "outputs": [],
   "source": []
  },
  {
   "cell_type": "code",
   "execution_count": null,
   "metadata": {},
   "outputs": [],
   "source": []
  },
  {
   "cell_type": "code",
   "execution_count": null,
   "metadata": {},
   "outputs": [],
   "source": []
  },
  {
   "cell_type": "code",
   "execution_count": null,
   "metadata": {},
   "outputs": [],
   "source": []
  },
  {
   "cell_type": "markdown",
   "metadata": {},
   "source": [
    "## More tests: GTSPP Spike and Gradient tests\n",
    "OK, let's apply more tests beyond the global range.\n",
    "Some common ones are the gradient and spike, and we could use CoTeDe to run that like"
   ]
  },
  {
   "cell_type": "code",
   "execution_count": null,
   "metadata": {},
   "outputs": [],
   "source": [
    "y_gradient = qctests.Gradient(data, 'TEMP', cfg={\"threshold\": 10})\n",
    "y_gradient.flags"
   ]
  },
  {
   "cell_type": "code",
   "execution_count": null,
   "metadata": {},
   "outputs": [],
   "source": [
    "y_spike = qctests.Spike(data, 'TEMP', cfg={\"threshold\": 2.0})\n",
    "y_spike.flags"
   ]
  },
  {
   "cell_type": "code",
   "execution_count": null,
   "metadata": {},
   "outputs": [],
   "source": []
  },
  {
   "cell_type": "code",
   "execution_count": null,
   "metadata": {},
   "outputs": [],
   "source": []
  },
  {
   "cell_type": "code",
   "execution_count": null,
   "metadata": {},
   "outputs": [],
   "source": []
  },
  {
   "cell_type": "code",
   "execution_count": null,
   "metadata": {},
   "outputs": [],
   "source": []
  },
  {
   "cell_type": "code",
   "execution_count": null,
   "metadata": {},
   "outputs": [],
   "source": []
  },
  {
   "cell_type": "code",
   "execution_count": null,
   "metadata": {},
   "outputs": [],
   "source": []
  },
  {
   "cell_type": "code",
   "execution_count": null,
   "metadata": {},
   "outputs": [],
   "source": []
  },
  {
   "cell_type": "code",
   "execution_count": null,
   "metadata": {},
   "outputs": [],
   "source": []
  },
  {
   "cell_type": "markdown",
   "metadata": {},
   "source": [
    "## The Easiest Way: High level\n",
    "Let's evaluate this profile using EuroGOOS standard tests."
   ]
  },
  {
   "cell_type": "code",
   "execution_count": null,
   "metadata": {},
   "outputs": [],
   "source": [
    "pqced = cotede.ProfileQCed(data, cfg='eurogoos')"
   ]
  },
  {
   "cell_type": "code",
   "execution_count": null,
   "metadata": {},
   "outputs": [],
   "source": [
    "p = figure(plot_width=500, plot_height=600)\n",
    "p.circle(pqced['TEMP'], -pqced['PRES'], size=8, line_color=\"green\", fill_color=\"green\", fill_alpha=0.3)\n",
    "show(p)"
   ]
  },
  {
   "cell_type": "markdown",
   "metadata": {},
   "source": [
    "## QC with more control: \"medium\" level"
   ]
  },
  {
   "cell_type": "code",
   "execution_count": null,
   "metadata": {},
   "outputs": [],
   "source": [
    "pqc = cotede.ProfileQC(data, cfg='eurogoos')"
   ]
  },
  {
   "cell_type": "code",
   "execution_count": null,
   "metadata": {},
   "outputs": [],
   "source": [
    "pqc.keys()"
   ]
  },
  {
   "cell_type": "code",
   "execution_count": null,
   "metadata": {},
   "outputs": [],
   "source": [
    "pqc.flags[\"TEMP\"]"
   ]
  },
  {
   "cell_type": "code",
   "execution_count": null,
   "metadata": {},
   "outputs": [],
   "source": [
    "data.keys()"
   ]
  },
  {
   "cell_type": "markdown",
   "metadata": {},
   "source": [
    "### Low level"
   ]
  },
  {
   "cell_type": "code",
   "execution_count": null,
   "metadata": {},
   "outputs": [],
   "source": [
    "from cotede import qctests\n",
    "y = qctests.GlobalRange(data, 'TEMP', cfg={'minval': -4, \"maxval\": 45 })\n",
    "y.flags"
   ]
  },
  {
   "cell_type": "code",
   "execution_count": null,
   "metadata": {},
   "outputs": [],
   "source": [
    "y = qctests.Tukey53H(data, 'TEMP', cfg={'threshold': 6, \"l\": 12})\n",
    "y.features[\"tukey53H\"]\n",
    "p = figure(plot_width=500, plot_height=600)\n",
    "p.circle(y.features[\"tukey53H\"], -data['PRES'], size=8, line_color=\"green\", fill_color=\"green\", fill_alpha=0.3)\n",
    "show(p)"
   ]
  },
  {
   "cell_type": "code",
   "execution_count": null,
   "metadata": {},
   "outputs": [],
   "source": []
  },
  {
   "cell_type": "code",
   "execution_count": null,
   "metadata": {},
   "outputs": [],
   "source": []
  },
  {
   "cell_type": "code",
   "execution_count": null,
   "metadata": {},
   "outputs": [],
   "source": []
  },
  {
   "cell_type": "code",
   "execution_count": null,
   "metadata": {},
   "outputs": [],
   "source": []
  },
  {
   "cell_type": "code",
   "execution_count": null,
   "metadata": {},
   "outputs": [],
   "source": [
    "cfg = {'TEMP': {'global_range': {'minval': -4, 'maxval': 45}}}\n",
    "\n",
    "pqc = ProfileQC(data, cfg)\n",
    "\n",
    "pqc.flags['TEMP']\n",
    "pqc.flags['TEMP']['overall']\n",
    "\n",
    "idx_good = pqc.flags['TEMP']['overall'] <= 2\n",
    "idx_bad = pqc.flags['TEMP']['overall'] >= 3\n",
    "\n",
    "p = figure(plot_width=500, plot_height=600)\n",
    "p.circle(data['TEMP'][idx_good], -data['PRES'][idx_good], size=8, line_color=\"green\", fill_color=\"green\", fill_alpha=0.3)\n",
    "p.triangle(data['TEMP'][idx_bad], -data['PRES'][idx_bad], size=8, line_color=\"red\", fill_color=\"red\", fill_alpha=0.3)\n",
    "show(p)"
   ]
  },
  {
   "cell_type": "code",
   "execution_count": null,
   "metadata": {},
   "outputs": [],
   "source": [
    "cfg['TEMP']['spike'] = {'threshold': 6}\n",
    "\n",
    "pqc = ProfileQC(data, cfg)\n",
    "\n",
    "pqc.flags['TEMP']\n",
    "pqc.flags['TEMP']['overall']\n",
    "\n",
    "idx_good = pqc.flags['TEMP']['overall'] <= 2\n",
    "idx_bad = pqc.flags['TEMP']['overall'] >= 3\n",
    "\n",
    "p = figure(plot_width=500, plot_height=600)\n",
    "p.circle(data['TEMP'][idx_good], -data['PRES'][idx_good], size=8, line_color=\"green\", fill_color=\"green\", fill_alpha=0.3)\n",
    "p.triangle(data['TEMP'][idx_bad], -data['PRES'][idx_bad], size=8, line_color=\"red\", fill_color=\"red\", fill_alpha=0.3)\n",
    "show(p)"
   ]
  },
  {
   "cell_type": "code",
   "execution_count": null,
   "metadata": {},
   "outputs": [],
   "source": [
    "cfg['TEMP']['woa_normbias'] = {'threshold': 6}\n",
    "\n",
    "\n",
    "pqc = ProfileQC(data, cfg)\n",
    "\n",
    "pqc.flags['TEMP']\n",
    "pqc.flags['TEMP']['overall']\n",
    "\n",
    "idx_good = pqc.flags['TEMP']['overall'] <= 2\n",
    "idx_bad = pqc.flags['TEMP']['overall'] >= 3\n",
    "\n",
    "p = figure(plot_width=500, plot_height=600)\n",
    "p.circle(data['TEMP'][idx_good], -data['PRES'][idx_good], size=8, line_color=\"green\", fill_color=\"green\", fill_alpha=0.3)\n",
    "p.triangle(data['TEMP'][idx_bad], -data['PRES'][idx_bad], size=8, line_color=\"red\", fill_color=\"red\", fill_alpha=0.3)\n",
    "show(p)"
   ]
  },
  {
   "cell_type": "code",
   "execution_count": null,
   "metadata": {},
   "outputs": [],
   "source": [
    "cfg['TEMP']['spike_depthconditional'] = {\"pressure_threshold\": 500, \"shallow_max\": 6.0, \"deep_max\": 2.0}\n",
    "\n",
    "pqc = ProfileQC(data, cfg)\n",
    "\n",
    "pqc.flags['TEMP']\n",
    "pqc.flags['TEMP']['overall']\n",
    "\n",
    "idx_good = pqc.flags['TEMP']['overall'] <= 2\n",
    "idx_bad = pqc.flags['TEMP']['overall'] >= 3\n",
    "\n",
    "p = figure(plot_width=500, plot_height=600)\n",
    "p.circle(data['TEMP'][idx_good], -data['PRES'][idx_good], size=8, line_color=\"green\", fill_color=\"green\", fill_alpha=0.3)\n",
    "p.triangle(data['TEMP'][idx_bad], -data['PRES'][idx_bad], size=8, line_color=\"red\", fill_color=\"red\", fill_alpha=0.3)\n",
    "show(p)"
   ]
  },
  {
   "cell_type": "code",
   "execution_count": null,
   "metadata": {},
   "outputs": [],
   "source": [
    "## The Easiest Way: High level\n",
    "Let's evaluate this profile using EuroGOOS standard tests."
   ]
  },
  {
   "cell_type": "code",
   "execution_count": null,
   "metadata": {},
   "outputs": [],
   "source": [
    "pqced = cotede.ProfileQCed(data, cfg='eurogoos')"
   ]
  },
  {
   "cell_type": "code",
   "execution_count": null,
   "metadata": {},
   "outputs": [],
   "source": [
    "p = figure(plot_width=500, plot_height=600)\n",
    "p.circle(pqced['TEMP'], -pqced['PRES'], size=8, line_color=\"green\", fill_color=\"green\", fill_alpha=0.3)\n",
    "show(p)"
   ]
  },
  {
   "cell_type": "code",
   "execution_count": null,
   "metadata": {},
   "outputs": [],
   "source": [
    "## QC with more control: \"medium\" level"
   ]
  },
  {
   "cell_type": "code",
   "execution_count": null,
   "metadata": {},
   "outputs": [],
   "source": [
    "pqc = cotede.ProfileQC(data, cfg='eurogoos')"
   ]
  },
  {
   "cell_type": "code",
   "execution_count": null,
   "metadata": {},
   "outputs": [],
   "source": [
    "pqc.keys()"
   ]
  },
  {
   "cell_type": "code",
   "execution_count": null,
   "metadata": {},
   "outputs": [],
   "source": [
    "pqc.flags[\"TEMP\"]"
   ]
  },
  {
   "cell_type": "code",
   "execution_count": null,
   "metadata": {},
   "outputs": [],
   "source": [
    "data.keys()"
   ]
  },
  {
   "cell_type": "code",
   "execution_count": null,
   "metadata": {},
   "outputs": [],
   "source": [
    "### Low level"
   ]
  },
  {
   "cell_type": "code",
   "execution_count": null,
   "metadata": {},
   "outputs": [],
   "source": [
    "from cotede import qctests\n",
    "y = qctests.GlobalRange(data, 'TEMP', cfg={'minval': -4, \"maxval\": 45 })\n",
    "y.flags"
   ]
  },
  {
   "cell_type": "code",
   "execution_count": null,
   "metadata": {},
   "outputs": [],
   "source": [
    "y = qctests.Tukey53H(data, 'TEMP', cfg={'threshold': 6, \"l\": 12})\n",
    "y.features[\"tukey53H\"]\n",
    "p = figure(plot_width=500, plot_height=600)\n",
    "p.circle(y.features[\"tukey53H\"], -data['PRES'], size=8, line_color=\"green\", fill_color=\"green\", fill_alpha=0.3)\n",
    "show(p)"
   ]
  },
  {
   "cell_type": "code",
   "execution_count": null,
   "metadata": {},
   "outputs": [],
   "source": []
  },
  {
   "cell_type": "code",
   "execution_count": null,
   "metadata": {},
   "outputs": [],
   "source": []
  },
  {
   "cell_type": "code",
   "execution_count": null,
   "metadata": {},
   "outputs": [],
   "source": []
  },
  {
   "cell_type": "code",
   "execution_count": null,
   "metadata": {},
   "outputs": [],
   "source": []
  }
 ],
 "metadata": {
  "kernelspec": {
   "display_name": "Python 3 (ipykernel)",
   "language": "python",
   "name": "python3"
  },
  "language_info": {
   "codemirror_mode": {
    "name": "ipython",
    "version": 3
   },
   "file_extension": ".py",
   "mimetype": "text/x-python",
   "name": "python",
   "nbconvert_exporter": "python",
   "pygments_lexer": "ipython3",
   "version": "3.9.13"
  }
 },
 "nbformat": 4,
 "nbformat_minor": 4
}
