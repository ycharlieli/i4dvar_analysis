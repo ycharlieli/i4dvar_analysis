{
 "cells": [
  {
   "cell_type": "code",
   "execution_count": 1,
   "id": "c3f9d65c-8342-49e0-b70f-c87e37218560",
   "metadata": {
    "tags": []
   },
   "outputs": [
    {
     "name": "stderr",
     "output_type": "stream",
     "text": [
      "NumExpr defaulting to 8 threads.\n"
     ]
    }
   ],
   "source": [
    "import datetime\n",
    "import os\n",
    "import re\n",
    "import numpy as np\n",
    "from seabird import fCNV\n",
    "import seapy\n",
    "import cartopy.crs as ccrs\n",
    "import cartopy.feature as cfeature\n",
    "from cartopy.mpl.ticker import LongitudeFormatter, LatitudeFormatter\n",
    "import matplotlib.pyplot as plt\n",
    "import matplotlib.ticker as mticker\n",
    "import matplotlib.colors as colors\n",
    "import scipy.io as sio\n",
    "import cmaps\n",
    "from matplotlib.colors import LinearSegmentedColormap\n",
    "from cotede import datasets, qctests"
   ]
  },
  {
   "cell_type": "code",
   "execution_count": 2,
   "id": "97a69f70-b54e-46ae-86bc-02ad13fb58e7",
   "metadata": {
    "tags": []
   },
   "outputs": [],
   "source": [
    "class insitu_workspace():\n",
    "    def __init__(self,MY_ROOT,worksapce_name, workspace_detail=None):\n",
    "        self.my_root = MY_ROOT\n",
    "        self.workspace_name = worksapce_name\n",
    "        self.workspace_detail = workspace_detail\n",
    "        self.workspace_subdir = os.path.join(self.my_root, self.workspace_name)\n",
    "        print('Workspace: ' + self.workspace_subdir)\n",
    "        self.ctd_files = seapy.list_files(os.path.join(self.workspace_subdir+'/CTD/*acfld.cnv'))\n",
    "        self.ctd_stationinfo = os.path.join(self.workspace_subdir,self.workspace_name+'-station.txt')\n",
    "        self.isempty = True\n",
    "        \n",
    "        \n",
    "    class Data():\n",
    "        def __init__(self):\n",
    "            self.filetype = 'ctd data structure'\n",
    "            \n",
    "\n",
    "\n",
    "\n",
    "\n",
    "    def pull_downcast(self,ctd_file,VAR):\n",
    "        def lanczos_filter(data,Cf,Nf,M):\n",
    "            coef = sp.signal.firwin(M+1, Cf/Nf,width = 2/len(data),window='lanczos', pass_zero='lowpass')\n",
    "            return sp.signal.filtfilt(coef,1.0,data)\n",
    "\n",
    "        dt = 0.04 #sec\n",
    "        fs = 1/(dt)\n",
    "        Nf = fs/2\n",
    "        Cf = fs/1500\n",
    "        M = 100\n",
    "        # print(ctd_file)\n",
    "        profile = fCNV(ctd_file)\n",
    "        time    = profile['timeS'][:]\n",
    "        if VAR == 'PSAL2':\n",
    "            var = profile.data[-6][:]\n",
    "        else:\n",
    "            var     = profile[VAR][:]\n",
    "        pres    = profile['PRES'][:]\n",
    "        depth   = profile['DEPTH'][:]\n",
    "        # smooth the noise further\n",
    "        # print(np.nanmax(time))\n",
    "        # smooth data based on the data length \n",
    "        if np.nanmax(time)>3000:\n",
    "            pres_conv = np.convolve(pres,np.ones(24*6*5)/24/6/5,mode='full')[72*5:-72*5+1]\n",
    "            pres_conv = seapy.filt.bandpass(pres_conv,dt,low_cutoff=dt*2000,order=4)\n",
    "        elif (self.workspace_name == 'IOCAS2013SPRING') and (('3400-05' in ctd_file) or ('3300-03' in ctd_file)):\n",
    "            # specified data file, not follow the general rules.\n",
    "            pres_conv = np.convolve(pres,np.ones(24*3)/24/3,mode='full')[36:-35]\n",
    "            pres_conv = seapy.filt.bandpass(pres_conv,dt,low_cutoff=dt*50,order=12)\n",
    "        elif (np.nanmax(time) > 370)  or ((self.workspace_name == 'NSFC2012SPRING-ES') and ('ZB-13' in ctd_file)):\n",
    "             # specified data file, not follow the general rules.\n",
    "            pres_conv = np.convolve(pres,np.ones(24*6)/24/6,mode='full')[72:-71]\n",
    "            pres_conv = seapy.filt.bandpass(pres_conv,dt,low_cutoff=dt*200,order=8)\n",
    "        else:\n",
    "            pres_conv = np.convolve(pres,np.ones(24*3)/24/3,mode='full')[36:-35]\n",
    "            pres_conv = seapy.filt.bandpass(pres_conv,dt,low_cutoff=dt*50,order=12)\n",
    "        \n",
    "        diff_pres = np.diff(pres_conv)\n",
    "    #    diff_pres_conv = np.convolve(diff_pres,np.ones(24*6)/24/6,mode='full')[72:-71]\n",
    "        diff_pres_conv = diff_pres.copy()\n",
    "        count_down = 0\n",
    "        count_up = 0\n",
    "        for i in range(1,len(diff_pres_conv)):\n",
    "            # print(diff_pres[i])\n",
    "            # print(diff_pres[i]*diff_pres[i-1])\n",
    "            if (diff_pres_conv[i]*diff_pres_conv[i-1]) < 0 :\n",
    "                if diff_pres_conv[i-1]>0:\n",
    "                    if  not count_down:\n",
    "                        start_down = i\n",
    "                    else:\n",
    "                        start_down = np.r_[start_down, i]\n",
    "                    count_down+=1\n",
    "                else:\n",
    "                    if not count_up :\n",
    "                        start_up = i\n",
    "                    else:\n",
    "                        start_up = np.r_[start_up, i]\n",
    "                    count_up+=1\n",
    "\n",
    "\n",
    "    #        print(start_up)\n",
    "    #        print(start_down)\n",
    "\n",
    "\n",
    "        # print(pres[start_down[1]])\n",
    "        larger = 1\n",
    "        smaller = -1\n",
    "        equal = 0\n",
    "    #    print(len(start_down))\n",
    "    #    print(len(start_up))\n",
    "        if len(start_up) > len(start_down):\n",
    "            end_indx = len(start_down)\n",
    "            status = larger\n",
    "        elif len(start_up) < len(start_down):\n",
    "            end_indx = len(start_up)\n",
    "            status = smaller\n",
    "        else:\n",
    "            status = equal\n",
    "\n",
    "\n",
    "        if start_down[0] < start_up[0]:\n",
    "            if status == equal:\n",
    "                mono_duration = start_up[:-1] - start_down[1:]\n",
    "            elif status == larger:\n",
    "                mono_duration = start_up[:end_indx-1] - start_down[1:]\n",
    "            elif status == smaller:\n",
    "                mono_duration = start_up[:] - start_down[1:]\n",
    "    #        print(mono_duration)\n",
    "            downcast_index = np.argmax(np.abs(mono_duration))\n",
    "    #        print(downcast_index)\n",
    "            if ((pres[start_down[downcast_index+1]] -\n",
    "                      pres[start_up[downcast_index]]) < 5):\n",
    "                mono_duration[downcast_index] = 0\n",
    "                downcast_index = np.argmax(np.abs(mono_duration))\n",
    "            mono_duration[downcast_index] = 0\n",
    "\n",
    "            downcast2_index = np.argmax(np.abs(mono_duration))\n",
    "\n",
    "            if (downcast2_index > downcast_index)\\\n",
    "                and ((pres[start_down[downcast2_index+1]] - \n",
    "                      pres[start_up[downcast2_index]]) > 5)\\\n",
    "                and (pres[start_up[downcast2_index]]>pres[start_down[downcast_index+1]]):\n",
    "                time_downcast = np.r_[\n",
    "                                      time[start_up[downcast_index]:start_down[downcast_index+1]],\n",
    "                                      time[start_up[downcast2_index]:start_down[downcast2_index+1]]\n",
    "\n",
    "                                      ]\n",
    "                pres_downcast = np.r_[\n",
    "                                      pres[start_up[downcast_index]:start_down[downcast_index+1]],\n",
    "                                      pres[start_up[downcast2_index]:start_down[downcast2_index+1]]\n",
    "                                      ]\n",
    "                depth_downcast = np.r_[\n",
    "                                      depth[start_up[downcast_index]:start_down[downcast_index+1]],\n",
    "                                      depth[start_up[downcast2_index]:start_down[downcast2_index+1]]\n",
    "                                      ]\n",
    "                var_downcast = np.r_[\n",
    "                                       var[start_up[downcast_index]:start_down[downcast_index+1]],\n",
    "                                       var[start_up[downcast2_index]:start_down[downcast2_index+1]]\n",
    "                                    ]\n",
    "            elif (downcast2_index < downcast_index)\\\n",
    "                   and((pres[start_down[downcast2_index+1]] - \n",
    "                  pres[start_up[downcast2_index]]) < np.max(pres) *0.7)\\\n",
    "                and ((((pres[start_down[downcast2_index+1]] - \n",
    "                  pres[start_up[downcast2_index]]) > np.max(pres) *0.4) \\\n",
    "                and ((time[start_up[downcast_index]] -\n",
    "                  time[start_down[downcast2_index+1]]) <np.max(time)*0.1))\\\n",
    "                or (((pres[start_down[downcast2_index+1]] - \n",
    "                  pres[start_up[downcast2_index]]) > np.max(pres) *0.2) \\\n",
    "                and ((time[start_up[downcast_index]] -\n",
    "                  time[start_down[downcast2_index+1]]) <np.max(time)*0.05))\\\n",
    "                or((time[start_up[downcast_index]] -\n",
    "                  time[start_down[downcast2_index+1]]) <np.max(time)*0.005)): # judge that the interval between two downcast is small enough\n",
    "                time_downcast = np.r_[\n",
    "                                      time[start_up[downcast2_index]:start_down[downcast2_index+1]],\n",
    "                                      time[start_up[downcast_index]:start_down[downcast_index+1]]\n",
    "\n",
    "                                      ]\n",
    "                pres_downcast = np.r_[\n",
    "                                      pres[start_up[downcast2_index]:start_down[downcast2_index+1]],\n",
    "                                      pres[start_up[downcast_index]:start_down[downcast_index+1]]\n",
    "                                      ]\n",
    "                depth_downcast = np.r_[\n",
    "                                      depth[start_up[downcast2_index]:start_down[downcast2_index+1]],\n",
    "                                      depth[start_up[downcast_index]:start_down[downcast_index+1]]\n",
    "                                      ]\n",
    "                var_downcast = np.r_[\n",
    "                                       var[start_up[downcast2_index]:start_down[downcast2_index+1]],\n",
    "                                       var[start_up[downcast_index]:start_down[downcast_index+1]]\n",
    "                                    ]\n",
    "            else:\n",
    "\n",
    "                time_downcast = time[start_up[downcast_index]:start_down[downcast_index+1]]\n",
    "                pres_downcast = pres[start_up[downcast_index]:start_down[downcast_index+1]]\n",
    "                depth_downcast = depth[start_up[downcast_index]:start_down[downcast_index+1]]\n",
    "                var_downcast = var[start_up[downcast_index]:start_down[downcast_index+1]]\n",
    "                \n",
    "            \n",
    "\n",
    "\n",
    "\n",
    "        else:\n",
    "            if status == equal:\n",
    "                mono_duration = start_up - start_down\n",
    "            elif status == larger:\n",
    "                mono_duration = start_up[:end_indx] - start_down\n",
    "            elif status == smaller:\n",
    "                mono_duration = start_up[:] - start_down[:end_indx]\n",
    "\n",
    "    #        print(mono_duration)\n",
    "            downcast_index = np.argmax(np.abs(mono_duration))\n",
    "    #        print(downcast_index)\n",
    "            if ((pres[start_down[downcast_index]] -\n",
    "                      pres[start_up[downcast_index]]) < 5):\n",
    "                mono_duration[downcast_index] = 0\n",
    "                downcast_index = np.argmax(np.abs(mono_duration))\n",
    "            mono_duration[downcast_index] = 0\n",
    "            downcast2_index = np.argmax(np.abs(mono_duration))\n",
    "            if (downcast2_index > downcast_index)\\\n",
    "                and ((pres[start_down[downcast2_index]] - \n",
    "                      pres[start_up[downcast2_index]]) > 5)\\\n",
    "                and (pres[start_up[downcast2_index]]>pres[start_down[downcast_index]]):\n",
    "                time_downcast = np.r_[\n",
    "                                      time[start_up[downcast_index]:start_down[downcast_index]],\n",
    "                                      time[start_up[downcast2_index]:start_down[downcast2_index]]\n",
    "\n",
    "                                      ]\n",
    "                pres_downcast = np.r_[\n",
    "                                      pres[start_up[downcast_index]:start_down[downcast_index]],\n",
    "                                      pres[start_up[downcast2_index]:start_down[downcast2_index]]\n",
    "                                      ]\n",
    "                depth_downcast = np.r_[\n",
    "                                      depth[start_up[downcast_index]:start_down[downcast_index]],\n",
    "                                      depth[start_up[downcast2_index]:start_down[downcast2_index]]\n",
    "                                      ]\n",
    "                \n",
    "                var_downcast = np.r_[\n",
    "                                       var[start_up[downcast_index]:start_down[downcast_index]],\n",
    "                                       var[start_up[downcast2_index]:start_down[downcast2_index]]\n",
    "                                    ]\n",
    "            elif (downcast2_index < downcast_index)\\\n",
    "                   and ((pres[start_down[downcast2_index]] - \n",
    "                  pres[start_up[downcast2_index]]) < np.max(pres)*0.7)\\\n",
    "                 and ((((pres[start_down[downcast2_index]] - \n",
    "                  pres[start_up[downcast2_index]]) > np.max(pres)*0.4) \\\n",
    "                and ((time[start_up[downcast_index]] -\n",
    "                  time[start_down[downcast2_index]]) <np.max(time)*0.1))\\\n",
    "              or (((pres[start_down[downcast2_index]] - \n",
    "                  pres[start_up[downcast2_index]]) > np.max(pres)*0.2) \\\n",
    "                and ((time[start_up[downcast_index]] -\n",
    "                  time[start_down[downcast2_index]]) <np.max(time)*0.05))\\\n",
    "                or((time[start_up[downcast_index]] -\n",
    "                  time[start_down[downcast2_index]]) <np.max(time)*0.005)): # judge that the interval between two downcast is small enough\n",
    "                time_downcast = np.r_[\n",
    "                                      time[start_up[downcast2_index]:start_down[downcast2_index]],\n",
    "                                      time[start_up[downcast_index]:start_down[downcast_index]]\n",
    "\n",
    "                                      ]\n",
    "                pres_downcast = np.r_[\n",
    "                                      pres[start_up[downcast2_index]:start_down[downcast2_index]],\n",
    "                                      pres[start_up[downcast_index]:start_down[downcast_index]]\n",
    "                                      ]\n",
    "                depth_downcast = np.r_[\n",
    "                                      depth[start_up[downcast2_index]:start_down[downcast2_index]],\n",
    "                                      depth[start_up[downcast_index]:start_down[downcast_index]]\n",
    "                                      ]\n",
    "                var_downcast = np.r_[\n",
    "                                       var[start_up[downcast2_index]:start_down[downcast2_index]],\n",
    "                                       var[start_up[downcast_index]:start_down[downcast_index]]\n",
    "                                    ]\n",
    "            else:\n",
    "\n",
    "                time_downcast = time[start_up[downcast_index]:start_down[downcast_index]]\n",
    "                pres_downcast = pres[start_up[downcast_index]:start_down[downcast_index]]\n",
    "                depth_downcast = depth[start_up[downcast_index]:start_down[downcast_index]]\n",
    "                var_downcast = var[start_up[downcast_index]:start_down[downcast_index]]\n",
    "            \n",
    "            \n",
    "        return time_downcast.data, pres_downcast.data, depth_downcast.data, var_downcast.data\n",
    "\n",
    "    def pull_ctdinfos(self):\n",
    "        self.ctd_infos = {}\n",
    "        ctdid = open(self.ctd_stationinfo)\n",
    "        info = ctdid.readline().split()\n",
    "        cid = 0\n",
    "        while info:\n",
    "            self.ctd_infos[info[1]]={}\n",
    "            self.ctd_infos[info[1]]['TIME'] = (datetime.datetime.strptime(info[2],'%Y%m%d%H%M') - \n",
    "                                              datetime.datetime(1970,1,1)).total_seconds()/3600/24\n",
    "            self.ctd_infos[info[1]]['LONGITUDE']=info[3]\n",
    "            self.ctd_infos[info[1]]['LATITUDE']=info[4]\n",
    "            self.ctd_infos[info[1]]['DEPTH'] = info[5]\n",
    "            self.ctd_infos[info[1]]['CTDID'] = cid\n",
    "            cid +=1\n",
    "            info = ctdid.readline().split()\n",
    "        ctdid.close()\n",
    "        \n",
    "    def pull_alldata(self,VARS, refine_withqc_id=None):\n",
    "        if self.isempty:\n",
    "            self.data = {}\n",
    "            self.isempty = False\n",
    "        for iv, var in enumerate(VARS):\n",
    "            print(var)\n",
    "            self.data[var] = self.Data()\n",
    "            if len(refine_withqc_id[var]) > 0:\n",
    "                print('qc specified: ')\n",
    "                print(refine_withqc_id[var])\n",
    "                needqc=True\n",
    "            else:\n",
    "                needqc=False\n",
    "            for ic, ctd_file in enumerate(self.ctd_files):\n",
    "                # print(ctd_file)\n",
    "                \n",
    "                ctdid = re.findall(r\"%s/CTD/(.*)acfld.cnv\"%(self.workspace_subdir),ctd_file)[0]\n",
    "                # print(ctdid)\n",
    "                # print(needqc)\n",
    "                if needqc:\n",
    "                    if ctdid in refine_withqc_id[var]:\n",
    "                        # print('qc is activated')\n",
    "                        idneedqc=True\n",
    "                    else:\n",
    "                        idneedqc=False\n",
    "                else:\n",
    "                    idneedqc=False\n",
    "                \n",
    "                if ic == 0:\n",
    "                    _, self.data[var].pres, self.data[var].depth, self.data[var].value = self.pull_downcast(ctd_file,var)\n",
    "                    #remove negative depth\n",
    "                    valid_depth = np.where(self.data[var].depth>0)\n",
    "                    self.data[var].pres = self.data[var].pres[valid_depth]\n",
    "                    self.data[var].depth = self.data[var].depth[valid_depth]\n",
    "                    self.data[var].value = self.data[var].value[valid_depth]\n",
    "                    self.data[var].station = np.tile(ctdid,[len(self.data[var].value),]).ravel()\n",
    "                    self.data[var].time = np.tile(float(self.ctd_infos[ctdid]['TIME']),[len(self.data[var].value),]).ravel()\n",
    "                    self.data[var].lon = np.tile(float(self.ctd_infos[ctdid]['LONGITUDE']),[len(self.data[var].value),]).ravel()\n",
    "                    self.data[var].lat = np.tile(float(self.ctd_infos[ctdid]['LATITUDE']),[len(self.data[var].value),]).ravel()\n",
    "                    \n",
    "                    # interpolating\n",
    "                    \n",
    "                    # print('interp is activate')\n",
    "\n",
    "                    data_len = int(np.floor(0.95*len(self.data[var].value)))\n",
    "                    pres_cut = self.data[var].pres[:data_len] \n",
    "                    # splitted based on pressure\n",
    "                    # cut the tail of data\n",
    "                    pres_levels = np.arange(np.ceil(np.min(pres_cut)),\n",
    "                                               np.floor(np.max(pres_cut)),\n",
    "                                               )\n",
    "\n",
    "                    self.data[var].station_i = np.tile(ctdid,[len(pres_levels),]).ravel()\n",
    "                    self.data[var].time_i = np.tile(float(self.ctd_infos[ctdid]['TIME']),[len(pres_levels),]).ravel()\n",
    "                    self.data[var].lon_i = np.tile(float(self.ctd_infos[ctdid]['LONGITUDE']),[len(pres_levels),]).ravel()\n",
    "                    self.data[var].lat_i = np.tile(float(self.ctd_infos[ctdid]['LATITUDE']),[len(pres_levels),]).ravel()\n",
    "                    self.data[var].depth_i = seapy.seawater.depth(pres_levels, lat=float(self.ctd_infos[ctdid]['LATITUDE']))\n",
    "                    self.data[var].pres_i = pres_levels.copy()\n",
    "                    self.data[var].value_i = np.interp(pres_levels,pres_cut,self.data[var].value[:data_len])\n",
    "                    \n",
    "                    # refining\n",
    "                    grad_value_r = np.diff(self.data[var].value_i)\n",
    "                    grad_value_r = np.abs(np.r_[grad_value_r[0],grad_value_r])\n",
    "                    grad_value_l = np.diff(self.data[var].value_i)\n",
    "                    grad_value_l = np.abs(np.r_[grad_value_l,grad_value_l[-1]])\n",
    "                    grad_value = (grad_value_r+grad_value_l)/2\n",
    "                    if var =='PSAL2':\n",
    "                        grad_value = 1/(1+np.exp(-grad_value**2))\n",
    "                    elif var =='TEMP':\n",
    "                        grad_value = 1/(1+np.exp(-grad_value))\n",
    "                    \n",
    "                    refine_levels = np.linspace(np.min(pres_levels),np.max(pres_levels),1000)\n",
    "                        \n",
    "    \n",
    "                    if idneedqc:\n",
    "                        \n",
    "                        print(\"quality control is activate: %s\"%(ctdid))\n",
    "                        value_qc = self.data[var].value_i[grad_value<np.mean(grad_value)]\n",
    "                        pres_qc = self.data[var].pres_i[grad_value<np.mean(grad_value)]\n",
    "                            \n",
    "                    else:\n",
    "                        value_qc = self.data[var].value_i.copy()\n",
    "                        pres_qc = self.data[var].pres_i.copy()\n",
    "                    \n",
    "\n",
    "                    self.data[var].value_r = np.interp(refine_levels,pres_qc,value_qc)\n",
    "                    self.data[var].pres_r = refine_levels.copy()\n",
    "                    self.data[var].depth_r = seapy.seawater.depth(refine_levels, lat=float(self.ctd_infos[ctdid]['LATITUDE']))\n",
    "                    self.data[var].time_r =  np.tile(float(self.ctd_infos[ctdid]['TIME']),[len(refine_levels),]).ravel()\n",
    "                    self.data[var].lon_r =  np.tile(float(self.ctd_infos[ctdid]['LONGITUDE']),[len(refine_levels),]).ravel()\n",
    "                    self.data[var].lat_r = np.tile(float(self.ctd_infos[ctdid]['LATITUDE']),[len(refine_levels),]).ravel()\n",
    "                    self.data[var].station_r = np.tile(ctdid,[len(refine_levels),]).ravel()\n",
    "\n",
    "\n",
    "\n",
    "\n",
    "                        \n",
    "                else:\n",
    "                    \n",
    "                    _, thispres, thisdepth, thisvalue = self.pull_downcast(ctd_file,var)\n",
    "                    #remove negative depth\n",
    "                    valid_depth = np.where(thisdepth>0)\n",
    "                    thispres = thispres[valid_depth]\n",
    "                    thisvalue = thisvalue[valid_depth]\n",
    "                    thisdepth = thisdepth[valid_depth]\n",
    "                    thisstation = np.tile(ctdid,[len(thisvalue),]).ravel()\n",
    "                    thistime = np.tile(float(self.ctd_infos[ctdid]['TIME']),[len(thisvalue),]).ravel()\n",
    "                    thislon = np.tile(float(self.ctd_infos[ctdid]['LONGITUDE']),[len(thisvalue),]).ravel()\n",
    "                    thislat = np.tile(float(self.ctd_infos[ctdid]['LATITUDE']),[len(thisvalue),]).ravel()\n",
    "                    self.data[var].station  = np.r_[self.data[var].station ,thisstation]\n",
    "                    self.data[var].time  = np.r_[self.data[var].time ,thistime]\n",
    "                    self.data[var].pres  = np.r_[self.data[var].pres ,thispres]\n",
    "                    self.data[var].depth = np.r_[self.data[var].depth,thisdepth]\n",
    "                    self.data[var].value = np.r_[self.data[var].value,thisvalue]\n",
    "                    self.data[var].lon   = np.r_[self.data[var].lon,thislon]\n",
    "                    self.data[var].lat   = np.r_[self.data[var].lat,thislat]\n",
    "                    \n",
    "                    # interpolating\n",
    "                    # print('interp is activate')\n",
    "\n",
    "                    data_len = int(np.floor(0.95*len(thisvalue)))\n",
    "                    pres_cut = thispres[:data_len] \n",
    "                    # splitted based on pressure\n",
    "                    # cut the tail of data\n",
    "                    pres_levels = np.arange(np.ceil(np.min(pres_cut)),\n",
    "                                               np.floor(np.max(pres_cut)),\n",
    "                                               )\n",
    "\n",
    "                    thisstation_i = np.tile(ctdid,[len(pres_levels),]).ravel()\n",
    "                    thistime_i = np.tile(float(self.ctd_infos[ctdid]['TIME']),[len(pres_levels),]).ravel()\n",
    "                    thislon_i = np.tile(float(self.ctd_infos[ctdid]['LONGITUDE']),[len(pres_levels),]).ravel()\n",
    "                    thislat_i = np.tile(float(self.ctd_infos[ctdid]['LATITUDE']),[len(pres_levels),]).ravel()\n",
    "                    thisdepth_i = seapy.seawater.depth(pres_levels, lat=float(self.ctd_infos[ctdid]['LATITUDE']))\n",
    "                    thispres_i = pres_levels.copy()\n",
    "                    thisvalue_i = np.interp(pres_levels,pres_cut,thisvalue[:data_len])\n",
    "                    self.data[var].station_i = np.r_[self.data[var].station_i, thisstation_i]\n",
    "                    self.data[var].time_i = np.r_[self.data[var].time_i, thistime_i]\n",
    "                    self.data[var].lon_i = np.r_[self.data[var].lon_i, thislon_i]\n",
    "                    self.data[var].lat_i = np.r_[self.data[var].lat_i, thislat_i]\n",
    "                    self.data[var].depth_i = np.r_[self.data[var].depth_i, thisdepth_i]\n",
    "                    self.data[var].pres_i = np.r_[self.data[var].pres_i, thispres_i]\n",
    "                    self.data[var].value_i = np.r_[self.data[var].value_i,thisvalue_i]\n",
    "                        \n",
    "                    \n",
    "                    # refining  \n",
    "                    \n",
    "                    grad_value_r = np.diff(thisvalue_i)\n",
    "                    grad_value_r = np.abs(np.r_[grad_value_r[0],grad_value_r])\n",
    "                    grad_value_l = np.diff(thisvalue_i)\n",
    "                    grad_value_l = np.abs(np.r_[grad_value_l,grad_value_l[-1]])\n",
    "                    grad_value = (grad_value_r+grad_value_l)/2\n",
    "                    if var =='PSAL2':\n",
    "                        grad_value = 1/(1+np.exp(-grad_value**2))\n",
    "                    elif var =='TEMP':\n",
    "                        grad_value = 1/(1+np.exp(-grad_value))\n",
    "                    \n",
    "                    \n",
    "                    refine_levels = np.linspace(np.min(pres_levels),np.max(pres_levels),1000)\n",
    "\n",
    "\n",
    "                            \n",
    "                          \n",
    "                    if idneedqc:\n",
    "                        print(\"quality control is activate: %s\"%(ctdid))\n",
    "                        value_qc = thisvalue_i[grad_value<np.mean(grad_value)]\n",
    "                        pres_qc = thispres_i[grad_value<np.mean(grad_value)]\n",
    "                    else:\n",
    "                        value_qc = thisvalue_i.copy()\n",
    "                        pres_qc = thispres_i.copy()\n",
    "\n",
    "                    thisvalue_r = np.interp(refine_levels,pres_qc,value_qc)\n",
    "                    thispres_r = refine_levels.copy()\n",
    "                    thisdepth_r = seapy.seawater.depth(refine_levels, lat=float(self.ctd_infos[ctdid]['LATITUDE']))\n",
    "                    thistime_r =  np.tile(float(self.ctd_infos[ctdid]['TIME']),[len(refine_levels),]).ravel()\n",
    "                    thislon_r =  np.tile(float(self.ctd_infos[ctdid]['LONGITUDE']),[len(refine_levels),]).ravel()\n",
    "                    thislat_r = np.tile(float(self.ctd_infos[ctdid]['LATITUDE']),[len(refine_levels),]).ravel()\n",
    "                    thisstation_r = np.tile(ctdid,[len(refine_levels),]).ravel()\n",
    "                    self.data[var].station_r = np.r_[self.data[var].station_r, thisstation_r]\n",
    "                    self.data[var].time_r = np.r_[self.data[var].time_r, thistime_r]\n",
    "                    self.data[var].lon_r = np.r_[self.data[var].lon_r, thislon_r]\n",
    "                    self.data[var].lat_r = np.r_[self.data[var].lat_r, thislat_r]\n",
    "                    self.data[var].depth_r = np.r_[self.data[var].depth_r, thisdepth_r]\n",
    "                    self.data[var].pres_r = np.r_[self.data[var].pres_r, thispres_r]\n",
    "                    self.data[var].value_r = np.r_[self.data[var].value_r,thisvalue_r]\n",
    "                    \n",
    "    \n",
    "        \n",
    "            \n",
    "                    \n",
    "                    \n",
    "                   \n",
    "                \n",
    "                \n",
    "            \n",
    "        "
   ]
  },
  {
   "cell_type": "code",
   "execution_count": 1318,
   "id": "e579febc-3246-4dfb-bd62-3faf777911c5",
   "metadata": {
    "tags": []
   },
   "outputs": [
    {
     "name": "stdout",
     "output_type": "stream",
     "text": [
      "Workspace: /Volumes/TO_1/roms4dvar_ecs/i4dvar_outputs/INSITU_OBS/IOCAS2013SPRING\n"
     ]
    }
   ],
   "source": [
    "# dataset = 'NSFC2012SPRING-YS'\n",
    "# dataset = 'NSFC2012SPRING-ES'\n",
    "# dataset = 'IOCAS2012SPRING'\n",
    "# dataset = 'NSFC2012AUTUMN-ES'\n",
    "# dataset = 'IOCAS2012AUTUMN'\n",
    "# dataset = 'NSFC2013SPRING-CJ'\n",
    "dataset = 'IOCAS2013SPRING'\n",
    "test =insitu_workspace('/Volumes/TO_1/roms4dvar_ecs/i4dvar_outputs/INSITU_OBS',dataset,dataset)"
   ]
  },
  {
   "cell_type": "code",
   "execution_count": 1319,
   "id": "df2aa198-64ce-4866-b296-aee3e754219d",
   "metadata": {
    "tags": []
   },
   "outputs": [],
   "source": [
    "test.pull_ctdinfos()"
   ]
  },
  {
   "cell_type": "code",
   "execution_count": 903,
   "id": "8859cf54-f539-40d6-938b-5e024bc1c8d5",
   "metadata": {
    "collapsed": true,
    "jupyter": {
     "outputs_hidden": true
    },
    "tags": []
   },
   "outputs": [
    {
     "data": {
      "text/plain": [
       "['/Volumes/TO_1/roms4dvar_ecs/i4dvar_outputs/INSITU_OBS/IOCAS2012AUTUMN/CTD/3300-01acfld.cnv',\n",
       " '/Volumes/TO_1/roms4dvar_ecs/i4dvar_outputs/INSITU_OBS/IOCAS2012AUTUMN/CTD/3300-02acfld.cnv',\n",
       " '/Volumes/TO_1/roms4dvar_ecs/i4dvar_outputs/INSITU_OBS/IOCAS2012AUTUMN/CTD/3300-03acfld.cnv',\n",
       " '/Volumes/TO_1/roms4dvar_ecs/i4dvar_outputs/INSITU_OBS/IOCAS2012AUTUMN/CTD/3300-04acfld.cnv',\n",
       " '/Volumes/TO_1/roms4dvar_ecs/i4dvar_outputs/INSITU_OBS/IOCAS2012AUTUMN/CTD/3300-05acfld.cnv',\n",
       " '/Volumes/TO_1/roms4dvar_ecs/i4dvar_outputs/INSITU_OBS/IOCAS2012AUTUMN/CTD/3300-06acfld.cnv',\n",
       " '/Volumes/TO_1/roms4dvar_ecs/i4dvar_outputs/INSITU_OBS/IOCAS2012AUTUMN/CTD/3400-01acfld.cnv',\n",
       " '/Volumes/TO_1/roms4dvar_ecs/i4dvar_outputs/INSITU_OBS/IOCAS2012AUTUMN/CTD/3400-02acfld.cnv',\n",
       " '/Volumes/TO_1/roms4dvar_ecs/i4dvar_outputs/INSITU_OBS/IOCAS2012AUTUMN/CTD/3400-03acfld.cnv',\n",
       " '/Volumes/TO_1/roms4dvar_ecs/i4dvar_outputs/INSITU_OBS/IOCAS2012AUTUMN/CTD/3400-04acfld.cnv',\n",
       " '/Volumes/TO_1/roms4dvar_ecs/i4dvar_outputs/INSITU_OBS/IOCAS2012AUTUMN/CTD/3400-05acfld.cnv',\n",
       " '/Volumes/TO_1/roms4dvar_ecs/i4dvar_outputs/INSITU_OBS/IOCAS2012AUTUMN/CTD/3400-06acfld.cnv',\n",
       " '/Volumes/TO_1/roms4dvar_ecs/i4dvar_outputs/INSITU_OBS/IOCAS2012AUTUMN/CTD/3400-07acfld.cnv',\n",
       " '/Volumes/TO_1/roms4dvar_ecs/i4dvar_outputs/INSITU_OBS/IOCAS2012AUTUMN/CTD/3400-08acfld.cnv',\n",
       " '/Volumes/TO_1/roms4dvar_ecs/i4dvar_outputs/INSITU_OBS/IOCAS2012AUTUMN/CTD/3500-01acfld.cnv',\n",
       " '/Volumes/TO_1/roms4dvar_ecs/i4dvar_outputs/INSITU_OBS/IOCAS2012AUTUMN/CTD/3500-02acfld.cnv',\n",
       " '/Volumes/TO_1/roms4dvar_ecs/i4dvar_outputs/INSITU_OBS/IOCAS2012AUTUMN/CTD/3500-03acfld.cnv',\n",
       " '/Volumes/TO_1/roms4dvar_ecs/i4dvar_outputs/INSITU_OBS/IOCAS2012AUTUMN/CTD/3500-04acfld.cnv',\n",
       " '/Volumes/TO_1/roms4dvar_ecs/i4dvar_outputs/INSITU_OBS/IOCAS2012AUTUMN/CTD/3500-05acfld.cnv',\n",
       " '/Volumes/TO_1/roms4dvar_ecs/i4dvar_outputs/INSITU_OBS/IOCAS2012AUTUMN/CTD/3500-06acfld.cnv',\n",
       " '/Volumes/TO_1/roms4dvar_ecs/i4dvar_outputs/INSITU_OBS/IOCAS2012AUTUMN/CTD/3500-07acfld.cnv',\n",
       " '/Volumes/TO_1/roms4dvar_ecs/i4dvar_outputs/INSITU_OBS/IOCAS2012AUTUMN/CTD/3500-08acfld.cnv',\n",
       " '/Volumes/TO_1/roms4dvar_ecs/i4dvar_outputs/INSITU_OBS/IOCAS2012AUTUMN/CTD/3500-09acfld.cnv',\n",
       " '/Volumes/TO_1/roms4dvar_ecs/i4dvar_outputs/INSITU_OBS/IOCAS2012AUTUMN/CTD/3500-10acfld.cnv',\n",
       " '/Volumes/TO_1/roms4dvar_ecs/i4dvar_outputs/INSITU_OBS/IOCAS2012AUTUMN/CTD/3600-01acfld.cnv',\n",
       " '/Volumes/TO_1/roms4dvar_ecs/i4dvar_outputs/INSITU_OBS/IOCAS2012AUTUMN/CTD/3600-02acfld.cnv',\n",
       " '/Volumes/TO_1/roms4dvar_ecs/i4dvar_outputs/INSITU_OBS/IOCAS2012AUTUMN/CTD/3600-03acfld.cnv',\n",
       " '/Volumes/TO_1/roms4dvar_ecs/i4dvar_outputs/INSITU_OBS/IOCAS2012AUTUMN/CTD/3600-04acfld.cnv',\n",
       " '/Volumes/TO_1/roms4dvar_ecs/i4dvar_outputs/INSITU_OBS/IOCAS2012AUTUMN/CTD/3600-05acfld.cnv',\n",
       " '/Volumes/TO_1/roms4dvar_ecs/i4dvar_outputs/INSITU_OBS/IOCAS2012AUTUMN/CTD/3600-06acfld.cnv',\n",
       " '/Volumes/TO_1/roms4dvar_ecs/i4dvar_outputs/INSITU_OBS/IOCAS2012AUTUMN/CTD/3600-07acfld.cnv',\n",
       " '/Volumes/TO_1/roms4dvar_ecs/i4dvar_outputs/INSITU_OBS/IOCAS2012AUTUMN/CTD/3600-08acfld.cnv',\n",
       " '/Volumes/TO_1/roms4dvar_ecs/i4dvar_outputs/INSITU_OBS/IOCAS2012AUTUMN/CTD/3700-01acfld.cnv',\n",
       " '/Volumes/TO_1/roms4dvar_ecs/i4dvar_outputs/INSITU_OBS/IOCAS2012AUTUMN/CTD/3700-02acfld.cnv',\n",
       " '/Volumes/TO_1/roms4dvar_ecs/i4dvar_outputs/INSITU_OBS/IOCAS2012AUTUMN/CTD/3700-03acfld.cnv',\n",
       " '/Volumes/TO_1/roms4dvar_ecs/i4dvar_outputs/INSITU_OBS/IOCAS2012AUTUMN/CTD/3800-01acfld.cnv',\n",
       " '/Volumes/TO_1/roms4dvar_ecs/i4dvar_outputs/INSITU_OBS/IOCAS2012AUTUMN/CTD/3800-02acfld.cnv',\n",
       " '/Volumes/TO_1/roms4dvar_ecs/i4dvar_outputs/INSITU_OBS/IOCAS2012AUTUMN/CTD/3800-03acfld.cnv',\n",
       " '/Volumes/TO_1/roms4dvar_ecs/i4dvar_outputs/INSITU_OBS/IOCAS2012AUTUMN/CTD/3800-04acfld.cnv',\n",
       " '/Volumes/TO_1/roms4dvar_ecs/i4dvar_outputs/INSITU_OBS/IOCAS2012AUTUMN/CTD/3875-01acfld.cnv',\n",
       " '/Volumes/TO_1/roms4dvar_ecs/i4dvar_outputs/INSITU_OBS/IOCAS2012AUTUMN/CTD/3875-02acfld.cnv',\n",
       " '/Volumes/TO_1/roms4dvar_ecs/i4dvar_outputs/INSITU_OBS/IOCAS2012AUTUMN/CTD/3875-03acfld.cnv',\n",
       " '/Volumes/TO_1/roms4dvar_ecs/i4dvar_outputs/INSITU_OBS/IOCAS2012AUTUMN/CTD/3875-04acfld.cnv',\n",
       " '/Volumes/TO_1/roms4dvar_ecs/i4dvar_outputs/INSITU_OBS/IOCAS2012AUTUMN/CTD/3875-05acfld.cnv',\n",
       " '/Volumes/TO_1/roms4dvar_ecs/i4dvar_outputs/INSITU_OBS/IOCAS2012AUTUMN/CTD/B-01acfld.cnv',\n",
       " '/Volumes/TO_1/roms4dvar_ecs/i4dvar_outputs/INSITU_OBS/IOCAS2012AUTUMN/CTD/B-02acfld.cnv',\n",
       " '/Volumes/TO_1/roms4dvar_ecs/i4dvar_outputs/INSITU_OBS/IOCAS2012AUTUMN/CTD/B-03acfld.cnv',\n",
       " '/Volumes/TO_1/roms4dvar_ecs/i4dvar_outputs/INSITU_OBS/IOCAS2012AUTUMN/CTD/B-04acfld.cnv',\n",
       " '/Volumes/TO_1/roms4dvar_ecs/i4dvar_outputs/INSITU_OBS/IOCAS2012AUTUMN/CTD/B-05acfld.cnv',\n",
       " '/Volumes/TO_1/roms4dvar_ecs/i4dvar_outputs/INSITU_OBS/IOCAS2012AUTUMN/CTD/B-06acfld.cnv',\n",
       " '/Volumes/TO_1/roms4dvar_ecs/i4dvar_outputs/INSITU_OBS/IOCAS2012AUTUMN/CTD/B-07acfld.cnv',\n",
       " '/Volumes/TO_1/roms4dvar_ecs/i4dvar_outputs/INSITU_OBS/IOCAS2012AUTUMN/CTD/B-08acfld.cnv',\n",
       " '/Volumes/TO_1/roms4dvar_ecs/i4dvar_outputs/INSITU_OBS/IOCAS2012AUTUMN/CTD/CJ-01acfld.cnv',\n",
       " '/Volumes/TO_1/roms4dvar_ecs/i4dvar_outputs/INSITU_OBS/IOCAS2012AUTUMN/CTD/CJ-02acfld.cnv',\n",
       " '/Volumes/TO_1/roms4dvar_ecs/i4dvar_outputs/INSITU_OBS/IOCAS2012AUTUMN/CTD/CJ-03acfld.cnv',\n",
       " '/Volumes/TO_1/roms4dvar_ecs/i4dvar_outputs/INSITU_OBS/IOCAS2012AUTUMN/CTD/CJ-04acfld.cnv',\n",
       " '/Volumes/TO_1/roms4dvar_ecs/i4dvar_outputs/INSITU_OBS/IOCAS2012AUTUMN/CTD/CJ-05acfld.cnv',\n",
       " '/Volumes/TO_1/roms4dvar_ecs/i4dvar_outputs/INSITU_OBS/IOCAS2012AUTUMN/CTD/CJ-06acfld.cnv',\n",
       " '/Volumes/TO_1/roms4dvar_ecs/i4dvar_outputs/INSITU_OBS/IOCAS2012AUTUMN/CTD/DH1-7acfld.cnv',\n",
       " '/Volumes/TO_1/roms4dvar_ecs/i4dvar_outputs/INSITU_OBS/IOCAS2012AUTUMN/CTD/DH1-8acfld.cnv',\n",
       " '/Volumes/TO_1/roms4dvar_ecs/i4dvar_outputs/INSITU_OBS/IOCAS2012AUTUMN/CTD/DH2-1acfld.cnv',\n",
       " '/Volumes/TO_1/roms4dvar_ecs/i4dvar_outputs/INSITU_OBS/IOCAS2012AUTUMN/CTD/DH2-2acfld.cnv',\n",
       " '/Volumes/TO_1/roms4dvar_ecs/i4dvar_outputs/INSITU_OBS/IOCAS2012AUTUMN/CTD/DH2-3acfld.cnv',\n",
       " '/Volumes/TO_1/roms4dvar_ecs/i4dvar_outputs/INSITU_OBS/IOCAS2012AUTUMN/CTD/DH2-4acfld.cnv',\n",
       " '/Volumes/TO_1/roms4dvar_ecs/i4dvar_outputs/INSITU_OBS/IOCAS2012AUTUMN/CTD/DH2-5acfld.cnv',\n",
       " '/Volumes/TO_1/roms4dvar_ecs/i4dvar_outputs/INSITU_OBS/IOCAS2012AUTUMN/CTD/DH2-6acfld.cnv',\n",
       " '/Volumes/TO_1/roms4dvar_ecs/i4dvar_outputs/INSITU_OBS/IOCAS2012AUTUMN/CTD/DH2-7acfld.cnv',\n",
       " '/Volumes/TO_1/roms4dvar_ecs/i4dvar_outputs/INSITU_OBS/IOCAS2012AUTUMN/CTD/DH3-1acfld.cnv',\n",
       " '/Volumes/TO_1/roms4dvar_ecs/i4dvar_outputs/INSITU_OBS/IOCAS2012AUTUMN/CTD/DH3-2acfld.cnv',\n",
       " '/Volumes/TO_1/roms4dvar_ecs/i4dvar_outputs/INSITU_OBS/IOCAS2012AUTUMN/CTD/DH3-3acfld.cnv',\n",
       " '/Volumes/TO_1/roms4dvar_ecs/i4dvar_outputs/INSITU_OBS/IOCAS2012AUTUMN/CTD/DH3-4acfld.cnv',\n",
       " '/Volumes/TO_1/roms4dvar_ecs/i4dvar_outputs/INSITU_OBS/IOCAS2012AUTUMN/CTD/DH3-5acfld.cnv',\n",
       " '/Volumes/TO_1/roms4dvar_ecs/i4dvar_outputs/INSITU_OBS/IOCAS2012AUTUMN/CTD/DH3-6acfld.cnv',\n",
       " '/Volumes/TO_1/roms4dvar_ecs/i4dvar_outputs/INSITU_OBS/IOCAS2012AUTUMN/CTD/DH3-7acfld.cnv',\n",
       " '/Volumes/TO_1/roms4dvar_ecs/i4dvar_outputs/INSITU_OBS/IOCAS2012AUTUMN/CTD/DH3-8acfld.cnv',\n",
       " '/Volumes/TO_1/roms4dvar_ecs/i4dvar_outputs/INSITU_OBS/IOCAS2012AUTUMN/CTD/DH4-1acfld.cnv',\n",
       " '/Volumes/TO_1/roms4dvar_ecs/i4dvar_outputs/INSITU_OBS/IOCAS2012AUTUMN/CTD/DH4-2acfld.cnv',\n",
       " '/Volumes/TO_1/roms4dvar_ecs/i4dvar_outputs/INSITU_OBS/IOCAS2012AUTUMN/CTD/DH4-3acfld.cnv',\n",
       " '/Volumes/TO_1/roms4dvar_ecs/i4dvar_outputs/INSITU_OBS/IOCAS2012AUTUMN/CTD/DH4-4acfld.cnv',\n",
       " '/Volumes/TO_1/roms4dvar_ecs/i4dvar_outputs/INSITU_OBS/IOCAS2012AUTUMN/CTD/DH4-5acfld.cnv',\n",
       " '/Volumes/TO_1/roms4dvar_ecs/i4dvar_outputs/INSITU_OBS/IOCAS2012AUTUMN/CTD/DH4-6acfld.cnv',\n",
       " '/Volumes/TO_1/roms4dvar_ecs/i4dvar_outputs/INSITU_OBS/IOCAS2012AUTUMN/CTD/DH4-7acfld.cnv',\n",
       " '/Volumes/TO_1/roms4dvar_ecs/i4dvar_outputs/INSITU_OBS/IOCAS2012AUTUMN/CTD/DH4-8acfld.cnv',\n",
       " '/Volumes/TO_1/roms4dvar_ecs/i4dvar_outputs/INSITU_OBS/IOCAS2012AUTUMN/CTD/DH5-1acfld.cnv',\n",
       " '/Volumes/TO_1/roms4dvar_ecs/i4dvar_outputs/INSITU_OBS/IOCAS2012AUTUMN/CTD/DH5-2acfld.cnv',\n",
       " '/Volumes/TO_1/roms4dvar_ecs/i4dvar_outputs/INSITU_OBS/IOCAS2012AUTUMN/CTD/DH5-3acfld.cnv',\n",
       " '/Volumes/TO_1/roms4dvar_ecs/i4dvar_outputs/INSITU_OBS/IOCAS2012AUTUMN/CTD/DH5-4acfld.cnv',\n",
       " '/Volumes/TO_1/roms4dvar_ecs/i4dvar_outputs/INSITU_OBS/IOCAS2012AUTUMN/CTD/DH5-5acfld.cnv',\n",
       " '/Volumes/TO_1/roms4dvar_ecs/i4dvar_outputs/INSITU_OBS/IOCAS2012AUTUMN/CTD/DH5-6acfld.cnv',\n",
       " '/Volumes/TO_1/roms4dvar_ecs/i4dvar_outputs/INSITU_OBS/IOCAS2012AUTUMN/CTD/DH5-7acfld.cnv',\n",
       " '/Volumes/TO_1/roms4dvar_ecs/i4dvar_outputs/INSITU_OBS/IOCAS2012AUTUMN/CTD/DH5-8acfld.cnv',\n",
       " '/Volumes/TO_1/roms4dvar_ecs/i4dvar_outputs/INSITU_OBS/IOCAS2012AUTUMN/CTD/DH5-9acfld.cnv',\n",
       " '/Volumes/TO_1/roms4dvar_ecs/i4dvar_outputs/INSITU_OBS/IOCAS2012AUTUMN/CTD/DH6-1acfld.cnv',\n",
       " '/Volumes/TO_1/roms4dvar_ecs/i4dvar_outputs/INSITU_OBS/IOCAS2012AUTUMN/CTD/DH6-2acfld.cnv',\n",
       " '/Volumes/TO_1/roms4dvar_ecs/i4dvar_outputs/INSITU_OBS/IOCAS2012AUTUMN/CTD/DH6-3acfld.cnv',\n",
       " '/Volumes/TO_1/roms4dvar_ecs/i4dvar_outputs/INSITU_OBS/IOCAS2012AUTUMN/CTD/DH6-4acfld.cnv',\n",
       " '/Volumes/TO_1/roms4dvar_ecs/i4dvar_outputs/INSITU_OBS/IOCAS2012AUTUMN/CTD/DH6-5acfld.cnv',\n",
       " '/Volumes/TO_1/roms4dvar_ecs/i4dvar_outputs/INSITU_OBS/IOCAS2012AUTUMN/CTD/DH6-6acfld.cnv',\n",
       " '/Volumes/TO_1/roms4dvar_ecs/i4dvar_outputs/INSITU_OBS/IOCAS2012AUTUMN/CTD/DH6-7acfld.cnv',\n",
       " '/Volumes/TO_1/roms4dvar_ecs/i4dvar_outputs/INSITU_OBS/IOCAS2012AUTUMN/CTD/DH7-1acfld.cnv',\n",
       " '/Volumes/TO_1/roms4dvar_ecs/i4dvar_outputs/INSITU_OBS/IOCAS2012AUTUMN/CTD/DH7-2acfld.cnv',\n",
       " '/Volumes/TO_1/roms4dvar_ecs/i4dvar_outputs/INSITU_OBS/IOCAS2012AUTUMN/CTD/DH7-3acfld.cnv',\n",
       " '/Volumes/TO_1/roms4dvar_ecs/i4dvar_outputs/INSITU_OBS/IOCAS2012AUTUMN/CTD/DH7-4acfld.cnv',\n",
       " '/Volumes/TO_1/roms4dvar_ecs/i4dvar_outputs/INSITU_OBS/IOCAS2012AUTUMN/CTD/DH7-5acfld.cnv',\n",
       " '/Volumes/TO_1/roms4dvar_ecs/i4dvar_outputs/INSITU_OBS/IOCAS2012AUTUMN/CTD/DH7-6acfld.cnv',\n",
       " '/Volumes/TO_1/roms4dvar_ecs/i4dvar_outputs/INSITU_OBS/IOCAS2012AUTUMN/CTD/DH7-7acfld.cnv',\n",
       " '/Volumes/TO_1/roms4dvar_ecs/i4dvar_outputs/INSITU_OBS/IOCAS2012AUTUMN/CTD/DH7-8acfld.cnv',\n",
       " '/Volumes/TO_1/roms4dvar_ecs/i4dvar_outputs/INSITU_OBS/IOCAS2012AUTUMN/CTD/DH8-1acfld.cnv',\n",
       " '/Volumes/TO_1/roms4dvar_ecs/i4dvar_outputs/INSITU_OBS/IOCAS2012AUTUMN/CTD/DH8-2acfld.cnv',\n",
       " '/Volumes/TO_1/roms4dvar_ecs/i4dvar_outputs/INSITU_OBS/IOCAS2012AUTUMN/CTD/DH8-3acfld.cnv',\n",
       " '/Volumes/TO_1/roms4dvar_ecs/i4dvar_outputs/INSITU_OBS/IOCAS2012AUTUMN/CTD/DH8-4acfld.cnv',\n",
       " '/Volumes/TO_1/roms4dvar_ecs/i4dvar_outputs/INSITU_OBS/IOCAS2012AUTUMN/CTD/DH8-5acfld.cnv',\n",
       " '/Volumes/TO_1/roms4dvar_ecs/i4dvar_outputs/INSITU_OBS/IOCAS2012AUTUMN/CTD/DH8-6acfld.cnv',\n",
       " '/Volumes/TO_1/roms4dvar_ecs/i4dvar_outputs/INSITU_OBS/IOCAS2012AUTUMN/CTD/DH9-1acfld.cnv',\n",
       " '/Volumes/TO_1/roms4dvar_ecs/i4dvar_outputs/INSITU_OBS/IOCAS2012AUTUMN/CTD/DH9-2acfld.cnv',\n",
       " '/Volumes/TO_1/roms4dvar_ecs/i4dvar_outputs/INSITU_OBS/IOCAS2012AUTUMN/CTD/DH9-3acfld.cnv',\n",
       " '/Volumes/TO_1/roms4dvar_ecs/i4dvar_outputs/INSITU_OBS/IOCAS2012AUTUMN/CTD/DH9-4acfld.cnv',\n",
       " '/Volumes/TO_1/roms4dvar_ecs/i4dvar_outputs/INSITU_OBS/IOCAS2012AUTUMN/CTD/DH9-5acfld.cnv',\n",
       " '/Volumes/TO_1/roms4dvar_ecs/i4dvar_outputs/INSITU_OBS/IOCAS2012AUTUMN/CTD/DH9-6acfld.cnv',\n",
       " '/Volumes/TO_1/roms4dvar_ecs/i4dvar_outputs/INSITU_OBS/IOCAS2012AUTUMN/CTD/DH9-7acfld.cnv']"
      ]
     },
     "execution_count": 903,
     "metadata": {},
     "output_type": "execute_result"
    }
   ],
   "source": [
    "test.ctd_files"
   ]
  },
  {
   "cell_type": "code",
   "execution_count": 1320,
   "id": "48ba294f-3631-4bf0-b3aa-55f9fbdefe41",
   "metadata": {
    "tags": []
   },
   "outputs": [
    {
     "name": "stdout",
     "output_type": "stream",
     "text": [
      "PSAL2\n",
      "qc specified: \n",
      "['3600-05', '3800-04', 'B-04']\n",
      "quality control is activate: 3600-05\n",
      "quality control is activate: 3800-04\n",
      "quality control is activate: B-04\n",
      "TEMP\n"
     ]
    }
   ],
   "source": [
    "# must pull_ctdinfos before pull_alldata\n",
    "# -------------NSFC2012SPRING-YS\n",
    "# test.pull_alldata(VARS=['PSAL2','TEMP'],refine_withqc_id={'PSAL2':['H03','H16','H25','H34'],'TEMP':[]})\n",
    "# -------------NSFC2012SPRING-ES\n",
    "# test.pull_alldata(VARS=['PSAL2','TEMP'],refine_withqc_id={'PSAL2':[],'TEMP':[]})\n",
    "# -------------IOCAS2012SPRING\n",
    "# test.pull_alldata(VARS=['PSAL2','TEMP'],refine_withqc_id={'PSAL2':['3800-01','3800-02','B-03','DH6-2'],'TEMP':['DH6-2',]})\n",
    "# -------------NSFC2012AUTUMN-ES\n",
    "# test.pull_alldata(VARS=['PSAL2','TEMP'],refine_withqc_id={'PSAL2':[],'TEMP':[]})\n",
    "# -------------IOCAS2012AUTUMN\n",
    "# test.pull_alldata(VARS=['PSAL2','TEMP'],refine_withqc_id={'PSAL2':['3500-09',],'TEMP':['3500-09','DH4-1']})\n",
    "# -------------NSFC2013SPRING-CJ\n",
    "# test.pull_alldata(VARS=['PSAL2','TEMP'],refine_withqc_id={'PSAL2':['A01-03','A01-09','A02-04','A02-08','A03-06','A03-09','A04-07','A06-05','A13-01'],'TEMP':['A04-07',]})\n",
    "# -------------IOCAS2013SPRING\n",
    "test.pull_alldata(VARS=['PSAL2','TEMP'],refine_withqc_id={'PSAL2':['3600-05','3800-04',],'TEMP':[]})"
   ]
  },
  {
   "cell_type": "code",
   "execution_count": 1322,
   "id": "e4bdf9d0-5acb-4323-9669-26ba89e612ae",
   "metadata": {
    "tags": []
   },
   "outputs": [
    {
     "data": {
      "application/vnd.jupyter.widget-view+json": {
       "model_id": "cad3405c34c949bcb5f25ad236a2a881",
       "version_major": 2,
       "version_minor": 0
      },
      "text/plain": [
       "Output()"
      ]
     },
     "metadata": {},
     "output_type": "display_data"
    },
    {
     "data": {
      "text/html": [
       "<pre style=\"white-space:pre;overflow-x:auto;line-height:normal;font-family:Menlo,'DejaVu Sans Mono',consolas,'Courier New',monospace\"></pre>\n"
      ],
      "text/plain": []
     },
     "metadata": {},
     "output_type": "display_data"
    },
    {
     "data": {
      "text/html": [
       "<pre style=\"white-space:pre;overflow-x:auto;line-height:normal;font-family:Menlo,'DejaVu Sans Mono',consolas,'Courier New',monospace\">\n",
       "</pre>\n"
      ],
      "text/plain": [
       "\n"
      ]
     },
     "metadata": {},
     "output_type": "display_data"
    }
   ],
   "source": [
    "# merge sst and in-situ togethor\n",
    "grdfile = '/Volumes/TO_1/outputs_SCORRECTION/ocean_ecs_fwd_15461_outer1.nc'\n",
    "dt = 1/24\n",
    "# reftime = datetime.datetime(1970,1,1)\n",
    "\n",
    "grid = seapy.model.asgrid(grdfile)\n",
    "data = [seapy.roms.obs.raw_data(\"TEMP\", \"CTD\", test.data['TEMP'].value_r,None,0.1),\n",
    "       seapy.roms.obs.raw_data(\"SALT\", \"CTD\", test.data['PSAL2'].value_r,None,0.01),]\n",
    "        \n",
    "insitu_obs = seapy.roms.obs.gridder(grid,test.data['TEMP'].time_r,\n",
    "                                    test.data['TEMP'].lon_r,test.data['TEMP'].lat_r,\n",
    "                                    -test.data['TEMP'].depth_r, data,dt,title=\"cruise CTD observation\")"
   ]
  },
  {
   "cell_type": "code",
   "execution_count": null,
   "id": "bf8e5dbb-77b2-44b9-8723-540015b683e0",
   "metadata": {
    "tags": []
   },
   "outputs": [],
   "source": [
    "np.unique(test.data['TEMP'].station_r[station_position])"
   ]
  },
  {
   "cell_type": "code",
   "execution_count": null,
   "id": "15c2a906-658c-47d1-81ee-bf08de2d3d8b",
   "metadata": {
    "tags": []
   },
   "outputs": [],
   "source": [
    "plt.plot(test.data['TEMP'].lon[station_position])"
   ]
  },
  {
   "cell_type": "code",
   "execution_count": null,
   "id": "55488cec-9afd-486b-8f62-11edbbafa502",
   "metadata": {
    "tags": []
   },
   "outputs": [],
   "source": [
    "stationsets[1]"
   ]
  },
  {
   "cell_type": "code",
   "execution_count": null,
   "id": "eb3894a1-d229-4ed3-abc1-4f719a1f70ab",
   "metadata": {
    "tags": []
   },
   "outputs": [],
   "source": [
    "test.data.keys()"
   ]
  },
  {
   "cell_type": "code",
   "execution_count": 1428,
   "id": "55cfa5dd-071f-490c-93dc-b6002d69fd0c",
   "metadata": {
    "tags": []
   },
   "outputs": [
    {
     "name": "stdout",
     "output_type": "stream",
     "text": [
      "Using matplotlib backend: MacOSX\n"
     ]
    }
   ],
   "source": [
    "#temp profile\n",
    "%matplotlib\n",
    "import matplotlib.tri as tri\n",
    "VAR='PSAL2'\n",
    "# VAR='TEMP'\n",
    "# -------------NSFC2012SPRING-YS\n",
    "# stations = ['E01','E02','E03','E04','E05']\n",
    "# stations = ['H01','H02','H03','H04','H05','H06','H07','H08','H09']\n",
    "# stations = ['H10','H11','H12','H13','H14','H15','H16','H17','H18','H19']\n",
    "# stations = ['H25','H26','H27','H28','H29',] # 'H30'\n",
    "# stations = ['H31','H32','H33','H34','H35','H36']\n",
    "# stations = ['H37','H38','H39','H40','H41','H42']\n",
    "# stations = ['HF1','HF2','HF3','H44','H43',]\n",
    "# stations = []\n",
    "# -------------NSFC2012SPRING-ES\n",
    "# stations = ['DH3-01','DH3-02','DH3-03','DH3-04','DH3-05','DH3-06','DH3-07','DH3-08',]\n",
    "# stations = ['RB-10','RB-16']\n",
    "# stations = ['DH4-01','DH4-02','DH4-03','DH4-04','DH4-05','DH4-06',]\n",
    "# stations = ['ZA-05','ZA-03','ZA-01']\n",
    "# stations = ['GC-05','ZB-07','ZB-09','ZB-11','DH5-01','GC-06','ZB-12','DH5-02','DH5-03','DH5-04','DH5-05','DH5-06']\n",
    "# stations = ['DH6-05','DH6-04','DH6-03','DH6-02','ZC-17','DH6-01','ZC-15','ZC-13']\n",
    "# stations = ['ZD-19','ZD-21','DH7-01','ZD-24','DH7-02','DH7-03','DH7-04','DH7-05']\n",
    "# stations = ['DH8-05','DH8-04','DH8-03','DH8-02','ZE-27','DH8-01','ZE-25']\n",
    "# stations = ['GC-07', 'DH9-01','DH9-02','DH9-03','DH9-04','DH9-05','DH9-06']\n",
    "# -------------IOCAS2012SPRING\n",
    "# stations = ['DH9-1','DH9-2','DH9-3','DH9-4','DH9-5','DH9-6']\n",
    "# stations = ['DH8-5','DH8-4','DH8-3','DH8-2','DH8-1']\n",
    "# stations = ['DH7-1','DH7-2','DH7-3','DH7-4','DH7-5']\n",
    "# stations = ['DH6-5','DH6-4','DH6-3','DH6-2','DH6-1']\n",
    "# stations = ['DH5-1','DH5-2','DH5-3','DH5-4','DH5-5','DH5-6']\n",
    "# stations = ['DH4-6','DH4-5','DH4-4','DH4-3','DH4-2','DH4-1']\n",
    "# stations = ['DH3-1','DH3-2','DH3-3','DH3-4','DH3-5','DH3-6','DH3-7','DH3-8']\n",
    "# stations = ['DH2-7','DH2-6','DH2-5','DH2-4','DH2-3','DH2-2','DH2-1']\n",
    "# stations = ['DH1-7','DH1-8']\n",
    "# stations = ['CJ-1','CJ-2','CJ-3','CJ-4','CJ-5','CJ-6']\n",
    "# stations=['3300-06','3300-05','3300-04','3300-03','3300-02','3300-01']\n",
    "# stations = ['3400-01','3400-02','3400-03','3400-04','3400-05','3400-06','3400-07','3400-08']\n",
    "# stations = ['3500-10','3500-09','3500-08','3500-07','3500-06','3500-05','3500-04','3500-03','3500-02','3500-01']\n",
    "# stations = ['3600-01','3600-02','3600-03','3600-04','3600-05','3600-06','3600-07','3600-08']\n",
    "# stations =['B-08','B-07','B-06','B-05','B-04','B-03','B-02','B-01']\n",
    "# stations = ['3875-01','3875-02','3875-03','3875-04','3875-05']\n",
    "# stations = ['3800-04','3800-03','3800-02','3800-01']\n",
    "# stations = ['3700-01','3700-02','3700-03']\n",
    "# -------------NSFC2012AUTUMN-ES\n",
    "# stations = ['DH3-1','DH3-2','DH3-3','DH3-4','DH3-5','DH3-6','DH3-7','DH3-8']\n",
    "# stations = ['DH4-8','DH4-7','DH4-6','DH4-5','DH4-4','DH4-3','DH4-2','DH4-1']\n",
    "# stations = ['DH5-1','DH5-2','DH5-3','DH5-4','DH5-5','DH5-6','DH5-7','DH5-8']\n",
    "# stations = ['DH8-9','DH8-8','DH8-6','DH8-5','DH8-4','DH8-2','DH8-1']\n",
    "# -------------IOCAS2012AUTUMN\n",
    "# stations = ['DH9-1','DH9-2','DH9-3','DH9-4','DH9-5','DH9-6','DH9-7']\n",
    "# stations = ['DH8-6','DH8-5','DH8-4','DH8-3','DH8-2','DH8-1']\n",
    "# stations = ['DH7-1','DH7-2','DH7-3','DH7-4','DH7-5','DH7-6','DH7-7','DH7-8']\n",
    "# stations = ['DH6-7','DH6-6','DH6-5','DH6-4','DH6-3','DH6-2','DH6-1']\n",
    "# stations = ['DH5-1','DH5-2','DH5-3','DH5-4','DH5-5','DH5-6','DH5-7','DH5-8','DH5-9']\n",
    "# stations = ['DH4-8','DH4-7','DH4-6','DH4-5','DH4-4','DH4-3','DH4-2','DH4-1']\n",
    "# stations = ['DH3-1','DH3-2','DH3-3','DH3-4','DH3-5','DH3-6','DH3-7','DH3-8']\n",
    "# stations = ['DH2-7','DH2-6','DH2-5','DH2-4','DH2-3','DH2-2','DH2-1']\n",
    "# stations = ['CJ-01','CJ-02','CJ-03','CJ-04','CJ-05','CJ-06']\n",
    "# stations = ['DH1-8','DH1-7']\n",
    "# stations = ['3300-06','3300-05','3300-04','3300-03','3300-02','3300-01']\n",
    "# stations = ['3400-01','3400-02','3400-03','3400-04','3400-05','3400-06','3400-07','3400-08']\n",
    "# stations = ['3500-01','3500-02','3500-03','3500-04','3500-05','3500-06','3500-07','3500-08','3500-09','3500-10']\n",
    "# stations = ['3600-08','3600-07','3600-06','3600-05','3600-04','3600-03','3600-02','3600-01']\n",
    "# stations = ['3700-01','3700-02','3700-03']\n",
    "# stations = ['3800-04','3800-03','3800-02','3800-01']\n",
    "# stations = ['B-08','B-07','B-06','B-05','B-04','B-03','B-02','B-01']\n",
    "# stations = ['3875-01','3875-02','3875-03','3875-04','3875-05']\n",
    "# -------------NSFC2013SPRING-CJ\n",
    "# stations = ['A01-01','A01-02','A01-03','A01-04','A01-05','A01-06','A01-07','A01-08','A01-09']\n",
    "# stations = ['A02-09','A02-08','A02-07','A02-06','A02-05','A02-04']\n",
    "# stations = ['A03-04','A03-05','A03-06','A03-07','A03-08','A03-09','A03-10','A03-11']\n",
    "# stations = ['A04-11','A04-07','A04-10','A04-09','A04-08','A04-06','A04-05','A04-04','A04-03',]\n",
    "# stations = ['A05-10','A05-09','A05-08','A05-07','A05-06','A05-05','A05-04','A05-03','A05-02']\n",
    "# stations = ['A06-02','A06-03','A06-04','A06-05','A06-06','A06-07','A06-08','A06-09','A06-10','A06-11']\n",
    "# stations = ['A07-01','A07-02','A07-03','A07-04','A07-05','A07-06','A07-07','A07-08']\n",
    "# stations = ['A08-08','A08-07','A08-06','A08-05','A08-04','A08-03','A08-02','A08-01']\n",
    "# stations = ['A09-01','A09-02','A09-03','A09-04','A09-05']\n",
    "# stations = ['A10-04','A10-03','A10-02','A10-01']\n",
    "# stations = ['A11-01','A11-02','A11-03','A11-04']\n",
    "# stations = ['A12-04','A12-03','A12-02','A12-01']\n",
    "# stations = ['A13-01','A13-02','A13-03','A13-04']\n",
    "# -------------IOCAS2013SPRING\n",
    "# stations = ['CJ-01','CJ-02','CJ-03','CJ-04','CJ-05','CJ-06']\n",
    "# stations =['3300-06','3300-05','3300-04','3300-03','3300-02','3300-01']\n",
    "# stations = ['3400-01','3400-02','3400-03','3400-04','3400-05','3400-06','3400-07','3400-08']\n",
    "# stations = ['3500-10','3500-09','3500-08','3500-07','3500-06','3500-05','3500-04','3500-03','3500-02','3500-01']\n",
    "# stations = ['3600-01','3600-02','3600-03','3600-04','3600-05','3600-06','3600-07','3600-08']\n",
    "# stations = ['3700-03','3700-02','3700-01']\n",
    "# stations = ['B-08','B-07','B-06','B-05','B-04','B-03','B-02','B-01']\n",
    "# stations = ['3875-01','3875-02','3875-03','3875-04','3875-05']\n",
    "stations = ['3800-04','3800-03','3800-02','3800-01']"
   ]
  },
  {
   "cell_type": "code",
   "execution_count": 1429,
   "id": "7a5f3784-2cba-43ed-8386-1784272d76a0",
   "metadata": {
    "tags": []
   },
   "outputs": [
    {
     "data": {
      "text/plain": [
       "<matplotlib.colorbar.Colorbar at 0x7f86e264b640>"
      ]
     },
     "execution_count": 1429,
     "metadata": {},
     "output_type": "execute_result"
    }
   ],
   "source": [
    "plt.close('all')\n",
    "fig, ax = plt.subplots()\n",
    "i = 0\n",
    "for istation in stations:\n",
    "    # print(istation)\n",
    "    # print(test.ctd_infos[istation]['CTDID'])\n",
    "    current_position = np.where(test.data[VAR].station == istation)[0]\n",
    "    # print(current_position)\n",
    "    if i == 0:\n",
    "        station_position = current_position.copy()\n",
    "        \n",
    "    else:\n",
    "        station_position = np.r_[station_position,current_position]\n",
    "        \n",
    "    i+=1\n",
    "    \n",
    "lon_station = test.data[VAR].lon[station_position]\n",
    "lat_station = test.data[VAR].lat[station_position]\n",
    "depth_station = test.data[VAR].depth[station_position]\n",
    "data_station = test.data[VAR].value[station_position]\n",
    "cntr = ax.tricontourf(lon_station,depth_station,data_station,levels=30,cmap='jet')\n",
    "\n",
    "ax.scatter(np.unique(lon_station),np.zeros_like(np.unique(lon_station)), color='k')\n",
    "ax.invert_yaxis()\n",
    "\n",
    "fig.colorbar(cntr, ax=ax)"
   ]
  },
  {
   "cell_type": "code",
   "execution_count": 1430,
   "id": "920fd8d4-6596-438c-b28a-6df66ac91027",
   "metadata": {
    "tags": []
   },
   "outputs": [
    {
     "data": {
      "text/plain": [
       "<matplotlib.colorbar.Colorbar at 0x7f86e26a7520>"
      ]
     },
     "execution_count": 1430,
     "metadata": {},
     "output_type": "execute_result"
    }
   ],
   "source": [
    "fig, ax = plt.subplots()\n",
    "i = 0\n",
    "for istation in stations:\n",
    "    # print(istation)\n",
    "    # print(test.ctd_infos[istation]['CTDID'])\n",
    "    current_position = np.where(test.data[VAR].station_i == istation)[0]\n",
    "    # print(current_position)\n",
    "    if i == 0:\n",
    "        station_position = current_position.copy()\n",
    "        \n",
    "    else:\n",
    "        station_position = np.r_[station_position,current_position]\n",
    "        \n",
    "    i+=1\n",
    "    \n",
    "lon_station = test.data[VAR].lon_i[station_position]\n",
    "lat_station = test.data[VAR].lat_i[station_position]\n",
    "depth_station = test.data[VAR].depth_i[station_position]\n",
    "data_station = test.data[VAR].value_i[station_position]\n",
    "cntr = ax.tricontourf(lon_station,depth_station,data_station,levels=30,cmap='jet')\n",
    "\n",
    "ax.scatter(np.unique(lon_station),np.zeros_like(np.unique(lon_station)),color='k')\n",
    "ax.invert_yaxis()\n",
    "fig.colorbar(cntr, ax=ax)"
   ]
  },
  {
   "cell_type": "code",
   "execution_count": 1431,
   "id": "b1dee3cb-cf51-4b82-b8ce-17ce4de5d943",
   "metadata": {
    "tags": []
   },
   "outputs": [
    {
     "data": {
      "text/plain": [
       "<matplotlib.colorbar.Colorbar at 0x7f86d7772190>"
      ]
     },
     "execution_count": 1431,
     "metadata": {},
     "output_type": "execute_result"
    }
   ],
   "source": [
    "fig, ax = plt.subplots()\n",
    "i = 0\n",
    "for istation in stations:\n",
    "    # print(istation)\n",
    "    # print(test.ctd_infos[istation]['CTDID'])\n",
    "    current_position = np.where(test.data[VAR].station_r == istation)[0]\n",
    "    # print(current_position)\n",
    "    if i == 0:\n",
    "        station_position = current_position.copy()\n",
    "        \n",
    "    else:\n",
    "        station_position = np.r_[station_position,current_position]\n",
    "        \n",
    "    i+=1\n",
    "\n",
    "station_number = len(np.unique(test.data[VAR].station_r[station_position]))\n",
    "time_station = test.data[VAR].time_r[station_position]\n",
    "lon_station = test.data[VAR].lon_r[station_position].reshape([station_number,1000])\n",
    "lat_station = test.data[VAR].lat_r[station_position].reshape([station_number,1000])\n",
    "depth_station = test.data[VAR].depth_r[station_position].reshape([station_number,1000])\n",
    "data_station = test.data[VAR].value_r[station_position].reshape([station_number,1000])\n",
    "cntr = ax.contourf(lon_station,depth_station,data_station,levels=30,cmap='jet')\n",
    "# cntr = ax.pcolormesh(lon_station,depth_station,data_station,cmap='jet')\n",
    "ax.scatter(np.unique(lon_station),np.zeros_like(np.unique(lon_station)),color='k')\n",
    "ax.invert_yaxis()\n",
    "fig.colorbar(cntr, ax=ax)"
   ]
  },
  {
   "cell_type": "code",
   "execution_count": 1432,
   "id": "0adf3a39-fa02-44b7-ae8b-e7caff68c762",
   "metadata": {
    "tags": []
   },
   "outputs": [
    {
     "name": "stdout",
     "output_type": "stream",
     "text": [
      "3800-04\n",
      "3800-03\n",
      "3800-02\n",
      "3800-01\n"
     ]
    },
    {
     "data": {
      "text/plain": [
       "<matplotlib.colorbar.Colorbar at 0x7f86da745280>"
      ]
     },
     "execution_count": 1432,
     "metadata": {},
     "output_type": "execute_result"
    }
   ],
   "source": [
    "fig, ax = plt.subplots()\n",
    "if VAR == 'PSAL2':\n",
    "    var_type=7\n",
    "elif VAR == 'TEMP':\n",
    "    var_type=6\n",
    "    \n",
    "value_position = np.where(insitu_obs.type == var_type)\n",
    "time_2nc = insitu_obs.time[value_position]\n",
    "data_2nc = insitu_obs.value[value_position]\n",
    "lon_2nc = insitu_obs.lon[value_position]\n",
    "lat_2nc = insitu_obs.lat[value_position]\n",
    "depth_2nc = insitu_obs.depth[value_position]\n",
    "z_2nc = insitu_obs.z[value_position]\n",
    "\n",
    "inum = 0\n",
    "for istation in stations:\n",
    "    print(istation)\n",
    "    current_position = np.where(test.data[VAR].station_r == istation)[0]\n",
    "    # station_lon =  np.unique(test.data[VAR].lon_r[current_position])[0]\n",
    "    # station_lat =  np.unique(test.data[VAR].lat_r[current_position])[0]\n",
    "    station_time = np.unique(test.data[VAR].time_r[current_position])[0]\n",
    "    # print(station_time)\n",
    "    time_dist = np.sqrt((time_2nc - station_time)**2)\n",
    "    this_time = np.where(time_dist == np.min(time_dist))\n",
    "    lon_thistime = lon_2nc[this_time]\n",
    "    lat_thistime = lat_2nc[this_time]\n",
    "    depth_thistime = depth_2nc[this_time]\n",
    "    data_thistime = data_2nc[this_time]\n",
    "    z_thistime = z_2nc[this_time]\n",
    "    # print(depth_thistime)\n",
    "    thisgrid_levels = np.linspace(np.min(z_thistime),np.max(z_thistime),20)\n",
    "    thisdata_grid = np.interp(thisgrid_levels,z_thistime,data_thistime)\n",
    "    thislon_grid = np.full_like(thisdata_grid,np.unique(lon_thistime)[0])\n",
    "    if inum ==0:\n",
    "        lon_g = thislon_grid.copy()\n",
    "        depth_g = thisgrid_levels.copy()\n",
    "        data_g = thisdata_grid.copy()\n",
    "        station_g = [istation,]\n",
    "    else:\n",
    "        lon_g = np.c_[lon_g,thislon_grid]\n",
    "        depth_g = np.c_[depth_g,thisgrid_levels]\n",
    "        data_g = np.c_[data_g, thisdata_grid]\n",
    "        station_g.append(istation)\n",
    "    inum+=1\n",
    "    # plt.plot(data_thistime,depth_thistime,'o-')\n",
    "    \n",
    "cntr = ax.contourf(lon_g,depth_g,data_g,levels=30,cmap='jet')\n",
    "# cntr = ax.pcolormesh(lon_station,depth_station,data_station,cmap='jet')\n",
    "ax.scatter(np.unique(lon_g),np.full_like(np.unique(lon_g),20),color='k')\n",
    "# ax.invert_yaxis()\n",
    "ax.set_ylim([1,21])\n",
    "fig.colorbar(cntr, ax=ax)"
   ]
  },
  {
   "cell_type": "code",
   "execution_count": 1372,
   "id": "fb4588aa-ac9d-46dc-b1bb-6cbe08cf7cc1",
   "metadata": {
    "tags": []
   },
   "outputs": [
    {
     "data": {
      "text/plain": [
       "[<matplotlib.lines.Line2D at 0x7f85a5fb9fa0>]"
      ]
     },
     "execution_count": 1372,
     "metadata": {},
     "output_type": "execute_result"
    }
   ],
   "source": [
    "# value_grad = np.abs(qctests.spike((data_station-np.min(data_station))/np.abs(np.min(data_station)-np.max(data_station))))\n",
    "# value_grad = qctests.gradient((data_station-np.min(data_station))/np.abs(np.min(data_station)-np.max(data_station)))\n",
    "# value_grad = (value_grad+value_spike )/2\n",
    "value_grad_r = np.diff(data_station)\n",
    "value_grad_r = np.abs(np.r_[value_grad_r[0],value_grad_r])\n",
    "value_grad_l = np.diff(data_station)\n",
    "value_grad_l = np.abs(np.r_[value_grad_l,value_grad_l[-1]])\n",
    "value_grad = (value_grad_r+value_grad_l)/2\n",
    "value_grad = 1/(1+np.exp(-(value_grad**2)))\n",
    "plt.close('all')\n",
    "plt.plot(value_grad,marker='o')\n",
    "# plt.ylim([0,2])\n",
    "plt.plot(np.full_like(value_grad,np.mean(value_grad)))\n",
    "# print(np.sum(np.abs(value_grad)>0.2)/len(value_grad))\n",
    "# print(np.nanmax(value_grad)/np.nanmean(value_grad))\n",
    "# data_station[np.abs(value_grad)>0.3] = np.nan\n",
    "# data_station[np.abs(value_grad)>np.mean(value_grad)] = np.nan"
   ]
  },
  {
   "cell_type": "code",
   "execution_count": 1433,
   "id": "35c7daf6-65aa-4732-80ae-7b94de553f52",
   "metadata": {
    "tags": []
   },
   "outputs": [],
   "source": [
    "# VAR='PSAL2'\n",
    "VAR='TEMP'\n",
    "station = '3300-05'\n",
    "plt.close('all')\n",
    "fig, ax = plt.subplots()\n",
    "current_position = np.where(test.data[VAR].station == station)[0]\n",
    "    # print(current_position)\n",
    "\n",
    "station_position = current_position.copy()\n",
    "\n",
    "\n",
    "    \n",
    "lon_station = test.data[VAR].lon[station_position]\n",
    "lat_station = test.data[VAR].lat[station_position]\n",
    "pres_station = test.data[VAR].pres[station_position]\n",
    "depth_station = test.data[VAR].depth[station_position]\n",
    "data_station = test.data[VAR].value[station_position]\n",
    "ax.plot(data_station,depth_station)\n",
    "ax.invert_yaxis()"
   ]
  },
  {
   "cell_type": "code",
   "execution_count": 1434,
   "id": "494117da-89ff-4a4e-b455-df91daece23c",
   "metadata": {
    "tags": []
   },
   "outputs": [],
   "source": [
    "# station = '3800-01'\n",
    "fig, ax = plt.subplots()\n",
    "current_position = np.where(test.data[VAR].station_i == station)[0]\n",
    "    # print(current_position)\n",
    "\n",
    "station_position = current_position.copy()\n",
    "\n",
    "\n",
    "    \n",
    "lon_station = test.data[VAR].lon_i[station_position]\n",
    "lat_station = test.data[VAR].lat_i[station_position]\n",
    "pres_station = test.data[VAR].pres_i[station_position]\n",
    "depth_station = test.data[VAR].depth_i[station_position]\n",
    "data_station = test.data[VAR].value_i[station_position]\n",
    "ax.plot(data_station,depth_station,marker='o')\n",
    "ax.invert_yaxis()"
   ]
  },
  {
   "cell_type": "code",
   "execution_count": 1435,
   "id": "d4ce991b-3982-46c0-a87b-a5b3506bd244",
   "metadata": {
    "tags": []
   },
   "outputs": [],
   "source": [
    "# station = '3800-01'\n",
    "fig, ax = plt.subplots()\n",
    "current_position = np.where(test.data[VAR].station_r == station)[0]\n",
    "    # print(current_position)\n",
    "\n",
    "station_position = current_position.copy()\n",
    "\n",
    "\n",
    "time_station = test.data[VAR].time_r[station_position]\n",
    "lon_station = test.data[VAR].lon_r[station_position]\n",
    "lat_station = test.data[VAR].lat_r[station_position]\n",
    "pres_station = test.data[VAR].pres_r[station_position]\n",
    "depth_station = test.data[VAR].depth_r[station_position]\n",
    "data_station = test.data[VAR].value_r[station_position]\n",
    "ax.plot(data_station,depth_station)\n",
    "ax.invert_yaxis()"
   ]
  },
  {
   "cell_type": "code",
   "execution_count": 1411,
   "id": "e328c19d-b909-4b24-b1a3-999b07346592",
   "metadata": {
    "tags": []
   },
   "outputs": [
    {
     "data": {
      "text/plain": [
       "array([1.00000000e-04, 1.00000000e-04, 1.00000000e-04, ...,\n",
       "       1.29062522e-01, 1.54809744e-01, 3.99118872e-02])"
      ]
     },
     "execution_count": 1411,
     "metadata": {},
     "output_type": "execute_result"
    }
   ],
   "source": [
    "error_2nc"
   ]
  },
  {
   "cell_type": "code",
   "execution_count": 1412,
   "id": "3197fa81-1573-4474-8646-77570b995b07",
   "metadata": {
    "tags": []
   },
   "outputs": [
    {
     "data": {
      "text/plain": [
       "(1.0, 20.0)"
      ]
     },
     "execution_count": 1412,
     "metadata": {},
     "output_type": "execute_result"
    }
   ],
   "source": [
    "fig, ax = plt.subplots()\n",
    "if VAR == 'PSAL2':\n",
    "    var_type=7\n",
    "elif VAR == 'TEMP':\n",
    "    var_type=6\n",
    "    \n",
    "value_position = np.where(insitu_obs.type == var_type)\n",
    "time_2nc = insitu_obs.time[value_position]\n",
    "data_2nc = insitu_obs.value[value_position]\n",
    "lon_2nc = insitu_obs.lon[value_position]\n",
    "lat_2nc = insitu_obs.lat[value_position]\n",
    "depth_2nc = insitu_obs.depth[value_position]\n",
    "z_2nc = insitu_obs.z[value_position]\n",
    "error_2nc = insitu_obs.error[value_position]\n",
    "\n",
    "\n",
    "\n",
    "current_position = np.where(test.data[VAR].station_r == station)[0]\n",
    "# station_lon =  np.unique(test.data[VAR].lon_r[current_position])[0]\n",
    "# station_lat =  np.unique(test.data[VAR].lat_r[current_position])[0]\n",
    "station_time = np.unique(test.data[VAR].time_r[current_position])[0]\n",
    "# print(station_time)\n",
    "time_dist = np.sqrt((time_2nc - station_time)**2)\n",
    "this_time = np.where(time_dist == np.min(time_dist))\n",
    "lon_thistime = lon_2nc[this_time]\n",
    "lat_thistime = lat_2nc[this_time]\n",
    "depth_thistime = depth_2nc[this_time]\n",
    "data_thistime = data_2nc[this_time]\n",
    "z_thistime = z_2nc[this_time]\n",
    "\n",
    "ax.plot(data_thistime,z_thistime,marker='o')\n",
    "ax.set_ylim([1,20])"
   ]
  },
  {
   "cell_type": "code",
   "execution_count": null,
   "id": "dbdc8762-e99d-42c2-9cbc-a58529902dc4",
   "metadata": {
    "tags": []
   },
   "outputs": [],
   "source": [
    "position = np.where(test.data['TEMP'].time==test.data['TEMP'].time[1])"
   ]
  },
  {
   "cell_type": "code",
   "execution_count": null,
   "id": "35f58ab1-5508-4f73-bac0-4f0afc478638",
   "metadata": {
    "tags": []
   },
   "outputs": [],
   "source": [
    "seapy.seawater.depth(test.data['TEMP'].pres[position],test.data['TEMP'].lat[position])"
   ]
  },
  {
   "cell_type": "code",
   "execution_count": null,
   "id": "ad8eb316-494a-4ff8-8b78-e53bf710e10c",
   "metadata": {
    "tags": []
   },
   "outputs": [],
   "source": [
    "test.data['TEMP'].depth[position]"
   ]
  },
  {
   "cell_type": "code",
   "execution_count": null,
   "id": "e25ea663-823e-4d0d-b4fe-8a3868abe9d7",
   "metadata": {
    "tags": []
   },
   "outputs": [],
   "source": [
    "position"
   ]
  },
  {
   "cell_type": "code",
   "execution_count": null,
   "id": "27c5d3f8-e0b7-4535-b192-2a0b521ac623",
   "metadata": {
    "tags": []
   },
   "outputs": [],
   "source": [
    "test.data['TEMP'].station"
   ]
  },
  {
   "cell_type": "code",
   "execution_count": 1441,
   "id": "73afb21a-1b69-421e-8ba6-574b328cd0d4",
   "metadata": {
    "tags": []
   },
   "outputs": [],
   "source": [
    "sst_obs = seapy.roms.obs.obs(filename='/Volumes/TO_1/roms4dvar_ecs/i4dvar_outputs/NOAA_GHRSST/geopolar_sst_201205.nc')"
   ]
  },
  {
   "cell_type": "code",
   "execution_count": 1444,
   "id": "7dbc236d-931a-4f5d-aaa7-abca7a504b06",
   "metadata": {
    "tags": []
   },
   "outputs": [
    {
     "data": {
      "text/plain": [
       "[<matplotlib.lines.Line2D at 0x7f88122e8700>]"
      ]
     },
     "execution_count": 1444,
     "metadata": {},
     "output_type": "execute_result"
    }
   ],
   "source": [
    "plt.plot(sst_obs.error)"
   ]
  },
  {
   "cell_type": "code",
   "execution_count": 32,
   "id": "02983b6e-3487-47a6-9196-6cf2c4b65292",
   "metadata": {
    "tags": []
   },
   "outputs": [],
   "source": [
    "# merge sst and in-situ togethor\n",
    "grdfile = '/Volumes/TO_1/outputs_SCORRECTION/ocean_ecs_fwd_15461_outer1.nc'\n",
    "dt = 1/24\n",
    "# reftime = datetime.datetime(1970,1,1)\n"
   ]
  },
  {
   "cell_type": "code",
   "execution_count": 33,
   "id": "28180851-d5a4-441d-be71-74ea456b0224",
   "metadata": {
    "tags": []
   },
   "outputs": [],
   "source": [
    "grid = seapy.model.asgrid(grdfile)"
   ]
  },
  {
   "cell_type": "code",
   "execution_count": 34,
   "id": "358bfa3c-c04a-44c1-b686-081810bd9b6a",
   "metadata": {
    "tags": []
   },
   "outputs": [
    {
     "data": {
      "application/vnd.jupyter.widget-view+json": {
       "model_id": "80fe55efcd1c4cf18c6b474f1421c359",
       "version_major": 2,
       "version_minor": 0
      },
      "text/plain": [
       "Output()"
      ]
     },
     "metadata": {},
     "output_type": "display_data"
    },
    {
     "data": {
      "text/html": [
       "<pre style=\"white-space:pre;overflow-x:auto;line-height:normal;font-family:Menlo,'DejaVu Sans Mono',consolas,'Courier New',monospace\"></pre>\n"
      ],
      "text/plain": []
     },
     "metadata": {},
     "output_type": "display_data"
    },
    {
     "data": {
      "text/html": [
       "<pre style=\"white-space:pre;overflow-x:auto;line-height:normal;font-family:Menlo,'DejaVu Sans Mono',consolas,'Courier New',monospace\">\n",
       "</pre>\n"
      ],
      "text/plain": [
       "\n"
      ]
     },
     "metadata": {},
     "output_type": "display_data"
    }
   ],
   "source": [
    "# merge sst and in-situ togethor\n",
    "grdfile = '/Volumes/TO_1/outputs_SCORRECTION/ocean_ecs_fwd_15461_outer1.nc'\n",
    "dt = 1/24\n",
    "# reftime = datetime.datetime(1970,1,1)\n",
    "\n",
    "grid = seapy.model.asgrid(grdfile)\n",
    "data = [seapy.roms.obs.raw_data(\"TEMP\", \"CTD\", test.data['TEMP'].value,None,0.1),\n",
    "       seapy.roms.obs.raw_data(\"SALT\", \"CTD\", test.data['PSAL2'].value,None,0.01),]\n",
    "        \n",
    "insitu_obs = seapy.roms.obs.gridder(grid,test.data['TEMP'].time,\n",
    "                                    test.data['TEMP'].lon,test.data['TEMP'].lat,\n",
    "                                    -test.data['TEMP'].depth, data,dt,title=\"cruise observation\")"
   ]
  },
  {
   "cell_type": "code",
   "execution_count": null,
   "id": "41c52222-5ca5-42fe-afe5-2c523985e6ef",
   "metadata": {
    "tags": []
   },
   "outputs": [],
   "source": [
    "sst_obs.add(insitu_obs)"
   ]
  },
  {
   "cell_type": "code",
   "execution_count": 87,
   "id": "426b0541-4828-40ae-9f23-42f2a21ee129",
   "metadata": {
    "tags": []
   },
   "outputs": [],
   "source": [
    "insitu_obs.to_netcdf('/Volumes/TO_1/roms4dvar_ecs/i4dvar_outputs/INSITU_OBS/insitu_obs.nc')"
   ]
  },
  {
   "cell_type": "code",
   "execution_count": 38,
   "id": "9ee749be-8e50-4d0a-9859-37662f049644",
   "metadata": {
    "tags": []
   },
   "outputs": [
    {
     "data": {
      "text/plain": [
       "array([6, 6, 6, ..., 7, 7, 7])"
      ]
     },
     "execution_count": 38,
     "metadata": {},
     "output_type": "execute_result"
    }
   ],
   "source": [
    "insitu_obs.type"
   ]
  },
  {
   "cell_type": "code",
   "execution_count": 1440,
   "id": "8d53fb1e-5741-4d30-99d0-384adde54aa7",
   "metadata": {
    "tags": []
   },
   "outputs": [
    {
     "data": {
      "text/plain": [
       "datetime.datetime(2012, 7, 28, 0, 44, 0, 384)"
      ]
     },
     "execution_count": 1440,
     "metadata": {},
     "output_type": "execute_result"
    }
   ],
   "source": [
    "datetime.datetime(1970,1,1) + datetime.timedelta(days=15549.03055556)"
   ]
  },
  {
   "cell_type": "code",
   "execution_count": null,
   "id": "b9d95828-8def-4686-af8e-11c1db0d97b8",
   "metadata": {
    "tags": []
   },
   "outputs": [],
   "source": []
  }
 ],
 "metadata": {
  "kernelspec": {
   "display_name": "Python 3 (ipykernel)",
   "language": "python",
   "name": "python3"
  },
  "language_info": {
   "codemirror_mode": {
    "name": "ipython",
    "version": 3
   },
   "file_extension": ".py",
   "mimetype": "text/x-python",
   "name": "python",
   "nbconvert_exporter": "python",
   "pygments_lexer": "ipython3",
   "version": "3.9.13"
  }
 },
 "nbformat": 4,
 "nbformat_minor": 5
}
