{
 "cells": [
  {
   "cell_type": "code",
   "execution_count": 1,
   "id": "affd5dd0-7bdd-4e1c-ab7a-ecfbf93ef432",
   "metadata": {
    "tags": []
   },
   "outputs": [
    {
     "name": "stderr",
     "output_type": "stream",
     "text": [
      "NumExpr defaulting to 8 threads.\n"
     ]
    }
   ],
   "source": [
    "import seapy\n",
    "import Obs_workspace as ow\n",
    "import numpy as np"
   ]
  },
  {
   "cell_type": "code",
   "execution_count": 2,
   "id": "1ccf17e1-4277-43ca-9f0a-e8c25ac9e63a",
   "metadata": {
    "tags": []
   },
   "outputs": [],
   "source": []
  },
  {
   "cell_type": "code",
   "execution_count": 3,
   "id": "975a88dd-15d9-4b54-82b5-1dcd943b1b37",
   "metadata": {
    "tags": []
   },
   "outputs": [],
   "source": [
    "grdfile = '/Volumes/TO_1/outputs_SCORRECTION/ocean_ecs_fwd_15461_outer1.nc'\n",
    "dt = 1/24\n",
    "grid = seapy.model.asgrid(grdfile)"
   ]
  },
  {
   "cell_type": "code",
   "execution_count": 16,
   "id": "dff81b04-0da1-4c05-80ef-60d072046b3e",
   "metadata": {
    "tags": []
   },
   "outputs": [],
   "source": [
    "Datasets = [\n",
    "            'NSFC2012SPRING-YS',\n",
    "            'NSFC2012SPRING-ES',\n",
    "            'IOCAS2012SPRING',\n",
    "            'NSFC2012AUTUMN-ES',\n",
    "            'IOCAS2012AUTUMN',\n",
    "            'NSFC2013SPRING-CJ',\n",
    "            'IOCAS2013SPRING'\n",
    "           ]\n"
   ]
  },
  {
   "cell_type": "code",
   "execution_count": 33,
   "id": "aed9cb4b-21a6-4cc0-bd5d-1b17c4e31537",
   "metadata": {
    "tags": []
   },
   "outputs": [],
   "source": [
    "obss = []"
   ]
  },
  {
   "cell_type": "code",
   "execution_count": 34,
   "id": "0befc35b-a258-4cd1-a627-b74d1172710d",
   "metadata": {
    "tags": []
   },
   "outputs": [],
   "source": [
    "# loading sst obs\n",
    "sst_obs = seapy.roms.obs.obs(filename='/Volumes/TO_1/roms4dvar_ecs/i4dvar_outputs/NOAA_GHRSST/geopolar_sst_2012.nc')"
   ]
  },
  {
   "cell_type": "code",
   "execution_count": 35,
   "id": "950ece9c-d6fa-40a1-9e9b-24bdedfa4a92",
   "metadata": {
    "tags": []
   },
   "outputs": [
    {
     "name": "stdout",
     "output_type": "stream",
     "text": [
      "NSFC2012SPRING-YS\n",
      "Workspace: /Volumes/TO_1/roms4dvar_ecs/i4dvar_outputs/INSITU_OBS/NSFC2012SPRING-YS\n",
      "PSAL2\n",
      "qc specified: \n",
      "['H03', 'H16', 'H25', 'H34']\n",
      "quality control is activate: H03\n",
      "quality control is activate: H16\n",
      "quality control is activate: H25\n",
      "quality control is activate: H34\n",
      "TEMP\n"
     ]
    },
    {
     "data": {
      "application/vnd.jupyter.widget-view+json": {
       "model_id": "77b7e810a08d45bba0be3dc7bcdc1b99",
       "version_major": 2,
       "version_minor": 0
      },
      "text/plain": [
       "Output()"
      ]
     },
     "metadata": {},
     "output_type": "display_data"
    },
    {
     "data": {
      "text/html": [
       "<pre style=\"white-space:pre;overflow-x:auto;line-height:normal;font-family:Menlo,'DejaVu Sans Mono',consolas,'Courier New',monospace\"></pre>\n"
      ],
      "text/plain": []
     },
     "metadata": {},
     "output_type": "display_data"
    },
    {
     "data": {
      "text/html": [
       "<pre style=\"white-space:pre;overflow-x:auto;line-height:normal;font-family:Menlo,'DejaVu Sans Mono',consolas,'Courier New',monospace\">\n",
       "</pre>\n"
      ],
      "text/plain": [
       "\n"
      ]
     },
     "metadata": {},
     "output_type": "display_data"
    },
    {
     "name": "stdout",
     "output_type": "stream",
     "text": [
      "NSFC2012SPRING-ES\n",
      "Workspace: /Volumes/TO_1/roms4dvar_ecs/i4dvar_outputs/INSITU_OBS/NSFC2012SPRING-ES\n",
      "PSAL2\n",
      "TEMP\n"
     ]
    },
    {
     "data": {
      "application/vnd.jupyter.widget-view+json": {
       "model_id": "447fdefef5fc4903891c7ee7ba225ad9",
       "version_major": 2,
       "version_minor": 0
      },
      "text/plain": [
       "Output()"
      ]
     },
     "metadata": {},
     "output_type": "display_data"
    },
    {
     "data": {
      "text/html": [
       "<pre style=\"white-space:pre;overflow-x:auto;line-height:normal;font-family:Menlo,'DejaVu Sans Mono',consolas,'Courier New',monospace\"></pre>\n"
      ],
      "text/plain": []
     },
     "metadata": {},
     "output_type": "display_data"
    },
    {
     "data": {
      "text/html": [
       "<pre style=\"white-space:pre;overflow-x:auto;line-height:normal;font-family:Menlo,'DejaVu Sans Mono',consolas,'Courier New',monospace\">\n",
       "</pre>\n"
      ],
      "text/plain": [
       "\n"
      ]
     },
     "metadata": {},
     "output_type": "display_data"
    },
    {
     "name": "stdout",
     "output_type": "stream",
     "text": [
      "IOCAS2012SPRING\n",
      "Workspace: /Volumes/TO_1/roms4dvar_ecs/i4dvar_outputs/INSITU_OBS/IOCAS2012SPRING\n",
      "PSAL2\n",
      "qc specified: \n",
      "['3800-01', '3800-02', 'B-03', 'DH6-2']\n",
      "quality control is activate: 3800-01\n",
      "quality control is activate: 3800-02\n",
      "quality control is activate: B-03\n",
      "quality control is activate: DH6-2\n",
      "TEMP\n",
      "qc specified: \n",
      "['DH6-2']\n",
      "quality control is activate: DH6-2\n"
     ]
    },
    {
     "data": {
      "application/vnd.jupyter.widget-view+json": {
       "model_id": "84360b2464fc45febc202a5a42642b87",
       "version_major": 2,
       "version_minor": 0
      },
      "text/plain": [
       "Output()"
      ]
     },
     "metadata": {},
     "output_type": "display_data"
    },
    {
     "data": {
      "text/html": [
       "<pre style=\"white-space:pre;overflow-x:auto;line-height:normal;font-family:Menlo,'DejaVu Sans Mono',consolas,'Courier New',monospace\"></pre>\n"
      ],
      "text/plain": []
     },
     "metadata": {},
     "output_type": "display_data"
    },
    {
     "data": {
      "text/html": [
       "<pre style=\"white-space:pre;overflow-x:auto;line-height:normal;font-family:Menlo,'DejaVu Sans Mono',consolas,'Courier New',monospace\">\n",
       "</pre>\n"
      ],
      "text/plain": [
       "\n"
      ]
     },
     "metadata": {},
     "output_type": "display_data"
    },
    {
     "name": "stdout",
     "output_type": "stream",
     "text": [
      "NSFC2012AUTUMN-ES\n",
      "Workspace: /Volumes/TO_1/roms4dvar_ecs/i4dvar_outputs/INSITU_OBS/NSFC2012AUTUMN-ES\n",
      "PSAL2\n",
      "TEMP\n"
     ]
    },
    {
     "data": {
      "application/vnd.jupyter.widget-view+json": {
       "model_id": "f0cf074f4f664db9b7442de5d40cc875",
       "version_major": 2,
       "version_minor": 0
      },
      "text/plain": [
       "Output()"
      ]
     },
     "metadata": {},
     "output_type": "display_data"
    },
    {
     "data": {
      "text/html": [
       "<pre style=\"white-space:pre;overflow-x:auto;line-height:normal;font-family:Menlo,'DejaVu Sans Mono',consolas,'Courier New',monospace\"></pre>\n"
      ],
      "text/plain": []
     },
     "metadata": {},
     "output_type": "display_data"
    },
    {
     "data": {
      "text/html": [
       "<pre style=\"white-space:pre;overflow-x:auto;line-height:normal;font-family:Menlo,'DejaVu Sans Mono',consolas,'Courier New',monospace\">\n",
       "</pre>\n"
      ],
      "text/plain": [
       "\n"
      ]
     },
     "metadata": {},
     "output_type": "display_data"
    },
    {
     "name": "stdout",
     "output_type": "stream",
     "text": [
      "IOCAS2012AUTUMN\n",
      "Workspace: /Volumes/TO_1/roms4dvar_ecs/i4dvar_outputs/INSITU_OBS/IOCAS2012AUTUMN\n",
      "PSAL2\n",
      "qc specified: \n",
      "['3500-09']\n",
      "quality control is activate: 3500-09\n",
      "TEMP\n",
      "qc specified: \n",
      "['3500-09', 'DH4-1']\n",
      "quality control is activate: 3500-09\n",
      "quality control is activate: DH4-1\n"
     ]
    },
    {
     "data": {
      "application/vnd.jupyter.widget-view+json": {
       "model_id": "1b8d964f8e0b407cbec43f832897edb7",
       "version_major": 2,
       "version_minor": 0
      },
      "text/plain": [
       "Output()"
      ]
     },
     "metadata": {},
     "output_type": "display_data"
    },
    {
     "data": {
      "text/html": [
       "<pre style=\"white-space:pre;overflow-x:auto;line-height:normal;font-family:Menlo,'DejaVu Sans Mono',consolas,'Courier New',monospace\"></pre>\n"
      ],
      "text/plain": []
     },
     "metadata": {},
     "output_type": "display_data"
    },
    {
     "data": {
      "text/html": [
       "<pre style=\"white-space:pre;overflow-x:auto;line-height:normal;font-family:Menlo,'DejaVu Sans Mono',consolas,'Courier New',monospace\">\n",
       "</pre>\n"
      ],
      "text/plain": [
       "\n"
      ]
     },
     "metadata": {},
     "output_type": "display_data"
    },
    {
     "name": "stdout",
     "output_type": "stream",
     "text": [
      "NSFC2013SPRING-CJ\n",
      "Workspace: /Volumes/TO_1/roms4dvar_ecs/i4dvar_outputs/INSITU_OBS/NSFC2013SPRING-CJ\n",
      "PSAL2\n",
      "qc specified: \n",
      "['A01-03', 'A01-09', 'A02-04', 'A02-08', 'A03-06', 'A03-09', 'A04-07', 'A06-05', 'A13-01']\n",
      "quality control is activate: A01-03\n",
      "quality control is activate: A01-09\n",
      "quality control is activate: A02-04\n",
      "quality control is activate: A02-08\n",
      "quality control is activate: A03-06\n",
      "quality control is activate: A03-09\n",
      "quality control is activate: A04-07\n",
      "quality control is activate: A06-05\n",
      "quality control is activate: A13-01\n",
      "TEMP\n",
      "qc specified: \n",
      "['A04-07']\n",
      "quality control is activate: A04-07\n"
     ]
    },
    {
     "data": {
      "application/vnd.jupyter.widget-view+json": {
       "model_id": "bbe965358aff4c8cb8e8960722295d11",
       "version_major": 2,
       "version_minor": 0
      },
      "text/plain": [
       "Output()"
      ]
     },
     "metadata": {},
     "output_type": "display_data"
    },
    {
     "data": {
      "text/html": [
       "<pre style=\"white-space:pre;overflow-x:auto;line-height:normal;font-family:Menlo,'DejaVu Sans Mono',consolas,'Courier New',monospace\"></pre>\n"
      ],
      "text/plain": []
     },
     "metadata": {},
     "output_type": "display_data"
    },
    {
     "data": {
      "text/html": [
       "<pre style=\"white-space:pre;overflow-x:auto;line-height:normal;font-family:Menlo,'DejaVu Sans Mono',consolas,'Courier New',monospace\">\n",
       "</pre>\n"
      ],
      "text/plain": [
       "\n"
      ]
     },
     "metadata": {},
     "output_type": "display_data"
    },
    {
     "name": "stdout",
     "output_type": "stream",
     "text": [
      "IOCAS2013SPRING\n",
      "Workspace: /Volumes/TO_1/roms4dvar_ecs/i4dvar_outputs/INSITU_OBS/IOCAS2013SPRING\n",
      "PSAL2\n",
      "qc specified: \n",
      "['3600-05', '3800-04']\n",
      "quality control is activate: 3600-05\n",
      "quality control is activate: 3800-04\n",
      "TEMP\n"
     ]
    },
    {
     "data": {
      "application/vnd.jupyter.widget-view+json": {
       "model_id": "3a3f5fb4dd7546e6828650b6d7a31760",
       "version_major": 2,
       "version_minor": 0
      },
      "text/plain": [
       "Output()"
      ]
     },
     "metadata": {},
     "output_type": "display_data"
    },
    {
     "data": {
      "text/html": [
       "<pre style=\"white-space:pre;overflow-x:auto;line-height:normal;font-family:Menlo,'DejaVu Sans Mono',consolas,'Courier New',monospace\"></pre>\n"
      ],
      "text/plain": []
     },
     "metadata": {},
     "output_type": "display_data"
    },
    {
     "data": {
      "text/html": [
       "<pre style=\"white-space:pre;overflow-x:auto;line-height:normal;font-family:Menlo,'DejaVu Sans Mono',consolas,'Courier New',monospace\">\n",
       "</pre>\n"
      ],
      "text/plain": [
       "\n"
      ]
     },
     "metadata": {},
     "output_type": "display_data"
    }
   ],
   "source": [
    "for dataset in Datasets:\n",
    "    print(dataset)\n",
    "    thisdataset = ow.insitu_workspace('/Volumes/TO_1/roms4dvar_ecs/i4dvar_outputs/INSITU_OBS',dataset,dataset)\n",
    "    thisdataset.pull_ctdinfos()\n",
    "    # must pull_ctdinfos before pull_alldata\n",
    "    if dataset =='NSFC2012SPRING-YS':\n",
    "        thisdataset.pull_alldata(VARS=['PSAL2','TEMP'],refine_withqc_id={'PSAL2':['H03','H16','H25','H34'],'TEMP':[]})\n",
    "    elif dataset == 'NSFC2012SPRING-ES':\n",
    "        thisdataset.pull_alldata(VARS=['PSAL2','TEMP'],refine_withqc_id={'PSAL2':[],'TEMP':[]})\n",
    "    elif dataset == 'IOCAS2012SPRING':\n",
    "        thisdataset.pull_alldata(VARS=['PSAL2','TEMP'],refine_withqc_id={'PSAL2':['3800-01','3800-02','B-03','DH6-2'],'TEMP':['DH6-2',]})\n",
    "    elif dataset == 'NSFC2012AUTUMN-ES':\n",
    "        thisdataset.pull_alldata(VARS=['PSAL2','TEMP'],refine_withqc_id={'PSAL2':[],'TEMP':[]})\n",
    "    elif dataset == 'IOCAS2012AUTUMN':\n",
    "        thisdataset.pull_alldata(VARS=['PSAL2','TEMP'],refine_withqc_id={'PSAL2':['3500-09',],'TEMP':['3500-09','DH4-1']})\n",
    "    elif dataset == 'NSFC2013SPRING-CJ':\n",
    "        thisdataset.pull_alldata(VARS=['PSAL2','TEMP'],refine_withqc_id={'PSAL2':['A01-03','A01-09','A02-04','A02-08','A03-06','A03-09','A04-07','A06-05','A13-01'],'TEMP':['A04-07',]})\n",
    "    elif dataset == 'IOCAS2013SPRING':\n",
    "        thisdataset.pull_alldata(VARS=['PSAL2','TEMP'],refine_withqc_id={'PSAL2':['3600-05','3800-04',],'TEMP':[]})\n",
    "    thisdata = [seapy.roms.obs.raw_data(\"TEMP\", \"CTD\", thisdataset.data['TEMP'].value_r,None,0.1),\n",
    "                seapy.roms.obs.raw_data(\"SALT\", \"CTD\", thisdataset.data['PSAL2'].value_r,None,0.01),]\n",
    "    thisinsitu_obs = seapy.roms.obs.gridder_ctd(grid,thisdataset.data['TEMP'].time_r,\n",
    "                                                thisdataset.data['TEMP'].lon_r,thisdataset.data['TEMP'].lat_r,-thisdataset.data['TEMP'].depth_r, \n",
    "                                                thisdata,dt,title=\"cruise CTD observation %s\"%(dataset))\n",
    "    obss.append(thisinsitu_obs)\n",
    "    sst_obs.add(thisinsitu_obs)"
   ]
  },
  {
   "cell_type": "code",
   "execution_count": 36,
   "id": "a3df829e-5189-49db-a20e-12f87e8b7fc2",
   "metadata": {
    "tags": []
   },
   "outputs": [],
   "source": [
    "\n",
    "sst_obs.to_netcdf('/Volumes/TO_1/roms4dvar_ecs/i4dvar_outputs/INSITU_OBS/combined_obs_2012.nc')\n"
   ]
  },
  {
   "cell_type": "code",
   "execution_count": 51,
   "id": "b3d410c7-a81f-4b21-ba45-36760367773a",
   "metadata": {
    "tags": []
   },
   "outputs": [],
   "source": [
    "withcruise_obs = seapy.roms.obs.obs(filename='/Volumes/TO_1/roms4dvar_ecs/i4dvar_outputs/INSITU_OBS/combined_obs_2012.nc')"
   ]
  },
  {
   "cell_type": "code",
   "execution_count": 56,
   "id": "f5e3acde-684a-4df6-a78c-4a6e661993e2",
   "metadata": {
    "tags": []
   },
   "outputs": [
    {
     "ename": "SyntaxError",
     "evalue": "invalid syntax (3037749351.py, line 1)",
     "output_type": "error",
     "traceback": [
      "\u001b[0;36m  Cell \u001b[0;32mIn[56], line 1\u001b[0;36m\u001b[0m\n\u001b[0;31m    plt.plot(withcruise_obs.[withcruise_obs.type==7])\u001b[0m\n\u001b[0m                            ^\u001b[0m\n\u001b[0;31mSyntaxError\u001b[0m\u001b[0;31m:\u001b[0m invalid syntax\n"
     ]
    }
   ],
   "source": [
    "plt.plot(withcruise_obs.[withcruise_obs.type==7])"
   ]
  },
  {
   "cell_type": "code",
   "execution_count": 9,
   "id": "1e25a70c-7112-414f-abf8-7acbaf0fe9d5",
   "metadata": {
    "tags": []
   },
   "outputs": [
    {
     "data": {
      "text/plain": [
       "0.010000000000000002"
      ]
     },
     "execution_count": 9,
     "metadata": {},
     "output_type": "execute_result"
    }
   ],
   "source": [
    "np.min(thisinsitu_obs.error[thisinsitu_obs.type==6])"
   ]
  },
  {
   "cell_type": "code",
   "execution_count": 50,
   "id": "d8f0db84-c58c-4056-aacb-61ba4b0e1489",
   "metadata": {
    "tags": []
   },
   "outputs": [
    {
     "data": {
      "text/plain": [
       "[<matplotlib.lines.Line2D at 0x7f93a614c0a0>]"
      ]
     },
     "execution_count": 50,
     "metadata": {},
     "output_type": "execute_result"
    },
    {
     "data": {
      "image/png": "[encoded data removed]",
      "text/plain": [
       "<Figure size 640x480 with 1 Axes>"
      ]
     },
     "metadata": {},
     "output_type": "display_data"
    }
   ],
   "source": [
    "import matplotlib.pyplot as plt\n",
    "ind = 6\n",
    "plt.plot(obss[ind].error[obss[ind].type==7])"
   ]
  },
  {
   "cell_type": "code",
   "execution_count": 12,
   "id": "9597e7bf-9412-4801-889e-b9ecb890e000",
   "metadata": {
    "tags": []
   },
   "outputs": [
    {
     "data": {
      "text/plain": [
       "(107000,)"
      ]
     },
     "execution_count": 12,
     "metadata": {},
     "output_type": "execute_result"
    }
   ],
   "source": [
    "thisdataset.data['PSAL2'].value_r.shape"
   ]
  },
  {
   "cell_type": "code",
   "execution_count": null,
   "id": "02acbda6-fe83-452b-9b53-83692d7b9e21",
   "metadata": {},
   "outputs": [],
   "source": [
    "!!!!!!!!!!!!!!!!!!!!!!CHANGE the refine level!!!!!!!!!!!!!!!!!!!!!"
   ]
  }
 ],
 "metadata": {
  "kernelspec": {
   "display_name": "Python 3 (ipykernel)",
   "language": "python",
   "name": "python3"
  },
  "language_info": {
   "codemirror_mode": {
    "name": "ipython",
    "version": 3
   },
   "file_extension": ".py",
   "mimetype": "text/x-python",
   "name": "python",
   "nbconvert_exporter": "python",
   "pygments_lexer": "ipython3",
   "version": "3.9.13"
  }
 },
 "nbformat": 4,
 "nbformat_minor": 5
}
