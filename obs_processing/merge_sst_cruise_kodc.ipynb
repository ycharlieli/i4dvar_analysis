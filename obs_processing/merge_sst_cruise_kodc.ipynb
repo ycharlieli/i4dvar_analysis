{
 "cells": [
  {
   "cell_type": "code",
   "execution_count": 1,
   "id": "5cbb72eb-b2c2-4030-bf1f-13828b0ee717",
   "metadata": {
    "tags": []
   },
   "outputs": [
    {
     "name": "stderr",
     "output_type": "stream",
     "text": [
      "NumExpr defaulting to 8 threads.\n"
     ]
    }
   ],
   "source": [
    "import seapy\n",
    "import Obs_workspace as ow\n",
    "import numpy as np\n",
    "import matplotlib.pyplot as plt"
   ]
  },
  {
   "cell_type": "code",
   "execution_count": 2,
   "id": "0ec42cb3-78b9-43a7-b1fa-adee29ec6ae3",
   "metadata": {
    "tags": []
   },
   "outputs": [],
   "source": [
    "grdfile = '/Volumes/TO_1/outputs_SCORRECTION/ocean_ecs_fwd_15461_outer1.nc'\n",
    "dt = 1/24/60\n",
    "grid = seapy.model.asgrid(grdfile)"
   ]
  },
  {
   "cell_type": "code",
   "execution_count": 3,
   "id": "97348143-90c6-4191-ad8c-c108a197c362",
   "metadata": {
    "tags": []
   },
   "outputs": [],
   "source": [
    "# add kodc obs\n",
    "import datetime\n",
    "ctd_file = '/Volumes/TO_1/roms4dvar_ecs/i4dvar_outputs/INSITU_OBS/KODC_YS.txt'\n",
    "ctd_id = open(ctd_file)\n",
    "\n",
    "ctd_id.readline()\n",
    "\n",
    "line= ctd_id.readlines()\n",
    "\n",
    "line = [iline.split('\\t') for iline in line]\n",
    "\n",
    "iline = 0\n",
    "irecord = 1\n",
    "for crt_line in line:\n",
    "    if iline == 0:\n",
    "        kodc_record = [irecord,]\n",
    "        kodc_line = [float(crt_line[1]),]\n",
    "        kodc_station = [float(crt_line[2]),]\n",
    "        kodc_time = (datetime.datetime.strptime(crt_line[3],'%Y-%m-%d %H:%M')-\n",
    "                     datetime.timedelta(hours=9) - \n",
    "                    datetime.datetime(1970,1,1)).total_seconds()/3600/24\n",
    "        # print('KST:',crt_line[3])\n",
    "        # print('UTC:',kodc_time,(datetime.timedelta(days=kodc_time)+datetime.datetime(1970,1,1)).strftime('%Y-%m-%d %H:%M',))\n",
    "        kodc_lat = float(crt_line[4])\n",
    "        kodc_lon = float(crt_line[5])\n",
    "        kodc_depth = float(crt_line[7])\n",
    "        kodc_temp = float(crt_line[8])\n",
    "        kodc_tqc = float(crt_line[9])\n",
    "        kodc_salt = float(crt_line[10])\n",
    "        kodc_sqc = float(crt_line[11])\n",
    "        \n",
    "    else:\n",
    "        if kodc_line[-1] != float(crt_line[1]): irecord+=1\n",
    "        kodc_record = np.r_[kodc_record,irecord]\n",
    "        kodc_line = np.r_[kodc_line,float(crt_line[1])]\n",
    "        kodc_station = np.r_[kodc_station,float(crt_line[2])]\n",
    "        kodc_time = np.r_[kodc_time, (datetime.datetime.strptime(crt_line[3],'%Y-%m-%d %H:%M')-\n",
    "                                      datetime.timedelta(hours=9) - \n",
    "                                      datetime.datetime(1970,1,1)).total_seconds()/3600/24]\n",
    "        # print('KST:',crt_line[3])\n",
    "        # print('UTC:',kodc_time[-1],(datetime.timedelta(days=kodc_time[-1])+datetime.datetime(1970,1,1)).strftime('%Y-%m-%d %H:%M',))\n",
    "        kodc_lat = np.r_[kodc_lat,float(crt_line[4])]\n",
    "        kodc_lon = np.r_[kodc_lon,float(crt_line[5])]\n",
    "        kodc_depth = np.r_[kodc_depth, float(crt_line[7])]\n",
    "        kodc_temp = np.r_[kodc_temp, float(crt_line[8])]\n",
    "        kodc_tqc = np.r_[kodc_tqc,float(crt_line[9])]\n",
    "        kodc_salt = np.r_[kodc_salt, float(crt_line[10])]\n",
    "        kodc_sqc = np.r_[kodc_sqc,float(crt_line[11])]\n",
    "        \n",
    "        \n",
    "    iline+=1\n",
    "ctd_id.close()\n",
    "for iline in [107.,106.,105.,104.,103.,102.,209.,208.,207.]:\n",
    "    exclude_pos = np.where(kodc_line != iline)\n",
    "    kodc_record = kodc_record[exclude_pos]\n",
    "    kodc_station = kodc_station[exclude_pos]\n",
    "    kodc_time = kodc_time[exclude_pos]\n",
    "    kodc_lat = kodc_lat[exclude_pos]\n",
    "    kodc_lon = kodc_lon[exclude_pos]\n",
    "    kodc_depth = kodc_depth[exclude_pos]\n",
    "    kodc_temp = kodc_temp[exclude_pos]\n",
    "    kodc_tqc = kodc_tqc[exclude_pos]\n",
    "    kodc_salt = kodc_salt[exclude_pos]\n",
    "    kodc_sqc = kodc_sqc[exclude_pos]\n",
    "    kodc_line =kodc_line[exclude_pos]"
   ]
  },
  {
   "cell_type": "code",
   "execution_count": 4,
   "id": "0f4d58a8-9fa6-402b-891e-23a7cb51411f",
   "metadata": {
    "tags": []
   },
   "outputs": [
    {
     "data": {
      "application/vnd.jupyter.widget-view+json": {
       "model_id": "97ccd5ec192e46aba83eda3780f46050",
       "version_major": 2,
       "version_minor": 0
      },
      "text/plain": [
       "Output()"
      ]
     },
     "metadata": {},
     "output_type": "display_data"
    },
    {
     "data": {
      "text/html": [
       "<pre style=\"white-space:pre;overflow-x:auto;line-height:normal;font-family:Menlo,'DejaVu Sans Mono',consolas,'Courier New',monospace\"></pre>\n"
      ],
      "text/plain": []
     },
     "metadata": {},
     "output_type": "display_data"
    },
    {
     "data": {
      "text/html": [
       "<pre style=\"white-space:pre;overflow-x:auto;line-height:normal;font-family:Menlo,'DejaVu Sans Mono',consolas,'Courier New',monospace\">\n",
       "</pre>\n"
      ],
      "text/plain": [
       "\n"
      ]
     },
     "metadata": {},
     "output_type": "display_data"
    }
   ],
   "source": [
    "data = [seapy.roms.obs.raw_data(\"TEMP\", \"CTD\", kodc_temp,None,0.1),\n",
    "                seapy.roms.obs.raw_data(\"SALT\", \"CTD\", kodc_salt,None,0.01),]\n",
    "kodc_obs = seapy.roms.obs.gridder_ctd(grid,kodc_time,\n",
    "                                                kodc_lon,kodc_lat,-kodc_depth, \n",
    "                                                data,dt,title=\"CTD observation KODC\")"
   ]
  },
  {
   "cell_type": "code",
   "execution_count": 5,
   "id": "718f0a8b-aba1-4f16-9424-d6e2102a8401",
   "metadata": {
    "tags": []
   },
   "outputs": [],
   "source": [
    "#load sst_with cruise\n",
    "withcruise_obs = seapy.roms.obs.obs(filename='/Volumes/TO_1/roms4dvar_ecs/i4dvar_outputs/INSITU_OBS/sst_withcruise_2012.nc')\n",
    "# withcruise_obs = seapy.roms.obs.obs(filename='/Volumes/TO_1/roms4dvar_ecs/i4dvar_outputs/NOAA_GHRSST/geopolar_sst_201304nc')\n",
    "withcruise_obs_org = withcruise_obs.copy()\n",
    "# merge with sst_with cruise\n",
    "withcruise_obs.add(kodc_obs)"
   ]
  },
  {
   "cell_type": "code",
   "execution_count": 6,
   "id": "3b0e88a7-60e5-4c96-acb9-a3a55b2414d0",
   "metadata": {
    "tags": []
   },
   "outputs": [
    {
     "data": {
      "application/vnd.jupyter.widget-view+json": {
       "model_id": "ed01f999204e49b88000e66a799f364b",
       "version_major": 2,
       "version_minor": 0
      },
      "text/plain": [
       "Output()"
      ]
     },
     "metadata": {},
     "output_type": "display_data"
    },
    {
     "data": {
      "text/html": [
       "<pre style=\"white-space:pre;overflow-x:auto;line-height:normal;font-family:Menlo,'DejaVu Sans Mono',consolas,'Courier New',monospace\"></pre>\n"
      ],
      "text/plain": []
     },
     "metadata": {},
     "output_type": "display_data"
    },
    {
     "data": {
      "text/html": [
       "<pre style=\"white-space:pre;overflow-x:auto;line-height:normal;font-family:Menlo,'DejaVu Sans Mono',consolas,'Courier New',monospace\">\n",
       "</pre>\n"
      ],
      "text/plain": [
       "\n"
      ]
     },
     "metadata": {},
     "output_type": "display_data"
    }
   ],
   "source": [
    "# super observation\n",
    "merge_obs = seapy.roms.obs.gridder_s(grid,withcruise_obs,dt)\n",
    "merge_obs.to_netcdf('/Volumes/TO_1/roms4dvar_ecs/i4dvar_outputs/INSITU_OBS/sst_withcruisepkodc_2012.nc')"
   ]
  },
  {
   "cell_type": "code",
   "execution_count": 39,
   "id": "9dab7c17-53ac-450f-adae-4ac084dccbb3",
   "metadata": {
    "tags": []
   },
   "outputs": [],
   "source": [
    "thistime = np.where(withcruise_obs_org.time==15812.5)"
   ]
  },
  {
   "cell_type": "code",
   "execution_count": 41,
   "id": "815f1d95-db32-4a06-813e-5f520f0c560c",
   "metadata": {
    "tags": []
   },
   "outputs": [
    {
     "data": {
      "text/plain": [
       "(45510,)"
      ]
     },
     "execution_count": 41,
     "metadata": {},
     "output_type": "execute_result"
    }
   ],
   "source": [
    "withcruise_obs.provenance[thistime]"
   ]
  },
  {
   "cell_type": "code",
   "execution_count": 35,
   "id": "c6a8cb1c-6386-446a-a56e-cdbb23120686",
   "metadata": {
    "tags": []
   },
   "outputs": [],
   "source": [
    "final_obs = seapy.roms.obs.obs(filename='/Volumes/TO_1/roms4dvar_ecs/i4dvar_outputs/INSITU_OBS/sst_withcruisepkodc_201304.nc')"
   ]
  },
  {
   "cell_type": "code",
   "execution_count": 36,
   "id": "1e8bd4f7-b238-4477-a8c0-b6be2aeb3d4a",
   "metadata": {
    "tags": []
   },
   "outputs": [],
   "source": [
    "thisyppe = np.where(final_obs.type==6)"
   ]
  },
  {
   "cell_type": "code",
   "execution_count": 37,
   "id": "13790dc4-bf30-48c0-a714-a538928460dd",
   "metadata": {
    "tags": []
   },
   "outputs": [],
   "source": [
    "thisdepth = np.where(final_obs.depth[thisyppe ]==0)"
   ]
  },
  {
   "cell_type": "code",
   "execution_count": 42,
   "id": "37564847-87c1-4d2e-bc30-27ab8ab5fadb",
   "metadata": {
    "tags": []
   },
   "outputs": [
    {
     "data": {
      "text/plain": [
       "masked_array(data=[200, 355],\n",
       "             mask=False,\n",
       "       fill_value=999999,\n",
       "            dtype=int32)"
      ]
     },
     "execution_count": 42,
     "metadata": {},
     "output_type": "execute_result"
    }
   ],
   "source": [
    "np.unique(final_obs.provenance[thisyppe][thisdepth])"
   ]
  },
  {
   "cell_type": "code",
   "execution_count": 38,
   "id": "3abfabb8-3782-4071-9f6f-c97f6e4c2c41",
   "metadata": {
    "tags": []
   },
   "outputs": [
    {
     "data": {
      "text/plain": [
       "[<matplotlib.lines.Line2D at 0x7f7e715973a0>]"
      ]
     },
     "execution_count": 38,
     "metadata": {},
     "output_type": "execute_result"
    },
    {
     "data": {
      "image/png": "[encoded data removed]",
      "text/plain": [
       "<Figure size 640x480 with 1 Axes>"
      ]
     },
     "metadata": {},
     "output_type": "display_data"
    }
   ],
   "source": [
    "plt.plot(final_obs.provenance[thisyppe][thisdepth],'ko')"
   ]
  },
  {
   "cell_type": "code",
   "execution_count": null,
   "id": "b0657d89-d5de-4eac-b318-4efabd1d4cf2",
   "metadata": {},
   "outputs": [],
   "source": []
  },
  {
   "cell_type": "code",
   "execution_count": 16,
   "id": "db847146-d281-4083-a0db-b67d02c60511",
   "metadata": {
    "tags": []
   },
   "outputs": [
    {
     "data": {
      "text/plain": [
       "masked_array(data=[0.085],\n",
       "             mask=False,\n",
       "       fill_value=1e+20)"
      ]
     },
     "execution_count": 16,
     "metadata": {},
     "output_type": "execute_result"
    }
   ],
   "source": [
    "final_obs.error[final_obs.provenance==277]"
   ]
  },
  {
   "cell_type": "code",
   "execution_count": 17,
   "id": "5a88cdba-a9ac-4b8e-adb2-dfd464952e54",
   "metadata": {
    "tags": []
   },
   "outputs": [
    {
     "data": {
      "text/plain": [
       "masked_array(data=[15584.5],\n",
       "             mask=False,\n",
       "       fill_value=1e+20)"
      ]
     },
     "execution_count": 17,
     "metadata": {},
     "output_type": "execute_result"
    }
   ],
   "source": [
    "final_obs.time[final_obs.provenance==277]"
   ]
  },
  {
   "cell_type": "code",
   "execution_count": 6,
   "id": "5bcdd910-e339-4616-b3bf-ca4fd46cf1ff",
   "metadata": {
    "tags": []
   },
   "outputs": [
    {
     "data": {
      "text/plain": [
       "[<matplotlib.lines.Line2D at 0x7f97605a6c40>]"
      ]
     },
     "execution_count": 6,
     "metadata": {},
     "output_type": "execute_result"
    },
    {
     "data": {
      "image/png": "[encoded data removed]",
      "text/plain": [
       "<Figure size 640x480 with 1 Axes>"
      ]
     },
     "metadata": {},
     "output_type": "display_data"
    }
   ],
   "source": [
    "plt.plot(final_obs.error[thisyppe][thisdepth],'ko')"
   ]
  },
  {
   "cell_type": "code",
   "execution_count": 12,
   "id": "de1f833f-25e2-4332-b912-d91a2b5da5de",
   "metadata": {
    "collapsed": true,
    "jupyter": {
     "outputs_hidden": true
    },
    "tags": []
   },
   "outputs": [
    {
     "name": "stdout",
     "output_type": "stream",
     "text": [
      "[15469.91666667 15469.98958333 15470.04791667 15470.12152778\n",
      " 15470.18263889 15470.25       15470.31180556 15470.38055556\n",
      " 15470.48333333 15470.53958333 15470.71527778 15470.84375\n",
      " 15470.95       15471.0125     15471.09444444 15471.16944444\n",
      " 15471.25138889 15471.33125    15471.43194444 15471.54027778\n",
      " 15471.66805556 15471.84166667 15471.90555556 15471.975\n",
      " 15472.04513889 15472.12361111 15472.18888889 15472.25763889\n",
      " 15472.325      15472.3875     15472.49097222 15472.58888889\n",
      " 15497.07013889 15497.13888889 15497.18194444 15497.22916667\n",
      " 15497.27430556 15497.31944444 15497.36458333 15497.40833333\n",
      " 15497.54166667 15497.58333333 15497.62777778 15497.67013889\n",
      " 15497.71180556 15497.75347222 15497.79166667 15497.875\n",
      " 15497.91666667 15497.96180556 15499.09375    15499.14236111\n",
      " 15499.18402778 15499.22777778 15499.27222222 15499.31597222\n",
      " 15499.35763889 15499.39930556 15499.44097222 15499.48263889\n",
      " 15499.59027778 15499.63333333 15499.68055556 15499.72569444\n",
      " 15499.77083333 15499.8125     15499.85416667 15499.89583333\n",
      " 15500.05555556 15500.09375    15501.98263889 15502.04513889\n",
      " 15502.08680556 15502.12847222 15502.17013889 15502.3125\n",
      " 15502.35763889 15502.40277778 15502.44791667 15502.51388889\n",
      " 15502.54861111 15502.59722222 15502.63541667 15502.67361111\n",
      " 15508.21805556 15508.26319444 15508.31111111 15508.38888889\n",
      " 15508.45069444 15508.51041667 15508.55138889 15508.59444444\n",
      " 15508.66944444 15508.73888889 15508.80069444 15508.85833333\n",
      " 15508.89930556 15508.94444444 15508.97986111 15509.028125\n",
      " 15509.07986111 15509.14097222 15509.18541667 15509.23194444\n",
      " 15513.93055556 15513.97569444 15514.03333333 15514.09236111\n",
      " 15514.22638889 15514.29305556 15514.35555556 15514.41736111\n",
      " 15519.42638889 15519.48333333 15519.54166667 15519.60833333\n",
      " 15519.66666667 15519.72916667 15519.86666667 15519.90972222\n",
      " 15519.95208333 15519.99375    15520.03472222 15520.07708333\n",
      " 15520.11944444 15520.16319444 15520.20138889 15520.28125\n",
      " 15520.325      15520.36736111 15520.39236111 15562.38541667\n",
      " 15562.48611111 15562.52708333 15562.59236111 15562.63541667\n",
      " 15562.675      15562.72569444 15562.77013889 15562.84444444\n",
      " 15562.90625    15562.92291667 15562.97354798 15563.0278312\n",
      " 15563.05902778 15563.11030093 15563.14722222 15563.18263889\n",
      " 15563.24417735 15563.28680556 15563.31625    15563.52986111\n",
      " 15563.66388889 15563.73402778 15563.79444444 15563.85972222\n",
      " 15563.93472222 15564.00277778 15564.06944444 15564.16041667\n",
      " 15564.225      15564.30902778 15564.38541667 15564.51319444\n",
      " 15564.59375    15564.67777778 15564.73819444 15564.80972222\n",
      " 15564.86805556 15564.93680556 15564.99791667 15565.07291667\n",
      " 15565.1375     15566.01041667 15566.06944444 15566.11805556\n",
      " 15566.17013889 15566.21180556 15566.25694444 15566.29861111\n",
      " 15566.34722222 15566.39236111 15566.44097222 15566.56944444\n",
      " 15566.61111111 15566.65972222 15566.69791667 15566.74305556\n",
      " 15566.78472222 15566.83333333 15566.875      15569.05208333\n",
      " 15569.09305556 15569.14097222 15569.20902778 15569.25625\n",
      " 15569.29861111 15569.36666667 15569.49513889 15569.53680556\n",
      " 15569.59027778 15569.63263889 15569.70486111 15569.74652778\n",
      " 15569.79513889 15569.83333333 15569.87777778 15573.21527778\n",
      " 15573.25694444 15573.29166667 15573.33333333 15573.38888889\n",
      " 15573.41666667 15573.46527778 15573.53472222 15573.57638889\n",
      " 15573.61805556 15573.69444444 15573.72916667 15573.83333333\n",
      " 15573.89583333 15573.9375     15573.97916667 15574.00694444\n",
      " 15574.0625     15574.08333333 15574.125      15574.1875\n",
      " 15584.31944444 15584.36805556 15584.39930556 15584.44097222\n",
      " 15584.5        15584.55555556 15584.69791667 15584.79930556\n",
      " 15584.87152778 15584.93402778 15584.98611111 15585.65625\n",
      " 15586.00694444 15586.06597222 15586.12152778 15586.17361111\n",
      " 15586.23263889 15586.39409722 15586.47916667 15586.52083333\n",
      " 15586.56597222 15586.61111111 15586.69791667 15586.73958333\n",
      " 15586.81944444 15586.86111111 15586.90277778 15586.92708333\n",
      " 15619.22222222 15619.30277778 15619.34722222 15619.39583333\n",
      " 15619.4375     15619.48611111 15619.52777778 15619.56944444\n",
      " 15619.70138889 15619.75       15619.79166667 15619.83333333\n",
      " 15619.88194444 15619.93055556 15619.97222222 15620.02083333\n",
      " 15620.0625     15620.10416667 15621.00694444 15621.05555556\n",
      " 15621.10416667 15621.14583333 15621.1875     15621.22916667\n",
      " 15621.27083333 15621.3125     15621.36111111 15621.40972222\n",
      " 15621.54166667 15621.58333333 15621.625      15621.66666667\n",
      " 15621.71527778 15621.75694444 15621.79861111 15621.84027778\n",
      " 15621.98611111 15622.02083333 15622.54166667 15622.61111111\n",
      " 15622.65277778 15622.69444444 15622.73611111 15622.875\n",
      " 15622.91666667 15622.95833333 15623.         15623.0625\n",
      " 15623.10416667 15623.13888889 15623.18055556 15623.22222222\n",
      " 15629.65972222 15629.70138889 15629.73611111 15629.77777778\n",
      " 15632.17824074 15632.24305556 15632.29166667 15632.33333333\n",
      " 15632.375      15632.44444444 15632.51388889 15632.56944444\n",
      " 15632.63194444 15632.6875     15632.73611111 15632.78472222\n",
      " 15632.80555556 15632.84722222 15632.90972222 15632.95833333\n",
      " 15633.         15634.04861111 15634.09027778 15634.15277778\n",
      " 15634.20833333 15634.34375    15634.40972222 15634.47222222\n",
      " 15634.54166667 15634.61111111 15637.03472222 15637.09722222\n",
      " 15637.15277778 15637.21527778 15637.27083333 15637.40277778\n",
      " 15637.44444444 15637.48611111 15637.52777778 15637.56944444\n",
      " 15637.61805556 15637.65277778 15637.6875     15637.72916667\n",
      " 15637.8125     15637.85416667 15637.89583333 15638.\n",
      " 15669.33680556 15669.41111111 15669.50694444 15669.56180556\n",
      " 15669.62222222 15669.67916667 15671.58819444 15671.67361111\n",
      " 15671.73541667 15671.80416667 15671.86805556 15671.93541667\n",
      " 15671.99097222 15672.05069444 15672.12986111 15672.21805556\n",
      " 15672.3375     15672.40486111 15672.49305556 15672.55972222\n",
      " 15672.61736111 15672.67361111 15672.73680556 15672.79375\n",
      " 15672.85972222 15672.92569444 15672.98958333 15673.10833333\n",
      " 15673.16458333 15673.25138889 15673.32291667 15673.39097222\n",
      " 15686.06666667 15686.14583333 15686.18888889 15686.22916667\n",
      " 15686.27430556 15686.31597222 15686.35763889 15686.39930556\n",
      " 15686.53472222 15686.57638889 15686.62013889 15686.66180556\n",
      " 15686.70347222 15686.74513889 15686.78680556 15686.82986111\n",
      " 15686.87638889 15686.95833333 15687.01041667 15687.12013889\n",
      " 15687.16666667 15687.21319444 15687.25486111 15687.30208333\n",
      " 15687.33819444 15687.38333333 15687.42361111 15687.47013889\n",
      " 15687.58333333 15687.62847222 15687.67361111 15687.71180556\n",
      " 15687.76180556 15687.80555556 15687.85416667 15687.90625\n",
      " 15688.03125    15688.07708333 15693.73958333 15693.80208333\n",
      " 15693.84791667 15693.89166667 15693.93819444 15694.07361111\n",
      " 15694.11527778 15694.15972222 15694.20138889 15694.27152778\n",
      " 15694.31597222 15694.36111111 15694.40972222 15694.45763889\n",
      " 15700.43055556 15700.47916667 15700.51736111 15700.55555556\n",
      " 15700.60763889 15700.64236111 15700.68055556 15700.73611111\n",
      " 15700.77430556 15700.81597222 15700.88194444 15700.94791667\n",
      " 15701.00694444 15701.0625     15701.10416667 15701.14583333\n",
      " 15701.18055556 15701.23125    15701.28125    15701.34375\n",
      " 15701.39236111 15701.4375     15709.42361111 15709.46875\n",
      " 15709.52777778 15709.59027778 15709.79166667 15709.85416667\n",
      " 15709.92361111 15709.98611111 15710.04861111 15711.91319444\n",
      " 15711.97569444 15712.03472222 15712.09375    15712.15277778\n",
      " 15712.29513889 15712.33680556 15712.37847222 15712.42361111\n",
      " 15712.46875    15712.51388889 15712.55555556 15712.59722222\n",
      " 15712.64236111 15712.72916667 15712.77083333 15712.8125\n",
      " 15712.84027778 15734.34722222 15734.41319444 15734.49722222\n",
      " 15734.56180556 15734.62708333 15734.6875     15734.74513889\n",
      " 15734.80625    15734.86666667 15734.93263889 15735.05486111\n",
      " 15735.11111111 15735.17013889 15735.22916667 15735.29166667\n",
      " 15735.35763889 15735.42152778 15735.48263889 15735.54166667\n",
      " 15735.61597222 15735.68263889 15735.78125    15735.84791667\n",
      " 15735.92013889 15735.97916667 15736.03958333 15736.11111111\n",
      " 15739.18611111 15739.25625    15739.31944444 15739.37916667\n",
      " 15739.43125    15752.39583333 15752.44791667 15752.48263889\n",
      " 15752.51388889 15752.5625     15752.59375    15752.63194444\n",
      " 15752.69444444 15752.73611111 15752.77777778 15752.85069444\n",
      " 15752.91666667 15752.97569444 15753.03125    15753.10069444\n",
      " 15753.14930556 15753.1875     15753.22916667 15753.27777778\n",
      " 15753.34027778 15753.38888889 15753.4375     15756.98611111\n",
      " 15757.03472222 15757.09375    15757.15277778 15757.28125\n",
      " 15757.34375    15757.40277778 15757.46527778 15757.52777778\n",
      " 15760.03125    15760.08680556 15760.14930556 15760.20833333\n",
      " 15760.26388889 15760.40277778 15760.44444444 15760.48611111\n",
      " 15760.52777778 15760.57291667 15760.61805556 15760.65625\n",
      " 15760.69444444 15760.73611111 15760.84722222 15760.89236111\n",
      " 15760.93402778 15760.96180556 15762.15277778 15762.19444444\n",
      " 15762.23611111 15762.27430556 15762.32638889 15762.39583333\n",
      " 15762.44097222 15762.48402778 15762.54166667 15762.67986111\n",
      " 15762.72222222 15762.77083333 15762.8125     15762.88194444\n",
      " 15763.1875     15763.23611111 15763.35763889 15763.39791667\n",
      " 15763.4375     15763.48125    15763.52083333 15763.56597222\n",
      " 15763.60625    15763.64930556 15763.76041667 15763.8\n",
      " 15763.85138889 15763.89513889 15763.94652778 15763.98819444\n",
      " 15764.03472222 15764.07777778 15764.12638889 15764.17291667\n",
      " 15767.02569444 15767.04166667 15767.10416667 15767.14583333\n",
      " 15767.18055556 15767.22916667 15767.27083333 15767.31944444\n",
      " 15767.36111111 15767.42013889 15767.54861111 15767.59166667\n",
      " 15767.63888889 15767.68055556 15767.71527778 15767.75694444\n",
      " 15767.8        15767.86111111 15799.38888889 15799.47222222\n",
      " 15799.51736111 15799.56805556 15799.61527778 15799.65972222\n",
      " 15799.70138889 15799.76736111 15799.89722222 15799.94027778\n",
      " 15799.98333333 15800.03055556 15800.075      15800.12013889\n",
      " 15800.16319444 15800.20486111 15800.24861111 15800.28888889\n",
      " 15806.90625    15806.96388889 15807.00694444 15807.04861111\n",
      " 15807.08819444 15807.13402778 15807.17361111 15807.22222222\n",
      " 15807.26388889 15807.31597222 15807.42847222 15807.47083333\n",
      " 15807.51388889 15807.55555556 15807.59930556 15807.64027778\n",
      " 15807.68055556 15807.72083333 15807.94097222 15807.98263889\n",
      " 15812.38888889 15812.45277778 15812.5        15812.54166667\n",
      " 15812.61458333 15812.75       15812.93055556 15812.97569444\n",
      " 15813.02083333 15813.08680556 15813.13194444 15813.17708333\n",
      " 15813.21805556 15813.26736111 15816.65972222 15816.71527778\n",
      " 15816.75       15816.79166667 15816.84027778 15816.88194444\n",
      " 15816.93055556 15816.98611111 15817.02777778 15817.07638889\n",
      " 15817.14583333 15817.26388889 15817.34027778 15817.39583333\n",
      " 15817.44444444 15817.47916667 15817.5162037  15817.57638889\n",
      " 15817.59722222 15817.64583333 15817.71527778 15817.76388889\n",
      " 15817.8125     15821.07638889 15821.125      15821.17361111\n",
      " 15821.22222222 15821.27777778 15821.32638889 15821.38888889\n",
      " 15821.4375     15821.52777778 15821.6875     15821.74305556\n",
      " 15821.80555556 15821.86111111 15821.9375     15822.\n",
      " 15823.02777778 15823.08333333 15823.15277778 15823.21527778\n",
      " 15823.38888889 15823.45833333 15823.52777778 15823.56944444\n",
      " 15823.71527778 15823.77222222 15823.8125     15823.85416667\n",
      " 15849.14375    15849.21527778 15849.29375    15849.35763889\n",
      " 15849.42777778 15849.5        15849.57291667 15849.63888889\n",
      " 15849.70138889 15849.75763889 15849.81041667 15854.70486111\n",
      " 15854.76805556 15854.82777778 15854.89791667 15854.94652778\n",
      " 15854.96805556 15855.0375     15855.09652778 15855.15277778\n",
      " 15855.23888889 15855.31805556 15855.50069444 15855.57986111\n",
      " 15855.66736111 15855.73958333 15855.80972222 15855.87986111\n",
      " 15856.01180556 15856.07152778 15856.13402778 15856.19166667\n",
      " 15863.38888889 15863.45277778 15863.49305556 15863.53472222\n",
      " 15863.57986111 15863.62847222 15863.67361111 15863.72222222\n",
      " 15863.85416667 15863.89930556 15863.95138889 15864.\n",
      " 15864.04513889 15864.09027778 15864.13194444 15864.17361111\n",
      " 15864.21527778 15864.25       15866.05208333 15866.10208333\n",
      " 15866.14583333 15866.1875     15866.23472222 15866.27777778\n",
      " 15866.38194444 15866.42569444 15866.46527778 15866.50972222\n",
      " 15866.62152778 15866.66666667 15866.70833333 15866.75\n",
      " 15866.79166667 15866.83333333 15866.875      15866.91875\n",
      " 15867.0625     15867.10416667 15868.98611111 15869.06944444\n",
      " 15869.11111111 15869.14930556 15869.19444444 15869.33333333\n",
      " 15869.37847222 15869.42361111 15869.46527778 15869.52777778\n",
      " 15869.56944444 15869.61458333 15869.65625    15869.70486111\n",
      " 15873.46875    15873.52430556 15873.5625     15873.60416667\n",
      " 15875.97106481 15876.03472222 15876.09375    15876.13888889\n",
      " 15876.1875     15876.25347222 15876.31597222 15876.38541667\n",
      " 15876.44444444 15876.49305556 15876.52777778 15878.34837963\n",
      " 15878.39930556 15878.42708333 15878.46875    15878.52777778\n",
      " 15878.57638889 15878.64236111 15878.70833333 15878.76041667\n",
      " 15878.81944444 15878.95486111 15879.02083333 15879.07986111\n",
      " 15879.14583333 15879.20833333 15880.03125    15880.09375\n",
      " 15880.16319444 15880.21875    15880.28819444 15880.44791667\n",
      " 15880.49305556 15880.54166667 15880.59722222 15880.65277778\n",
      " 15880.69791667 15880.75       15880.79513889 15880.84722222\n",
      " 15880.93055556 15880.98611111 15881.02777778 15881.0625    ]\n"
     ]
    }
   ],
   "source": [
    "print(np.unique(kodc_obs.time))"
   ]
  },
  {
   "cell_type": "code",
   "execution_count": 7,
   "id": "d2b8371d-676e-4466-8f03-6dbf5f20d45a",
   "metadata": {
    "tags": []
   },
   "outputs": [
    {
     "name": "stdout",
     "output_type": "stream",
     "text": [
      "15584.5\n",
      "15584.5\n",
      "15812.5\n",
      "15812.5\n",
      "15849.5\n",
      "15849.5\n"
     ]
    }
   ],
   "source": [
    "for i, itime in enumerate(kodc_obs.time[kodc_obs.depth ==0]):\n",
    "    if itime in withcruise_obs_org.time:\n",
    "        print(itime)"
   ]
  }
 ],
 "metadata": {
  "kernelspec": {
   "display_name": "Python 3 (ipykernel)",
   "language": "python",
   "name": "python3"
  },
  "language_info": {
   "codemirror_mode": {
    "name": "ipython",
    "version": 3
   },
   "file_extension": ".py",
   "mimetype": "text/x-python",
   "name": "python",
   "nbconvert_exporter": "python",
   "pygments_lexer": "ipython3",
   "version": "3.9.13"
  }
 },
 "nbformat": 4,
 "nbformat_minor": 5
}
