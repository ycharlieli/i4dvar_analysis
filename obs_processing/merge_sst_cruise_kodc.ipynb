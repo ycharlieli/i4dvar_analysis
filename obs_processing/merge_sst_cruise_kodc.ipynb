{
 "cells": [
  {
   "cell_type": "code",
   "execution_count": 1,
   "id": "5cbb72eb-b2c2-4030-bf1f-13828b0ee717",
   "metadata": {
    "tags": []
   },
   "outputs": [
    {
     "name": "stderr",
     "output_type": "stream",
     "text": [
      "NumExpr defaulting to 8 threads.\n"
     ]
    }
   ],
   "source": [
    "import seapy\n",
    "import Obs_workspace as ow\n",
    "import numpy as np\n",
    "import matplotlib.pyplot as plt"
   ]
  },
  {
   "cell_type": "code",
   "execution_count": 2,
   "id": "0ec42cb3-78b9-43a7-b1fa-adee29ec6ae3",
   "metadata": {
    "tags": []
   },
   "outputs": [],
   "source": [
    "grdfile = '/Volumes/TO_1/outputs_SCORRECTION/ocean_ecs_fwd_15461_outer1.nc'\n",
    "dt = 1/24/60\n",
    "grid = seapy.model.asgrid(grdfile)"
   ]
  },
  {
   "cell_type": "code",
   "execution_count": 3,
   "id": "97348143-90c6-4191-ad8c-c108a197c362",
   "metadata": {},
   "outputs": [],
   "source": [
    "# add kodc obs\n",
    "import datetime\n",
    "ctd_file = '/Volumes/TO_1/roms4dvar_ecs/i4dvar_outputs/INSITU_OBS/KODC_YS.txt'\n",
    "ctd_id = open(ctd_file)\n",
    "\n",
    "ctd_id.readline()\n",
    "\n",
    "line= ctd_id.readlines()\n",
    "\n",
    "line = [iline.split('\\t') for iline in line]\n",
    "\n",
    "iline = 0\n",
    "irecord = 1\n",
    "for crt_line in line:\n",
    "    if iline == 0:\n",
    "        kodc_record = [irecord,]\n",
    "        kodc_line = [float(crt_line[1]),]\n",
    "        kodc_station = [float(crt_line[2]),]\n",
    "        kodc_time = (datetime.datetime.strptime(crt_line[3],'%Y-%m-%d %H:%M')-\n",
    "                     datetime.timedelta(hours=9) - \n",
    "                    datetime.datetime(1970,1,1)).total_seconds()/3600/24\n",
    "        # print('KST:',crt_line[3])\n",
    "        # print('UTC:',(datetime.timedelta(days=kodc_time)+datetime.datetime(1970,1,1)).strftime('%Y-%m-%d %H:%M',))\n",
    "        kodc_lat = float(crt_line[4])\n",
    "        kodc_lon = float(crt_line[5])\n",
    "        kodc_depth = float(crt_line[7])\n",
    "        kodc_temp = float(crt_line[8])\n",
    "        kodc_tqc = float(crt_line[9])\n",
    "        kodc_salt = float(crt_line[10])\n",
    "        kodc_sqc = float(crt_line[11])\n",
    "        \n",
    "    else:\n",
    "        if kodc_line[-1] != float(crt_line[1]): irecord+=1\n",
    "        kodc_record = np.r_[kodc_record,irecord]\n",
    "        kodc_line = np.r_[kodc_line,float(crt_line[1])]\n",
    "        kodc_station = np.r_[kodc_station,float(crt_line[2])]\n",
    "        kodc_time = np.r_[kodc_time, (datetime.datetime.strptime(crt_line[3],'%Y-%m-%d %H:%M')-\n",
    "                                      datetime.timedelta(hours=9) - \n",
    "                                      datetime.datetime(1970,1,1)).total_seconds()/3600/24]\n",
    "        # print('KST:',crt_line[3])\n",
    "        # print('UTC:',(datetime.timedelta(days=kodc_time[-1])+datetime.datetime(1970,1,1)).strftime('%Y-%m-%d %H:%M',))\n",
    "        kodc_lat = np.r_[kodc_lat,float(crt_line[4])]\n",
    "        kodc_lon = np.r_[kodc_lon,float(crt_line[5])]\n",
    "        kodc_depth = np.r_[kodc_depth, float(crt_line[7])]\n",
    "        kodc_temp = np.r_[kodc_temp, float(crt_line[8])]\n",
    "        kodc_tqc = np.r_[kodc_tqc,float(crt_line[9])]\n",
    "        kodc_salt = np.r_[kodc_salt, float(crt_line[10])]\n",
    "        kodc_sqc = np.r_[kodc_sqc,float(crt_line[11])]\n",
    "        \n",
    "        \n",
    "    iline+=1\n",
    "ctd_id.close()\n",
    "for iline in [107.,106.,105.,104.,103.,102.,209.,208.,207.]:\n",
    "    exclude_pos = np.where(kodc_line != iline)\n",
    "    kodc_record = kodc_record[exclude_pos]\n",
    "    kodc_station = kodc_station[exclude_pos]\n",
    "    kodc_time = kodc_time[exclude_pos]\n",
    "    kodc_lat = kodc_lat[exclude_pos]\n",
    "    kodc_lon = kodc_lon[exclude_pos]\n",
    "    kodc_depth = kodc_depth[exclude_pos]\n",
    "    kodc_temp = kodc_temp[exclude_pos]\n",
    "    kodc_tqc = kodc_tqc[exclude_pos]\n",
    "    kodc_salt = kodc_salt[exclude_pos]\n",
    "    kodc_sqc = kodc_sqc[exclude_pos]\n",
    "    kodc_line =kodc_line[exclude_pos]"
   ]
  },
  {
   "cell_type": "code",
   "execution_count": 4,
   "id": "0f4d58a8-9fa6-402b-891e-23a7cb51411f",
   "metadata": {
    "tags": []
   },
   "outputs": [
    {
     "data": {
      "application/vnd.jupyter.widget-view+json": {
       "model_id": "9983b4f37b5641038a350fa25286dcf0",
       "version_major": 2,
       "version_minor": 0
      },
      "text/plain": [
       "Output()"
      ]
     },
     "metadata": {},
     "output_type": "display_data"
    },
    {
     "data": {
      "text/html": [
       "<pre style=\"white-space:pre;overflow-x:auto;line-height:normal;font-family:Menlo,'DejaVu Sans Mono',consolas,'Courier New',monospace\"></pre>\n"
      ],
      "text/plain": []
     },
     "metadata": {},
     "output_type": "display_data"
    },
    {
     "data": {
      "text/html": [
       "<pre style=\"white-space:pre;overflow-x:auto;line-height:normal;font-family:Menlo,'DejaVu Sans Mono',consolas,'Courier New',monospace\">\n",
       "</pre>\n"
      ],
      "text/plain": [
       "\n"
      ]
     },
     "metadata": {},
     "output_type": "display_data"
    }
   ],
   "source": [
    "data = [seapy.roms.obs.raw_data(\"TEMP\", \"CTD\", kodc_temp,None,0.1),\n",
    "                seapy.roms.obs.raw_data(\"SALT\", \"CTD\", kodc_salt,None,0.01),]\n",
    "kodc_obs = seapy.roms.obs.gridder_ctd(grid,kodc_time,\n",
    "                                                kodc_lon,kodc_lat,-kodc_depth, \n",
    "                                                data,dt,title=\"CTD observation KODC\")"
   ]
  },
  {
   "cell_type": "code",
   "execution_count": 5,
   "id": "718f0a8b-aba1-4f16-9424-d6e2102a8401",
   "metadata": {
    "tags": []
   },
   "outputs": [],
   "source": [
    "#load sst_with cruise\n",
    "withcruise_obs = seapy.roms.obs.obs(filename='/Volumes/TO_1/roms4dvar_ecs/i4dvar_outputs/INSITU_OBS/sst_withcruise_2012.nc')\n",
    "withcruise_obs_org = withcruise_obs.copy()\n"
   ]
  },
  {
   "cell_type": "code",
   "execution_count": 6,
   "id": "3b0e88a7-60e5-4c96-acb9-a3a55b2414d0",
   "metadata": {
    "tags": []
   },
   "outputs": [
    {
     "data": {
      "application/vnd.jupyter.widget-view+json": {
       "model_id": "e6b4381231b84043a8b9bef85ed5a759",
       "version_major": 2,
       "version_minor": 0
      },
      "text/plain": [
       "Output()"
      ]
     },
     "metadata": {},
     "output_type": "display_data"
    },
    {
     "data": {
      "text/html": [
       "<pre style=\"white-space:pre;overflow-x:auto;line-height:normal;font-family:Menlo,'DejaVu Sans Mono',consolas,'Courier New',monospace\"></pre>\n"
      ],
      "text/plain": []
     },
     "metadata": {},
     "output_type": "display_data"
    },
    {
     "data": {
      "text/html": [
       "<pre style=\"white-space:pre;overflow-x:auto;line-height:normal;font-family:Menlo,'DejaVu Sans Mono',consolas,'Courier New',monospace\">\n",
       "</pre>\n"
      ],
      "text/plain": [
       "\n"
      ]
     },
     "metadata": {},
     "output_type": "display_data"
    }
   ],
   "source": [
    "# merge with sst_with cruise\n",
    "withcruise_obs.add(kodc_obs)\n",
    "# super observation\n",
    "merge_obs = seapy.roms.obs.gridder_s(grid,withcruise_obs,dt)"
   ]
  },
  {
   "cell_type": "code",
   "execution_count": 7,
   "id": "3772edf8-6c9a-46d3-a5e3-fe125b53ccae",
   "metadata": {
    "tags": []
   },
   "outputs": [],
   "source": [
    "merge_obs.to_netcdf('/Volumes/TO_1/roms4dvar_ecs/i4dvar_outputs/INSITU_OBS/sst_withcruisepkodc_2012.nc')"
   ]
  },
  {
   "cell_type": "code",
   "execution_count": 9,
   "id": "c6a8cb1c-6386-446a-a56e-cdbb23120686",
   "metadata": {
    "tags": []
   },
   "outputs": [],
   "source": [
    "final_obs = seapy.roms.obs.obs(filename='/Volumes/TO_1/roms4dvar_ecs/i4dvar_outputs/INSITU_OBS/sst_withcruisepkodc_2012.nc')"
   ]
  },
  {
   "cell_type": "code",
   "execution_count": 12,
   "id": "1e8bd4f7-b238-4477-a8c0-b6be2aeb3d4a",
   "metadata": {
    "tags": []
   },
   "outputs": [],
   "source": [
    "thisyppe = np.where(final_obs.type==6)"
   ]
  },
  {
   "cell_type": "code",
   "execution_count": 18,
   "id": "13790dc4-bf30-48c0-a714-a538928460dd",
   "metadata": {
    "tags": []
   },
   "outputs": [],
   "source": [
    "thisdepth = np.where(final_obs.depth[thisyppe ]==0)"
   ]
  },
  {
   "cell_type": "code",
   "execution_count": 19,
   "id": "5bcdd910-e339-4616-b3bf-ca4fd46cf1ff",
   "metadata": {
    "tags": []
   },
   "outputs": [
    {
     "data": {
      "text/plain": [
       "[<matplotlib.lines.Line2D at 0x7f933563a430>]"
      ]
     },
     "execution_count": 19,
     "metadata": {},
     "output_type": "execute_result"
    },
    {
     "data": {
      "image/png": "[encoded data removed]",
      "text/plain": [
       "<Figure size 640x480 with 1 Axes>"
      ]
     },
     "metadata": {},
     "output_type": "display_data"
    }
   ],
   "source": [
    "plt.plot(final_obs.provenance[thisyppe][thisdepth],'ko')"
   ]
  },
  {
   "cell_type": "code",
   "execution_count": 8,
   "id": "d2b8371d-676e-4466-8f03-6dbf5f20d45a",
   "metadata": {
    "tags": []
   },
   "outputs": [
    {
     "name": "stdout",
     "output_type": "stream",
     "text": [
      "15584.5\n",
      "15584.5\n",
      "15584.5\n",
      "15584.5\n",
      "15584.5\n",
      "15584.5\n",
      "15584.5\n",
      "15584.5\n",
      "15584.5\n",
      "15584.5\n",
      "15584.5\n",
      "15584.5\n",
      "15812.5\n",
      "15812.5\n",
      "15812.5\n",
      "15812.5\n",
      "15812.5\n",
      "15812.5\n",
      "15812.5\n",
      "15812.5\n",
      "15812.5\n",
      "15812.5\n",
      "15812.5\n",
      "15812.5\n",
      "15849.5\n",
      "15849.5\n",
      "15849.5\n",
      "15849.5\n",
      "15849.5\n",
      "15849.5\n",
      "15849.5\n",
      "15849.5\n",
      "15849.5\n",
      "15849.5\n",
      "15849.5\n",
      "15849.5\n"
     ]
    }
   ],
   "source": [
    "for itime in kodc_obs.time:\n",
    "    if itime in withcruise_obs_org.time:\n",
    "        print(itime)"
   ]
  }
 ],
 "metadata": {
  "kernelspec": {
   "display_name": "Python 3 (ipykernel)",
   "language": "python",
   "name": "python3"
  },
  "language_info": {
   "codemirror_mode": {
    "name": "ipython",
    "version": 3
   },
   "file_extension": ".py",
   "mimetype": "text/x-python",
   "name": "python",
   "nbconvert_exporter": "python",
   "pygments_lexer": "ipython3",
   "version": "3.9.13"
  }
 },
 "nbformat": 4,
 "nbformat_minor": 5
}
