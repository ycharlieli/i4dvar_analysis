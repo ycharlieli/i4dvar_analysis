{
 "cells": [
  {
   "cell_type": "code",
   "execution_count": 1,
   "id": "8ab4f8cc-f9bc-405e-9287-763ac749768b",
   "metadata": {
    "tags": []
   },
   "outputs": [],
   "source": [
    "import seabird\n",
    "import datetime\n",
    "import numpy as np\n",
    "import seapy\n",
    "import gsw"
   ]
  },
  {
   "cell_type": "code",
   "execution_count": 109,
   "id": "f8ac3b9d-76f7-48b2-bfd7-1da7b3b7dbf8",
   "metadata": {
    "tags": []
   },
   "outputs": [],
   "source": [
    "ctd_file = '/Volumes/TO_1/roms4dvar_ecs/i4dvar_outputs/INSITU_OBS/KODC_YS.txt'\n",
    "ctd_id = open(ctd_file)\n",
    "\n",
    "\n"
   ]
  },
  {
   "cell_type": "code",
   "execution_count": 110,
   "id": "ca0c6f5b-70bd-4a1c-93ac-6dff26f81e9d",
   "metadata": {
    "tags": []
   },
   "outputs": [
    {
     "data": {
      "text/plain": [
       "'癤�Area\\tLine\\tStation\\tDate(YYYY-MM-DD)\\tLatitude\\tLongitude\\tVertical change chart\\tDepth(m)\\tWater Temperature(℃)\\tT QC flag\\tSalinity(psu)\\tS QC flag\\tDO(ml/L)\\tD QC flag\\tQC Level\\tPO４(μmol/L)\\tNO２(μmol/L)\\tNO３(μmol/L)\\tSiO２(μmol/L)\\tpH\\tWater Transparency(m)\\tBaro(hPa)\\tResearch Vessel\\n'"
      ]
     },
     "execution_count": 110,
     "metadata": {},
     "output_type": "execute_result"
    }
   ],
   "source": [
    "ctd_id.readline()"
   ]
  },
  {
   "cell_type": "code",
   "execution_count": 111,
   "id": "c3bff1a1-71f8-468c-b6fc-7b52d20684fd",
   "metadata": {
    "tags": []
   },
   "outputs": [],
   "source": [
    "\n",
    "line= ctd_id.readlines()"
   ]
  },
  {
   "cell_type": "code",
   "execution_count": 112,
   "id": "80a6b485-9e44-4516-bd46-6fc3638ac97d",
   "metadata": {
    "tags": []
   },
   "outputs": [],
   "source": [
    "line = [iline.split('\\t') for iline in line]"
   ]
  },
  {
   "cell_type": "code",
   "execution_count": 113,
   "id": "b87206fe-3319-42fd-a14b-c7ef21072312",
   "metadata": {
    "tags": []
   },
   "outputs": [],
   "source": [
    "iline = 0\n",
    "irecord = 1\n",
    "for crt_line in line:\n",
    "    if iline == 0:\n",
    "        kodc_record = [irecord,]\n",
    "        kodc_line = [float(crt_line[1]),]\n",
    "        kodc_station = [float(crt_line[2]),]\n",
    "        kodc_time = (datetime.datetime.strptime(crt_line[3],'%Y-%m-%d %H:%M') - \n",
    "                                              datetime.datetime(1970,1,1)).total_seconds()/3600/24\n",
    "        kodc_lat = float(crt_line[4])\n",
    "        kodc_lon = float(crt_line[5])\n",
    "        kodc_depth = float(crt_line[7])\n",
    "        kodc_temp = float(crt_line[8])\n",
    "        kodc_tqc = float(crt_line[9])\n",
    "        kodc_salt = float(crt_line[10])\n",
    "        kodc_sqc = float(crt_line[11])\n",
    "        \n",
    "    else:\n",
    "        if kodc_line[-1] != float(crt_line[1]): irecord+=1\n",
    "        kodc_record = np.r_[kodc_record,irecord]\n",
    "        kodc_line = np.r_[kodc_line,float(crt_line[1])]\n",
    "        kodc_station = np.r_[kodc_station,float(crt_line[2])]\n",
    "        kodc_time = np.r_[kodc_time, (datetime.datetime.strptime(crt_line[3],'%Y-%m-%d %H:%M') - \n",
    "                                              datetime.datetime(1970,1,1)).total_seconds()/3600/24]\n",
    "        kodc_lat = np.r_[kodc_lat,float(crt_line[4])]\n",
    "        kodc_lon = np.r_[kodc_lon,float(crt_line[5])]\n",
    "        kodc_depth = np.r_[kodc_depth, float(crt_line[7])]\n",
    "        kodc_temp = np.r_[kodc_temp, float(crt_line[8])]\n",
    "        kodc_tqc = np.r_[kodc_tqc,float(crt_line[9])]\n",
    "        kodc_salt = np.r_[kodc_salt, float(crt_line[10])]\n",
    "        kodc_sqc = np.r_[kodc_sqc,float(crt_line[11])]\n",
    "        \n",
    "        \n",
    "    iline+=1"
   ]
  },
  {
   "cell_type": "code",
   "execution_count": 100,
   "id": "c5d03ae6-7beb-4599-8944-a60debf8b987",
   "metadata": {
    "tags": []
   },
   "outputs": [
    {
     "data": {
      "text/plain": [
       "(10343,)"
      ]
     },
     "execution_count": 100,
     "metadata": {},
     "output_type": "execute_result"
    }
   ],
   "source": [
    "kodc_record.shape"
   ]
  },
  {
   "cell_type": "code",
   "execution_count": 114,
   "id": "4cd7bdf5-4649-4b19-ab13-dff5f8e8d236",
   "metadata": {
    "tags": []
   },
   "outputs": [],
   "source": [
    "for iline in [107.,106.,105.,104.,103.,102.,209.,208.,207.]:\n",
    "    exclude_pos = np.where(kodc_line != iline)\n",
    "    kodc_record = kodc_record[exclude_pos]\n",
    "    kodc_station = kodc_station[exclude_pos]\n",
    "    kodc_time = kodc_time[exclude_pos]\n",
    "    kodc_lat = kodc_lat[exclude_pos]\n",
    "    kodc_lon = kodc_lon[exclude_pos]\n",
    "    kodc_depth = kodc_depth[exclude_pos]\n",
    "    kodc_temp = kodc_temp[exclude_pos]\n",
    "    kodc_tqc = kodc_tqc[exclude_pos]\n",
    "    kodc_salt = kodc_salt[exclude_pos]\n",
    "    kodc_sqc = kodc_sqc[exclude_pos]\n",
    "    kodc_line =kodc_line[exclude_pos]"
   ]
  },
  {
   "cell_type": "code",
   "execution_count": 117,
   "id": "62783fa0-61b4-4756-a858-53115eb40bdc",
   "metadata": {
    "tags": []
   },
   "outputs": [
    {
     "data": {
      "text/plain": [
       "43"
      ]
     },
     "execution_count": 117,
     "metadata": {},
     "output_type": "execute_result"
    }
   ],
   "source": [
    "np.sum(kodc_record==1)"
   ]
  },
  {
   "cell_type": "code",
   "execution_count": 45,
   "id": "371410a9-50cf-45d2-898e-b43cce24bec0",
   "metadata": {
    "tags": []
   },
   "outputs": [
    {
     "data": {
      "text/plain": [
       "datetime.datetime(2013, 3, 3, 10, 0, 0, 288)"
      ]
     },
     "execution_count": 45,
     "metadata": {},
     "output_type": "execute_result"
    }
   ],
   "source": [
    "datetime.datetime(1970,1,1)+datetime.timedelta(15767.41666667)"
   ]
  },
  {
   "cell_type": "code",
   "execution_count": 115,
   "id": "e2091aaa-c536-498a-8338-7864ac7c78ff",
   "metadata": {
    "tags": []
   },
   "outputs": [],
   "source": [
    "position  = [ (i,j) for i,j in zip(kodc_lon,kodc_lat)]"
   ]
  },
  {
   "cell_type": "code",
   "execution_count": 117,
   "id": "6dac10a4-79f4-4005-ac35-ccfb996df79a",
   "metadata": {
    "tags": []
   },
   "outputs": [],
   "source": [
    "pos_uniq = dict(position)\n"
   ]
  },
  {
   "cell_type": "code",
   "execution_count": 118,
   "id": "64ef55e7-15da-4e5c-aceb-1b790845f70e",
   "metadata": {
    "tags": []
   },
   "outputs": [],
   "source": [
    "lon_uniq = list(pos_uniq.keys())\n",
    "lat_uniq = list(pos_uniq.values())"
   ]
  },
  {
   "cell_type": "code",
   "execution_count": 47,
   "id": "01a739cc-19bd-4f65-8ddc-769b0bab322c",
   "metadata": {
    "tags": []
   },
   "outputs": [
    {
     "data": {
      "text/plain": [
       "(12,)"
      ]
     },
     "execution_count": 47,
     "metadata": {},
     "output_type": "execute_result"
    }
   ],
   "source": [
    "lat_uniq.shape"
   ]
  },
  {
   "cell_type": "code",
   "execution_count": 107,
   "id": "7697d4e0-e019-4df8-a542-caa010765447",
   "metadata": {
    "tags": []
   },
   "outputs": [],
   "source": [
    "import cartopy.crs as ccrs\n",
    "import cartopy.feature as cfeature\n",
    "from cartopy.mpl.ticker import LongitudeFormatter, LatitudeFormatter\n",
    "import matplotlib.pyplot as plt\n",
    "import matplotlib.ticker as mticker\n",
    "import matplotlib.colors as colors\n",
    "import scipy.io as sio\n",
    "import cmaps\n",
    "from matplotlib.colors import LinearSegmentedColormap"
   ]
  },
  {
   "cell_type": "code",
   "execution_count": 119,
   "id": "77d0a2d0-b69c-4af2-95fd-e98af01e1dc6",
   "metadata": {
    "tags": []
   },
   "outputs": [
    {
     "data": {
      "text/plain": [
       "Text(123, 34.054125058004644, '312')"
      ]
     },
     "execution_count": 119,
     "metadata": {},
     "output_type": "execute_result"
    },
    {
     "data": {
      "image/png": "[encoded data removed]",
      "text/plain": [
       "<Figure size 640x480 with 1 Axes>"
      ]
     },
     "metadata": {},
     "output_type": "display_data"
    }
   ],
   "source": [
    "# %matplotlib\n",
    "lon_bdy = [116,128];\n",
    "lat_bdy = [30,42];\n",
    "plt.rcParams['font.family'] = 'sans-serif'\n",
    "fig = plt.figure()\n",
    "ax = fig.add_subplot(projection = ccrs.Mercator())\n",
    "for bnd in ax.spines.keys():\n",
    "    ax.spines[bnd].set_linewidth('2')\n",
    "ax.add_feature(cfeature.COASTLINE.with_scale('10m'), color = 'k',zorder = 2,linewidth =1)\n",
    "ax.add_feature(cfeature.LAND.with_scale('10m'),facecolor='w',zorder = -1)\n",
    "ax.set_extent((lon_bdy[0],lon_bdy[-1],lat_bdy[0],lat_bdy[-1]),crs = ccrs.PlateCarree())\n",
    "ax.set_xticks(np.arange(lon_bdy[0],lon_bdy[-1]+4,4),crs=ccrs.PlateCarree())\n",
    "ax.set_yticks(np.arange(lat_bdy[0],lat_bdy[-1],4),crs=ccrs.PlateCarree())\n",
    "lon_formatter = LongitudeFormatter(number_format='.0f',\n",
    "                                degree_symbol='°',\n",
    "                                dateline_direction_label=True)\n",
    "lat_formatter = LatitudeFormatter(number_format='.0f',\n",
    "                                    degree_symbol='°')\n",
    "ax.xaxis.set_major_formatter(lon_formatter)\n",
    "ax.yaxis.set_major_formatter(lat_formatter)\n",
    "ax.scatter(lon_uniq,lat_uniq,5,'k',transform = ccrs.PlateCarree(),)\n",
    "ax.tick_params(direction = 'out',width =2,length=5, labelsize = 12,top = 0, right = 0)\n",
    "ax.set_title('OBS pos from KODC',fontsize=12)\n",
    "ax.text(123,36.9270379661017,'307',fontsize=12,transform = ccrs.PlateCarree(),)\n",
    "ax.text(123,36.32999999999999,'308',fontsize=12,transform = ccrs.PlateCarree(),)\n",
    "ax.text(123,35.855000000000004,'309',fontsize=12,transform = ccrs.PlateCarree(),)\n",
    "ax.text(123,35.334999999999994,'310',fontsize=12,transform = ccrs.PlateCarree(),)\n",
    "ax.text(123,34.7167,'311',fontsize=12,transform = ccrs.PlateCarree(),)\n",
    "ax.text(123,34.054125058004644,'312',fontsize=12,transform = ccrs.PlateCarree(),)"
   ]
  },
  {
   "cell_type": "code",
   "execution_count": 139,
   "id": "91a257b2-ac1a-4853-9d91-2d9152e4cac0",
   "metadata": {
    "tags": []
   },
   "outputs": [
    {
     "data": {
      "text/plain": [
       "array([11.7, 11.7, 11.7, 11.7, 11.7])"
      ]
     },
     "execution_count": 139,
     "metadata": {},
     "output_type": "execute_result"
    }
   ],
   "source": [
    "data_thislon"
   ]
  },
  {
   "cell_type": "code",
   "execution_count": 98,
   "id": "da512568-322a-4672-ae2d-e5896445efb2",
   "metadata": {
    "tags": []
   },
   "outputs": [],
   "source": [
    "import matplotlib.pyplot as plt\n",
    "var = 'TEMP'\n",
    "for irecord in np.unique(kodc_record):\n",
    "    # print(irecord)\n",
    "    \n",
    "    this_record = np.where(kodc_record==irecord)\n",
    "    line_thisrecord = np.unique(kodc_line[this_record])[0]\n",
    "    lon_thisrecord = kodc_lon[this_record]\n",
    "    time_thisrecord = kodc_time[this_record]\n",
    "    time_begin = datetime.datetime(1970,1,1)+datetime.timedelta(np.min(time_thisrecord))\n",
    "    time_end = datetime.datetime(1970,1,1)+datetime.timedelta(np.max(time_thisrecord))\n",
    "    # print(np.unique(time_thisrcord))\n",
    "    if var == 'TEMP':\n",
    "        data_thisrecord = kodc_temp[this_record]\n",
    "    elif var == 'SALT':\n",
    "        data_thisrecord = kodc_salt[this_record]\n",
    "    \n",
    "    depth_thisrecord = kodc_depth[this_record]\n",
    "    \n",
    "    if len(np.unique(time_thisrecord)) >=2:\n",
    "        fig, ax = plt.subplots()\n",
    "        lon2d = np.zeros([len(np.unique(lon_thisrecord)),20])\n",
    "        depth2d = np.zeros([len(np.unique(lon_thisrecord)),20])\n",
    "        data2d = np.zeros([len(np.unique(lon_thisrecord)),20])\n",
    "        for i,ilon in enumerate(np.unique(lon_thisrecord)):\n",
    "            this_lon = np.where(lon_thisrecord==ilon)\n",
    "            depth_thislon = depth_thisrecord[this_lon]\n",
    "            # print(depth_thislon)\n",
    "            data_thislon = data_thisrecord[this_lon]\n",
    "            # print(data_thislon)\n",
    "            refine_level = np.flipud(np.linspace(np.min(depth_thislon), np.max(depth_thislon),20))\n",
    "            # print(refine_level)\n",
    "            depth2d[i,:] = refine_level.copy()\n",
    "            data2d[i,:] = np.interp(refine_level,depth_thislon,data_thislon)\n",
    "            lon2d[i,:] = ilon\n",
    "\n",
    "\n",
    "\n",
    "        cntr = ax.contourf(lon2d,-depth2d,data2d,levels=30,cmap='jet')\n",
    "        ax.scatter(np.unique(lon_thisrecord),np.full_like(np.unique(lon_thisrecord),1),color='k')\n",
    "        fig.colorbar(cntr, ax=ax)\n",
    "        ax.set_title('%s line = %s time = \\n%s~%s'%(var,str(int(line_thisrecord)),time_begin,time_end))\n",
    "        ax.invert_yaxis\n",
    "        fig.savefig('/Volumes/TO_1/roms4dvar_ecs/i4dvar_outputs/INSITU_OBS/profile_kodc/%s/%i_%i.jpeg'%(var,int(line_thisrecord),irecord),bbox_inches='tight',dpi=400)\n",
    "        plt.close()"
   ]
  }
 ],
 "metadata": {
  "kernelspec": {
   "display_name": "Python 3 (ipykernel)",
   "language": "python",
   "name": "python3"
  },
  "language_info": {
   "codemirror_mode": {
    "name": "ipython",
    "version": 3
   },
   "file_extension": ".py",
   "mimetype": "text/x-python",
   "name": "python",
   "nbconvert_exporter": "python",
   "pygments_lexer": "ipython3",
   "version": "3.9.13"
  }
 },
 "nbformat": 4,
 "nbformat_minor": 5
}
