{
 "cells": [
  {
   "cell_type": "code",
   "execution_count": 1,
   "id": "c3f9d65c-8342-49e0-b70f-c87e37218560",
   "metadata": {
    "tags": []
   },
   "outputs": [],
   "source": [
    "import datetime\n",
    "import os\n",
    "import re\n",
    "import numpy as np\n",
    "from seabird import fCNV\n",
    "import seapy\n",
    "import cartopy.crs as ccrs\n",
    "import cartopy.feature as cfeature\n",
    "from cartopy.mpl.ticker import LongitudeFormatter, LatitudeFormatter\n",
    "import matplotlib.pyplot as plt\n",
    "import matplotlib.ticker as mticker\n",
    "import matplotlib.colors as colors\n",
    "import scipy.io as sio\n",
    "import cmaps\n",
    "from matplotlib.colors import LinearSegmentedColormap"
   ]
  },
  {
   "cell_type": "code",
   "execution_count": 195,
   "id": "97a69f70-b54e-46ae-86bc-02ad13fb58e7",
   "metadata": {
    "tags": []
   },
   "outputs": [],
   "source": [
    "class insitu_workspace():\n",
    "    def __init__(self,MY_ROOT,worksapce_name, workspace_detail=None):\n",
    "        self.my_root = MY_ROOT\n",
    "        self.workspace_name = worksapce_name\n",
    "        self.workspace_detail = workspace_detail\n",
    "        self.workspace_subdir = os.path.join(self.my_root, self.workspace_name)\n",
    "        print('Workspace: ' + self.workspace_subdir)\n",
    "        self.ctd_files = seapy.list_files(os.path.join(self.workspace_subdir+'/CTD/*acfld.cnv'))\n",
    "        self.ctd_stationinfo = os.path.join(self.workspace_subdir,self.workspace_name+'-station.txt')\n",
    "        self.isempty = True\n",
    "        \n",
    "        \n",
    "    class Data():\n",
    "        def __init__(self):\n",
    "            self.filetype = 'ctd data structure'\n",
    "            \n",
    "            \n",
    "    def pull_downcast(self,ctd_file,VAR):\n",
    "        def lanczos_filter(data,Cf,Nf,M):\n",
    "            coef = sp.signal.firwin(M+1, Cf/Nf,width = 2/len(data),window='lanczos', pass_zero='lowpass')\n",
    "            return sp.signal.filtfilt(coef,1.0,data)\n",
    "\n",
    "        dt = 0.04 #sec\n",
    "        fs = 1/(dt)\n",
    "        Nf = fs/2\n",
    "        Cf = fs/1500\n",
    "        M = 100\n",
    "        print(ctd_file)\n",
    "        profile = fCNV(ctd_file)\n",
    "        time    = profile['timeS'][:]\n",
    "        if VAR == 'PSAL2':\n",
    "            var = profile.data[-6][:]\n",
    "        else:\n",
    "            var     = profile[VAR][:]\n",
    "        pres    = profile['PRES'][:]\n",
    "        depth   = profile['DEPTH'][:]\n",
    "        # smooth the noise further\n",
    "        pres_conv = np.convolve(pres,np.ones(24*6)/24/6,mode='full')[72:-71]\n",
    "        pres_conv = seapy.filt.bandpass(pres_conv,dt,low_cutoff=dt*200,order=8)\n",
    "        diff_pres = np.diff(pres_conv)\n",
    "    #    diff_pres_conv = np.convolve(diff_pres,np.ones(24*6)/24/6,mode='full')[72:-71]\n",
    "        diff_pres_conv = diff_pres.copy()\n",
    "        count_down = 0\n",
    "        count_up = 0\n",
    "        for i in range(1,len(diff_pres_conv)):\n",
    "            # print(diff_pres[i])\n",
    "            # print(diff_pres[i]*diff_pres[i-1])\n",
    "            if (diff_pres_conv[i]*diff_pres_conv[i-1]) < 0 :\n",
    "                if diff_pres_conv[i-1]>0:\n",
    "                    if  not count_down:\n",
    "                        start_down = i\n",
    "                    else:\n",
    "                        start_down = np.r_[start_down, i]\n",
    "                    count_down+=1\n",
    "                else:\n",
    "                    if not count_up :\n",
    "                        start_up = i\n",
    "                    else:\n",
    "                        start_up = np.r_[start_up, i]\n",
    "                    count_up+=1\n",
    "\n",
    "\n",
    "    #        print(start_up)\n",
    "    #        print(start_down)\n",
    "\n",
    "\n",
    "        # print(pres[start_down[1]])\n",
    "        larger = 1\n",
    "        smaller = -1\n",
    "        equal = 0\n",
    "    #    print(len(start_down))\n",
    "    #    print(len(start_up))\n",
    "        if len(start_up) > len(start_down):\n",
    "            end_indx = len(start_down)\n",
    "            status = larger\n",
    "        elif len(start_up) < len(start_down):\n",
    "            end_indx = len(start_up)\n",
    "            status = smaller\n",
    "        else:\n",
    "            status = equal\n",
    "\n",
    "\n",
    "        if start_down[0] < start_up[0]:\n",
    "            if status == equal:\n",
    "                mono_duration = start_up[:-1] - start_down[1:]\n",
    "            elif status == larger:\n",
    "                mono_duration = start_up[:end_indx-1] - start_down[1:]\n",
    "            elif status == smaller:\n",
    "                mono_duration = start_up[:] - start_down[1:]\n",
    "    #        print(mono_duration)\n",
    "            downcast_index = np.argmax(np.abs(mono_duration))\n",
    "    #        print(downcast_index)\n",
    "            if ((pres[start_down[downcast_index+1]] -\n",
    "                      pres[start_up[downcast_index]]) < 5):\n",
    "                mono_duration[downcast_index] = 0\n",
    "                downcast_index = np.argmax(np.abs(mono_duration))\n",
    "            mono_duration[downcast_index] = 0\n",
    "\n",
    "            downcast2_index = np.argmax(np.abs(mono_duration))\n",
    "\n",
    "            if (downcast2_index > downcast_index)\\\n",
    "                and ((pres[start_down[downcast2_index+1]] - \n",
    "                      pres[start_up[downcast2_index]]) > 5):\n",
    "                time_downcast = np.r_[\n",
    "                                      time[start_up[downcast_index]:start_down[downcast_index+1]],\n",
    "                                      time[start_up[downcast2_index]:start_down[downcast2_index+1]]\n",
    "\n",
    "                                      ]\n",
    "                pres_downcast = np.r_[\n",
    "                                      pres[start_up[downcast_index]:start_down[downcast_index+1]],\n",
    "                                      pres[start_up[downcast2_index]:start_down[downcast2_index+1]]\n",
    "                                      ]\n",
    "                depth_downcast = np.r_[\n",
    "                                      depth[start_up[downcast_index]:start_down[downcast_index+1]],\n",
    "                                      depth[start_up[downcast2_index]:start_down[downcast2_index+1]]\n",
    "                                      ]\n",
    "                var_downcast = np.r_[\n",
    "                                       var[start_up[downcast_index]:start_down[downcast_index+1]],\n",
    "                                       var[start_up[downcast2_index]:start_down[downcast2_index+1]]\n",
    "                                    ]\n",
    "            elif (downcast2_index < downcast_index)\\\n",
    "                and (((pres[start_down[downcast2_index+1]] - \n",
    "                      pres[start_up[downcast2_index]]) > np.max(pres) *0.4) \\\n",
    "                    and ((time[start_up[downcast_index]] -\n",
    "                      time[start_down[downcast2_index+1]]) <np.max(time)*0.1))\\\n",
    "                    or (((pres[start_down[downcast2_index+1]] - \n",
    "                      pres[start_up[downcast2_index]]) > np.max(pres) *0.2) \\\n",
    "                    and ((time[start_up[downcast_index]] -\n",
    "                      time[start_down[downcast2_index+1]]) <np.max(time)*0.05)):\n",
    "                time_downcast = np.r_[\n",
    "                                      time[start_up[downcast2_index]:start_down[downcast2_index+1]],\n",
    "                                      time[start_up[downcast_index]:start_down[downcast_index+1]]\n",
    "\n",
    "                                      ]\n",
    "                pres_downcast = np.r_[\n",
    "                                      pres[start_up[downcast2_index]:start_down[downcast2_index+1]],\n",
    "                                      pres[start_up[downcast_index]:start_down[downcast_index+1]]\n",
    "                                      ]\n",
    "                depth_downcast = np.r_[\n",
    "                                      depth[start_up[downcast2_index]:start_down[downcast2_index+1]],\n",
    "                                      depth[start_up[downcast_index]:start_down[downcast_index+1]]\n",
    "                                      ]\n",
    "                var_downcast = np.r_[\n",
    "                                       var[start_up[downcast2_index]:start_down[downcast2_index+1]],\n",
    "                                       var[start_up[downcast_index]:start_down[downcast_index+1]]\n",
    "                                    ]\n",
    "            else:\n",
    "\n",
    "                time_downcast = time[start_up[downcast_index]:start_down[downcast_index+1]]\n",
    "                pres_downcast = pres[start_up[downcast_index]:start_down[downcast_index+1]]\n",
    "                depth_downcast = depth[start_up[downcast_index]:start_down[downcast_index+1]]\n",
    "                var_downcast = var[start_up[downcast_index]:start_down[downcast_index+1]]\n",
    "                \n",
    "            \n",
    "\n",
    "\n",
    "\n",
    "        else:\n",
    "            if status == equal:\n",
    "                mono_duration = start_up - start_down\n",
    "            elif status == larger:\n",
    "                mono_duration = start_up[:end_indx] - start_down\n",
    "            elif status == smaller:\n",
    "                mono_duration = start_up[:] - start_down[:end_indx]\n",
    "\n",
    "    #        print(mono_duration)\n",
    "            downcast_index = np.argmax(np.abs(mono_duration))\n",
    "    #        print(downcast_index)\n",
    "            if ((pres[start_down[downcast_index]] -\n",
    "                      pres[start_up[downcast_index]]) < 5):\n",
    "                mono_duration[downcast_index] = 0\n",
    "                downcast_index = np.argmax(np.abs(mono_duration))\n",
    "            mono_duration[downcast_index] = 0\n",
    "            downcast2_index = np.argmax(np.abs(mono_duration))\n",
    "            if (downcast2_index > downcast_index)\\\n",
    "                and ((pres[start_down[downcast2_index]] - \n",
    "                      pres[start_up[downcast2_index]]) > 5):\n",
    "                time_downcast = np.r_[\n",
    "                                      time[start_up[downcast_index]:start_down[downcast_index]],\n",
    "                                      time[start_up[downcast2_index]:start_down[downcast2_index]]\n",
    "\n",
    "                                      ]\n",
    "                pres_downcast = np.r_[\n",
    "                                      pres[start_up[downcast_index]:start_down[downcast_index]],\n",
    "                                      pres[start_up[downcast2_index]:start_down[downcast2_index]]\n",
    "                                      ]\n",
    "                depth_downcast = np.r_[\n",
    "                                      depth[start_up[downcast_index]:start_down[downcast_index]],\n",
    "                                      depth[start_up[downcast2_index]:start_down[downcast2_index]]\n",
    "                                      ]\n",
    "                \n",
    "                var_downcast = np.r_[\n",
    "                                       var[start_up[downcast_index]:start_down[downcast_index]],\n",
    "                                       var[start_up[downcast2_index]:start_down[downcast2_index]]\n",
    "                                    ]\n",
    "            elif (downcast2_index < downcast_index)\\\n",
    "                and (((pres[start_down[downcast2_index]] - \n",
    "                      pres[start_up[downcast2_index]]) > np.max(pres)*0.4) \\\n",
    "                    and ((time[start_up[downcast_index]] -\n",
    "                      time[start_down[downcast2_index]]) <np.max(time)*0.1))\\\n",
    "                  or (((pres[start_down[downcast2_index]] - \n",
    "                      pres[start_up[downcast2_index]]) > np.max(pres)*0.2) \\\n",
    "                    and ((time[start_up[downcast_index]] -\n",
    "                      time[start_down[downcast2_index]]) <np.max(time)*0.05)) :\n",
    "                time_downcast = np.r_[\n",
    "                                      time[start_up[downcast2_index]:start_down[downcast2_index]],\n",
    "                                      time[start_up[downcast_index]:start_down[downcast_index]]\n",
    "\n",
    "                                      ]\n",
    "                pres_downcast = np.r_[\n",
    "                                      pres[start_up[downcast2_index]:start_down[downcast2_index]],\n",
    "                                      pres[start_up[downcast_index]:start_down[downcast_index]]\n",
    "                                      ]\n",
    "                depth_downcast = np.r_[\n",
    "                                      depth[start_up[downcast2_index]:start_down[downcast2_index]],\n",
    "                                      depth[start_up[downcast_index]:start_down[downcast_index]]\n",
    "                                      ]\n",
    "                var_downcast = np.r_[\n",
    "                                       var[start_up[downcast2_index]:start_down[downcast2_index]],\n",
    "                                       var[start_up[downcast_index]:start_down[downcast_index]]\n",
    "                                    ]\n",
    "            else:\n",
    "\n",
    "                time_downcast = time[start_up[downcast_index]:start_down[downcast_index]]\n",
    "                pres_downcast = pres[start_up[downcast_index]:start_down[downcast_index]]\n",
    "                depth_downcast = depth[start_up[downcast_index]:start_down[downcast_index]]\n",
    "                var_downcast = var[start_up[downcast_index]:start_down[downcast_index]]\n",
    "            \n",
    "            \n",
    "        return time_downcast.data, pres_downcast.data, depth_downcast.data, var_downcast.data\n",
    "\n",
    "    def pull_ctdinfos(self):\n",
    "        self.ctd_infos = {}\n",
    "        ctdid = open(self.ctd_stationinfo)\n",
    "        info = ctdid.readline().split()\n",
    "        cid = 0\n",
    "        while info:\n",
    "            self.ctd_infos[info[1]]={}\n",
    "            self.ctd_infos[info[1]]['TIME'] = (datetime.datetime.strptime(info[2],'%Y%m%d%H%M') - \n",
    "                                              datetime.datetime(1970,1,1)).total_seconds()/3600/24\n",
    "            self.ctd_infos[info[1]]['LONGITUDE']=info[3]\n",
    "            self.ctd_infos[info[1]]['LATITUDE']=info[4]\n",
    "            self.ctd_infos[info[1]]['DEPTH'] = info[5]\n",
    "            self.ctd_infos[info[1]]['CTDID'] = cid\n",
    "            cid +=1\n",
    "            info = ctdid.readline().split()\n",
    "        ctdid.close()\n",
    "        \n",
    "    def pull_alldata(self,VARS):\n",
    "        if self.isempty:\n",
    "            self.data = {}\n",
    "            self.isempty = False\n",
    "        for iv, var in enumerate(VARS):\n",
    "            self.data[var] = self.Data()\n",
    "            for ic, ctd_file in enumerate(self.ctd_files):\n",
    "                # print(ctd_file)\n",
    "                ctdid = re.findall(r\"%s/CTD/(.*)acfld.cnv\"%(self.workspace_subdir),ctd_file)[0]\n",
    "                print(ctdid)\n",
    "                if ic == 0:\n",
    "                    _, self.data[var].pres, self.data[var].depth, self.data[var].value = self.pull_downcast(ctd_file,var)\n",
    "                    self.data[var].station = np.tile(self.ctd_infos[ctdid]['CTDID'],[len(self.data[var].value),]).ravel()\n",
    "                    self.data[var].time = np.tile(float(self.ctd_infos[ctdid]['TIME']),[len(self.data[var].value),]).ravel()\n",
    "                    self.data[var].lon = np.tile(float(self.ctd_infos[ctdid]['LONGITUDE']),[len(self.data[var].value),]).ravel()\n",
    "                    self.data[var].lat = np.tile(float(self.ctd_infos[ctdid]['LATITUDE']),[len(self.data[var].value),]).ravel()\n",
    "                    \n",
    "                else:\n",
    "                    _, thispres, thisdepth, thisvalue = self.pull_downcast(ctd_file,var)\n",
    "                    thisstation = np.tile(self.ctd_infos[ctdid]['CTDID'],[len(thisvalue),]).ravel()\n",
    "                    thistime = np.tile(float(self.ctd_infos[ctdid]['TIME']),[len(thisvalue),]).ravel()\n",
    "                    thislon = np.tile(float(self.ctd_infos[ctdid]['LONGITUDE']),[len(thisvalue),]).ravel()\n",
    "                    thislat = np.tile(float(self.ctd_infos[ctdid]['LATITUDE']),[len(thisvalue),]).ravel()\n",
    "                    self.data[var].station  = np.r_[self.data[var].station ,thisstation]\n",
    "                    self.data[var].time  = np.r_[self.data[var].time ,thistime]\n",
    "                    self.data[var].pres  = np.r_[self.data[var].pres ,thispres]\n",
    "                    self.data[var].depth = np.r_[self.data[var].depth,thisdepth]\n",
    "                    self.data[var].value = np.r_[self.data[var].value,thisvalue]\n",
    "                    self.data[var].lon   = np.r_[self.data[var].lon,thislon]\n",
    "                    self.data[var].lat   = np.r_[self.data[var].lat,thislat]\n",
    "                    \n",
    "    \n",
    "            \n",
    "                    \n",
    "                    \n",
    "                   \n",
    "                \n",
    "                \n",
    "            \n",
    "        "
   ]
  },
  {
   "cell_type": "code",
   "execution_count": 33,
   "id": "cb1d0ea6-8f3a-4487-85a8-30ef37cd9803",
   "metadata": {
    "tags": []
   },
   "outputs": [
    {
     "data": {
      "text/plain": [
       "15651.502083333333"
      ]
     },
     "execution_count": 33,
     "metadata": {},
     "output_type": "execute_result"
    }
   ],
   "source": []
  },
  {
   "cell_type": "code",
   "execution_count": 196,
   "id": "e579febc-3246-4dfb-bd62-3faf777911c5",
   "metadata": {
    "tags": []
   },
   "outputs": [
    {
     "name": "stdout",
     "output_type": "stream",
     "text": [
      "Workspace: /Volumes/TO_1/roms4dvar_ecs/i4dvar_outputs/INSITU_OBS/NSFC2012SPRING-YS\n"
     ]
    }
   ],
   "source": [
    "test =insitu_workspace('/Volumes/TO_1/roms4dvar_ecs/i4dvar_outputs/INSITU_OBS','NSFC2012SPRING-YS','NSFC2012SPRING-YS')"
   ]
  },
  {
   "cell_type": "code",
   "execution_count": 197,
   "id": "df2aa198-64ce-4866-b296-aee3e754219d",
   "metadata": {
    "tags": []
   },
   "outputs": [],
   "source": [
    "test.pull_ctdinfos()"
   ]
  },
  {
   "cell_type": "code",
   "execution_count": 198,
   "id": "48ba294f-3631-4bf0-b3aa-55f9fbdefe41",
   "metadata": {
    "collapsed": true,
    "jupyter": {
     "outputs_hidden": true
    },
    "tags": []
   },
   "outputs": [
    {
     "name": "stdout",
     "output_type": "stream",
     "text": [
      "/Volumes/TO_1/roms4dvar_ecs/i4dvar_outputs/INSITU_OBS/NSFC2012SPRING-YS/CTD/E01acfld.cnv\n",
      "E01\n",
      "/Volumes/TO_1/roms4dvar_ecs/i4dvar_outputs/INSITU_OBS/NSFC2012SPRING-YS/CTD/E01acfld.cnv\n",
      "/Volumes/TO_1/roms4dvar_ecs/i4dvar_outputs/INSITU_OBS/NSFC2012SPRING-YS/CTD/E02acfld.cnv\n",
      "E02\n",
      "/Volumes/TO_1/roms4dvar_ecs/i4dvar_outputs/INSITU_OBS/NSFC2012SPRING-YS/CTD/E02acfld.cnv\n",
      "/Volumes/TO_1/roms4dvar_ecs/i4dvar_outputs/INSITU_OBS/NSFC2012SPRING-YS/CTD/E03acfld.cnv\n",
      "E03\n",
      "/Volumes/TO_1/roms4dvar_ecs/i4dvar_outputs/INSITU_OBS/NSFC2012SPRING-YS/CTD/E03acfld.cnv\n",
      "/Volumes/TO_1/roms4dvar_ecs/i4dvar_outputs/INSITU_OBS/NSFC2012SPRING-YS/CTD/E04acfld.cnv\n",
      "E04\n",
      "/Volumes/TO_1/roms4dvar_ecs/i4dvar_outputs/INSITU_OBS/NSFC2012SPRING-YS/CTD/E04acfld.cnv\n",
      "/Volumes/TO_1/roms4dvar_ecs/i4dvar_outputs/INSITU_OBS/NSFC2012SPRING-YS/CTD/E05acfld.cnv\n",
      "E05\n",
      "/Volumes/TO_1/roms4dvar_ecs/i4dvar_outputs/INSITU_OBS/NSFC2012SPRING-YS/CTD/E05acfld.cnv\n",
      "/Volumes/TO_1/roms4dvar_ecs/i4dvar_outputs/INSITU_OBS/NSFC2012SPRING-YS/CTD/H01acfld.cnv\n",
      "H01\n",
      "/Volumes/TO_1/roms4dvar_ecs/i4dvar_outputs/INSITU_OBS/NSFC2012SPRING-YS/CTD/H01acfld.cnv\n",
      "/Volumes/TO_1/roms4dvar_ecs/i4dvar_outputs/INSITU_OBS/NSFC2012SPRING-YS/CTD/H02acfld.cnv\n",
      "H02\n",
      "/Volumes/TO_1/roms4dvar_ecs/i4dvar_outputs/INSITU_OBS/NSFC2012SPRING-YS/CTD/H02acfld.cnv\n",
      "/Volumes/TO_1/roms4dvar_ecs/i4dvar_outputs/INSITU_OBS/NSFC2012SPRING-YS/CTD/H03acfld.cnv\n",
      "H03\n",
      "/Volumes/TO_1/roms4dvar_ecs/i4dvar_outputs/INSITU_OBS/NSFC2012SPRING-YS/CTD/H03acfld.cnv\n",
      "/Volumes/TO_1/roms4dvar_ecs/i4dvar_outputs/INSITU_OBS/NSFC2012SPRING-YS/CTD/H04acfld.cnv\n",
      "H04\n",
      "/Volumes/TO_1/roms4dvar_ecs/i4dvar_outputs/INSITU_OBS/NSFC2012SPRING-YS/CTD/H04acfld.cnv\n",
      "/Volumes/TO_1/roms4dvar_ecs/i4dvar_outputs/INSITU_OBS/NSFC2012SPRING-YS/CTD/H05acfld.cnv\n",
      "H05\n",
      "/Volumes/TO_1/roms4dvar_ecs/i4dvar_outputs/INSITU_OBS/NSFC2012SPRING-YS/CTD/H05acfld.cnv\n",
      "/Volumes/TO_1/roms4dvar_ecs/i4dvar_outputs/INSITU_OBS/NSFC2012SPRING-YS/CTD/H06acfld.cnv\n",
      "H06\n",
      "/Volumes/TO_1/roms4dvar_ecs/i4dvar_outputs/INSITU_OBS/NSFC2012SPRING-YS/CTD/H06acfld.cnv\n",
      "/Volumes/TO_1/roms4dvar_ecs/i4dvar_outputs/INSITU_OBS/NSFC2012SPRING-YS/CTD/H07acfld.cnv\n",
      "H07\n",
      "/Volumes/TO_1/roms4dvar_ecs/i4dvar_outputs/INSITU_OBS/NSFC2012SPRING-YS/CTD/H07acfld.cnv\n",
      "/Volumes/TO_1/roms4dvar_ecs/i4dvar_outputs/INSITU_OBS/NSFC2012SPRING-YS/CTD/H08acfld.cnv\n",
      "H08\n",
      "/Volumes/TO_1/roms4dvar_ecs/i4dvar_outputs/INSITU_OBS/NSFC2012SPRING-YS/CTD/H08acfld.cnv\n",
      "/Volumes/TO_1/roms4dvar_ecs/i4dvar_outputs/INSITU_OBS/NSFC2012SPRING-YS/CTD/H09acfld.cnv\n",
      "H09\n",
      "/Volumes/TO_1/roms4dvar_ecs/i4dvar_outputs/INSITU_OBS/NSFC2012SPRING-YS/CTD/H09acfld.cnv\n",
      "/Volumes/TO_1/roms4dvar_ecs/i4dvar_outputs/INSITU_OBS/NSFC2012SPRING-YS/CTD/H10acfld.cnv\n",
      "H10\n",
      "/Volumes/TO_1/roms4dvar_ecs/i4dvar_outputs/INSITU_OBS/NSFC2012SPRING-YS/CTD/H10acfld.cnv\n",
      "/Volumes/TO_1/roms4dvar_ecs/i4dvar_outputs/INSITU_OBS/NSFC2012SPRING-YS/CTD/H11acfld.cnv\n",
      "H11\n",
      "/Volumes/TO_1/roms4dvar_ecs/i4dvar_outputs/INSITU_OBS/NSFC2012SPRING-YS/CTD/H11acfld.cnv\n",
      "/Volumes/TO_1/roms4dvar_ecs/i4dvar_outputs/INSITU_OBS/NSFC2012SPRING-YS/CTD/H12acfld.cnv\n",
      "H12\n",
      "/Volumes/TO_1/roms4dvar_ecs/i4dvar_outputs/INSITU_OBS/NSFC2012SPRING-YS/CTD/H12acfld.cnv\n",
      "/Volumes/TO_1/roms4dvar_ecs/i4dvar_outputs/INSITU_OBS/NSFC2012SPRING-YS/CTD/H13acfld.cnv\n",
      "H13\n",
      "/Volumes/TO_1/roms4dvar_ecs/i4dvar_outputs/INSITU_OBS/NSFC2012SPRING-YS/CTD/H13acfld.cnv\n",
      "/Volumes/TO_1/roms4dvar_ecs/i4dvar_outputs/INSITU_OBS/NSFC2012SPRING-YS/CTD/H14acfld.cnv\n",
      "H14\n",
      "/Volumes/TO_1/roms4dvar_ecs/i4dvar_outputs/INSITU_OBS/NSFC2012SPRING-YS/CTD/H14acfld.cnv\n",
      "/Volumes/TO_1/roms4dvar_ecs/i4dvar_outputs/INSITU_OBS/NSFC2012SPRING-YS/CTD/H15acfld.cnv\n",
      "H15\n",
      "/Volumes/TO_1/roms4dvar_ecs/i4dvar_outputs/INSITU_OBS/NSFC2012SPRING-YS/CTD/H15acfld.cnv\n",
      "/Volumes/TO_1/roms4dvar_ecs/i4dvar_outputs/INSITU_OBS/NSFC2012SPRING-YS/CTD/H16acfld.cnv\n",
      "H16\n",
      "/Volumes/TO_1/roms4dvar_ecs/i4dvar_outputs/INSITU_OBS/NSFC2012SPRING-YS/CTD/H16acfld.cnv\n",
      "/Volumes/TO_1/roms4dvar_ecs/i4dvar_outputs/INSITU_OBS/NSFC2012SPRING-YS/CTD/H17acfld.cnv\n",
      "H17\n",
      "/Volumes/TO_1/roms4dvar_ecs/i4dvar_outputs/INSITU_OBS/NSFC2012SPRING-YS/CTD/H17acfld.cnv\n",
      "/Volumes/TO_1/roms4dvar_ecs/i4dvar_outputs/INSITU_OBS/NSFC2012SPRING-YS/CTD/H18acfld.cnv\n",
      "H18\n",
      "/Volumes/TO_1/roms4dvar_ecs/i4dvar_outputs/INSITU_OBS/NSFC2012SPRING-YS/CTD/H18acfld.cnv\n",
      "/Volumes/TO_1/roms4dvar_ecs/i4dvar_outputs/INSITU_OBS/NSFC2012SPRING-YS/CTD/H19acfld.cnv\n",
      "H19\n",
      "/Volumes/TO_1/roms4dvar_ecs/i4dvar_outputs/INSITU_OBS/NSFC2012SPRING-YS/CTD/H19acfld.cnv\n",
      "/Volumes/TO_1/roms4dvar_ecs/i4dvar_outputs/INSITU_OBS/NSFC2012SPRING-YS/CTD/H25acfld.cnv\n",
      "H25\n",
      "/Volumes/TO_1/roms4dvar_ecs/i4dvar_outputs/INSITU_OBS/NSFC2012SPRING-YS/CTD/H25acfld.cnv\n",
      "/Volumes/TO_1/roms4dvar_ecs/i4dvar_outputs/INSITU_OBS/NSFC2012SPRING-YS/CTD/H26acfld.cnv\n",
      "H26\n",
      "/Volumes/TO_1/roms4dvar_ecs/i4dvar_outputs/INSITU_OBS/NSFC2012SPRING-YS/CTD/H26acfld.cnv\n",
      "/Volumes/TO_1/roms4dvar_ecs/i4dvar_outputs/INSITU_OBS/NSFC2012SPRING-YS/CTD/H27acfld.cnv\n",
      "H27\n",
      "/Volumes/TO_1/roms4dvar_ecs/i4dvar_outputs/INSITU_OBS/NSFC2012SPRING-YS/CTD/H27acfld.cnv\n",
      "/Volumes/TO_1/roms4dvar_ecs/i4dvar_outputs/INSITU_OBS/NSFC2012SPRING-YS/CTD/H28acfld.cnv\n",
      "H28\n",
      "/Volumes/TO_1/roms4dvar_ecs/i4dvar_outputs/INSITU_OBS/NSFC2012SPRING-YS/CTD/H28acfld.cnv\n",
      "/Volumes/TO_1/roms4dvar_ecs/i4dvar_outputs/INSITU_OBS/NSFC2012SPRING-YS/CTD/H29acfld.cnv\n",
      "H29\n",
      "/Volumes/TO_1/roms4dvar_ecs/i4dvar_outputs/INSITU_OBS/NSFC2012SPRING-YS/CTD/H29acfld.cnv\n",
      "/Volumes/TO_1/roms4dvar_ecs/i4dvar_outputs/INSITU_OBS/NSFC2012SPRING-YS/CTD/H30acfld.cnv\n",
      "H30\n",
      "/Volumes/TO_1/roms4dvar_ecs/i4dvar_outputs/INSITU_OBS/NSFC2012SPRING-YS/CTD/H30acfld.cnv\n",
      "/Volumes/TO_1/roms4dvar_ecs/i4dvar_outputs/INSITU_OBS/NSFC2012SPRING-YS/CTD/H31acfld.cnv\n",
      "H31\n",
      "/Volumes/TO_1/roms4dvar_ecs/i4dvar_outputs/INSITU_OBS/NSFC2012SPRING-YS/CTD/H31acfld.cnv\n",
      "/Volumes/TO_1/roms4dvar_ecs/i4dvar_outputs/INSITU_OBS/NSFC2012SPRING-YS/CTD/H32acfld.cnv\n",
      "H32\n",
      "/Volumes/TO_1/roms4dvar_ecs/i4dvar_outputs/INSITU_OBS/NSFC2012SPRING-YS/CTD/H32acfld.cnv\n",
      "/Volumes/TO_1/roms4dvar_ecs/i4dvar_outputs/INSITU_OBS/NSFC2012SPRING-YS/CTD/H33acfld.cnv\n",
      "H33\n",
      "/Volumes/TO_1/roms4dvar_ecs/i4dvar_outputs/INSITU_OBS/NSFC2012SPRING-YS/CTD/H33acfld.cnv\n",
      "/Volumes/TO_1/roms4dvar_ecs/i4dvar_outputs/INSITU_OBS/NSFC2012SPRING-YS/CTD/H34acfld.cnv\n",
      "H34\n",
      "/Volumes/TO_1/roms4dvar_ecs/i4dvar_outputs/INSITU_OBS/NSFC2012SPRING-YS/CTD/H34acfld.cnv\n",
      "/Volumes/TO_1/roms4dvar_ecs/i4dvar_outputs/INSITU_OBS/NSFC2012SPRING-YS/CTD/H35acfld.cnv\n",
      "H35\n",
      "/Volumes/TO_1/roms4dvar_ecs/i4dvar_outputs/INSITU_OBS/NSFC2012SPRING-YS/CTD/H35acfld.cnv\n",
      "/Volumes/TO_1/roms4dvar_ecs/i4dvar_outputs/INSITU_OBS/NSFC2012SPRING-YS/CTD/H36acfld.cnv\n",
      "H36\n",
      "/Volumes/TO_1/roms4dvar_ecs/i4dvar_outputs/INSITU_OBS/NSFC2012SPRING-YS/CTD/H36acfld.cnv\n",
      "/Volumes/TO_1/roms4dvar_ecs/i4dvar_outputs/INSITU_OBS/NSFC2012SPRING-YS/CTD/H37acfld.cnv\n",
      "H37\n",
      "/Volumes/TO_1/roms4dvar_ecs/i4dvar_outputs/INSITU_OBS/NSFC2012SPRING-YS/CTD/H37acfld.cnv\n",
      "/Volumes/TO_1/roms4dvar_ecs/i4dvar_outputs/INSITU_OBS/NSFC2012SPRING-YS/CTD/H38acfld.cnv\n",
      "H38\n",
      "/Volumes/TO_1/roms4dvar_ecs/i4dvar_outputs/INSITU_OBS/NSFC2012SPRING-YS/CTD/H38acfld.cnv\n",
      "/Volumes/TO_1/roms4dvar_ecs/i4dvar_outputs/INSITU_OBS/NSFC2012SPRING-YS/CTD/H39acfld.cnv\n",
      "H39\n",
      "/Volumes/TO_1/roms4dvar_ecs/i4dvar_outputs/INSITU_OBS/NSFC2012SPRING-YS/CTD/H39acfld.cnv\n",
      "/Volumes/TO_1/roms4dvar_ecs/i4dvar_outputs/INSITU_OBS/NSFC2012SPRING-YS/CTD/H40acfld.cnv\n",
      "H40\n",
      "/Volumes/TO_1/roms4dvar_ecs/i4dvar_outputs/INSITU_OBS/NSFC2012SPRING-YS/CTD/H40acfld.cnv\n",
      "/Volumes/TO_1/roms4dvar_ecs/i4dvar_outputs/INSITU_OBS/NSFC2012SPRING-YS/CTD/H41acfld.cnv\n",
      "H41\n",
      "/Volumes/TO_1/roms4dvar_ecs/i4dvar_outputs/INSITU_OBS/NSFC2012SPRING-YS/CTD/H41acfld.cnv\n",
      "/Volumes/TO_1/roms4dvar_ecs/i4dvar_outputs/INSITU_OBS/NSFC2012SPRING-YS/CTD/H42acfld.cnv\n",
      "H42\n",
      "/Volumes/TO_1/roms4dvar_ecs/i4dvar_outputs/INSITU_OBS/NSFC2012SPRING-YS/CTD/H42acfld.cnv\n",
      "/Volumes/TO_1/roms4dvar_ecs/i4dvar_outputs/INSITU_OBS/NSFC2012SPRING-YS/CTD/H43acfld.cnv\n",
      "H43\n",
      "/Volumes/TO_1/roms4dvar_ecs/i4dvar_outputs/INSITU_OBS/NSFC2012SPRING-YS/CTD/H43acfld.cnv\n",
      "/Volumes/TO_1/roms4dvar_ecs/i4dvar_outputs/INSITU_OBS/NSFC2012SPRING-YS/CTD/H44acfld.cnv\n",
      "H44\n",
      "/Volumes/TO_1/roms4dvar_ecs/i4dvar_outputs/INSITU_OBS/NSFC2012SPRING-YS/CTD/H44acfld.cnv\n",
      "/Volumes/TO_1/roms4dvar_ecs/i4dvar_outputs/INSITU_OBS/NSFC2012SPRING-YS/CTD/HF1acfld.cnv\n",
      "HF1\n",
      "/Volumes/TO_1/roms4dvar_ecs/i4dvar_outputs/INSITU_OBS/NSFC2012SPRING-YS/CTD/HF1acfld.cnv\n",
      "/Volumes/TO_1/roms4dvar_ecs/i4dvar_outputs/INSITU_OBS/NSFC2012SPRING-YS/CTD/HF2acfld.cnv\n",
      "HF2\n",
      "/Volumes/TO_1/roms4dvar_ecs/i4dvar_outputs/INSITU_OBS/NSFC2012SPRING-YS/CTD/HF2acfld.cnv\n",
      "/Volumes/TO_1/roms4dvar_ecs/i4dvar_outputs/INSITU_OBS/NSFC2012SPRING-YS/CTD/HF3acfld.cnv\n",
      "HF3\n",
      "/Volumes/TO_1/roms4dvar_ecs/i4dvar_outputs/INSITU_OBS/NSFC2012SPRING-YS/CTD/HF3acfld.cnv\n"
     ]
    }
   ],
   "source": [
    "# must pull_ctdinfos before pull_alldata\n",
    "test.pull_alldata(VARS=['TEMP',])"
   ]
  },
  {
   "cell_type": "code",
   "execution_count": 98,
   "id": "4aee6aa3-566d-4f31-a015-f873f4589415",
   "metadata": {
    "tags": []
   },
   "outputs": [
    {
     "data": {
      "text/plain": [
       "{'DPSAL2': <__main__.insitu_workspace.Data at 0x7f9899b49580>,\n",
       " 'PSAL2': <__main__.insitu_workspace.Data at 0x7f95d12c3dc0>,\n",
       " 'TEMP': <__main__.insitu_workspace.Data at 0x7f959b692ac0>}"
      ]
     },
     "execution_count": 98,
     "metadata": {},
     "output_type": "execute_result"
    }
   ],
   "source": [
    "test.data"
   ]
  },
  {
   "cell_type": "code",
   "execution_count": 206,
   "id": "bf8e5dbb-77b2-44b9-8723-540015b683e0",
   "metadata": {
    "tags": []
   },
   "outputs": [
    {
     "data": {
      "text/plain": [
       "array([0, 1, 2, 3, 4])"
      ]
     },
     "execution_count": 206,
     "metadata": {},
     "output_type": "execute_result"
    }
   ],
   "source": [
    "np.unique(test.data['TEMP'].station[station_position])"
   ]
  },
  {
   "cell_type": "code",
   "execution_count": 205,
   "id": "15c2a906-658c-47d1-81ee-bf08de2d3d8b",
   "metadata": {
    "tags": []
   },
   "outputs": [
    {
     "data": {
      "text/plain": [
       "[<matplotlib.lines.Line2D at 0x7f989c2684c0>]"
      ]
     },
     "execution_count": 205,
     "metadata": {},
     "output_type": "execute_result"
    },
    {
     "data": {
      "image/png": "[encoded data removed]",
      "text/plain": [
       "<Figure size 640x480 with 1 Axes>"
      ]
     },
     "metadata": {},
     "output_type": "display_data"
    }
   ],
   "source": [
    "plt.plot(test.data['TEMP'].station[0:20000])"
   ]
  },
  {
   "cell_type": "code",
   "execution_count": 204,
   "id": "7a5f3784-2cba-43ed-8386-1784272d76a0",
   "metadata": {
    "tags": []
   },
   "outputs": [
    {
     "name": "stdout",
     "output_type": "stream",
     "text": [
      "E01\n",
      "0\n",
      "[   0    1    2 ... 1231 1232 1233]\n",
      "E02\n",
      "1\n",
      "[1234 1235 1236 ... 3438 3439 3440]\n",
      "E03\n",
      "2\n",
      "[3441 3442 3443 ... 6655 6656 6657]\n",
      "E04\n",
      "3\n",
      "[6658 6659 6660 ... 8901 8902 8903]\n",
      "E05\n",
      "4\n",
      "[ 8904  8905  8906 ... 10533 10534 10535]\n"
     ]
    },
    {
     "data": {
      "image/png": "[encoded data removed]",
      "text/plain": [
       "<Figure size 640x480 with 1 Axes>"
      ]
     },
     "metadata": {},
     "output_type": "display_data"
    }
   ],
   "source": [
    "#temp profile\n",
    "import matplotlib.tri as tri\n",
    "VAR='TEMP'\n",
    "stations = ['E01','E02','E03','E04','E05']\n",
    "fig, ax = plt.subplots()\n",
    "i = 0\n",
    "for istation in stations:\n",
    "    print(istation)\n",
    "    print(test.ctd_infos[istation]['CTDID'])\n",
    "    current_position = np.where(test.data[VAR].station == test.ctd_infos[istation]['CTDID'])[0]\n",
    "    print(current_position)\n",
    "    if i == 0:\n",
    "        station_position = current_position.copy()\n",
    "        \n",
    "    else:\n",
    "        station_position = np.r_[station_position,current_position]\n",
    "        \n",
    "    i+=1\n",
    "    \n",
    "lon_station = test.data[VAR].lon[station_position]\n",
    "lat_station = test.data[VAR].lat[station_position]\n",
    "depth_station = test.data[VAR].depth[station_position]\n",
    "data_station = test.data[VAR].value[station_position]\n",
    "ax.tricontour(lon_station,depth_station,data_station,levels=20)\n",
    "ax.scatter(np.unique(lon_station),np.zeros_like(np.unique(lon_station)))\n",
    "ax.invert_yaxis()\n",
    "    "
   ]
  },
  {
   "cell_type": "code",
   "execution_count": 87,
   "id": "dbdc8762-e99d-42c2-9cbc-a58529902dc4",
   "metadata": {
    "tags": []
   },
   "outputs": [],
   "source": [
    "position = np.where(test.data['TEMP'].time==test.data['TEMP'].time[1])"
   ]
  },
  {
   "cell_type": "code",
   "execution_count": 91,
   "id": "35f58ab1-5508-4f73-bac0-4f0afc478638",
   "metadata": {
    "tags": []
   },
   "outputs": [
    {
     "data": {
      "text/plain": [
       "array([ 1.6733532 ,  1.65547769,  1.64058143, ..., 14.99712619,\n",
       "       14.98719599, 14.9772658 ])"
      ]
     },
     "execution_count": 91,
     "metadata": {},
     "output_type": "execute_result"
    }
   ],
   "source": [
    "seapy.seawater.depth(test.data['TEMP'].pres[position],test.data['TEMP'].lat[position])"
   ]
  },
  {
   "cell_type": "code",
   "execution_count": 92,
   "id": "ad8eb316-494a-4ff8-8b78-e53bf710e10c",
   "metadata": {
    "tags": []
   },
   "outputs": [
    {
     "data": {
      "text/plain": [
       "array([ 1.673,  1.655,  1.641, ..., 14.997, 14.987, 14.977])"
      ]
     },
     "execution_count": 92,
     "metadata": {},
     "output_type": "execute_result"
    }
   ],
   "source": [
    "test.data['TEMP'].depth[position]"
   ]
  },
  {
   "cell_type": "code",
   "execution_count": 88,
   "id": "e25ea663-823e-4d0d-b4fe-8a3868abe9d7",
   "metadata": {
    "tags": []
   },
   "outputs": [
    {
     "data": {
      "text/plain": [
       "(array([   0,    1,    2, ..., 1231, 1232, 1233]),)"
      ]
     },
     "execution_count": 88,
     "metadata": {},
     "output_type": "execute_result"
    }
   ],
   "source": [
    "position"
   ]
  },
  {
   "cell_type": "code",
   "execution_count": 170,
   "id": "27c5d3f8-e0b7-4535-b192-2a0b521ac623",
   "metadata": {
    "tags": []
   },
   "outputs": [
    {
     "data": {
      "text/plain": [
       "{'E01': {'TIME': 15462.325694444444,\n",
       "  'LONGITUDE': '122.4246',\n",
       "  'LATITUDE': '31.2741',\n",
       "  'DEPTH': '15.2400',\n",
       "  'CTDID': 0},\n",
       " 'E02': {'TIME': 15462.529861111112,\n",
       "  'LONGITUDE': '123.0984',\n",
       "  'LATITUDE': '31.2746',\n",
       "  'DEPTH': '54.2400',\n",
       "  'CTDID': 1},\n",
       " 'E03': {'TIME': 15462.758333333333,\n",
       "  'LONGITUDE': '123.9099',\n",
       "  'LATITUDE': '31.2771',\n",
       "  'DEPTH': '50.7500',\n",
       "  'CTDID': 2},\n",
       " 'E04': {'TIME': 15462.924305555556,\n",
       "  'LONGITUDE': '124.5479',\n",
       "  'LATITUDE': '31.2739',\n",
       "  'DEPTH': '50.5900',\n",
       "  'CTDID': 3},\n",
       " 'E05': {'TIME': 15463.111111111111,\n",
       "  'LONGITUDE': '125.3320',\n",
       "  'LATITUDE': '31.2730',\n",
       "  'DEPTH': '53.8100',\n",
       "  'CTDID': 4},\n",
       " 'H01': {'TIME': 15469.810416666667,\n",
       "  'LONGITUDE': '121.0122',\n",
       "  'LATITUDE': '35.9648',\n",
       "  'DEPTH': '31.8900',\n",
       "  'CTDID': 5},\n",
       " 'H02': {'TIME': 15469.711805555555,\n",
       "  'LONGITUDE': '121.3415',\n",
       "  'LATITUDE': '35.9656',\n",
       "  'DEPTH': '37.1700',\n",
       "  'CTDID': 6},\n",
       " 'H03': {'TIME': 15469.622222222222,\n",
       "  'LONGITUDE': '121.6709',\n",
       "  'LATITUDE': '35.9686',\n",
       "  'DEPTH': '35.1200',\n",
       "  'CTDID': 7},\n",
       " 'H04': {'TIME': 15469.540277777778,\n",
       "  'LONGITUDE': '121.9919',\n",
       "  'LATITUDE': '35.9645',\n",
       "  'DEPTH': '42.5000',\n",
       "  'CTDID': 8},\n",
       " 'H05': {'TIME': 15469.449305555556,\n",
       "  'LONGITUDE': '122.3266',\n",
       "  'LATITUDE': '35.9660',\n",
       "  'DEPTH': '50.5000',\n",
       "  'CTDID': 9},\n",
       " 'H06': {'TIME': 15469.336805555555,\n",
       "  'LONGITUDE': '122.6632',\n",
       "  'LATITUDE': '35.9659',\n",
       "  'DEPTH': '62.5000',\n",
       "  'CTDID': 10},\n",
       " 'H07': {'TIME': 15469.213194444443,\n",
       "  'LONGITUDE': '123.0016',\n",
       "  'LATITUDE': '35.9628',\n",
       "  'DEPTH': '69.2400',\n",
       "  'CTDID': 11},\n",
       " 'H08': {'TIME': 15469.05486111111,\n",
       "  'LONGITUDE': '123.4958',\n",
       "  'LATITUDE': '35.9626',\n",
       "  'DEPTH': '72.7000',\n",
       "  'CTDID': 12},\n",
       " 'H09': {'TIME': 15468.920833333332,\n",
       "  'LONGITUDE': '123.5019',\n",
       "  'LATITUDE': '35.5022',\n",
       "  'DEPTH': '70.8700',\n",
       "  'CTDID': 13},\n",
       " 'H10': {'TIME': 15467.249305555555,\n",
       "  'LONGITUDE': '123.4915',\n",
       "  'LATITUDE': '34.9962',\n",
       "  'DEPTH': '73.9400',\n",
       "  'CTDID': 14},\n",
       " 'H11': {'TIME': 15467.37013888889,\n",
       "  'LONGITUDE': '122.9995',\n",
       "  'LATITUDE': '34.9962',\n",
       "  'DEPTH': '70.4100',\n",
       "  'CTDID': 15},\n",
       " 'H12': {'TIME': 15467.488194444444,\n",
       "  'LONGITUDE': '122.6656',\n",
       "  'LATITUDE': '34.9983',\n",
       "  'DEPTH': '64.8600',\n",
       "  'CTDID': 16},\n",
       " 'H13': {'TIME': 15467.589583333334,\n",
       "  'LONGITUDE': '122.3380',\n",
       "  'LATITUDE': '35.0123',\n",
       "  'DEPTH': '61.5000',\n",
       "  'CTDID': 17},\n",
       " 'H14': {'TIME': 15467.683333333334,\n",
       "  'LONGITUDE': '121.9949',\n",
       "  'LATITUDE': '34.9996',\n",
       "  'DEPTH': '49.2000',\n",
       "  'CTDID': 18},\n",
       " 'H15': {'TIME': 15467.775,\n",
       "  'LONGITUDE': '121.6620',\n",
       "  'LATITUDE': '34.9977',\n",
       "  'DEPTH': '45.0300',\n",
       "  'CTDID': 19},\n",
       " 'H16': {'TIME': 15467.869444444443,\n",
       "  'LONGITUDE': '121.3326',\n",
       "  'LATITUDE': '34.9950',\n",
       "  'DEPTH': '33.1900',\n",
       "  'CTDID': 20},\n",
       " 'H17': {'TIME': 15467.96388888889,\n",
       "  'LONGITUDE': '121.0011',\n",
       "  'LATITUDE': '34.9983',\n",
       "  'DEPTH': '33.8400',\n",
       "  'CTDID': 21},\n",
       " 'H18': {'TIME': 15468.05625,\n",
       "  'LONGITUDE': '120.6706',\n",
       "  'LATITUDE': '35.0007',\n",
       "  'DEPTH': '28.2900',\n",
       "  'CTDID': 22},\n",
       " 'H19': {'TIME': 15468.134027777778,\n",
       "  'LONGITUDE': '120.3432',\n",
       "  'LATITUDE': '34.9971',\n",
       "  'DEPTH': '24.7200',\n",
       "  'CTDID': 23},\n",
       " 'H25': {'TIME': 15465.546527777777,\n",
       "  'LONGITUDE': '122.3365',\n",
       "  'LATITUDE': '34.0077',\n",
       "  'DEPTH': '37.0300',\n",
       "  'CTDID': 24},\n",
       " 'H26': {'TIME': 15465.44375,\n",
       "  'LONGITUDE': '122.6602',\n",
       "  'LATITUDE': '33.9997',\n",
       "  'DEPTH': '54.0200',\n",
       "  'CTDID': 25},\n",
       " 'H27': {'TIME': 15465.327083333332,\n",
       "  'LONGITUDE': '123.0910',\n",
       "  'LATITUDE': '33.9966',\n",
       "  'DEPTH': '66.3400',\n",
       "  'CTDID': 26},\n",
       " 'H28': {'TIME': 15465.197916666666,\n",
       "  'LONGITUDE': '123.5909',\n",
       "  'LATITUDE': '33.9918',\n",
       "  'DEPTH': '68.5000',\n",
       "  'CTDID': 27},\n",
       " 'H29': {'TIME': 15465.081944444444,\n",
       "  'LONGITUDE': '123.9990',\n",
       "  'LATITUDE': '33.9929',\n",
       "  'DEPTH': '78.0200',\n",
       "  'CTDID': 28},\n",
       " 'H30': {'TIME': 15464.954861111111,\n",
       "  'LONGITUDE': '123.9957',\n",
       "  'LATITUDE': '33.5180',\n",
       "  'DEPTH': '68.1700',\n",
       "  'CTDID': 29},\n",
       " 'H31': {'TIME': 15464.811805555555,\n",
       "  'LONGITUDE': '124.0207',\n",
       "  'LATITUDE': '32.9927',\n",
       "  'DEPTH': '48.5000',\n",
       "  'CTDID': 30},\n",
       " 'H32': {'TIME': 15464.677083333334,\n",
       "  'LONGITUDE': '123.4943',\n",
       "  'LATITUDE': '32.9958',\n",
       "  'DEPTH': '33.9100',\n",
       "  'CTDID': 31},\n",
       " 'H33': {'TIME': 15464.556944444443,\n",
       "  'LONGITUDE': '122.9940',\n",
       "  'LATITUDE': '33.0020',\n",
       "  'DEPTH': '31.3400',\n",
       "  'CTDID': 32},\n",
       " 'H34': {'TIME': 15464.46388888889,\n",
       "  'LONGITUDE': '122.6743',\n",
       "  'LATITUDE': '33.0024',\n",
       "  'DEPTH': '30.2000',\n",
       "  'CTDID': 33},\n",
       " 'H35': {'TIME': 15464.365972222222,\n",
       "  'LONGITUDE': '122.3500',\n",
       "  'LATITUDE': '32.9957',\n",
       "  'DEPTH': '24.9500',\n",
       "  'CTDID': 34},\n",
       " 'H36': {'TIME': 15464.285416666666,\n",
       "  'LONGITUDE': '122.1324',\n",
       "  'LATITUDE': '32.9979',\n",
       "  'DEPTH': '22.6900',\n",
       "  'CTDID': 35},\n",
       " 'H37': {'TIME': 15464.072222222223,\n",
       "  'LONGITUDE': '122.3050',\n",
       "  'LATITUDE': '32.2921',\n",
       "  'DEPTH': '19.3700',\n",
       "  'CTDID': 36},\n",
       " 'H38': {'TIME': 15463.944444444445,\n",
       "  'LONGITUDE': '122.5048',\n",
       "  'LATITUDE': '31.9740',\n",
       "  'DEPTH': '24.8700',\n",
       "  'CTDID': 37},\n",
       " 'H39': {'TIME': 15463.80625,\n",
       "  'LONGITUDE': '123.0100',\n",
       "  'LATITUDE': '31.9742',\n",
       "  'DEPTH': '37.5000',\n",
       "  'CTDID': 38},\n",
       " 'H40': {'TIME': 15463.691666666666,\n",
       "  'LONGITUDE': '123.5007',\n",
       "  'LATITUDE': '31.9994',\n",
       "  'DEPTH': '40.7900',\n",
       "  'CTDID': 39},\n",
       " 'H41': {'TIME': 15463.5625,\n",
       "  'LONGITUDE': '124.0006',\n",
       "  'LATITUDE': '31.9994',\n",
       "  'DEPTH': '39.0900',\n",
       "  'CTDID': 40},\n",
       " 'H42': {'TIME': 15463.415277777778,\n",
       "  'LONGITUDE': '124.5009',\n",
       "  'LATITUDE': '32.0014',\n",
       "  'DEPTH': '39.0300',\n",
       "  'CTDID': 41},\n",
       " 'H43': {'TIME': 15468.793749999999,\n",
       "  'LONGITUDE': '122.9726',\n",
       "  'LATITUDE': '35.4896',\n",
       "  'DEPTH': '67.0200',\n",
       "  'CTDID': 42},\n",
       " 'H44': {'TIME': 15468.702777777777,\n",
       "  'LONGITUDE': '122.6625',\n",
       "  'LATITUDE': '35.5003',\n",
       "  'DEPTH': '66.6500',\n",
       "  'CTDID': 43},\n",
       " 'HF1': {'TIME': 15468.439583333333,\n",
       "  'LONGITUDE': '121.6706',\n",
       "  'LATITUDE': '35.5005',\n",
       "  'DEPTH': '41.6000',\n",
       "  'CTDID': 44},\n",
       " 'HF2': {'TIME': 15468.522916666667,\n",
       "  'LONGITUDE': '121.9990',\n",
       "  'LATITUDE': '35.5004',\n",
       "  'DEPTH': '44.3900',\n",
       "  'CTDID': 45},\n",
       " 'HF3': {'TIME': 15468.612500000001,\n",
       "  'LONGITUDE': '122.3320',\n",
       "  'LATITUDE': '35.5016',\n",
       "  'DEPTH': '52.0500',\n",
       "  'CTDID': 46}}"
      ]
     },
     "execution_count": 170,
     "metadata": {},
     "output_type": "execute_result"
    }
   ],
   "source": [
    "test.ctd_infos"
   ]
  },
  {
   "cell_type": "code",
   "execution_count": 54,
   "id": "68ef73ba-0b0c-42c1-931e-ae035b785fef",
   "metadata": {
    "collapsed": true,
    "jupyter": {
     "outputs_hidden": true
    },
    "tags": []
   },
   "outputs": [
    {
     "data": {
      "text/plain": [
       "['/Volumes/TO_1/roms4dvar_ecs/i4dvar_outputs/INSITU_OBS/NSFC2012SPRING-YS/CTD/E01acfld.cnv',\n",
       " '/Volumes/TO_1/roms4dvar_ecs/i4dvar_outputs/INSITU_OBS/NSFC2012SPRING-YS/CTD/E02acfld.cnv',\n",
       " '/Volumes/TO_1/roms4dvar_ecs/i4dvar_outputs/INSITU_OBS/NSFC2012SPRING-YS/CTD/E03acfld.cnv',\n",
       " '/Volumes/TO_1/roms4dvar_ecs/i4dvar_outputs/INSITU_OBS/NSFC2012SPRING-YS/CTD/E04acfld.cnv',\n",
       " '/Volumes/TO_1/roms4dvar_ecs/i4dvar_outputs/INSITU_OBS/NSFC2012SPRING-YS/CTD/E05acfld.cnv',\n",
       " '/Volumes/TO_1/roms4dvar_ecs/i4dvar_outputs/INSITU_OBS/NSFC2012SPRING-YS/CTD/H01acfld.cnv',\n",
       " '/Volumes/TO_1/roms4dvar_ecs/i4dvar_outputs/INSITU_OBS/NSFC2012SPRING-YS/CTD/H02acfld.cnv',\n",
       " '/Volumes/TO_1/roms4dvar_ecs/i4dvar_outputs/INSITU_OBS/NSFC2012SPRING-YS/CTD/H03acfld.cnv',\n",
       " '/Volumes/TO_1/roms4dvar_ecs/i4dvar_outputs/INSITU_OBS/NSFC2012SPRING-YS/CTD/H04acfld.cnv',\n",
       " '/Volumes/TO_1/roms4dvar_ecs/i4dvar_outputs/INSITU_OBS/NSFC2012SPRING-YS/CTD/H05acfld.cnv',\n",
       " '/Volumes/TO_1/roms4dvar_ecs/i4dvar_outputs/INSITU_OBS/NSFC2012SPRING-YS/CTD/H06acfld.cnv',\n",
       " '/Volumes/TO_1/roms4dvar_ecs/i4dvar_outputs/INSITU_OBS/NSFC2012SPRING-YS/CTD/H07acfld.cnv',\n",
       " '/Volumes/TO_1/roms4dvar_ecs/i4dvar_outputs/INSITU_OBS/NSFC2012SPRING-YS/CTD/H08acfld.cnv',\n",
       " '/Volumes/TO_1/roms4dvar_ecs/i4dvar_outputs/INSITU_OBS/NSFC2012SPRING-YS/CTD/H09acfld.cnv',\n",
       " '/Volumes/TO_1/roms4dvar_ecs/i4dvar_outputs/INSITU_OBS/NSFC2012SPRING-YS/CTD/H10acfld.cnv',\n",
       " '/Volumes/TO_1/roms4dvar_ecs/i4dvar_outputs/INSITU_OBS/NSFC2012SPRING-YS/CTD/H11acfld.cnv',\n",
       " '/Volumes/TO_1/roms4dvar_ecs/i4dvar_outputs/INSITU_OBS/NSFC2012SPRING-YS/CTD/H12acfld.cnv',\n",
       " '/Volumes/TO_1/roms4dvar_ecs/i4dvar_outputs/INSITU_OBS/NSFC2012SPRING-YS/CTD/H13acfld.cnv',\n",
       " '/Volumes/TO_1/roms4dvar_ecs/i4dvar_outputs/INSITU_OBS/NSFC2012SPRING-YS/CTD/H14acfld.cnv',\n",
       " '/Volumes/TO_1/roms4dvar_ecs/i4dvar_outputs/INSITU_OBS/NSFC2012SPRING-YS/CTD/H15acfld.cnv',\n",
       " '/Volumes/TO_1/roms4dvar_ecs/i4dvar_outputs/INSITU_OBS/NSFC2012SPRING-YS/CTD/H16acfld.cnv',\n",
       " '/Volumes/TO_1/roms4dvar_ecs/i4dvar_outputs/INSITU_OBS/NSFC2012SPRING-YS/CTD/H17acfld.cnv',\n",
       " '/Volumes/TO_1/roms4dvar_ecs/i4dvar_outputs/INSITU_OBS/NSFC2012SPRING-YS/CTD/H18acfld.cnv',\n",
       " '/Volumes/TO_1/roms4dvar_ecs/i4dvar_outputs/INSITU_OBS/NSFC2012SPRING-YS/CTD/H19acfld.cnv',\n",
       " '/Volumes/TO_1/roms4dvar_ecs/i4dvar_outputs/INSITU_OBS/NSFC2012SPRING-YS/CTD/H25acfld.cnv',\n",
       " '/Volumes/TO_1/roms4dvar_ecs/i4dvar_outputs/INSITU_OBS/NSFC2012SPRING-YS/CTD/H26acfld.cnv',\n",
       " '/Volumes/TO_1/roms4dvar_ecs/i4dvar_outputs/INSITU_OBS/NSFC2012SPRING-YS/CTD/H27acfld.cnv',\n",
       " '/Volumes/TO_1/roms4dvar_ecs/i4dvar_outputs/INSITU_OBS/NSFC2012SPRING-YS/CTD/H28acfld.cnv',\n",
       " '/Volumes/TO_1/roms4dvar_ecs/i4dvar_outputs/INSITU_OBS/NSFC2012SPRING-YS/CTD/H29acfld.cnv',\n",
       " '/Volumes/TO_1/roms4dvar_ecs/i4dvar_outputs/INSITU_OBS/NSFC2012SPRING-YS/CTD/H30acfld.cnv',\n",
       " '/Volumes/TO_1/roms4dvar_ecs/i4dvar_outputs/INSITU_OBS/NSFC2012SPRING-YS/CTD/H31acfld.cnv',\n",
       " '/Volumes/TO_1/roms4dvar_ecs/i4dvar_outputs/INSITU_OBS/NSFC2012SPRING-YS/CTD/H32acfld.cnv',\n",
       " '/Volumes/TO_1/roms4dvar_ecs/i4dvar_outputs/INSITU_OBS/NSFC2012SPRING-YS/CTD/H33acfld.cnv',\n",
       " '/Volumes/TO_1/roms4dvar_ecs/i4dvar_outputs/INSITU_OBS/NSFC2012SPRING-YS/CTD/H34acfld.cnv',\n",
       " '/Volumes/TO_1/roms4dvar_ecs/i4dvar_outputs/INSITU_OBS/NSFC2012SPRING-YS/CTD/H35acfld.cnv',\n",
       " '/Volumes/TO_1/roms4dvar_ecs/i4dvar_outputs/INSITU_OBS/NSFC2012SPRING-YS/CTD/H36acfld.cnv',\n",
       " '/Volumes/TO_1/roms4dvar_ecs/i4dvar_outputs/INSITU_OBS/NSFC2012SPRING-YS/CTD/H37acfld.cnv',\n",
       " '/Volumes/TO_1/roms4dvar_ecs/i4dvar_outputs/INSITU_OBS/NSFC2012SPRING-YS/CTD/H38acfld.cnv',\n",
       " '/Volumes/TO_1/roms4dvar_ecs/i4dvar_outputs/INSITU_OBS/NSFC2012SPRING-YS/CTD/H39acfld.cnv',\n",
       " '/Volumes/TO_1/roms4dvar_ecs/i4dvar_outputs/INSITU_OBS/NSFC2012SPRING-YS/CTD/H40acfld.cnv',\n",
       " '/Volumes/TO_1/roms4dvar_ecs/i4dvar_outputs/INSITU_OBS/NSFC2012SPRING-YS/CTD/H41acfld.cnv',\n",
       " '/Volumes/TO_1/roms4dvar_ecs/i4dvar_outputs/INSITU_OBS/NSFC2012SPRING-YS/CTD/H42acfld.cnv',\n",
       " '/Volumes/TO_1/roms4dvar_ecs/i4dvar_outputs/INSITU_OBS/NSFC2012SPRING-YS/CTD/H43acfld.cnv',\n",
       " '/Volumes/TO_1/roms4dvar_ecs/i4dvar_outputs/INSITU_OBS/NSFC2012SPRING-YS/CTD/H44acfld.cnv',\n",
       " '/Volumes/TO_1/roms4dvar_ecs/i4dvar_outputs/INSITU_OBS/NSFC2012SPRING-YS/CTD/HF1acfld.cnv',\n",
       " '/Volumes/TO_1/roms4dvar_ecs/i4dvar_outputs/INSITU_OBS/NSFC2012SPRING-YS/CTD/HF2acfld.cnv',\n",
       " '/Volumes/TO_1/roms4dvar_ecs/i4dvar_outputs/INSITU_OBS/NSFC2012SPRING-YS/CTD/HF3acfld.cnv']"
      ]
     },
     "execution_count": 54,
     "metadata": {},
     "output_type": "execute_result"
    }
   ],
   "source": [
    "test.ctd_files"
   ]
  },
  {
   "cell_type": "code",
   "execution_count": 67,
   "id": "73afb21a-1b69-421e-8ba6-574b328cd0d4",
   "metadata": {
    "tags": []
   },
   "outputs": [],
   "source": [
    "sst_obs = seapy.roms.obs.obs(filename='/Volumes/TO_1/roms4dvar_ecs/i4dvar_outputs/NOAA_GHRSST/geopolar_sst_201205.nc')"
   ]
  },
  {
   "cell_type": "code",
   "execution_count": 61,
   "id": "02983b6e-3487-47a6-9196-6cf2c4b65292",
   "metadata": {
    "tags": []
   },
   "outputs": [],
   "source": [
    "# merge sst and in-situ togethor\n",
    "grdfile = '/Volumes/TO_1/outputs_SCORRECTION/ocean_ecs_fwd_15461_outer1.nc'\n",
    "dt = 1/24\n",
    "# reftime = datetime.datetime(1970,1,1)\n"
   ]
  },
  {
   "cell_type": "code",
   "execution_count": 13,
   "id": "28180851-d5a4-441d-be71-74ea456b0224",
   "metadata": {
    "tags": []
   },
   "outputs": [],
   "source": [
    "grid = seapy.model.asgrid(grdfile)"
   ]
  },
  {
   "cell_type": "code",
   "execution_count": 63,
   "id": "358bfa3c-c04a-44c1-b686-081810bd9b6a",
   "metadata": {
    "tags": []
   },
   "outputs": [
    {
     "data": {
      "application/vnd.jupyter.widget-view+json": {
       "model_id": "a55b0db2f5ce49d48851a20e8227415b",
       "version_major": 2,
       "version_minor": 0
      },
      "text/plain": [
       "Output()"
      ]
     },
     "metadata": {},
     "output_type": "display_data"
    },
    {
     "data": {
      "text/html": [
       "<pre style=\"white-space:pre;overflow-x:auto;line-height:normal;font-family:Menlo,'DejaVu Sans Mono',consolas,'Courier New',monospace\"></pre>\n"
      ],
      "text/plain": []
     },
     "metadata": {},
     "output_type": "display_data"
    },
    {
     "data": {
      "text/html": [
       "<pre style=\"white-space:pre;overflow-x:auto;line-height:normal;font-family:Menlo,'DejaVu Sans Mono',consolas,'Courier New',monospace\">\n",
       "</pre>\n"
      ],
      "text/plain": [
       "\n"
      ]
     },
     "metadata": {},
     "output_type": "display_data"
    }
   ],
   "source": [
    "data = [seapy.roms.obs.raw_data(\"TEMP\", \"CTD\", test.data['TEMP'].value,None,0.1)]\n",
    "        \n",
    "insitu_obs = seapy.roms.obs.gridder(grid,test.data['TEMP'].time,\n",
    "                                    test.data['TEMP'].lon,test.data['TEMP'].lat,\n",
    "                                    -test.data['TEMP'].depth, data,dt,title=\"cruise obs\")"
   ]
  },
  {
   "cell_type": "code",
   "execution_count": 68,
   "id": "41c52222-5ca5-42fe-afe5-2c523985e6ef",
   "metadata": {
    "tags": []
   },
   "outputs": [],
   "source": [
    "sst_obs.add(insitu_obs)"
   ]
  },
  {
   "cell_type": "code",
   "execution_count": 69,
   "id": "426b0541-4828-40ae-9f23-42f2a21ee129",
   "metadata": {
    "tags": []
   },
   "outputs": [],
   "source": [
    "sst_obs.to_netcdf('./combined_sst.nc')"
   ]
  },
  {
   "cell_type": "code",
   "execution_count": 66,
   "id": "8d53fb1e-5741-4d30-99d0-384adde54aa7",
   "metadata": {
    "tags": []
   },
   "outputs": [
    {
     "data": {
      "text/plain": [
       "'/Volumes/TO_1/roms4dvar_ecs/i4dvar_analysis/obs_processing'"
      ]
     },
     "execution_count": 66,
     "metadata": {},
     "output_type": "execute_result"
    }
   ],
   "source": [
    "pwd"
   ]
  },
  {
   "cell_type": "code",
   "execution_count": 59,
   "id": "b9d95828-8def-4686-af8e-11c1db0d97b8",
   "metadata": {
    "tags": []
   },
   "outputs": [
    {
     "data": {
      "text/plain": [
       "array([371095.81666667, 371095.81666667, 371095.81666667, ...,\n",
       "       371246.7       , 371246.7       , 371246.7       ])"
      ]
     },
     "execution_count": 59,
     "metadata": {},
     "output_type": "execute_result"
    }
   ],
   "source": []
  }
 ],
 "metadata": {
  "kernelspec": {
   "display_name": "Python 3 (ipykernel)",
   "language": "python",
   "name": "python3"
  },
  "language_info": {
   "codemirror_mode": {
    "name": "ipython",
    "version": 3
   },
   "file_extension": ".py",
   "mimetype": "text/x-python",
   "name": "python",
   "nbconvert_exporter": "python",
   "pygments_lexer": "ipython3",
   "version": "3.9.13"
  }
 },
 "nbformat": 4,
 "nbformat_minor": 5
}
