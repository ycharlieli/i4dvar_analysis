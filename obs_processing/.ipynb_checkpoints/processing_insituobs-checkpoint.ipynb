{
 "cells": [
  {
   "cell_type": "code",
   "execution_count": 1,
   "id": "91224e4c-d8c0-4efc-a3fd-43ad8e87caa3",
   "metadata": {
    "tags": []
   },
   "outputs": [],
   "source": [
    "import seabird\n",
    "import datetime\n",
    "import numpy as np\n",
    "import seapy\n",
    "import gsw\n",
    "import scipy as sp"
   ]
  },
  {
   "cell_type": "code",
   "execution_count": 4,
   "id": "3f7edd89-06c0-4e84-8681-cbbaaa263c26",
   "metadata": {
    "tags": []
   },
   "outputs": [],
   "source": [
    "from seabird.cnv import fCNV\n",
    "ctd_file = '/Volumes/TO_1/roms4dvar_ecs/i4dvar_outputs/INSITU_OBS/IOCAS2012AUTUMN/CTD/3600-01acfld.cnv'\n",
    "profile = fCNV(ctd_file)\n"
   ]
  },
  {
   "cell_type": "code",
   "execution_count": 5,
   "id": "c9021c86-1a86-4a1e-8722-4aff3b6bd05b",
   "metadata": {
    "tags": []
   },
   "outputs": [
    {
     "name": "stdout",
     "output_type": "stream",
     "text": [
      "Header: dict_keys(['sbe_model', 'seasave', 'instrument_type', 'nquan', 'nvalues', 'start_time', 'bad_flag', 'file_type', 'md5', 'datetime', 'filename'])\n",
      "{'sbe_model': '9', 'seasave': 'Win32 V 5.39c', 'instrument_type': 'CTD', 'nquan': '19', 'nvalues': '8272', 'start_time': 'Dec 13 2012 09:13:57 [System UpLoad Time]', 'bad_flag': '-9.990e-29', 'file_type': 'ascii', 'md5': '7a21b5b1b1bf45d261940c23b8a6c88f', 'datetime': datetime.datetime(2012, 12, 13, 9, 13, 57), 'filename': '3600-01acfld.cnv'}\n"
     ]
    }
   ],
   "source": [
    "print(\"Header: %s\" % profile.attributes.keys())\n",
    "print(profile.attributes)\n"
   ]
  },
  {
   "cell_type": "code",
   "execution_count": 6,
   "id": "ff3ef3a2-fa90-4b2c-a97d-5af59efc0782",
   "metadata": {
    "tags": []
   },
   "outputs": [
    {
     "name": "stdout",
     "output_type": "stream",
     "text": [
      "['PRES', 'TEMP', 'CNDC', 'pumps', 'PSAL', 'altM', 'descentrate', 'accM', 'scan', 'timeS', 'flSP', 'seaTurbMtr', 'potemperature', 'PSAL', 'density', 'sigma_t', 'soundspeed', 'DEPTH', 'flag']\n"
     ]
    }
   ],
   "source": [
    "print(profile.keys())"
   ]
  },
  {
   "cell_type": "code",
   "execution_count": 27,
   "id": "6f156d4c-74ab-4a96-b281-949be3e22d86",
   "metadata": {
    "tags": []
   },
   "outputs": [
    {
     "data": {
      "text/plain": [
       "array([ 2.9790e+00,  2.9559e+00,  2.9285e+00, ...,  6.2836e+00,\n",
       "        6.2783e+00, -9.9900e-29])"
      ]
     },
     "execution_count": 27,
     "metadata": {},
     "output_type": "execute_result"
    }
   ],
   "source": [
    "#PSAL\n",
    "profile.data[-6].data"
   ]
  },
  {
   "cell_type": "code",
   "execution_count": 37,
   "id": "ac1c196b-31d9-4d2d-9d96-27566c9b800b",
   "metadata": {
    "tags": []
   },
   "outputs": [],
   "source": [
    "profile.attrs['LATITUDE']=36.0045 \n",
    "profile.attrs['LONGITUDE']=123.9935"
   ]
  },
  {
   "cell_type": "code",
   "execution_count": 42,
   "id": "d350f68c-aaa1-47b2-a9f0-5d57ff4c1647",
   "metadata": {
    "tags": []
   },
   "outputs": [
    {
     "ename": "AttributeError",
     "evalue": "'dict' object has no attribute 'datetime'",
     "output_type": "error",
     "traceback": [
      "\u001b[0;31m---------------------------------------------------------------------------\u001b[0m",
      "\u001b[0;31mAttributeError\u001b[0m                            Traceback (most recent call last)",
      "Cell \u001b[0;32mIn[42], line 1\u001b[0m\n\u001b[0;32m----> 1\u001b[0m \u001b[43mprofile\u001b[49m\u001b[38;5;241;43m.\u001b[39;49m\u001b[43mattrs\u001b[49m\u001b[38;5;241;43m.\u001b[39;49m\u001b[43mdatetime\u001b[49m\n",
      "\u001b[0;31mAttributeError\u001b[0m: 'dict' object has no attribute 'datetime'"
     ]
    }
   ],
   "source": [
    "profile.attrs.datetime"
   ]
  },
  {
   "cell_type": "code",
   "execution_count": 41,
   "id": "f14272b7-31a9-4bee-b801-f9d9d62139bc",
   "metadata": {
    "tags": []
   },
   "outputs": [
    {
     "data": {
      "text/plain": [
       "{}"
      ]
     },
     "execution_count": 41,
     "metadata": {},
     "output_type": "execute_result"
    }
   ],
   "source": [
    "df_profile"
   ]
  },
  {
   "cell_type": "code",
   "execution_count": 3,
   "id": "6eee249d-2493-4d04-809b-33d118d428a1",
   "metadata": {
    "tags": []
   },
   "outputs": [],
   "source": [
    "def lanczos_filter(data,Cf,Nf,M):\n",
    "    coef = sp.signal.firwin(M+1, Cf/Nf,width = 2/len(data),window='lanczos', pass_zero='lowpass')\n",
    "    return sp.signal.filtfilt(coef,1.0,data)\n",
    "\n",
    "dt = 0.04\n",
    "fs = 1/(dt)\n",
    "Nf = fs/2\n",
    "Cf = fs/3000\n",
    "M = 100\n",
    "\n",
    "# fdiff_pres = lanczos_filter(diff_pres,Cf,Nf,M)"
   ]
  },
  {
   "cell_type": "code",
   "execution_count": 30,
   "id": "09e64331-82bb-4818-90e3-42e235d4d5a4",
   "metadata": {
    "tags": []
   },
   "outputs": [
    {
     "name": "stdout",
     "output_type": "stream",
     "text": [
      "Using matplotlib backend: MacOSX\n"
     ]
    },
    {
     "data": {
      "text/plain": [
       "Text(0.5, 1.0, 'H01')"
      ]
     },
     "execution_count": 30,
     "metadata": {},
     "output_type": "execute_result"
    }
   ],
   "source": [
    "%matplotlib\n",
    "import matplotlib.pyplot as plt\n",
    "\n",
    "time = profile['timeS'][:]\n",
    "\n",
    "# depth = profile['DEPTH'][:]\n",
    "temp = profile['TEMP'][:]\n",
    "pres = profile['PRES'][:]\n",
    "plt.plot(time, pres,'b')\n",
    "\n",
    "pres_conv = np.convolve(pres,np.ones(24*3)/24/3,mode='full')[36:-35]\n",
    "# pres_conv = lanczos_filter(pres,Cf,Nf,M)\n",
    "# pres_conv = seapy.filt.bandpass(pres,dt,low_cutoff=dt*300,order=7)\n",
    "pres_conv = seapy.filt.bandpass(pres_conv,dt,low_cutoff=dt*300,order=7)\n",
    "# plt.plot(time,pres_conv,'k--')\n",
    "diff_pres = np.diff(pres_conv)\n",
    "diff_pres_conv = diff_pres.copy()\n",
    "# plt.plot(time[:-1],diff_pres)\n",
    "plt.xlabel('TIME(sec)')\n",
    "plt.ylabel('PRES(db)')\n",
    "plt.title('H01')\n",
    "# diff_pres_conv = np.convolve(diff_pres,np.ones(24*3)/24/3,mode='full')[36:-35]\n",
    "# diff_pres_conv = lanczos_filter(diff_pres,Cf,Nf,M)\n",
    "# diff_pres_conv = seapy.filt.bandpass(diff_pres,dt,low_cutoff=dt*600)\n",
    "# plt.plot(time[:-1],diff_pres_conv)\n",
    "\n",
    "\n",
    "\n",
    "# pres_conv = lanczos_filter(pres,Cf,Nf,M)\n",
    "# diff_pres_conv = np.diff(pres_conv)\n"
   ]
  },
  {
   "cell_type": "code",
   "execution_count": 7,
   "id": "52b2feda-bb03-4a28-8caa-761b5cf65365",
   "metadata": {
    "tags": []
   },
   "outputs": [
    {
     "data": {
      "text/plain": [
       "masked_array(data=[0.065, 0.062, 0.058, ..., -0.298, -0.298, -0.298],\n",
       "             mask=[False, False, False, ..., False, False, False],\n",
       "       fill_value=-9.99e-29)"
      ]
     },
     "execution_count": 7,
     "metadata": {},
     "output_type": "execute_result"
    }
   ],
   "source": [
    "profile['PRES'][:]"
   ]
  },
  {
   "cell_type": "code",
   "execution_count": 8,
   "id": "82c3881d-f2df-4a30-8ad4-a3c37933cb14",
   "metadata": {
    "tags": []
   },
   "outputs": [
    {
     "name": "stdout",
     "output_type": "stream",
     "text": [
      "16\n",
      "[ 1  1  1  1 -1 -1 -1 -1  2  1  1  1 -2 -1 -1]\n"
     ]
    }
   ],
   "source": [
    "\n",
    "pres = np.asarray([1,2,3,4,5,4,3,2,1,3,4,5,6,4,3,2])\n",
    "print(len(pres))\n",
    "diff_pres = np.diff(pres)\n",
    "print(diff_pres)"
   ]
  },
  {
   "cell_type": "code",
   "execution_count": 29,
   "id": "f3291799-08e1-437a-bb7e-8c11de1e7c8b",
   "metadata": {
    "tags": []
   },
   "outputs": [
    {
     "data": {
      "text/plain": [
       "masked_array(data=[0.042, 0.041, 0.042, ..., 0.042, 0.041, 0.042],\n",
       "             mask=False,\n",
       "       fill_value=-9.99e-29)"
      ]
     },
     "execution_count": 29,
     "metadata": {},
     "output_type": "execute_result"
    }
   ],
   "source": [
    "np.diff(time)"
   ]
  },
  {
   "cell_type": "code",
   "execution_count": 12,
   "id": "13119cc2-82db-4350-a82c-3cf7a80798ab",
   "metadata": {
    "tags": []
   },
   "outputs": [
    {
     "name": "stdout",
     "output_type": "stream",
     "text": [
      "11\n",
      "11\n",
      "5\n",
      "2\n",
      "194.583\n",
      "255.125\n"
     ]
    }
   ],
   "source": [
    "count_down = 0\n",
    "count_up = 0\n",
    "for i in range(1,len(diff_pres_conv)):\n",
    "    # print(diff_pres[i])\n",
    "    # print(diff_pres[i]*diff_pres[i-1])\n",
    "    if (diff_pres_conv[i]*diff_pres_conv[i-1]) < 0 :\n",
    "        if diff_pres_conv[i-1]>0:\n",
    "            if  not count_down: \n",
    "                start_down = i\n",
    "            else:\n",
    "                start_down = np.r_[start_down, i]\n",
    "            count_down+=1\n",
    "        else:\n",
    "            if not count_up : \n",
    "                start_up = i\n",
    "            else:\n",
    "                start_up = np.r_[start_up, i]\n",
    "            count_up+=1\n",
    "            \n",
    "\n",
    "# print(start_up)          \n",
    "# print(start_down)\n",
    "\n",
    "\n",
    "# print(pres[start_down[1]])\n",
    "larger = 1\n",
    "smaller = -1\n",
    "equal = 0\n",
    "print(len(start_up))\n",
    "print(len(start_down))\n",
    "\n",
    "if len(start_up) > len(start_down):\n",
    "    end_indx = len(start_down)\n",
    "    status = larger\n",
    "elif len(start_up) < len(start_down):\n",
    "    end_indx = len(start_up)\n",
    "    status = smaller\n",
    "else:\n",
    "    \n",
    "    status = equal\n",
    "    \n",
    "\n",
    "\n",
    "if start_down[0] < start_up[0]:\n",
    "    if status == equal:\n",
    "        mono_duration = start_up[:-1] - start_down[1:]\n",
    "    elif status == larger:\n",
    "        mono_duration = start_up[:end_indx-1] - start_down[1:]\n",
    "    elif status == smaller:\n",
    "        mono_duration = start_up[:] - start_down[1:1+len(start_up)]\n",
    "    # print(mono_duration)\n",
    "    downcast_index = np.argmax(np.abs(mono_duration))\n",
    "    print(downcast_index)\n",
    "    if ((pres[start_down[downcast_index+1]] - \n",
    "              pres[start_up[downcast_index]]) < 5):\n",
    "        mono_duration[downcast_index] = 0\n",
    "        downcast_index = np.argmax(np.abs(mono_duration))\n",
    "    mono_duration[downcast_index] = 0\n",
    "    downcast2_index = np.argmax(np.abs(mono_duration))\n",
    "    if (downcast2_index > downcast_index)  \\\n",
    "        and ((pres[start_down[downcast2_index+1]] - \n",
    "              pres[start_up[downcast2_index]]) > 5):\n",
    "        time_downcast = np.r_[\n",
    "                              time[start_up[downcast_index]:start_down[downcast_index+1]],\n",
    "                              time[start_up[downcast2_index]:start_down[downcast2_index+1]]\n",
    "\n",
    "                              ]\n",
    "        pres_downcast = np.r_[\n",
    "                              pres[start_up[downcast_index]:start_down[downcast_index+1]],\n",
    "                              pres[start_up[downcast2_index]:start_down[downcast2_index+1]]\n",
    "                              ]\n",
    "        temp_downcast = np.r_[\n",
    "                               temp[start_up[downcast_index]:start_down[downcast_index+1]],\n",
    "                               temp[start_up[downcast2_index]:start_down[downcast2_index+1]]\n",
    "                            ]\n",
    "    else:\n",
    "            \n",
    "        time_downcast = time[start_up[downcast_index]:start_down[downcast_index+1]]\n",
    "        pres_downcast = pres[start_up[downcast_index]:start_down[downcast_index+1]]\n",
    "        temp_downcast = temp[start_up[downcast_index]:start_down[downcast_index+1]]\n",
    "\n",
    "else:\n",
    "    if status == equal:\n",
    "        mono_duration = start_up - start_down\n",
    "    elif status == larger:\n",
    "        mono_duration = start_up[:end_indx] - start_down\n",
    "    elif status == smaller:\n",
    "        mono_duration = start_up - start_down[:end_indx]\n",
    "    \n",
    "    # print(mono_duration)\n",
    "    downcast_index = np.argmax(np.abs(mono_duration))\n",
    "    print(downcast_index)\n",
    "    if ((pres[start_down[downcast_index]] - \n",
    "              pres[start_up[downcast_index]]) < 5):\n",
    "        mono_duration[downcast_index] = 0\n",
    "        downcast_index = np.argmax(np.abs(mono_duration))\n",
    "    mono_duration[downcast_index] = 0\n",
    "    downcast2_index = np.argmax(np.abs(mono_duration))\n",
    "    print(downcast2_index)\n",
    "    if (downcast2_index > downcast_index)\\\n",
    "        and ((pres[start_down[downcast2_index]] - \n",
    "              pres[start_up[downcast2_index]]) > 5):\n",
    "        time_downcast = np.r_[\n",
    "                              time[start_up[downcast_index]:start_down[downcast_index]],\n",
    "                              time[start_up[downcast2_index]:start_down[downcast2_index]]\n",
    "\n",
    "                              ]\n",
    "        pres_downcast = np.r_[\n",
    "                              pres[start_up[downcast_index]:start_down[downcast_index]],\n",
    "                              pres[start_up[downcast2_index]:start_down[downcast2_index]]\n",
    "                              ]\n",
    "        temp_downcast = np.r_[\n",
    "                               temp[start_up[downcast_index]:start_down[downcast_index]],\n",
    "                               temp[start_up[downcast2_index]:start_down[downcast2_index]]\n",
    "                            ]\n",
    "    else:\n",
    "            \n",
    "        time_downcast = time[start_up[downcast_index]:start_down[downcast_index]]\n",
    "        pres_downcast = pres[start_up[downcast_index]:start_down[downcast_index]]\n",
    "        temp_downcast = temp[start_up[downcast_index]:start_down[downcast_index]]\n",
    "\n",
    "# print(status)\n",
    "print(time[start_up[downcast_index]])\n",
    "print(time[start_down[downcast_index+1]])\n",
    "# print(np.argmax(np.abs(start_down-start_up)))\n",
    "# print(start_up[downcast_index])"
   ]
  },
  {
   "cell_type": "code",
   "execution_count": 10,
   "id": "8f2bd11e-5263-4d45-87fc-ef540b64d8cc",
   "metadata": {
    "tags": []
   },
   "outputs": [],
   "source": [
    "\n",
    "time_downcast = time[start_up[downcast_index]:start_down[downcast_index+1]]\n",
    "pres_downcast = pres[start_up[downcast_index]:start_down[downcast_index+1]]\n",
    "temp_downcast = temp[start_up[downcast_index]:start_down[downcast_index+1]]"
   ]
  },
  {
   "cell_type": "code",
   "execution_count": 71,
   "id": "e1434182-43c4-4165-b670-0210db5b3a5e",
   "metadata": {
    "tags": []
   },
   "outputs": [],
   "source": []
  },
  {
   "cell_type": "code",
   "execution_count": 51,
   "id": "ec79eb06-5f87-4714-b307-588e0290b0cd",
   "metadata": {
    "tags": []
   },
   "outputs": [
    {
     "data": {
      "text/plain": [
       "0.0025"
      ]
     },
     "execution_count": 51,
     "metadata": {},
     "output_type": "execute_result"
    }
   ],
   "source": [
    "Cf"
   ]
  },
  {
   "cell_type": "code",
   "execution_count": 162,
   "id": "3b2c0f26-168d-430b-923d-a09d57a233a6",
   "metadata": {},
   "outputs": [
    {
     "name": "stdout",
     "output_type": "stream",
     "text": [
      "Using matplotlib backend: MacOSX\n"
     ]
    },
    {
     "data": {
      "text/plain": [
       "[<matplotlib.lines.Line2D at 0x7fed88592ee0>]"
      ]
     },
     "execution_count": 162,
     "metadata": {},
     "output_type": "execute_result"
    }
   ],
   "source": [
    "%matplotlib\n",
    "freq, ps, psd,conf = seapy.filt.powerspectra(diff_pres)\n",
    "# ffreq, fps, fpsd,fconf = seapy.filt.powerspectra(fdiff_pres)\n",
    "# plt.loglog(np.full_like(freq,1/12,), np.linspace(0,10,len(freq)),'k')\n",
    "plt.loglog(freq,psd*freq,label = 'raw')\n",
    "# plt.loglog(ffreq,fpsd*ffreq,label = 'filted')"
   ]
  },
  {
   "cell_type": "code",
   "execution_count": 24,
   "id": "4132ebdf-4ff2-4870-9e31-ed669f0230ab",
   "metadata": {
    "tags": []
   },
   "outputs": [
    {
     "name": "stdout",
     "output_type": "stream",
     "text": [
      "Using matplotlib backend: MacOSX\n"
     ]
    },
    {
     "data": {
      "text/plain": [
       "Text(0.5, 1.0, 'E01')"
      ]
     },
     "execution_count": 24,
     "metadata": {},
     "output_type": "execute_result"
    }
   ],
   "source": [
    "%matplotlib\n",
    "plt.plot(time, pres,'b')\n",
    "# plt.plot(time,fpres,'r--')\n",
    "plt.plot(time,pres_conv,'k--')\n",
    "# plt.plot(time,pres_conv,'k--')\n",
    "# plt.plot(time[start_up[downcast2_index]:start_down[downcast2_index+1]],pres[start_up[downcast2_index]:start_down[downcast2_index+1]],'r')\n",
    "plt.plot(time_downcast,pres_downcast,'r')\n",
    "# plt.plot(time[:-1],diff_pres)\n",
    "plt.plot(time[start_up],pres[start_up],'r.',label='start_up')\n",
    "plt.plot(time[start_down],pres[start_down],'g.',label='start_down')\n",
    "plt.xlabel('TIME(sec)')\n",
    "plt.ylabel('PRES(db)')\n",
    "plt.legend()\n",
    "plt.title('E01')"
   ]
  },
  {
   "cell_type": "code",
   "execution_count": 26,
   "id": "4290a0a5-fcdb-4f7b-ac74-a21055d1fc2a",
   "metadata": {
    "tags": []
   },
   "outputs": [
    {
     "name": "stdout",
     "output_type": "stream",
     "text": [
      "Using matplotlib backend: MacOSX\n"
     ]
    },
    {
     "data": {
      "text/plain": [
       "Text(0.5, 1.0, 'Downcast_Software')"
      ]
     },
     "execution_count": 26,
     "metadata": {},
     "output_type": "execute_result"
    }
   ],
   "source": [
    "%matplotlib\n",
    "plt.plot(temp[start_up[downcast2_index]:start_down[downcast2_index+1]], pres[start_up[downcast2_index]:start_down[downcast2_index+1]],'b')\n",
    "plt.plot(temp_downcast, pres_downcast,'b')\n",
    "plt.gca().invert_yaxis()\n",
    "plt.xlabel('TEMP')\n",
    "plt.ylabel('PRES')\n",
    "# plt.xlim([5.5,17])\n",
    "plt.title('Downcast_Software')"
   ]
  },
  {
   "cell_type": "code",
   "execution_count": 27,
   "id": "0cecbf08-01ff-43f7-ab96-a1473fc05764",
   "metadata": {
    "tags": []
   },
   "outputs": [
    {
     "name": "stdout",
     "output_type": "stream",
     "text": [
      "Using matplotlib backend: MacOSX\n"
     ]
    },
    {
     "data": {
      "text/plain": [
       "Text(0.5, 1.0, 'Downcast')"
      ]
     },
     "execution_count": 27,
     "metadata": {},
     "output_type": "execute_result"
    }
   ],
   "source": [
    "%matplotlib\n",
    "plt.plot(temp[start_up[downcast_index]:start_down[downcast_index+1]], pres[start_up[downcast_index]:start_down[downcast_index+1]],'b')\n",
    "plt.gca().invert_yaxis()\n",
    "plt.xlabel('TEMP')\n",
    "plt.ylabel('PRES')\n",
    "# plt.xlim([5.5,17])\n",
    "plt.title('Downcast')"
   ]
  },
  {
   "cell_type": "code",
   "execution_count": 152,
   "id": "b9ddeb7f-7e4e-4852-a9eb-650fad5f634f",
   "metadata": {
    "tags": []
   },
   "outputs": [
    {
     "name": "stdout",
     "output_type": "stream",
     "text": [
      "Using matplotlib backend: MacOSX\n"
     ]
    },
    {
     "data": {
      "text/plain": [
       "(5.5, 17.0)"
      ]
     },
     "execution_count": 152,
     "metadata": {},
     "output_type": "execute_result"
    }
   ],
   "source": [
    "%matplotlib\n",
    "plt.plot(temp,pres,'b')\n",
    "plt.gca().invert_yaxis()\n",
    "plt.xlabel('TEMP')\n",
    "plt.ylabel('PRES')\n",
    "plt.xlim([5.5,17])\n",
    "plt.title('H04 Bin_Averaged')"
   ]
  },
  {
   "cell_type": "code",
   "execution_count": null,
   "id": "b3678878-bd2d-4a85-9469-2f888f208ccd",
   "metadata": {
    "tags": []
   },
   "outputs": [],
   "source": [
    "%matplotlib\n",
    "plt.plot(np.convolve(temp_downcast,np.ones(48)/48,mode='full')[24:-23],np.convolve(pres_downcast,np.ones(48)/48,mode='full')[24:-23],'b')\n",
    "plt.gca().invert_yaxis()\n",
    "plt.xlabel('TEMP')\n",
    "plt.ylabel('PRES')\n",
    "plt.title('Bin_Averaged')"
   ]
  },
  {
   "cell_type": "code",
   "execution_count": 40,
   "id": "66cd5f73-59fa-4038-8bdf-0d0b1e7d9951",
   "metadata": {
    "tags": []
   },
   "outputs": [
    {
     "data": {
      "text/plain": [
       "32.0"
      ]
     },
     "execution_count": 40,
     "metadata": {},
     "output_type": "execute_result"
    }
   ],
   "source": [
    "np.ceil(np.max(pres))"
   ]
  },
  {
   "cell_type": "code",
   "execution_count": 43,
   "id": "e1f3b562-5436-49fb-b043-1d63bfe2e1cb",
   "metadata": {
    "tags": []
   },
   "outputs": [],
   "source": [
    "# time_valid = np.ma.masked_outside(time,124.0,190)\n",
    "# depth[time_valid.mask] = np.ma.masked\n",
    "# temp[time_valid.mask] = np.ma.masked\n",
    "# pres[time_valid.mask] = np.ma.masked\n",
    "\n",
    "\n",
    "# z = -gsw.z_from_p(pres, 35.9648)\n",
    "# z_intp = np.arange(3,39,3)\n",
    "pres_intp = np.arange(1, np.ceil(np.max(pres_downcast)))\n",
    "temp_intp = np.interp(pres_intp,pres_downcast,temp_downcast)"
   ]
  },
  {
   "cell_type": "code",
   "execution_count": 44,
   "id": "546d8131-a871-4af8-a478-203005b64bbf",
   "metadata": {
    "tags": []
   },
   "outputs": [
    {
     "name": "stdout",
     "output_type": "stream",
     "text": [
      "Using matplotlib backend: MacOSX\n"
     ]
    },
    {
     "data": {
      "text/plain": [
       "Text(0.5, 1.0, 'H04 Bin_Averaged')"
      ]
     },
     "execution_count": 44,
     "metadata": {},
     "output_type": "execute_result"
    }
   ],
   "source": [
    "%matplotlib\n",
    "import matplotlib.pyplot as plt\n",
    "# plt.plot(temp_downcast,pres_downcast,'b')\n",
    "plt.plot(temp_intp, pres_intp,'b')\n",
    "# plt.plot(temp_raw, pres_intp,'k')\n",
    "# plt.plot(temp_raw-temp_intp, z_intp,'k')\n",
    "plt.xlim([5.5,17])\n",
    "plt.gca().invert_yaxis()\n",
    "plt.xlabel('TEMP')\n",
    "plt.ylabel('PRES')\n",
    "plt.title('H04 Bin_Averaged')"
   ]
  },
  {
   "cell_type": "code",
   "execution_count": null,
   "id": "c177eca6-520e-47f7-8cde-4f35813e8802",
   "metadata": {
    "tags": []
   },
   "outputs": [],
   "source": [
    "temp_raw = np.asarray([14.7705,13.9148,9.3748,9.3309,9.3286,9.3283,9.3413,9.3312,9.3314,9.3485])\n",
    "\n",
    "temp_raw = np.asarray([14.8674,13.1768,9.8430,9.1345,8.0230,7.9294,7.9236,7.9091,7.9076,7.9169,7.9143,7.9101])"
   ]
  },
  {
   "cell_type": "code",
   "execution_count": null,
   "id": "e247baad-b3e1-4fa6-8da5-2b7211ce1cdd",
   "metadata": {
    "tags": []
   },
   "outputs": [],
   "source": [
    "temp_raw.shape"
   ]
  },
  {
   "cell_type": "code",
   "execution_count": null,
   "id": "175b4bad-7f67-4436-8bd5-2de7daaae002",
   "metadata": {},
   "outputs": [],
   "source": [
    "temp_intp.shape"
   ]
  },
  {
   "cell_type": "code",
   "execution_count": null,
   "id": "f861c5ea-b471-4ec0-92be-419d1259cef7",
   "metadata": {},
   "outputs": [],
   "source": []
  }
 ],
 "metadata": {
  "kernelspec": {
   "display_name": "Python 3 (ipykernel)",
   "language": "python",
   "name": "python3"
  },
  "language_info": {
   "codemirror_mode": {
    "name": "ipython",
    "version": 3
   },
   "file_extension": ".py",
   "mimetype": "text/x-python",
   "name": "python",
   "nbconvert_exporter": "python",
   "pygments_lexer": "ipython3",
   "version": "3.9.13"
  }
 },
 "nbformat": 4,
 "nbformat_minor": 5
}
